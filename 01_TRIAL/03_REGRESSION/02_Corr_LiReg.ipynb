{
 "cells": [
  {
   "cell_type": "markdown",
   "id": "806026b7",
   "metadata": {},
   "source": [
    "author : sybyeon1102@gmail.com"
   ]
  },
  {
   "cell_type": "markdown",
   "id": "df7a8403",
   "metadata": {},
   "source": [
    "<a href=\"https://ordo.tistory.com/103?category=732886\">[Python] 회귀분석(Regression Analysis) [회귀식 추정, 회귀모형 검정, 적합도 파악]</a>"
   ]
  },
  {
   "cell_type": "markdown",
   "id": "53fc8d7b",
   "metadata": {},
   "source": [
    "<a href=\"https://ordo.tistory.com/100?category=732886\">[Python] 상관분석(Correlation Analysis), [산점도, 공분산, 상관계수, 검정]</a>"
   ]
  },
  {
   "cell_type": "markdown",
   "id": "7892b868",
   "metadata": {},
   "source": [
    "## import"
   ]
  },
  {
   "cell_type": "code",
   "execution_count": 1,
   "id": "f170b1dd",
   "metadata": {},
   "outputs": [],
   "source": [
    "import numpy as np\n",
    "import pandas as pd\n",
    "import matplotlib.pyplot as plt\n",
    "from scipy import stats"
   ]
  },
  {
   "cell_type": "code",
   "execution_count": 24,
   "id": "957c9891",
   "metadata": {},
   "outputs": [],
   "source": [
    "from sklearn.linear_model import LinearRegression"
   ]
  },
  {
   "cell_type": "code",
   "execution_count": 39,
   "id": "20975ba2",
   "metadata": {},
   "outputs": [],
   "source": [
    "import statsmodels.api as sm"
   ]
  },
  {
   "cell_type": "raw",
   "id": "b3bbaad1",
   "metadata": {},
   "source": [
    "!pip install statsmodels"
   ]
  },
  {
   "cell_type": "markdown",
   "id": "63fa351d",
   "metadata": {},
   "source": [
    "# 데이터 불러오기"
   ]
  },
  {
   "cell_type": "code",
   "execution_count": 2,
   "id": "dc7fadbb",
   "metadata": {},
   "outputs": [
    {
     "name": "stdout",
     "output_type": "stream",
     "text": [
      "<class 'pandas.core.frame.DataFrame'>\n",
      "RangeIndex: 1000000 entries, 0 to 999999\n",
      "Data columns (total 31 columns):\n",
      " #   Column        Non-Null Count    Dtype  \n",
      "---  ------        --------------    -----  \n",
      " 0   기준년도          1000000 non-null  int64  \n",
      " 1   가입자 일련번호      1000000 non-null  int64  \n",
      " 2   시도코드          1000000 non-null  int64  \n",
      " 3   성별코드          1000000 non-null  int64  \n",
      " 4   연령대 코드(5세단위)  1000000 non-null  int64  \n",
      " 5   신장(5Cm단위)     1000000 non-null  int64  \n",
      " 6   체중(5Kg 단위)    1000000 non-null  int64  \n",
      " 7   허리둘레          999892 non-null   float64\n",
      " 8   시력(좌)         999743 non-null   float64\n",
      " 9   시력(우)         999748 non-null   float64\n",
      " 10  청력(좌)         999778 non-null   float64\n",
      " 11  청력(우)         999770 non-null   float64\n",
      " 12  수축기 혈압        992468 non-null   float64\n",
      " 13  이완기 혈압        992466 non-null   float64\n",
      " 14  식전혈당(공복혈당)    992398 non-null   float64\n",
      " 15  총 콜레스테롤       402306 non-null   float64\n",
      " 16  트리글리세라이드      402322 non-null   float64\n",
      " 17  HDL 콜레스테롤     402315 non-null   float64\n",
      " 18  LDL 콜레스테롤     394471 non-null   float64\n",
      " 19  혈색소           992389 non-null   float64\n",
      " 20  요단백           987859 non-null   float64\n",
      " 21  혈청크레아티닌       992398 non-null   float64\n",
      " 22  (혈청지오티)AST    992399 non-null   float64\n",
      " 23  (혈청지오티)ALT    992398 non-null   float64\n",
      " 24  감마 지티피        992397 non-null   float64\n",
      " 25  흡연상태          999657 non-null   float64\n",
      " 26  음주여부          999804 non-null   float64\n",
      " 27  구강검진 수검여부     1000000 non-null  int64  \n",
      " 28  치아우식증유무       331383 non-null   float64\n",
      " 29  치석            331382 non-null   float64\n",
      " 30  데이터 공개일자      1000000 non-null  object \n",
      "dtypes: float64(22), int64(8), object(1)\n",
      "memory usage: 236.5+ MB\n"
     ]
    },
    {
     "data": {
      "text/html": [
       "<div>\n",
       "<style scoped>\n",
       "    .dataframe tbody tr th:only-of-type {\n",
       "        vertical-align: middle;\n",
       "    }\n",
       "\n",
       "    .dataframe tbody tr th {\n",
       "        vertical-align: top;\n",
       "    }\n",
       "\n",
       "    .dataframe thead th {\n",
       "        text-align: right;\n",
       "    }\n",
       "</style>\n",
       "<table border=\"1\" class=\"dataframe\">\n",
       "  <thead>\n",
       "    <tr style=\"text-align: right;\">\n",
       "      <th></th>\n",
       "      <th>기준년도</th>\n",
       "      <th>가입자 일련번호</th>\n",
       "      <th>시도코드</th>\n",
       "      <th>성별코드</th>\n",
       "      <th>연령대 코드(5세단위)</th>\n",
       "      <th>신장(5Cm단위)</th>\n",
       "      <th>체중(5Kg 단위)</th>\n",
       "      <th>허리둘레</th>\n",
       "      <th>시력(좌)</th>\n",
       "      <th>시력(우)</th>\n",
       "      <th>...</th>\n",
       "      <th>혈청크레아티닌</th>\n",
       "      <th>(혈청지오티)AST</th>\n",
       "      <th>(혈청지오티)ALT</th>\n",
       "      <th>감마 지티피</th>\n",
       "      <th>흡연상태</th>\n",
       "      <th>음주여부</th>\n",
       "      <th>구강검진 수검여부</th>\n",
       "      <th>치아우식증유무</th>\n",
       "      <th>치석</th>\n",
       "      <th>데이터 공개일자</th>\n",
       "    </tr>\n",
       "  </thead>\n",
       "  <tbody>\n",
       "    <tr>\n",
       "      <th>0</th>\n",
       "      <td>2020</td>\n",
       "      <td>1</td>\n",
       "      <td>36</td>\n",
       "      <td>1</td>\n",
       "      <td>9</td>\n",
       "      <td>165</td>\n",
       "      <td>60</td>\n",
       "      <td>72.1</td>\n",
       "      <td>1.2</td>\n",
       "      <td>1.5</td>\n",
       "      <td>...</td>\n",
       "      <td>1.1</td>\n",
       "      <td>21.0</td>\n",
       "      <td>27.0</td>\n",
       "      <td>21.0</td>\n",
       "      <td>1.0</td>\n",
       "      <td>0.0</td>\n",
       "      <td>0</td>\n",
       "      <td>NaN</td>\n",
       "      <td>NaN</td>\n",
       "      <td>2021-12-29</td>\n",
       "    </tr>\n",
       "    <tr>\n",
       "      <th>1</th>\n",
       "      <td>2020</td>\n",
       "      <td>2</td>\n",
       "      <td>27</td>\n",
       "      <td>2</td>\n",
       "      <td>13</td>\n",
       "      <td>150</td>\n",
       "      <td>65</td>\n",
       "      <td>81.0</td>\n",
       "      <td>0.8</td>\n",
       "      <td>0.8</td>\n",
       "      <td>...</td>\n",
       "      <td>0.5</td>\n",
       "      <td>18.0</td>\n",
       "      <td>15.0</td>\n",
       "      <td>15.0</td>\n",
       "      <td>1.0</td>\n",
       "      <td>0.0</td>\n",
       "      <td>0</td>\n",
       "      <td>NaN</td>\n",
       "      <td>NaN</td>\n",
       "      <td>2021-12-29</td>\n",
       "    </tr>\n",
       "    <tr>\n",
       "      <th>2</th>\n",
       "      <td>2020</td>\n",
       "      <td>3</td>\n",
       "      <td>11</td>\n",
       "      <td>2</td>\n",
       "      <td>12</td>\n",
       "      <td>155</td>\n",
       "      <td>55</td>\n",
       "      <td>70.0</td>\n",
       "      <td>0.6</td>\n",
       "      <td>0.7</td>\n",
       "      <td>...</td>\n",
       "      <td>0.7</td>\n",
       "      <td>27.0</td>\n",
       "      <td>25.0</td>\n",
       "      <td>7.0</td>\n",
       "      <td>1.0</td>\n",
       "      <td>0.0</td>\n",
       "      <td>0</td>\n",
       "      <td>NaN</td>\n",
       "      <td>NaN</td>\n",
       "      <td>2021-12-29</td>\n",
       "    </tr>\n",
       "    <tr>\n",
       "      <th>3</th>\n",
       "      <td>2020</td>\n",
       "      <td>4</td>\n",
       "      <td>31</td>\n",
       "      <td>1</td>\n",
       "      <td>13</td>\n",
       "      <td>160</td>\n",
       "      <td>70</td>\n",
       "      <td>90.8</td>\n",
       "      <td>1.0</td>\n",
       "      <td>1.0</td>\n",
       "      <td>...</td>\n",
       "      <td>1.2</td>\n",
       "      <td>65.0</td>\n",
       "      <td>97.0</td>\n",
       "      <td>72.0</td>\n",
       "      <td>1.0</td>\n",
       "      <td>0.0</td>\n",
       "      <td>1</td>\n",
       "      <td>0.0</td>\n",
       "      <td>0.0</td>\n",
       "      <td>2021-12-29</td>\n",
       "    </tr>\n",
       "    <tr>\n",
       "      <th>4</th>\n",
       "      <td>2020</td>\n",
       "      <td>5</td>\n",
       "      <td>41</td>\n",
       "      <td>2</td>\n",
       "      <td>12</td>\n",
       "      <td>155</td>\n",
       "      <td>50</td>\n",
       "      <td>75.2</td>\n",
       "      <td>1.5</td>\n",
       "      <td>1.2</td>\n",
       "      <td>...</td>\n",
       "      <td>0.7</td>\n",
       "      <td>18.0</td>\n",
       "      <td>17.0</td>\n",
       "      <td>14.0</td>\n",
       "      <td>1.0</td>\n",
       "      <td>0.0</td>\n",
       "      <td>0</td>\n",
       "      <td>NaN</td>\n",
       "      <td>NaN</td>\n",
       "      <td>2021-12-29</td>\n",
       "    </tr>\n",
       "  </tbody>\n",
       "</table>\n",
       "<p>5 rows × 31 columns</p>\n",
       "</div>"
      ],
      "text/plain": [
       "   기준년도  가입자 일련번호  시도코드  성별코드  연령대 코드(5세단위)  신장(5Cm단위)  체중(5Kg 단위)  허리둘레  \\\n",
       "0  2020         1    36     1             9        165          60  72.1   \n",
       "1  2020         2    27     2            13        150          65  81.0   \n",
       "2  2020         3    11     2            12        155          55  70.0   \n",
       "3  2020         4    31     1            13        160          70  90.8   \n",
       "4  2020         5    41     2            12        155          50  75.2   \n",
       "\n",
       "   시력(좌)  시력(우)  ...  혈청크레아티닌  (혈청지오티)AST  (혈청지오티)ALT  감마 지티피  흡연상태  음주여부  \\\n",
       "0    1.2    1.5  ...      1.1        21.0        27.0    21.0   1.0   0.0   \n",
       "1    0.8    0.8  ...      0.5        18.0        15.0    15.0   1.0   0.0   \n",
       "2    0.6    0.7  ...      0.7        27.0        25.0     7.0   1.0   0.0   \n",
       "3    1.0    1.0  ...      1.2        65.0        97.0    72.0   1.0   0.0   \n",
       "4    1.5    1.2  ...      0.7        18.0        17.0    14.0   1.0   0.0   \n",
       "\n",
       "   구강검진 수검여부  치아우식증유무   치석    데이터 공개일자  \n",
       "0          0      NaN  NaN  2021-12-29  \n",
       "1          0      NaN  NaN  2021-12-29  \n",
       "2          0      NaN  NaN  2021-12-29  \n",
       "3          1      0.0  0.0  2021-12-29  \n",
       "4          0      NaN  NaN  2021-12-29  \n",
       "\n",
       "[5 rows x 31 columns]"
      ]
     },
     "execution_count": 2,
     "metadata": {},
     "output_type": "execute_result"
    }
   ],
   "source": [
    "data = pd.read_csv('./data/국민건강보험공단_건강검진정보_20211229.CSV', encoding='euc-kr')\n",
    "data.info()\n",
    "data.head()"
   ]
  },
  {
   "cell_type": "code",
   "execution_count": 3,
   "id": "42207dcf",
   "metadata": {},
   "outputs": [
    {
     "data": {
      "text/html": [
       "<div>\n",
       "<style scoped>\n",
       "    .dataframe tbody tr th:only-of-type {\n",
       "        vertical-align: middle;\n",
       "    }\n",
       "\n",
       "    .dataframe tbody tr th {\n",
       "        vertical-align: top;\n",
       "    }\n",
       "\n",
       "    .dataframe thead th {\n",
       "        text-align: right;\n",
       "    }\n",
       "</style>\n",
       "<table border=\"1\" class=\"dataframe\">\n",
       "  <thead>\n",
       "    <tr style=\"text-align: right;\">\n",
       "      <th></th>\n",
       "      <th>허리둘레</th>\n",
       "      <th>식전혈당(공복혈당)</th>\n",
       "    </tr>\n",
       "  </thead>\n",
       "  <tbody>\n",
       "    <tr>\n",
       "      <th>0</th>\n",
       "      <td>72.1</td>\n",
       "      <td>90.0</td>\n",
       "    </tr>\n",
       "    <tr>\n",
       "      <th>1</th>\n",
       "      <td>81.0</td>\n",
       "      <td>87.0</td>\n",
       "    </tr>\n",
       "    <tr>\n",
       "      <th>2</th>\n",
       "      <td>70.0</td>\n",
       "      <td>102.0</td>\n",
       "    </tr>\n",
       "    <tr>\n",
       "      <th>3</th>\n",
       "      <td>90.8</td>\n",
       "      <td>146.0</td>\n",
       "    </tr>\n",
       "    <tr>\n",
       "      <th>4</th>\n",
       "      <td>75.2</td>\n",
       "      <td>110.0</td>\n",
       "    </tr>\n",
       "    <tr>\n",
       "      <th>...</th>\n",
       "      <td>...</td>\n",
       "      <td>...</td>\n",
       "    </tr>\n",
       "    <tr>\n",
       "      <th>996</th>\n",
       "      <td>88.0</td>\n",
       "      <td>100.0</td>\n",
       "    </tr>\n",
       "    <tr>\n",
       "      <th>997</th>\n",
       "      <td>80.2</td>\n",
       "      <td>99.0</td>\n",
       "    </tr>\n",
       "    <tr>\n",
       "      <th>998</th>\n",
       "      <td>79.5</td>\n",
       "      <td>107.0</td>\n",
       "    </tr>\n",
       "    <tr>\n",
       "      <th>999</th>\n",
       "      <td>86.0</td>\n",
       "      <td>117.0</td>\n",
       "    </tr>\n",
       "    <tr>\n",
       "      <th>1000</th>\n",
       "      <td>85.0</td>\n",
       "      <td>98.0</td>\n",
       "    </tr>\n",
       "  </tbody>\n",
       "</table>\n",
       "<p>1001 rows × 2 columns</p>\n",
       "</div>"
      ],
      "text/plain": [
       "      허리둘레  식전혈당(공복혈당)\n",
       "0     72.1        90.0\n",
       "1     81.0        87.0\n",
       "2     70.0       102.0\n",
       "3     90.8       146.0\n",
       "4     75.2       110.0\n",
       "...    ...         ...\n",
       "996   88.0       100.0\n",
       "997   80.2        99.0\n",
       "998   79.5       107.0\n",
       "999   86.0       117.0\n",
       "1000  85.0        98.0\n",
       "\n",
       "[1001 rows x 2 columns]"
      ]
     },
     "execution_count": 3,
     "metadata": {},
     "output_type": "execute_result"
    }
   ],
   "source": [
    "samples = data.loc[:1000, ['허리둘레', '식전혈당(공복혈당)']]\n",
    "samples"
   ]
  },
  {
   "cell_type": "code",
   "execution_count": 4,
   "id": "bc67042e",
   "metadata": {},
   "outputs": [],
   "source": [
    "samples.dropna(inplace=True)"
   ]
  },
  {
   "cell_type": "code",
   "execution_count": 5,
   "id": "bf087070",
   "metadata": {},
   "outputs": [],
   "source": [
    "x = samples['허리둘레'].values\n",
    "y = samples['식전혈당(공복혈당)'].values"
   ]
  },
  {
   "cell_type": "code",
   "execution_count": 6,
   "id": "3a6d7fcf",
   "metadata": {},
   "outputs": [
    {
     "data": {
      "text/plain": [
       "(array([72.1, 81. , 70. , 90.8, 75.2, 94. , 93. , 92. , 82. , 71.2]),\n",
       " array([ 90.,  87., 102., 146., 110.,  86., 250.,  93., 104.,  85.]))"
      ]
     },
     "execution_count": 6,
     "metadata": {},
     "output_type": "execute_result"
    }
   ],
   "source": [
    "x[:10], y[:10]"
   ]
  },
  {
   "cell_type": "code",
   "execution_count": null,
   "id": "cbbc0a5c",
   "metadata": {},
   "outputs": [],
   "source": []
  },
  {
   "cell_type": "markdown",
   "id": "f14a00f8",
   "metadata": {},
   "source": [
    "# 상관분석"
   ]
  },
  {
   "cell_type": "markdown",
   "id": "256d6a98",
   "metadata": {},
   "source": [
    "## 공분산 및 상관계수"
   ]
  },
  {
   "cell_type": "code",
   "execution_count": 7,
   "id": "2765ce77",
   "metadata": {},
   "outputs": [
    {
     "data": {
      "text/plain": [
       "array([[ 89.95481133,  44.50123674],\n",
       "       [ 44.50123674, 556.88296178]])"
      ]
     },
     "execution_count": 7,
     "metadata": {},
     "output_type": "execute_result"
    }
   ],
   "source": [
    "np.cov(x, y)"
   ]
  },
  {
   "cell_type": "code",
   "execution_count": 8,
   "id": "cac92607",
   "metadata": {},
   "outputs": [
    {
     "data": {
      "text/plain": [
       "array([[1.        , 0.19882817],\n",
       "       [0.19882817, 1.        ]])"
      ]
     },
     "execution_count": 8,
     "metadata": {},
     "output_type": "execute_result"
    }
   ],
   "source": [
    "crr = np.corrcoef(x, y)\n",
    "crr"
   ]
  },
  {
   "cell_type": "markdown",
   "id": "c959e1c2",
   "metadata": {},
   "source": [
    "=> 약한 양적 상관관계"
   ]
  },
  {
   "cell_type": "markdown",
   "id": "607ae8f8",
   "metadata": {},
   "source": [
    "<a href=\"https://sunnyyanolza.tistory.com/42\">_06. 피어슨 상관 계수(Pearson correlation coefficient 또는 Pearson's r)</a>"
   ]
  },
  {
   "cell_type": "code",
   "execution_count": 9,
   "id": "3ce285ae",
   "metadata": {},
   "outputs": [
    {
     "data": {
      "text/plain": [
       "<matplotlib.collections.PathCollection at 0x1fe80b98df0>"
      ]
     },
     "execution_count": 9,
     "metadata": {},
     "output_type": "execute_result"
    },
    {
     "data": {
      "image/png": "[encoded data removed]",
      "text/plain": [
       "<Figure size 432x288 with 1 Axes>"
      ]
     },
     "metadata": {
      "needs_background": "light"
     },
     "output_type": "display_data"
    }
   ],
   "source": [
    "plt.scatter(x, y, alpha=0.5, marker='.')"
   ]
  },
  {
   "cell_type": "markdown",
   "id": "6cd7a149",
   "metadata": {},
   "source": [
    "## 이상치제거"
   ]
  },
  {
   "cell_type": "code",
   "execution_count": 10,
   "id": "b131a198",
   "metadata": {},
   "outputs": [
    {
     "data": {
      "text/plain": [
       "{'whiskers': [<matplotlib.lines.Line2D at 0x1fe80cca130>,\n",
       "  <matplotlib.lines.Line2D at 0x1fe80cca400>,\n",
       "  <matplotlib.lines.Line2D at 0x1fe80cd6520>,\n",
       "  <matplotlib.lines.Line2D at 0x1fe80cd67f0>],\n",
       " 'caps': [<matplotlib.lines.Line2D at 0x1fe80cca790>,\n",
       "  <matplotlib.lines.Line2D at 0x1fe80cca9a0>,\n",
       "  <matplotlib.lines.Line2D at 0x1fe80cd6ac0>,\n",
       "  <matplotlib.lines.Line2D at 0x1fe80cd6d90>],\n",
       " 'boxes': [<matplotlib.lines.Line2D at 0x1fe80cb6e20>,\n",
       "  <matplotlib.lines.Line2D at 0x1fe80cd6250>],\n",
       " 'medians': [<matplotlib.lines.Line2D at 0x1fe80ccac70>,\n",
       "  <matplotlib.lines.Line2D at 0x1fe80ce40a0>],\n",
       " 'fliers': [<matplotlib.lines.Line2D at 0x1fe80ccaf40>,\n",
       "  <matplotlib.lines.Line2D at 0x1fe80ce4370>],\n",
       " 'means': []}"
      ]
     },
     "execution_count": 10,
     "metadata": {},
     "output_type": "execute_result"
    },
    {
     "data": {
      "image/png": "[encoded data removed]",
      "text/plain": [
       "<Figure size 432x288 with 1 Axes>"
      ]
     },
     "metadata": {
      "needs_background": "light"
     },
     "output_type": "display_data"
    }
   ],
   "source": [
    "plt.boxplot(samples)"
   ]
  },
  {
   "cell_type": "code",
   "execution_count": 11,
   "id": "eb7e5e19",
   "metadata": {},
   "outputs": [
    {
     "data": {
      "text/html": [
       "<div>\n",
       "<style scoped>\n",
       "    .dataframe tbody tr th:only-of-type {\n",
       "        vertical-align: middle;\n",
       "    }\n",
       "\n",
       "    .dataframe tbody tr th {\n",
       "        vertical-align: top;\n",
       "    }\n",
       "\n",
       "    .dataframe thead th {\n",
       "        text-align: right;\n",
       "    }\n",
       "</style>\n",
       "<table border=\"1\" class=\"dataframe\">\n",
       "  <thead>\n",
       "    <tr style=\"text-align: right;\">\n",
       "      <th></th>\n",
       "      <th>허리둘레</th>\n",
       "      <th>식전혈당(공복혈당)</th>\n",
       "    </tr>\n",
       "  </thead>\n",
       "  <tbody>\n",
       "    <tr>\n",
       "      <th>count</th>\n",
       "      <td>992.000000</td>\n",
       "      <td>992.000000</td>\n",
       "    </tr>\n",
       "    <tr>\n",
       "      <th>mean</th>\n",
       "      <td>81.698589</td>\n",
       "      <td>103.089718</td>\n",
       "    </tr>\n",
       "    <tr>\n",
       "      <th>std</th>\n",
       "      <td>9.484451</td>\n",
       "      <td>23.598368</td>\n",
       "    </tr>\n",
       "    <tr>\n",
       "      <th>min</th>\n",
       "      <td>53.000000</td>\n",
       "      <td>65.000000</td>\n",
       "    </tr>\n",
       "    <tr>\n",
       "      <th>25%</th>\n",
       "      <td>75.000000</td>\n",
       "      <td>91.000000</td>\n",
       "    </tr>\n",
       "    <tr>\n",
       "      <th>50%</th>\n",
       "      <td>81.500000</td>\n",
       "      <td>98.000000</td>\n",
       "    </tr>\n",
       "    <tr>\n",
       "      <th>75%</th>\n",
       "      <td>88.000000</td>\n",
       "      <td>108.000000</td>\n",
       "    </tr>\n",
       "    <tr>\n",
       "      <th>max</th>\n",
       "      <td>128.000000</td>\n",
       "      <td>367.000000</td>\n",
       "    </tr>\n",
       "  </tbody>\n",
       "</table>\n",
       "</div>"
      ],
      "text/plain": [
       "             허리둘레  식전혈당(공복혈당)\n",
       "count  992.000000  992.000000\n",
       "mean    81.698589  103.089718\n",
       "std      9.484451   23.598368\n",
       "min     53.000000   65.000000\n",
       "25%     75.000000   91.000000\n",
       "50%     81.500000   98.000000\n",
       "75%     88.000000  108.000000\n",
       "max    128.000000  367.000000"
      ]
     },
     "execution_count": 11,
     "metadata": {},
     "output_type": "execute_result"
    }
   ],
   "source": [
    "desc = samples.describe()\n",
    "desc"
   ]
  },
  {
   "cell_type": "code",
   "execution_count": 12,
   "id": "fa40ba27",
   "metadata": {},
   "outputs": [
    {
     "data": {
      "text/plain": [
       "(55.5, 107.5)"
      ]
     },
     "execution_count": 12,
     "metadata": {},
     "output_type": "execute_result"
    }
   ],
   "source": [
    "# 허리둘레\n",
    "q1, q3 = 75, 88\n",
    "iqr = q3 - q1\n",
    "lw = q1 - 1.5*iqr\n",
    "uw = q3 + 1.5*iqr\n",
    "lw, uw"
   ]
  },
  {
   "cell_type": "code",
   "execution_count": 13,
   "id": "2e892753",
   "metadata": {},
   "outputs": [
    {
     "data": {
      "text/plain": [
       "Int64Index([23, 150, 202, 305, 373, 524, 852], dtype='int64')"
      ]
     },
     "execution_count": 13,
     "metadata": {},
     "output_type": "execute_result"
    }
   ],
   "source": [
    "ol_waist = samples[(samples['허리둘레'] < lw) | (samples['허리둘레'] > uw)].index\n",
    "ol_waist"
   ]
  },
  {
   "cell_type": "code",
   "execution_count": 14,
   "id": "2793a5ab",
   "metadata": {},
   "outputs": [
    {
     "data": {
      "text/plain": [
       "(65.5, 133.5)"
      ]
     },
     "execution_count": 14,
     "metadata": {},
     "output_type": "execute_result"
    }
   ],
   "source": [
    "# 공복혈당\n",
    "q1, q3 = 91, 108\n",
    "iqr = q3 - q1\n",
    "lw = q1 - 1.5*iqr\n",
    "uw = q3 + 1.5*iqr\n",
    "lw, uw"
   ]
  },
  {
   "cell_type": "code",
   "execution_count": 15,
   "id": "4845654e",
   "metadata": {},
   "outputs": [
    {
     "data": {
      "text/plain": [
       "Int64Index([  3,   6,  26,  60,  67,  77,  79, 102, 124, 125, 129, 140, 154,\n",
       "            160, 163, 170, 199, 205, 221, 226, 235, 240, 245, 246, 256, 263,\n",
       "            280, 293, 318, 361, 396, 452, 455, 468, 494, 509, 516, 543, 569,\n",
       "            588, 616, 638, 668, 669, 699, 704, 706, 722, 726, 733, 747, 774,\n",
       "            786, 805, 806, 810, 814, 864, 882, 892, 905, 914, 923, 933, 936,\n",
       "            959, 987],\n",
       "           dtype='int64')"
      ]
     },
     "execution_count": 15,
     "metadata": {},
     "output_type": "execute_result"
    }
   ],
   "source": [
    "ol_glucose = samples[(samples['식전혈당(공복혈당)'] < lw) | (samples['식전혈당(공복혈당)'] > uw)].index\n",
    "ol_glucose"
   ]
  },
  {
   "cell_type": "code",
   "execution_count": 16,
   "id": "24143ceb",
   "metadata": {},
   "outputs": [
    {
     "data": {
      "text/html": [
       "<div>\n",
       "<style scoped>\n",
       "    .dataframe tbody tr th:only-of-type {\n",
       "        vertical-align: middle;\n",
       "    }\n",
       "\n",
       "    .dataframe tbody tr th {\n",
       "        vertical-align: top;\n",
       "    }\n",
       "\n",
       "    .dataframe thead th {\n",
       "        text-align: right;\n",
       "    }\n",
       "</style>\n",
       "<table border=\"1\" class=\"dataframe\">\n",
       "  <thead>\n",
       "    <tr style=\"text-align: right;\">\n",
       "      <th></th>\n",
       "      <th>허리둘레</th>\n",
       "      <th>식전혈당(공복혈당)</th>\n",
       "    </tr>\n",
       "  </thead>\n",
       "  <tbody>\n",
       "    <tr>\n",
       "      <th>0</th>\n",
       "      <td>72.1</td>\n",
       "      <td>90.0</td>\n",
       "    </tr>\n",
       "    <tr>\n",
       "      <th>1</th>\n",
       "      <td>81.0</td>\n",
       "      <td>87.0</td>\n",
       "    </tr>\n",
       "    <tr>\n",
       "      <th>2</th>\n",
       "      <td>70.0</td>\n",
       "      <td>102.0</td>\n",
       "    </tr>\n",
       "    <tr>\n",
       "      <th>4</th>\n",
       "      <td>75.2</td>\n",
       "      <td>110.0</td>\n",
       "    </tr>\n",
       "    <tr>\n",
       "      <th>5</th>\n",
       "      <td>94.0</td>\n",
       "      <td>86.0</td>\n",
       "    </tr>\n",
       "    <tr>\n",
       "      <th>...</th>\n",
       "      <td>...</td>\n",
       "      <td>...</td>\n",
       "    </tr>\n",
       "    <tr>\n",
       "      <th>996</th>\n",
       "      <td>88.0</td>\n",
       "      <td>100.0</td>\n",
       "    </tr>\n",
       "    <tr>\n",
       "      <th>997</th>\n",
       "      <td>80.2</td>\n",
       "      <td>99.0</td>\n",
       "    </tr>\n",
       "    <tr>\n",
       "      <th>998</th>\n",
       "      <td>79.5</td>\n",
       "      <td>107.0</td>\n",
       "    </tr>\n",
       "    <tr>\n",
       "      <th>999</th>\n",
       "      <td>86.0</td>\n",
       "      <td>117.0</td>\n",
       "    </tr>\n",
       "    <tr>\n",
       "      <th>1000</th>\n",
       "      <td>85.0</td>\n",
       "      <td>98.0</td>\n",
       "    </tr>\n",
       "  </tbody>\n",
       "</table>\n",
       "<p>918 rows × 2 columns</p>\n",
       "</div>"
      ],
      "text/plain": [
       "      허리둘레  식전혈당(공복혈당)\n",
       "0     72.1        90.0\n",
       "1     81.0        87.0\n",
       "2     70.0       102.0\n",
       "4     75.2       110.0\n",
       "5     94.0        86.0\n",
       "...    ...         ...\n",
       "996   88.0       100.0\n",
       "997   80.2        99.0\n",
       "998   79.5       107.0\n",
       "999   86.0       117.0\n",
       "1000  85.0        98.0\n",
       "\n",
       "[918 rows x 2 columns]"
      ]
     },
     "execution_count": 16,
     "metadata": {},
     "output_type": "execute_result"
    }
   ],
   "source": [
    "samples_r1 = samples.drop(index=ol_waist)\n",
    "samples_r1.drop(index=ol_glucose, inplace=True)\n",
    "samples_r1"
   ]
  },
  {
   "cell_type": "code",
   "execution_count": 17,
   "id": "74cb41d6",
   "metadata": {},
   "outputs": [],
   "source": [
    "xr1 = samples_r1['허리둘레'].values\n",
    "yr1 = samples_r1['식전혈당(공복혈당)'].values"
   ]
  },
  {
   "cell_type": "code",
   "execution_count": 18,
   "id": "9182f0e4",
   "metadata": {},
   "outputs": [
    {
     "data": {
      "text/plain": [
       "<matplotlib.collections.PathCollection at 0x1fe80d58880>"
      ]
     },
     "execution_count": 18,
     "metadata": {},
     "output_type": "execute_result"
    },
    {
     "data": {
      "image/png": "[encoded data removed]",
      "text/plain": [
       "<Figure size 432x288 with 1 Axes>"
      ]
     },
     "metadata": {
      "needs_background": "light"
     },
     "output_type": "display_data"
    }
   ],
   "source": [
    "plt.scatter(xr1, yr1, marker='.', alpha=0.5)"
   ]
  },
  {
   "cell_type": "code",
   "execution_count": null,
   "id": "29a089c4",
   "metadata": {},
   "outputs": [],
   "source": []
  },
  {
   "cell_type": "markdown",
   "id": "584151ff",
   "metadata": {},
   "source": [
    "## 다시 상관계수"
   ]
  },
  {
   "cell_type": "code",
   "execution_count": 19,
   "id": "2426fb4a",
   "metadata": {},
   "outputs": [
    {
     "data": {
      "text/plain": [
       "array([[1.        , 0.23391223],\n",
       "       [0.23391223, 1.        ]])"
      ]
     },
     "execution_count": 19,
     "metadata": {},
     "output_type": "execute_result"
    }
   ],
   "source": [
    "crrr1 = np.corrcoef(xr1, yr1)\n",
    "crrr1"
   ]
  },
  {
   "cell_type": "code",
   "execution_count": 20,
   "id": "9d59d699",
   "metadata": {
    "scrolled": true
   },
   "outputs": [
    {
     "data": {
      "text/plain": [
       "'처리전 : 0.1988, 처리후 : 0.2339'"
      ]
     },
     "execution_count": 20,
     "metadata": {},
     "output_type": "execute_result"
    }
   ],
   "source": [
    "f'처리전 : {crr[1, 0]:.4f}, 처리후 : {crrr1[1, 0]:.4f}'"
   ]
  },
  {
   "cell_type": "markdown",
   "id": "faeb662a",
   "metadata": {},
   "source": [
    "=> 약한 양적 상관관계 (0.1 - 0.3)"
   ]
  },
  {
   "cell_type": "code",
   "execution_count": null,
   "id": "9ee6cec5",
   "metadata": {},
   "outputs": [],
   "source": []
  },
  {
   "cell_type": "markdown",
   "id": "76ddbc41",
   "metadata": {},
   "source": [
    "## 상관계수의 검정"
   ]
  },
  {
   "cell_type": "code",
   "execution_count": 21,
   "id": "ae0e7cae",
   "metadata": {},
   "outputs": [
    {
     "data": {
      "text/plain": [
       "7.108229195565518e-13"
      ]
     },
     "execution_count": 21,
     "metadata": {},
     "output_type": "execute_result"
    }
   ],
   "source": [
    "import scipy.stats as stats\n",
    "_, p_value = stats.pearsonr(xr1, yr1)\n",
    "p_value # 양측검정, p-value"
   ]
  },
  {
   "cell_type": "markdown",
   "id": "fb6ecaa9",
   "metadata": {},
   "source": [
    "- p-value < 유의수준 : 귀무가설(상관관계가 없다.) 기각"
   ]
  },
  {
   "cell_type": "code",
   "execution_count": null,
   "id": "e3492863",
   "metadata": {},
   "outputs": [],
   "source": []
  },
  {
   "cell_type": "markdown",
   "id": "449cc099",
   "metadata": {},
   "source": [
    "# 회귀분석"
   ]
  },
  {
   "cell_type": "code",
   "execution_count": 23,
   "id": "e0e37d7c",
   "metadata": {},
   "outputs": [
    {
     "name": "stdout",
     "output_type": "stream",
     "text": [
      "<class 'pandas.core.frame.DataFrame'>\n",
      "Int64Index: 918 entries, 0 to 1000\n",
      "Data columns (total 2 columns):\n",
      " #   Column      Non-Null Count  Dtype  \n",
      "---  ------      --------------  -----  \n",
      " 0   허리둘레        918 non-null    float64\n",
      " 1   식전혈당(공복혈당)  918 non-null    float64\n",
      "dtypes: float64(2)\n",
      "memory usage: 21.5 KB\n"
     ]
    },
    {
     "data": {
      "text/html": [
       "<div>\n",
       "<style scoped>\n",
       "    .dataframe tbody tr th:only-of-type {\n",
       "        vertical-align: middle;\n",
       "    }\n",
       "\n",
       "    .dataframe tbody tr th {\n",
       "        vertical-align: top;\n",
       "    }\n",
       "\n",
       "    .dataframe thead th {\n",
       "        text-align: right;\n",
       "    }\n",
       "</style>\n",
       "<table border=\"1\" class=\"dataframe\">\n",
       "  <thead>\n",
       "    <tr style=\"text-align: right;\">\n",
       "      <th></th>\n",
       "      <th>허리둘레</th>\n",
       "      <th>식전혈당(공복혈당)</th>\n",
       "    </tr>\n",
       "  </thead>\n",
       "  <tbody>\n",
       "    <tr>\n",
       "      <th>0</th>\n",
       "      <td>72.1</td>\n",
       "      <td>90.0</td>\n",
       "    </tr>\n",
       "    <tr>\n",
       "      <th>1</th>\n",
       "      <td>81.0</td>\n",
       "      <td>87.0</td>\n",
       "    </tr>\n",
       "    <tr>\n",
       "      <th>2</th>\n",
       "      <td>70.0</td>\n",
       "      <td>102.0</td>\n",
       "    </tr>\n",
       "    <tr>\n",
       "      <th>4</th>\n",
       "      <td>75.2</td>\n",
       "      <td>110.0</td>\n",
       "    </tr>\n",
       "    <tr>\n",
       "      <th>5</th>\n",
       "      <td>94.0</td>\n",
       "      <td>86.0</td>\n",
       "    </tr>\n",
       "  </tbody>\n",
       "</table>\n",
       "</div>"
      ],
      "text/plain": [
       "   허리둘레  식전혈당(공복혈당)\n",
       "0  72.1        90.0\n",
       "1  81.0        87.0\n",
       "2  70.0       102.0\n",
       "4  75.2       110.0\n",
       "5  94.0        86.0"
      ]
     },
     "execution_count": 23,
     "metadata": {},
     "output_type": "execute_result"
    }
   ],
   "source": [
    "samples_r1.info()\n",
    "samples_r1.head()"
   ]
  },
  {
   "cell_type": "code",
   "execution_count": 27,
   "id": "fe29ab03",
   "metadata": {},
   "outputs": [
    {
     "data": {
      "text/plain": [
       "(array([72.1, 81. , 70. , 75.2, 94. , 92. , 82. , 71.2, 84. , 63. ]),\n",
       " array([ 90.,  87., 102., 110.,  86.,  93., 104.,  85.,  92.,  90.]))"
      ]
     },
     "execution_count": 27,
     "metadata": {},
     "output_type": "execute_result"
    }
   ],
   "source": [
    "xr1[:10], yr1[:10]"
   ]
  },
  {
   "cell_type": "markdown",
   "id": "b70c932e",
   "metadata": {},
   "source": [
    "## 회귀식의 추정"
   ]
  },
  {
   "cell_type": "code",
   "execution_count": 25,
   "id": "f94c347f",
   "metadata": {},
   "outputs": [],
   "source": [
    "lr = LinearRegression()"
   ]
  },
  {
   "cell_type": "code",
   "execution_count": 28,
   "id": "606e0b07",
   "metadata": {},
   "outputs": [
    {
     "data": {
      "text/plain": [
       "LinearRegression()"
      ]
     },
     "execution_count": 28,
     "metadata": {},
     "output_type": "execute_result"
    }
   ],
   "source": [
    "lr.fit(xr1.reshape(-1, 1), yr1.reshape(-1, 1))"
   ]
  },
  {
   "cell_type": "code",
   "execution_count": 31,
   "id": "0da042c1",
   "metadata": {},
   "outputs": [
    {
     "data": {
      "text/plain": [
       "(0.3067564795714989, 73.45724649921735)"
      ]
     },
     "execution_count": 31,
     "metadata": {},
     "output_type": "execute_result"
    }
   ],
   "source": [
    "a, b = lr.coef_[0][0], lr.intercept_[0]\n",
    "a, b"
   ]
  },
  {
   "cell_type": "code",
   "execution_count": 32,
   "id": "c5df072c",
   "metadata": {},
   "outputs": [
    {
     "data": {
      "text/plain": [
       "array([ 95.57438868,  98.30452134,  94.93020007,  96.52533376,\n",
       "       102.29235558, 101.67884262,  98.61127782,  95.29830784,\n",
       "        99.22479078,  92.78290471])"
      ]
     },
     "execution_count": 32,
     "metadata": {},
     "output_type": "execute_result"
    }
   ],
   "source": [
    "yr1_pred = a*xr1 + b\n",
    "yr1_pred[:10]"
   ]
  },
  {
   "cell_type": "code",
   "execution_count": 36,
   "id": "4e9982f7",
   "metadata": {},
   "outputs": [
    {
     "data": {
      "image/png": "[encoded data removed]",
      "text/plain": [
       "<Figure size 432x288 with 1 Axes>"
      ]
     },
     "metadata": {
      "needs_background": "light"
     },
     "output_type": "display_data"
    }
   ],
   "source": [
    "plt.scatter(xr1, yr1, marker='.')\n",
    "\n",
    "xs = np.linspace(xr1.min(), xr1.max(), 100)\n",
    "ys = a*xs + b\n",
    "plt.plot(xs, ys, ls='--', color='red')\n",
    "\n",
    "plt.title(f'{a:.3f}x + {b:.3f}')\n",
    "plt.xlabel('waist')\n",
    "plt.ylabel('glucose')\n",
    "\n",
    "plt.show()"
   ]
  },
  {
   "cell_type": "code",
   "execution_count": null,
   "id": "678cc900",
   "metadata": {},
   "outputs": [],
   "source": []
  },
  {
   "cell_type": "markdown",
   "id": "caf57b67",
   "metadata": {},
   "source": [
    "## 회귀모형의 검정 및 적합도 파악"
   ]
  },
  {
   "cell_type": "code",
   "execution_count": 40,
   "id": "85a36cf9",
   "metadata": {},
   "outputs": [],
   "source": [
    "results = sm.OLS(yr1, sm.add_constant(xr1)).fit()"
   ]
  },
  {
   "cell_type": "code",
   "execution_count": 41,
   "id": "dbd5b7ff",
   "metadata": {},
   "outputs": [
    {
     "data": {
      "text/html": [
       "<table class=\"simpletable\">\n",
       "<caption>OLS Regression Results</caption>\n",
       "<tr>\n",
       "  <th>Dep. Variable:</th>            <td>y</td>        <th>  R-squared:         </th> <td>   0.055</td>\n",
       "</tr>\n",
       "<tr>\n",
       "  <th>Model:</th>                   <td>OLS</td>       <th>  Adj. R-squared:    </th> <td>   0.054</td>\n",
       "</tr>\n",
       "<tr>\n",
       "  <th>Method:</th>             <td>Least Squares</td>  <th>  F-statistic:       </th> <td>   53.02</td>\n",
       "</tr>\n",
       "<tr>\n",
       "  <th>Date:</th>             <td>Tue, 13 Sep 2022</td> <th>  Prob (F-statistic):</th> <td>7.11e-13</td>\n",
       "</tr>\n",
       "<tr>\n",
       "  <th>Time:</th>                 <td>09:45:54</td>     <th>  Log-Likelihood:    </th> <td> -3551.5</td>\n",
       "</tr>\n",
       "<tr>\n",
       "  <th>No. Observations:</th>      <td>   918</td>      <th>  AIC:               </th> <td>   7107.</td>\n",
       "</tr>\n",
       "<tr>\n",
       "  <th>Df Residuals:</th>          <td>   916</td>      <th>  BIC:               </th> <td>   7117.</td>\n",
       "</tr>\n",
       "<tr>\n",
       "  <th>Df Model:</th>              <td>     1</td>      <th>                     </th>     <td> </td>   \n",
       "</tr>\n",
       "<tr>\n",
       "  <th>Covariance Type:</th>      <td>nonrobust</td>    <th>                     </th>     <td> </td>   \n",
       "</tr>\n",
       "</table>\n",
       "<table class=\"simpletable\">\n",
       "<tr>\n",
       "    <td></td>       <th>coef</th>     <th>std err</th>      <th>t</th>      <th>P>|t|</th>  <th>[0.025</th>    <th>0.975]</th>  \n",
       "</tr>\n",
       "<tr>\n",
       "  <th>const</th> <td>   73.4572</td> <td>    3.443</td> <td>   21.337</td> <td> 0.000</td> <td>   66.701</td> <td>   80.214</td>\n",
       "</tr>\n",
       "<tr>\n",
       "  <th>x1</th>    <td>    0.3068</td> <td>    0.042</td> <td>    7.281</td> <td> 0.000</td> <td>    0.224</td> <td>    0.389</td>\n",
       "</tr>\n",
       "</table>\n",
       "<table class=\"simpletable\">\n",
       "<tr>\n",
       "  <th>Omnibus:</th>       <td>22.131</td> <th>  Durbin-Watson:     </th> <td>   1.941</td>\n",
       "</tr>\n",
       "<tr>\n",
       "  <th>Prob(Omnibus):</th> <td> 0.000</td> <th>  Jarque-Bera (JB):  </th> <td>  23.079</td>\n",
       "</tr>\n",
       "<tr>\n",
       "  <th>Skew:</th>          <td> 0.378</td> <th>  Prob(JB):          </th> <td>9.74e-06</td>\n",
       "</tr>\n",
       "<tr>\n",
       "  <th>Kurtosis:</th>      <td> 3.179</td> <th>  Cond. No.          </th> <td>    735.</td>\n",
       "</tr>\n",
       "</table><br/><br/>Notes:<br/>[1] Standard Errors assume that the covariance matrix of the errors is correctly specified."
      ],
      "text/plain": [
       "<class 'statsmodels.iolib.summary.Summary'>\n",
       "\"\"\"\n",
       "                            OLS Regression Results                            \n",
       "==============================================================================\n",
       "Dep. Variable:                      y   R-squared:                       0.055\n",
       "Model:                            OLS   Adj. R-squared:                  0.054\n",
       "Method:                 Least Squares   F-statistic:                     53.02\n",
       "Date:                Tue, 13 Sep 2022   Prob (F-statistic):           7.11e-13\n",
       "Time:                        09:45:54   Log-Likelihood:                -3551.5\n",
       "No. Observations:                 918   AIC:                             7107.\n",
       "Df Residuals:                     916   BIC:                             7117.\n",
       "Df Model:                           1                                         \n",
       "Covariance Type:            nonrobust                                         \n",
       "==============================================================================\n",
       "                 coef    std err          t      P>|t|      [0.025      0.975]\n",
       "------------------------------------------------------------------------------\n",
       "const         73.4572      3.443     21.337      0.000      66.701      80.214\n",
       "x1             0.3068      0.042      7.281      0.000       0.224       0.389\n",
       "==============================================================================\n",
       "Omnibus:                       22.131   Durbin-Watson:                   1.941\n",
       "Prob(Omnibus):                  0.000   Jarque-Bera (JB):               23.079\n",
       "Skew:                           0.378   Prob(JB):                     9.74e-06\n",
       "Kurtosis:                       3.179   Cond. No.                         735.\n",
       "==============================================================================\n",
       "\n",
       "Notes:\n",
       "[1] Standard Errors assume that the covariance matrix of the errors is correctly specified.\n",
       "\"\"\""
      ]
     },
     "execution_count": 41,
     "metadata": {},
     "output_type": "execute_result"
    }
   ],
   "source": [
    "results.summary()"
   ]
  },
  {
   "cell_type": "markdown",
   "id": "9ec5cea1",
   "metadata": {},
   "source": [
    "### F-statistic\n",
    "- Prob (F-statistic):\t7.11e-13 -> 유의 수준보다 낮아 회귀분석 모델 전체에 대해 통계적으로 의미가 있다."
   ]
  },
  {
   "cell_type": "markdown",
   "id": "f7f3d352",
   "metadata": {},
   "source": [
    "### p-value\n",
    "- const, P>|t| : 0.000 -> 유의수준보다 낮아 target설명에 유의"
   ]
  },
  {
   "cell_type": "markdown",
   "id": "8261fc84",
   "metadata": {},
   "source": [
    "### R-squared\n",
    "- R-squared:\t0.055\n",
    "- Adj. R-squared:\t0.054\n",
    "- 5%의 설명력"
   ]
  }
 ],
 "metadata": {
  "kernelspec": {
   "display_name": "Python 3 (ipykernel)",
   "language": "python",
   "name": "python3"
  },
  "language_info": {
   "codemirror_mode": {
    "name": "ipython",
    "version": 3
   },
   "file_extension": ".py",
   "mimetype": "text/x-python",
   "name": "python",
   "nbconvert_exporter": "python",
   "pygments_lexer": "ipython3",
   "version": "3.8.13"
  },
  "toc": {
   "base_numbering": 1,
   "nav_menu": {},
   "number_sections": true,
   "sideBar": true,
   "skip_h1_title": false,
   "title_cell": "Table of Contents",
   "title_sidebar": "Contents",
   "toc_cell": false,
   "toc_position": {
    "height": "calc(100% - 180px)",
    "left": "10px",
    "top": "150px",
    "width": "253.854px"
   },
   "toc_section_display": true,
   "toc_window_display": true
  }
 },
 "nbformat": 4,
 "nbformat_minor": 5
}
