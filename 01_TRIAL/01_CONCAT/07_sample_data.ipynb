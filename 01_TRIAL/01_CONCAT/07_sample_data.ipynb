{
 "cells": [
  {
   "cell_type": "markdown",
   "id": "673fb138",
   "metadata": {},
   "source": [
    "author : sybyeon102@gmail.com"
   ]
  },
  {
   "cell_type": "markdown",
   "id": "5601acb8",
   "metadata": {},
   "source": [
    "## import"
   ]
  },
  {
   "cell_type": "code",
   "execution_count": 2,
   "id": "38967afb",
   "metadata": {},
   "outputs": [],
   "source": [
    "import pandas as pd\n",
    "import numpy as np"
   ]
  },
  {
   "cell_type": "code",
   "execution_count": 3,
   "id": "d5ef0637",
   "metadata": {},
   "outputs": [],
   "source": [
    "from scipy import stats"
   ]
  },
  {
   "cell_type": "code",
   "execution_count": 4,
   "id": "a85efb47",
   "metadata": {},
   "outputs": [],
   "source": [
    "import matplotlib.pyplot as plt"
   ]
  },
  {
   "cell_type": "code",
   "execution_count": null,
   "id": "68fb406b",
   "metadata": {},
   "outputs": [],
   "source": []
  },
  {
   "cell_type": "markdown",
   "id": "1f5cf27e",
   "metadata": {},
   "source": [
    "# 연습용 데이터 생성"
   ]
  },
  {
   "cell_type": "markdown",
   "id": "9739815c",
   "metadata": {},
   "source": [
    "## dataA 병무청 - 안과\n",
    "- 사용할 컬럼 정보 (count 230만개)\n",
    "    - 검사년도int64 : 2014-2020 \n",
    "    - 생년월일int64 : 25 199607, 75 200001\n",
    "    - 검사반str : 15군데지역, 서울은 1,2검사장\n",
    "    - 신장float64 : 25 169.9, 75 177.4\n",
    "    - 체중float64 : 25 60.40, 75 77.90, \n",
    "    - 시력좌float64 : 14만개가 0.00/ 25 0.1, 75 1.0\n",
    "    - 시력우float64 :16만개가 0.00/ 25 0.1, 75 1.0\n",
    "    - 학력str : 중학교이하, 고등학교, 전문학사, 학사, 석사, 박사\n",
    "    - BMI float64 : 10.8-77.40, 25 20.2, 75 25.5"
   ]
  },
  {
   "cell_type": "markdown",
   "id": "396d7972",
   "metadata": {},
   "source": [
    "- 검사년도 17-20년 (총 4년) 년도별 30만개"
   ]
  },
  {
   "cell_type": "code",
   "execution_count": 4,
   "id": "ae0d631e",
   "metadata": {},
   "outputs": [
    {
     "data": {
      "text/plain": [
       "numpy.int64"
      ]
     },
     "execution_count": 4,
     "metadata": {},
     "output_type": "execute_result"
    }
   ],
   "source": [
    "# 타입설정 dtype=np.int64\n",
    "type(np.random.randint(2014, 2021, 100, dtype=np.int64)[0])"
   ]
  },
  {
   "cell_type": "code",
   "execution_count": 9,
   "id": "4dd1fb16",
   "metadata": {},
   "outputs": [],
   "source": [
    "n_row = int(1e6)*3*4"
   ]
  },
  {
   "cell_type": "code",
   "execution_count": null,
   "id": "e081df25",
   "metadata": {},
   "outputs": [],
   "source": []
  },
  {
   "cell_type": "markdown",
   "id": "14a5c66c",
   "metadata": {},
   "source": [
    "### calyear"
   ]
  },
  {
   "cell_type": "code",
   "execution_count": 6,
   "id": "1d12bf1f",
   "metadata": {},
   "outputs": [],
   "source": [
    "calyear = np.random.randint(2017, 2020+1, n_row, dtype=np.int64)"
   ]
  },
  {
   "cell_type": "code",
   "execution_count": 7,
   "id": "9c124dd7",
   "metadata": {},
   "outputs": [
    {
     "data": {
      "text/plain": [
       "array([2019, 2019, 2019, ..., 2018, 2020, 2017], dtype=int64)"
      ]
     },
     "execution_count": 7,
     "metadata": {},
     "output_type": "execute_result"
    }
   ],
   "source": [
    "calyear"
   ]
  },
  {
   "cell_type": "code",
   "execution_count": null,
   "id": "947aba9e",
   "metadata": {},
   "outputs": [],
   "source": []
  },
  {
   "cell_type": "markdown",
   "id": "15a4f6cf",
   "metadata": {},
   "source": [
    "### byear"
   ]
  },
  {
   "cell_type": "code",
   "execution_count": 8,
   "id": "a0a14b77",
   "metadata": {},
   "outputs": [],
   "source": [
    "y_added = [0, 1, 2, 3, 4, 5]"
   ]
  },
  {
   "cell_type": "code",
   "execution_count": 9,
   "id": "bac3f5a4",
   "metadata": {},
   "outputs": [
    {
     "data": {
      "text/plain": [
       "array([0.51282051, 0.25641026, 0.11965812, 0.06837607, 0.03418803,\n",
       "       0.00854701])"
      ]
     },
     "execution_count": 9,
     "metadata": {},
     "output_type": "execute_result"
    }
   ],
   "source": [
    "probs = np.array([30, 15, 7, 4, 2, 0.5])\n",
    "probs = probs/np.sum(probs)\n",
    "probs"
   ]
  },
  {
   "cell_type": "code",
   "execution_count": 10,
   "id": "71cc2dde",
   "metadata": {},
   "outputs": [],
   "source": [
    "byear = calyear - 19 - np.random.choice(y_added, size=n_row, p=probs)"
   ]
  },
  {
   "cell_type": "code",
   "execution_count": 11,
   "id": "69e06bdf",
   "metadata": {},
   "outputs": [
    {
     "data": {
      "text/plain": [
       "array([2000, 2000, 2000, ..., 1999, 2000, 1996], dtype=int64)"
      ]
     },
     "execution_count": 11,
     "metadata": {},
     "output_type": "execute_result"
    }
   ],
   "source": [
    "byear"
   ]
  },
  {
   "cell_type": "code",
   "execution_count": null,
   "id": "761eaddb",
   "metadata": {},
   "outputs": [],
   "source": []
  },
  {
   "cell_type": "markdown",
   "id": "babbdc8e",
   "metadata": {},
   "source": [
    "### calregion"
   ]
  },
  {
   "cell_type": "code",
   "execution_count": 12,
   "id": "9a41247b",
   "metadata": {},
   "outputs": [],
   "source": [
    "regions = [f'{i+1}번검사반' for i in range(15)]"
   ]
  },
  {
   "cell_type": "code",
   "execution_count": 13,
   "id": "6256216c",
   "metadata": {},
   "outputs": [],
   "source": [
    "calregion = np.random.choice(regions, size=n_row)"
   ]
  },
  {
   "cell_type": "code",
   "execution_count": null,
   "id": "be71c98c",
   "metadata": {},
   "outputs": [],
   "source": []
  },
  {
   "cell_type": "markdown",
   "id": "284832ca",
   "metadata": {},
   "source": [
    "### height\n",
    "신장float64 : 25 169.9, 75 177.4"
   ]
  },
  {
   "cell_type": "code",
   "execution_count": 14,
   "id": "c2958730",
   "metadata": {},
   "outputs": [],
   "source": [
    "mean = (169.9 + 177.4)/2\n",
    "std = 6 # 25%, 75% 값이 169, 177가까이 나오는 값"
   ]
  },
  {
   "cell_type": "code",
   "execution_count": 15,
   "id": "11b8a44b",
   "metadata": {},
   "outputs": [],
   "source": [
    "rv = stats.norm(mean, std)"
   ]
  },
  {
   "cell_type": "code",
   "execution_count": 16,
   "id": "a591510e",
   "metadata": {},
   "outputs": [],
   "source": [
    "height = rv.rvs(n_row)"
   ]
  },
  {
   "cell_type": "code",
   "execution_count": 17,
   "id": "d7eb0f0c",
   "metadata": {},
   "outputs": [],
   "source": [
    "height = height.round(2)"
   ]
  },
  {
   "cell_type": "code",
   "execution_count": null,
   "id": "a43b5d3d",
   "metadata": {},
   "outputs": [],
   "source": []
  },
  {
   "cell_type": "markdown",
   "id": "0e8c5322",
   "metadata": {},
   "source": [
    "### BMI\n",
    "BMI float64 : 10.8-77.40, 25 20.2, 75 25.5"
   ]
  },
  {
   "cell_type": "code",
   "execution_count": 18,
   "id": "7dd97e26",
   "metadata": {},
   "outputs": [
    {
     "data": {
      "text/plain": [
       "(20.556734849333324, 25.14326515066668)"
      ]
     },
     "execution_count": 18,
     "metadata": {},
     "output_type": "execute_result"
    }
   ],
   "source": [
    "mean = (20.2 + 25.5)/2\n",
    "std = 3.4\n",
    "rv = stats.norm(mean, std)\n",
    "rv.interval(0.5)"
   ]
  },
  {
   "cell_type": "code",
   "execution_count": 19,
   "id": "e00faabd",
   "metadata": {},
   "outputs": [
    {
     "data": {
      "text/plain": [
       "array([20. , 18.8, 21.3, ..., 22.2, 24.3, 15.7])"
      ]
     },
     "execution_count": 19,
     "metadata": {},
     "output_type": "execute_result"
    }
   ],
   "source": [
    "BMI = rv.rvs(n_row)\n",
    "BMI = BMI.round(1)\n",
    "BMI"
   ]
  },
  {
   "cell_type": "code",
   "execution_count": null,
   "id": "a5896070",
   "metadata": {},
   "outputs": [],
   "source": []
  },
  {
   "cell_type": "markdown",
   "id": "d80abc02",
   "metadata": {},
   "source": [
    "### weight\n",
    "체중float64 : 25 60.40, 75 77.90"
   ]
  },
  {
   "cell_type": "raw",
   "id": "02a15c30",
   "metadata": {},
   "source": [
    "BMI = weight/((height/100)**2)"
   ]
  },
  {
   "cell_type": "code",
   "execution_count": 20,
   "id": "324d687c",
   "metadata": {},
   "outputs": [],
   "source": [
    "weight = BMI*(height/100)**2"
   ]
  },
  {
   "cell_type": "code",
   "execution_count": 21,
   "id": "6aec0c7d",
   "metadata": {},
   "outputs": [
    {
     "data": {
      "text/plain": [
       "array([57.85, 55.92, 67.37, ..., 76.22, 70.05, 46.21])"
      ]
     },
     "execution_count": 21,
     "metadata": {},
     "output_type": "execute_result"
    }
   ],
   "source": [
    "weight = weight.round(2)\n",
    "weight"
   ]
  },
  {
   "cell_type": "code",
   "execution_count": null,
   "id": "bf5f1dbe",
   "metadata": {},
   "outputs": [],
   "source": []
  },
  {
   "cell_type": "markdown",
   "id": "7e0ed595",
   "metadata": {},
   "source": [
    "### vision_l\n",
    "시력좌float64 : 14만개(6%)가 0.00/ 25 0.1, 75 1.0"
   ]
  },
  {
   "cell_type": "code",
   "execution_count": 22,
   "id": "3b7ace5c",
   "metadata": {},
   "outputs": [
    {
     "data": {
      "text/plain": [
       "0.0    0.067358\n",
       "0.1    0.207254\n",
       "0.2    0.051813\n",
       "0.3    0.051813\n",
       "0.4    0.051813\n",
       "0.5    0.051813\n",
       "0.6    0.051813\n",
       "0.7    0.051813\n",
       "0.8    0.051813\n",
       "0.9    0.051813\n",
       "1.0    0.310881\n",
       "Name: vision_left_pmf, dtype: float64"
      ]
     },
     "execution_count": 22,
     "metadata": {},
     "output_type": "execute_result"
    }
   ],
   "source": [
    "vl_pmf = pd.read_pickle('./data/vision_left_pmf.pkl')\n",
    "vl_pmf"
   ]
  },
  {
   "cell_type": "code",
   "execution_count": 23,
   "id": "e4e707bd",
   "metadata": {},
   "outputs": [
    {
     "data": {
      "text/plain": [
       "array([1. , 0.1, 0.1, ..., 0.4, 1. , 0.1])"
      ]
     },
     "execution_count": 23,
     "metadata": {},
     "output_type": "execute_result"
    }
   ],
   "source": [
    "vision_l = np.random.choice(vl_pmf.index, size=n_row, p=vl_pmf.values)\n",
    "vision_l"
   ]
  },
  {
   "cell_type": "code",
   "execution_count": null,
   "id": "0e38cf8c",
   "metadata": {},
   "outputs": [],
   "source": []
  },
  {
   "cell_type": "markdown",
   "id": "baf90265",
   "metadata": {},
   "source": [
    "### vision_r\n",
    "시력float64 : 16만개(7%)가 0.00 25 0.1, 75 1.0"
   ]
  },
  {
   "cell_type": "code",
   "execution_count": 24,
   "id": "579bc33d",
   "metadata": {},
   "outputs": [],
   "source": [
    "vision_r = vision_l.copy()"
   ]
  },
  {
   "cell_type": "code",
   "execution_count": null,
   "id": "32c40c8d",
   "metadata": {},
   "outputs": [],
   "source": []
  },
  {
   "cell_type": "markdown",
   "id": "fc21f1bc",
   "metadata": {},
   "source": [
    "### education\n",
    "- 학력str : 중학교이하, 고등학교, 전문학사, 학사, 석사, 박사"
   ]
  },
  {
   "cell_type": "code",
   "execution_count": 25,
   "id": "06d4d8e5",
   "metadata": {},
   "outputs": [
    {
     "data": {
      "text/plain": [
       "['중학교이하', '고등학교', '전문학사', '학사', '석사', '박사']"
      ]
     },
     "execution_count": 25,
     "metadata": {},
     "output_type": "execute_result"
    }
   ],
   "source": [
    "e_class = '중학교이하, 고등학교, 전문학사, 학사, 석사, 박사'.split(', ')\n",
    "e_class"
   ]
  },
  {
   "cell_type": "code",
   "execution_count": 26,
   "id": "b9c36046",
   "metadata": {},
   "outputs": [
    {
     "data": {
      "text/plain": [
       "array([0.01176471, 0.11764706, 0.23529412, 0.58823529, 0.03529412,\n",
       "       0.01176471])"
      ]
     },
     "execution_count": 26,
     "metadata": {},
     "output_type": "execute_result"
    }
   ],
   "source": [
    "e_freq = [1, 10, 20, 50, 3, 1]\n",
    "e_freq = np.array(e_freq)/sum(e_freq)\n",
    "e_freq"
   ]
  },
  {
   "cell_type": "code",
   "execution_count": 27,
   "id": "4f0df2f1",
   "metadata": {},
   "outputs": [
    {
     "data": {
      "text/plain": [
       "array(['고등학교', '학사', '전문학사', ..., '석사', '석사', '학사'], dtype='<U5')"
      ]
     },
     "execution_count": 27,
     "metadata": {},
     "output_type": "execute_result"
    }
   ],
   "source": [
    "education = np.random.choice(e_class, size=n_row, p=e_freq)\n",
    "education"
   ]
  },
  {
   "cell_type": "code",
   "execution_count": null,
   "id": "e475a13c",
   "metadata": {},
   "outputs": [],
   "source": []
  },
  {
   "cell_type": "markdown",
   "id": "d23c1a12",
   "metadata": {},
   "source": [
    "### 합치기 data1"
   ]
  },
  {
   "cell_type": "code",
   "execution_count": 28,
   "id": "a27b401c",
   "metadata": {},
   "outputs": [],
   "source": [
    "data = dict(zip('calyear, byear, calregion, height, weight, BMI, vision_l, vision_r, education'.split(', '),\n",
    "                [calyear, byear, calregion, height, weight, BMI, vision_l, vision_r, education]))"
   ]
  },
  {
   "cell_type": "code",
   "execution_count": 29,
   "id": "9e5ab3d3",
   "metadata": {},
   "outputs": [
    {
     "name": "stdout",
     "output_type": "stream",
     "text": [
      "<class 'pandas.core.frame.DataFrame'>\n",
      "RangeIndex: 12000000 entries, 0 to 11999999\n",
      "Data columns (total 9 columns):\n",
      " #   Column     Dtype  \n",
      "---  ------     -----  \n",
      " 0   calyear    int64  \n",
      " 1   byear      int64  \n",
      " 2   calregion  object \n",
      " 3   height     float64\n",
      " 4   weight     float64\n",
      " 5   BMI        float64\n",
      " 6   vision_l   float64\n",
      " 7   vision_r   float64\n",
      " 8   education  object \n",
      "dtypes: float64(5), int64(2), object(2)\n",
      "memory usage: 824.0+ MB\n"
     ]
    },
    {
     "data": {
      "text/html": [
       "<div>\n",
       "<style scoped>\n",
       "    .dataframe tbody tr th:only-of-type {\n",
       "        vertical-align: middle;\n",
       "    }\n",
       "\n",
       "    .dataframe tbody tr th {\n",
       "        vertical-align: top;\n",
       "    }\n",
       "\n",
       "    .dataframe thead th {\n",
       "        text-align: right;\n",
       "    }\n",
       "</style>\n",
       "<table border=\"1\" class=\"dataframe\">\n",
       "  <thead>\n",
       "    <tr style=\"text-align: right;\">\n",
       "      <th></th>\n",
       "      <th>calyear</th>\n",
       "      <th>byear</th>\n",
       "      <th>calregion</th>\n",
       "      <th>height</th>\n",
       "      <th>weight</th>\n",
       "      <th>BMI</th>\n",
       "      <th>vision_l</th>\n",
       "      <th>vision_r</th>\n",
       "      <th>education</th>\n",
       "    </tr>\n",
       "  </thead>\n",
       "  <tbody>\n",
       "    <tr>\n",
       "      <th>0</th>\n",
       "      <td>2019</td>\n",
       "      <td>2000</td>\n",
       "      <td>7번검사반</td>\n",
       "      <td>170.08</td>\n",
       "      <td>57.85</td>\n",
       "      <td>20.0</td>\n",
       "      <td>1.0</td>\n",
       "      <td>1.0</td>\n",
       "      <td>고등학교</td>\n",
       "    </tr>\n",
       "    <tr>\n",
       "      <th>1</th>\n",
       "      <td>2019</td>\n",
       "      <td>2000</td>\n",
       "      <td>15번검사반</td>\n",
       "      <td>172.47</td>\n",
       "      <td>55.92</td>\n",
       "      <td>18.8</td>\n",
       "      <td>0.1</td>\n",
       "      <td>0.1</td>\n",
       "      <td>학사</td>\n",
       "    </tr>\n",
       "    <tr>\n",
       "      <th>2</th>\n",
       "      <td>2019</td>\n",
       "      <td>2000</td>\n",
       "      <td>14번검사반</td>\n",
       "      <td>177.84</td>\n",
       "      <td>67.37</td>\n",
       "      <td>21.3</td>\n",
       "      <td>0.1</td>\n",
       "      <td>0.1</td>\n",
       "      <td>전문학사</td>\n",
       "    </tr>\n",
       "    <tr>\n",
       "      <th>3</th>\n",
       "      <td>2019</td>\n",
       "      <td>1999</td>\n",
       "      <td>11번검사반</td>\n",
       "      <td>176.71</td>\n",
       "      <td>53.71</td>\n",
       "      <td>17.2</td>\n",
       "      <td>0.1</td>\n",
       "      <td>0.1</td>\n",
       "      <td>학사</td>\n",
       "    </tr>\n",
       "    <tr>\n",
       "      <th>4</th>\n",
       "      <td>2020</td>\n",
       "      <td>2001</td>\n",
       "      <td>15번검사반</td>\n",
       "      <td>179.67</td>\n",
       "      <td>74.89</td>\n",
       "      <td>23.2</td>\n",
       "      <td>0.4</td>\n",
       "      <td>0.4</td>\n",
       "      <td>전문학사</td>\n",
       "    </tr>\n",
       "  </tbody>\n",
       "</table>\n",
       "</div>"
      ],
      "text/plain": [
       "   calyear  byear calregion  height  weight   BMI  vision_l  vision_r  \\\n",
       "0     2019   2000     7번검사반  170.08   57.85  20.0       1.0       1.0   \n",
       "1     2019   2000    15번검사반  172.47   55.92  18.8       0.1       0.1   \n",
       "2     2019   2000    14번검사반  177.84   67.37  21.3       0.1       0.1   \n",
       "3     2019   1999    11번검사반  176.71   53.71  17.2       0.1       0.1   \n",
       "4     2020   2001    15번검사반  179.67   74.89  23.2       0.4       0.4   \n",
       "\n",
       "  education  \n",
       "0      고등학교  \n",
       "1        학사  \n",
       "2      전문학사  \n",
       "3        학사  \n",
       "4      전문학사  "
      ]
     },
     "execution_count": 29,
     "metadata": {},
     "output_type": "execute_result"
    }
   ],
   "source": [
    "data1 = pd.DataFrame(data=data)\n",
    "data1.info()\n",
    "data1.head()"
   ]
  },
  {
   "cell_type": "raw",
   "id": "349b40ee",
   "metadata": {},
   "source": [
    "data1.to_pickle('./data/mpe_vision.pkl')"
   ]
  },
  {
   "cell_type": "code",
   "execution_count": 30,
   "id": "336240f0",
   "metadata": {},
   "outputs": [
    {
     "data": {
      "text/html": [
       "<div>\n",
       "<style scoped>\n",
       "    .dataframe tbody tr th:only-of-type {\n",
       "        vertical-align: middle;\n",
       "    }\n",
       "\n",
       "    .dataframe tbody tr th {\n",
       "        vertical-align: top;\n",
       "    }\n",
       "\n",
       "    .dataframe thead th {\n",
       "        text-align: right;\n",
       "    }\n",
       "</style>\n",
       "<table border=\"1\" class=\"dataframe\">\n",
       "  <thead>\n",
       "    <tr style=\"text-align: right;\">\n",
       "      <th></th>\n",
       "      <th>calyear</th>\n",
       "      <th>byear</th>\n",
       "      <th>calregion</th>\n",
       "      <th>height</th>\n",
       "      <th>weight</th>\n",
       "      <th>BMI</th>\n",
       "      <th>vision_l</th>\n",
       "      <th>vision_r</th>\n",
       "      <th>education</th>\n",
       "    </tr>\n",
       "  </thead>\n",
       "  <tbody>\n",
       "    <tr>\n",
       "      <th>0</th>\n",
       "      <td>2019</td>\n",
       "      <td>2000</td>\n",
       "      <td>6번검사반</td>\n",
       "      <td>174.07</td>\n",
       "      <td>73.33</td>\n",
       "      <td>24.2</td>\n",
       "      <td>1.0</td>\n",
       "      <td>1.0</td>\n",
       "      <td>학사</td>\n",
       "    </tr>\n",
       "    <tr>\n",
       "      <th>1</th>\n",
       "      <td>2019</td>\n",
       "      <td>1999</td>\n",
       "      <td>12번검사반</td>\n",
       "      <td>163.14</td>\n",
       "      <td>64.94</td>\n",
       "      <td>24.4</td>\n",
       "      <td>0.3</td>\n",
       "      <td>0.3</td>\n",
       "      <td>전문학사</td>\n",
       "    </tr>\n",
       "    <tr>\n",
       "      <th>2</th>\n",
       "      <td>2020</td>\n",
       "      <td>2000</td>\n",
       "      <td>9번검사반</td>\n",
       "      <td>178.33</td>\n",
       "      <td>57.88</td>\n",
       "      <td>18.2</td>\n",
       "      <td>0.0</td>\n",
       "      <td>0.0</td>\n",
       "      <td>학사</td>\n",
       "    </tr>\n",
       "    <tr>\n",
       "      <th>3</th>\n",
       "      <td>2017</td>\n",
       "      <td>1998</td>\n",
       "      <td>2번검사반</td>\n",
       "      <td>180.22</td>\n",
       "      <td>62.04</td>\n",
       "      <td>19.1</td>\n",
       "      <td>0.1</td>\n",
       "      <td>0.1</td>\n",
       "      <td>전문학사</td>\n",
       "    </tr>\n",
       "    <tr>\n",
       "      <th>4</th>\n",
       "      <td>2019</td>\n",
       "      <td>2000</td>\n",
       "      <td>15번검사반</td>\n",
       "      <td>165.65</td>\n",
       "      <td>69.15</td>\n",
       "      <td>25.2</td>\n",
       "      <td>0.7</td>\n",
       "      <td>0.7</td>\n",
       "      <td>전문학사</td>\n",
       "    </tr>\n",
       "    <tr>\n",
       "      <th>...</th>\n",
       "      <td>...</td>\n",
       "      <td>...</td>\n",
       "      <td>...</td>\n",
       "      <td>...</td>\n",
       "      <td>...</td>\n",
       "      <td>...</td>\n",
       "      <td>...</td>\n",
       "      <td>...</td>\n",
       "      <td>...</td>\n",
       "    </tr>\n",
       "    <tr>\n",
       "      <th>11999995</th>\n",
       "      <td>2019</td>\n",
       "      <td>2000</td>\n",
       "      <td>1번검사반</td>\n",
       "      <td>174.75</td>\n",
       "      <td>58.02</td>\n",
       "      <td>19.0</td>\n",
       "      <td>1.0</td>\n",
       "      <td>1.0</td>\n",
       "      <td>학사</td>\n",
       "    </tr>\n",
       "    <tr>\n",
       "      <th>11999996</th>\n",
       "      <td>2017</td>\n",
       "      <td>1997</td>\n",
       "      <td>2번검사반</td>\n",
       "      <td>173.98</td>\n",
       "      <td>102.01</td>\n",
       "      <td>33.7</td>\n",
       "      <td>1.0</td>\n",
       "      <td>1.0</td>\n",
       "      <td>고등학교</td>\n",
       "    </tr>\n",
       "    <tr>\n",
       "      <th>11999997</th>\n",
       "      <td>2020</td>\n",
       "      <td>2001</td>\n",
       "      <td>3번검사반</td>\n",
       "      <td>169.47</td>\n",
       "      <td>72.95</td>\n",
       "      <td>25.4</td>\n",
       "      <td>0.6</td>\n",
       "      <td>0.6</td>\n",
       "      <td>학사</td>\n",
       "    </tr>\n",
       "    <tr>\n",
       "      <th>11999998</th>\n",
       "      <td>2018</td>\n",
       "      <td>1997</td>\n",
       "      <td>13번검사반</td>\n",
       "      <td>177.55</td>\n",
       "      <td>60.84</td>\n",
       "      <td>19.3</td>\n",
       "      <td>0.8</td>\n",
       "      <td>0.8</td>\n",
       "      <td>학사</td>\n",
       "    </tr>\n",
       "    <tr>\n",
       "      <th>11999999</th>\n",
       "      <td>2017</td>\n",
       "      <td>1998</td>\n",
       "      <td>6번검사반</td>\n",
       "      <td>174.63</td>\n",
       "      <td>76.85</td>\n",
       "      <td>25.2</td>\n",
       "      <td>0.0</td>\n",
       "      <td>0.0</td>\n",
       "      <td>학사</td>\n",
       "    </tr>\n",
       "  </tbody>\n",
       "</table>\n",
       "<p>12000000 rows × 9 columns</p>\n",
       "</div>"
      ],
      "text/plain": [
       "          calyear  byear calregion  height  weight   BMI  vision_l  vision_r  \\\n",
       "0            2019   2000     6번검사반  174.07   73.33  24.2       1.0       1.0   \n",
       "1            2019   1999    12번검사반  163.14   64.94  24.4       0.3       0.3   \n",
       "2            2020   2000     9번검사반  178.33   57.88  18.2       0.0       0.0   \n",
       "3            2017   1998     2번검사반  180.22   62.04  19.1       0.1       0.1   \n",
       "4            2019   2000    15번검사반  165.65   69.15  25.2       0.7       0.7   \n",
       "...           ...    ...       ...     ...     ...   ...       ...       ...   \n",
       "11999995     2019   2000     1번검사반  174.75   58.02  19.0       1.0       1.0   \n",
       "11999996     2017   1997     2번검사반  173.98  102.01  33.7       1.0       1.0   \n",
       "11999997     2020   2001     3번검사반  169.47   72.95  25.4       0.6       0.6   \n",
       "11999998     2018   1997    13번검사반  177.55   60.84  19.3       0.8       0.8   \n",
       "11999999     2017   1998     6번검사반  174.63   76.85  25.2       0.0       0.0   \n",
       "\n",
       "         education  \n",
       "0               학사  \n",
       "1             전문학사  \n",
       "2               학사  \n",
       "3             전문학사  \n",
       "4             전문학사  \n",
       "...            ...  \n",
       "11999995        학사  \n",
       "11999996      고등학교  \n",
       "11999997        학사  \n",
       "11999998        학사  \n",
       "11999999        학사  \n",
       "\n",
       "[12000000 rows x 9 columns]"
      ]
     },
     "execution_count": 30,
     "metadata": {},
     "output_type": "execute_result"
    }
   ],
   "source": [
    "pd.read_pickle('./data/mpe_vision.pkl')"
   ]
  },
  {
   "cell_type": "code",
   "execution_count": null,
   "id": "d6186633",
   "metadata": {},
   "outputs": [],
   "source": []
  },
  {
   "cell_type": "markdown",
   "id": "1a87b130",
   "metadata": {},
   "source": [
    "## dataB 병무청 - 방사선/잠복결핵데이터\n",
    "- 사용할 컬럼 정보 (count 146만개)\n",
    "    - (공통)검사일자int64 : 20170112-20211230 \n",
    "    - (공통)생년int64 : 1980-2003\n",
    "    - (공통)검사반str : 15군데지역, 서울은 1,2검사장\n",
    "    - (공통)신장float64 : 109.2-215.0, 평균 173.7\n",
    "    - (공통)체중float64 : 23.9-224.1\n",
    "    - 수축기혈압float64 : 100-233\n",
    "    - 이완기혈압float64 : 25 69, 75 81\n",
    "    - AST float64 : 25 15, 75 23\n",
    "    - ALT float64 : 25 12, 75 27\n",
    "    - r_GTP float64 : 25 15, 75 29\n",
    "    - CHOLESTEROL float64 : 25 145, 75 183\n",
    "    - CREATININE : 25 82, 75 98\n",
    "    - GLUCOSE : 25 93, 75 104"
   ]
  },
  {
   "cell_type": "markdown",
   "id": "718809fc",
   "metadata": {},
   "source": [
    "### SBP\n",
    "- 25/50/75 : 100/110/120"
   ]
  },
  {
   "cell_type": "code",
   "execution_count": 5,
   "id": "68b63599",
   "metadata": {},
   "outputs": [
    {
     "data": {
      "text/plain": [
       "(99.88265374705878, 120.11734625294122)"
      ]
     },
     "execution_count": 5,
     "metadata": {},
     "output_type": "execute_result"
    }
   ],
   "source": [
    "s_mean = 110\n",
    "s_std = 15\n",
    "rv = stats.norm(s_mean, s_std)\n",
    "rv.isf(0.75), rv.isf(0.25)"
   ]
  },
  {
   "cell_type": "code",
   "execution_count": 10,
   "id": "9a800c41",
   "metadata": {},
   "outputs": [
    {
     "data": {
      "text/plain": [
       "12000000"
      ]
     },
     "execution_count": 10,
     "metadata": {},
     "output_type": "execute_result"
    }
   ],
   "source": [
    "n_row"
   ]
  },
  {
   "cell_type": "code",
   "execution_count": 11,
   "id": "ee769872",
   "metadata": {},
   "outputs": [
    {
     "data": {
      "text/plain": [
       "array([23., 26., 16., 20., 22.,  8., 21., 12., 15., 12., 15., 17., 16.,\n",
       "       19., 17., 14., 20., 23., 24., 14., 17., 12., 29., 21., 17., 17.,\n",
       "       10., 30., 14., 25., 16.,  7., 19., 28., 15., 26., 20., 20., 14.,\n",
       "       18., 21., 17., 21., 26., 17., 19., 16.,  5., 17., 13.])"
      ]
     },
     "execution_count": 11,
     "metadata": {},
     "output_type": "execute_result"
    }
   ],
   "source": [
    "SBP = rv.rvs(size=n_row)\n",
    "SBP = SBP.round()\n",
    "SBP[:50]"
   ]
  },
  {
   "cell_type": "code",
   "execution_count": null,
   "id": "14eebb4e",
   "metadata": {},
   "outputs": [],
   "source": []
  },
  {
   "cell_type": "markdown",
   "id": "0132d6cc",
   "metadata": {},
   "source": [
    "### DBP\n",
    "- 25/50/75 : 69/76/81"
   ]
  },
  {
   "cell_type": "code",
   "execution_count": 12,
   "id": "1f0be659",
   "metadata": {},
   "outputs": [],
   "source": [
    "z = (SBP - s_mean)/s_std"
   ]
  },
  {
   "cell_type": "code",
   "execution_count": 13,
   "id": "f8e006d4",
   "metadata": {},
   "outputs": [
    {
     "data": {
      "text/plain": [
       "(69.92959224823527, 82.07040775176473)"
      ]
     },
     "execution_count": 13,
     "metadata": {},
     "output_type": "execute_result"
    }
   ],
   "source": [
    "d_mean = 76\n",
    "d_std = 9\n",
    "rv = stats.norm(d_mean, d_std)\n",
    "rv.isf(0.75), rv.isf(0.25)"
   ]
  },
  {
   "cell_type": "code",
   "execution_count": 14,
   "id": "cc992573",
   "metadata": {},
   "outputs": [
    {
     "data": {
      "text/plain": [
       "array([24., 26., 20., ..., 20., 24., 25.])"
      ]
     },
     "execution_count": 14,
     "metadata": {},
     "output_type": "execute_result"
    }
   ],
   "source": [
    "DBP = z*d_std + d_mean\n",
    "DBP = DBP.round()\n",
    "DBP"
   ]
  },
  {
   "cell_type": "code",
   "execution_count": null,
   "id": "1371cc7b",
   "metadata": {},
   "outputs": [],
   "source": []
  },
  {
   "cell_type": "markdown",
   "id": "f7232628",
   "metadata": {},
   "source": [
    "### AST\n",
    "q1 15 q3 23"
   ]
  },
  {
   "cell_type": "code",
   "execution_count": 15,
   "id": "06131348",
   "metadata": {},
   "outputs": [
    {
     "data": {
      "text/plain": [
       "(15.627551249019591, 22.372448750980407)"
      ]
     },
     "execution_count": 15,
     "metadata": {},
     "output_type": "execute_result"
    }
   ],
   "source": [
    "ast_mean = 19\n",
    "ast_std = 5\n",
    "rv = stats.norm(ast_mean, ast_std)\n",
    "rv.isf(0.75), rv.isf(0.25)"
   ]
  },
  {
   "cell_type": "code",
   "execution_count": 16,
   "id": "88b23094",
   "metadata": {},
   "outputs": [
    {
     "data": {
      "text/plain": [
       "array([16., 18., 14., ..., 15., 19., 18.])"
      ]
     },
     "execution_count": 16,
     "metadata": {},
     "output_type": "execute_result"
    }
   ],
   "source": [
    "AST = rv.rvs(size=n_row)\n",
    "AST = AST.round()\n",
    "AST"
   ]
  },
  {
   "cell_type": "code",
   "execution_count": null,
   "id": "640afe44",
   "metadata": {},
   "outputs": [],
   "source": []
  },
  {
   "cell_type": "markdown",
   "id": "1a8681af",
   "metadata": {},
   "source": [
    "### ALT\n",
    "q1-3/ 12-27"
   ]
  },
  {
   "cell_type": "code",
   "execution_count": 17,
   "id": "a5e08713",
   "metadata": {},
   "outputs": [],
   "source": [
    "z = (AST - ast_mean)/ast_std"
   ]
  },
  {
   "cell_type": "code",
   "execution_count": 18,
   "id": "3b8121a0",
   "metadata": {},
   "outputs": [
    {
     "data": {
      "text/plain": [
       "(12.580612747843102, 27.4193872521569)"
      ]
     },
     "execution_count": 18,
     "metadata": {},
     "output_type": "execute_result"
    }
   ],
   "source": [
    "alt_mean = 20\n",
    "alt_std = 11\n",
    "rv = stats.norm(alt_mean, alt_std)\n",
    "rv.isf(0.75), rv.isf(0.25)"
   ]
  },
  {
   "cell_type": "code",
   "execution_count": 19,
   "id": "588745e0",
   "metadata": {},
   "outputs": [],
   "source": [
    "ALT = z*alt_std + alt_mean"
   ]
  },
  {
   "cell_type": "code",
   "execution_count": 20,
   "id": "b5f7bf0d",
   "metadata": {},
   "outputs": [
    {
     "data": {
      "text/plain": [
       "array([13., 18.,  9., ..., 11., 20., 18.])"
      ]
     },
     "execution_count": 20,
     "metadata": {},
     "output_type": "execute_result"
    }
   ],
   "source": [
    "ALT = ALT.round()\n",
    "ALT"
   ]
  },
  {
   "cell_type": "code",
   "execution_count": null,
   "id": "5200d4fb",
   "metadata": {},
   "outputs": [],
   "source": []
  },
  {
   "cell_type": "markdown",
   "id": "8cbe57b2",
   "metadata": {},
   "source": [
    "### r_GTP\n",
    "q1-3, 15-29"
   ]
  },
  {
   "cell_type": "code",
   "execution_count": 24,
   "id": "4807ded5",
   "metadata": {},
   "outputs": [
    {
     "data": {
      "text/plain": [
       "(15.255102498039182, 28.744897501960818)"
      ]
     },
     "execution_count": 24,
     "metadata": {},
     "output_type": "execute_result"
    }
   ],
   "source": [
    "mean = 22\n",
    "std = 10\n",
    "rv = stats.norm(mean, std)\n",
    "rv.isf(0.75), rv.isf(0.25)"
   ]
  },
  {
   "cell_type": "code",
   "execution_count": 25,
   "id": "1ae3bef3",
   "metadata": {
    "scrolled": true
   },
   "outputs": [
    {
     "data": {
      "text/plain": [
       "array([33., 34., 40., ..., 26., 17., 34.])"
      ]
     },
     "execution_count": 25,
     "metadata": {},
     "output_type": "execute_result"
    }
   ],
   "source": [
    "r_GTP = rv.rvs(size=n_row)\n",
    "r_GTP = r_GTP.round()\n",
    "r_GTP"
   ]
  },
  {
   "cell_type": "markdown",
   "id": "c31179df",
   "metadata": {},
   "source": [
    "### CHOLESTEROL\n",
    "q1-3, 145 - 183"
   ]
  },
  {
   "cell_type": "markdown",
   "id": "210e8447",
   "metadata": {},
   "source": [
    "### CREATININE\n",
    "q1-3, 82-98"
   ]
  },
  {
   "cell_type": "markdown",
   "id": "0ef38f43",
   "metadata": {},
   "source": [
    "### GLUCOSE\n",
    "q1-3, 93-104"
   ]
  },
  {
   "cell_type": "code",
   "execution_count": null,
   "id": "9aa39b04",
   "metadata": {},
   "outputs": [],
   "source": []
  },
  {
   "cell_type": "markdown",
   "id": "f9b517ab",
   "metadata": {},
   "source": [
    "# 기타"
   ]
  },
  {
   "cell_type": "markdown",
   "id": "76713918",
   "metadata": {},
   "source": [
    "## 공공데이터에 병무청 샘플 자료"
   ]
  },
  {
   "cell_type": "code",
   "execution_count": 14,
   "id": "0b54be7b",
   "metadata": {},
   "outputs": [],
   "source": [
    "sample = pd.read_csv('./data/병무청_안과 관련 검사 기초자료[Kdata]_20201231.csv', encoding='euc-kr')"
   ]
  },
  {
   "cell_type": "code",
   "execution_count": 15,
   "id": "98c04d3d",
   "metadata": {},
   "outputs": [
    {
     "name": "stdout",
     "output_type": "stream",
     "text": [
      "<class 'pandas.core.frame.DataFrame'>\n",
      "RangeIndex: 20 entries, 0 to 19\n",
      "Data columns (total 16 columns):\n",
      " #   Column      Non-Null Count  Dtype  \n",
      "---  ------      --------------  -----  \n",
      " 0   검사연도        20 non-null     int64  \n",
      " 1   생년월         20 non-null     object \n",
      " 2   검사반         20 non-null     object \n",
      " 3   학력          20 non-null     object \n",
      " 4   신장(cm)      20 non-null     float64\n",
      " 5   체중(kg)      20 non-null     float64\n",
      " 6   체질량지수(BMI)  20 non-null     float64\n",
      " 7   시력_좌        20 non-null     float64\n",
      " 8   시력_우        20 non-null     float64\n",
      " 9   구면치_좌       13 non-null     float64\n",
      " 10  구면치_우       13 non-null     float64\n",
      " 11  원주치_좌       13 non-null     float64\n",
      " 12  원주치_우       13 non-null     float64\n",
      " 13  축_좌         13 non-null     float64\n",
      " 14  축_우         13 non-null     float64\n",
      " 15  색각여부        20 non-null     object \n",
      "dtypes: float64(11), int64(1), object(4)\n",
      "memory usage: 2.6+ KB\n"
     ]
    },
    {
     "data": {
      "text/html": [
       "<div>\n",
       "<style scoped>\n",
       "    .dataframe tbody tr th:only-of-type {\n",
       "        vertical-align: middle;\n",
       "    }\n",
       "\n",
       "    .dataframe tbody tr th {\n",
       "        vertical-align: top;\n",
       "    }\n",
       "\n",
       "    .dataframe thead th {\n",
       "        text-align: right;\n",
       "    }\n",
       "</style>\n",
       "<table border=\"1\" class=\"dataframe\">\n",
       "  <thead>\n",
       "    <tr style=\"text-align: right;\">\n",
       "      <th></th>\n",
       "      <th>검사연도</th>\n",
       "      <th>생년월</th>\n",
       "      <th>검사반</th>\n",
       "      <th>학력</th>\n",
       "      <th>신장(cm)</th>\n",
       "      <th>체중(kg)</th>\n",
       "      <th>체질량지수(BMI)</th>\n",
       "      <th>시력_좌</th>\n",
       "      <th>시력_우</th>\n",
       "      <th>구면치_좌</th>\n",
       "      <th>구면치_우</th>\n",
       "      <th>원주치_좌</th>\n",
       "      <th>원주치_우</th>\n",
       "      <th>축_좌</th>\n",
       "      <th>축_우</th>\n",
       "      <th>색각여부</th>\n",
       "    </tr>\n",
       "  </thead>\n",
       "  <tbody>\n",
       "    <tr>\n",
       "      <th>0</th>\n",
       "      <td>2020</td>\n",
       "      <td>2001-07</td>\n",
       "      <td>경남</td>\n",
       "      <td>4년제대학 재학</td>\n",
       "      <td>174.3</td>\n",
       "      <td>84.8</td>\n",
       "      <td>27.9</td>\n",
       "      <td>0.1</td>\n",
       "      <td>0.1</td>\n",
       "      <td>-3.00</td>\n",
       "      <td>-3.75</td>\n",
       "      <td>-2.50</td>\n",
       "      <td>-2.00</td>\n",
       "      <td>170.0</td>\n",
       "      <td>178.0</td>\n",
       "      <td>정상</td>\n",
       "    </tr>\n",
       "    <tr>\n",
       "      <th>1</th>\n",
       "      <td>2020</td>\n",
       "      <td>2001-11</td>\n",
       "      <td>광주.전남</td>\n",
       "      <td>4년제대학 재학</td>\n",
       "      <td>178.7</td>\n",
       "      <td>83.8</td>\n",
       "      <td>26.2</td>\n",
       "      <td>0.2</td>\n",
       "      <td>0.2</td>\n",
       "      <td>-6.25</td>\n",
       "      <td>-6.25</td>\n",
       "      <td>-1.75</td>\n",
       "      <td>-1.75</td>\n",
       "      <td>171.0</td>\n",
       "      <td>3.0</td>\n",
       "      <td>정상</td>\n",
       "    </tr>\n",
       "    <tr>\n",
       "      <th>2</th>\n",
       "      <td>2020</td>\n",
       "      <td>2001-01</td>\n",
       "      <td>수원</td>\n",
       "      <td>4년제대학 재학</td>\n",
       "      <td>177.0</td>\n",
       "      <td>78.4</td>\n",
       "      <td>25.0</td>\n",
       "      <td>1.2</td>\n",
       "      <td>0.1</td>\n",
       "      <td>0.00</td>\n",
       "      <td>-2.50</td>\n",
       "      <td>0.00</td>\n",
       "      <td>-0.25</td>\n",
       "      <td>180.0</td>\n",
       "      <td>113.0</td>\n",
       "      <td>정상</td>\n",
       "    </tr>\n",
       "    <tr>\n",
       "      <th>3</th>\n",
       "      <td>2020</td>\n",
       "      <td>2001-09</td>\n",
       "      <td>서울1검사장</td>\n",
       "      <td>2년제대학 휴학</td>\n",
       "      <td>170.1</td>\n",
       "      <td>67.7</td>\n",
       "      <td>23.3</td>\n",
       "      <td>0.4</td>\n",
       "      <td>0.4</td>\n",
       "      <td>NaN</td>\n",
       "      <td>NaN</td>\n",
       "      <td>NaN</td>\n",
       "      <td>NaN</td>\n",
       "      <td>NaN</td>\n",
       "      <td>NaN</td>\n",
       "      <td>정상</td>\n",
       "    </tr>\n",
       "    <tr>\n",
       "      <th>4</th>\n",
       "      <td>2020</td>\n",
       "      <td>2001-03</td>\n",
       "      <td>경기북부</td>\n",
       "      <td>4년제대학 재학</td>\n",
       "      <td>176.6</td>\n",
       "      <td>72.0</td>\n",
       "      <td>23.0</td>\n",
       "      <td>0.6</td>\n",
       "      <td>0.7</td>\n",
       "      <td>NaN</td>\n",
       "      <td>NaN</td>\n",
       "      <td>NaN</td>\n",
       "      <td>NaN</td>\n",
       "      <td>NaN</td>\n",
       "      <td>NaN</td>\n",
       "      <td>정상</td>\n",
       "    </tr>\n",
       "  </tbody>\n",
       "</table>\n",
       "</div>"
      ],
      "text/plain": [
       "   검사연도      생년월     검사반        학력  신장(cm)  체중(kg)  체질량지수(BMI)  시력_좌  시력_우  \\\n",
       "0  2020  2001-07      경남  4년제대학 재학   174.3    84.8        27.9   0.1   0.1   \n",
       "1  2020  2001-11   광주.전남  4년제대학 재학   178.7    83.8        26.2   0.2   0.2   \n",
       "2  2020  2001-01      수원  4년제대학 재학   177.0    78.4        25.0   1.2   0.1   \n",
       "3  2020  2001-09  서울1검사장  2년제대학 휴학   170.1    67.7        23.3   0.4   0.4   \n",
       "4  2020  2001-03    경기북부  4년제대학 재학   176.6    72.0        23.0   0.6   0.7   \n",
       "\n",
       "   구면치_좌  구면치_우  원주치_좌  원주치_우    축_좌    축_우 색각여부  \n",
       "0  -3.00  -3.75  -2.50  -2.00  170.0  178.0   정상  \n",
       "1  -6.25  -6.25  -1.75  -1.75  171.0    3.0   정상  \n",
       "2   0.00  -2.50   0.00  -0.25  180.0  113.0   정상  \n",
       "3    NaN    NaN    NaN    NaN    NaN    NaN   정상  \n",
       "4    NaN    NaN    NaN    NaN    NaN    NaN   정상  "
      ]
     },
     "execution_count": 15,
     "metadata": {},
     "output_type": "execute_result"
    }
   ],
   "source": [
    "sample.info()\n",
    "sample.head()"
   ]
  },
  {
   "cell_type": "code",
   "execution_count": null,
   "id": "5f00f676",
   "metadata": {},
   "outputs": [],
   "source": []
  },
  {
   "cell_type": "markdown",
   "id": "45cb7d24",
   "metadata": {},
   "source": [
    "## 시력(좌)의   PMF만들기 - vision_left_pmf.pkl"
   ]
  },
  {
   "cell_type": "markdown",
   "id": "7e5d0e75",
   "metadata": {},
   "source": [
    "### 국민건강검진정보 참고"
   ]
  },
  {
   "cell_type": "code",
   "execution_count": 92,
   "id": "a61acd91",
   "metadata": {
    "scrolled": true
   },
   "outputs": [
    {
     "data": {
      "text/plain": [
       "0.1     11220\n",
       "0.2     13264\n",
       "0.3     22970\n",
       "0.4     35371\n",
       "0.5     62714\n",
       "0.6     65344\n",
       "0.7    100542\n",
       "0.8    113519\n",
       "0.9    118708\n",
       "1.0    202138\n",
       "1.1        64\n",
       "1.2    159080\n",
       "1.3        87\n",
       "1.4        13\n",
       "1.5     85110\n",
       "1.6       265\n",
       "1.7        12\n",
       "1.8        17\n",
       "1.9        20\n",
       "2.0      5555\n",
       "Name: 시력(좌), dtype: int64"
      ]
     },
     "execution_count": 92,
     "metadata": {},
     "output_type": "execute_result"
    }
   ],
   "source": [
    "ref_vl = pd.read_pickle('./data/vision_value_counts.pkl')\n",
    "ref_vl"
   ]
  },
  {
   "cell_type": "code",
   "execution_count": 93,
   "id": "38d4f235",
   "metadata": {},
   "outputs": [
    {
     "data": {
      "image/png": "[encoded data removed]",
      "text/plain": [
       "<Figure size 720x432 with 1 Axes>"
      ]
     },
     "metadata": {
      "needs_background": "light"
     },
     "output_type": "display_data"
    }
   ],
   "source": [
    "fig = plt.figure(figsize=(10, 6))\n",
    "ax = fig.add_subplot(111)\n",
    "\n",
    "# ax.plot(ref_vl)\n",
    "ax.bar(ref_vl.index, ref_vl, width=0.1)\n",
    "ax.set_xticks(np.array(range(21))/10)\n",
    "plt.show()"
   ]
  },
  {
   "cell_type": "code",
   "execution_count": 94,
   "id": "2228444c",
   "metadata": {},
   "outputs": [],
   "source": [
    "ref_vl = (ref_vl/10000).round()"
   ]
  },
  {
   "cell_type": "code",
   "execution_count": 95,
   "id": "0ddd1bd2",
   "metadata": {},
   "outputs": [],
   "source": [
    "v_class = [0.0] + list(ref_vl.index)"
   ]
  },
  {
   "cell_type": "code",
   "execution_count": 108,
   "id": "59ebec4f",
   "metadata": {},
   "outputs": [],
   "source": [
    "v_freq = list(ref_vl.values)\n",
    "v_freq = [5] + v_freq"
   ]
  },
  {
   "cell_type": "code",
   "execution_count": 109,
   "id": "871d0bc9",
   "metadata": {},
   "outputs": [
    {
     "data": {
      "text/plain": [
       "105"
      ]
     },
     "execution_count": 109,
     "metadata": {},
     "output_type": "execute_result"
    }
   ],
   "source": [
    "li = [1, 2, 3, 4, 5, 7, 11, 17, 25, 30]\n",
    "sum(li)"
   ]
  },
  {
   "cell_type": "code",
   "execution_count": 110,
   "id": "8da2f5fc",
   "metadata": {},
   "outputs": [],
   "source": [
    "li = np.array(li[::-1])\n",
    "li = li/sum(li)*5"
   ]
  },
  {
   "cell_type": "code",
   "execution_count": 111,
   "id": "77296f09",
   "metadata": {},
   "outputs": [
    {
     "data": {
      "text/plain": [
       "[5, 1.0, 1.0, 2.0, 4.0, 6.0, 7.0, 10.0, 11.0, 12.0, 20.0]"
      ]
     },
     "execution_count": 111,
     "metadata": {},
     "output_type": "execute_result"
    }
   ],
   "source": [
    "v_freq[:11]"
   ]
  },
  {
   "cell_type": "code",
   "execution_count": 104,
   "id": "9441d019",
   "metadata": {
    "scrolled": true
   },
   "outputs": [
    {
     "data": {
      "text/plain": [
       "[5,\n",
       " 1.0,\n",
       " 1.0,\n",
       " 2.0,\n",
       " 4.0,\n",
       " 6.0,\n",
       " 7.0,\n",
       " 10.0,\n",
       " 11.0,\n",
       " 12.0,\n",
       " 20.0,\n",
       " 1.4285714285714284,\n",
       " 1.1904761904761905,\n",
       " 0.8095238095238095,\n",
       " 0.5238095238095238,\n",
       " 0.3333333333333333,\n",
       " 0.23809523809523808,\n",
       " 0.1904761904761905,\n",
       " 0.14285714285714285,\n",
       " 0.09523809523809525,\n",
       " 0.04761904761904762]"
      ]
     },
     "execution_count": 104,
     "metadata": {},
     "output_type": "execute_result"
    }
   ],
   "source": [
    "v_freq = v_freq[:11] + list(li)\n",
    "v_freq"
   ]
  },
  {
   "cell_type": "code",
   "execution_count": 105,
   "id": "84a3f3c2",
   "metadata": {},
   "outputs": [
    {
     "data": {
      "text/plain": [
       "array([0.05952381, 0.01190476, 0.01190476, 0.02380952, 0.04761905,\n",
       "       0.07142857, 0.08333333, 0.11904762, 0.13095238, 0.14285714,\n",
       "       0.23809524, 0.0170068 , 0.01417234, 0.00963719, 0.00623583,\n",
       "       0.00396825, 0.00283447, 0.00226757, 0.00170068, 0.00113379,\n",
       "       0.00056689])"
      ]
     },
     "execution_count": 105,
     "metadata": {},
     "output_type": "execute_result"
    }
   ],
   "source": [
    "v_freq = np.array(v_freq)/sum(v_freq)\n",
    "v_freq"
   ]
  },
  {
   "cell_type": "code",
   "execution_count": 107,
   "id": "67338246",
   "metadata": {},
   "outputs": [
    {
     "data": {
      "image/png": "[encoded data removed]",
      "text/plain": [
       "<Figure size 720x432 with 1 Axes>"
      ]
     },
     "metadata": {
      "needs_background": "light"
     },
     "output_type": "display_data"
    }
   ],
   "source": [
    "fig = plt.figure(figsize=(10, 6))\n",
    "ax = fig.add_subplot(111)\n",
    "\n",
    "ax.bar(v_class, v_freq, width=0.1)\n",
    "ax.set_xticks(np.array(range(21))/10)\n",
    "\n",
    "plt.show()"
   ]
  },
  {
   "cell_type": "code",
   "execution_count": 112,
   "id": "7042f26c",
   "metadata": {},
   "outputs": [],
   "source": [
    "vision_l = pd.Series(data=v_freq, index=v_class, name='vision_left_pmf')"
   ]
  },
  {
   "cell_type": "raw",
   "id": "8269701e",
   "metadata": {},
   "source": [
    "vision_l.to_pickle('./data/vision_left_pmf.pkl')"
   ]
  },
  {
   "cell_type": "code",
   "execution_count": null,
   "id": "cc072e35",
   "metadata": {},
   "outputs": [],
   "source": []
  },
  {
   "cell_type": "markdown",
   "id": "1c729531",
   "metadata": {},
   "source": [
    "### 임의"
   ]
  },
  {
   "cell_type": "code",
   "execution_count": 119,
   "id": "6972c858",
   "metadata": {},
   "outputs": [
    {
     "data": {
      "image/png": "[encoded data removed]",
      "text/plain": [
       "<Figure size 720x432 with 1 Axes>"
      ]
     },
     "metadata": {
      "needs_background": "light"
     },
     "output_type": "display_data"
    }
   ],
   "source": [
    "mean = 0.8\n",
    "std = 0.2\n",
    "rv = stats.norm(mean, std)\n",
    "\n",
    "fig = plt.figure(figsize=(10, 6))\n",
    "ax = fig.add_subplot(111)\n",
    "\n",
    "xs = np.linspace(rv.isf(0.999), rv.isf(0.001), 100)\n",
    "ax.plot(xs, rv.pdf(xs), color='gray', ls='--')\n",
    "ax.plot(xs, rv.cdf(xs), color='blue')\n",
    "ax.hlines(0.75, rv.isf(0.999), rv.isf(0.001))\n",
    "\n",
    "plt.show()"
   ]
  },
  {
   "cell_type": "markdown",
   "id": "1be57cad",
   "metadata": {},
   "source": [
    "시력좌float64 : 14만개(6%)가 0.00/ 25 0.1, 75 1.0"
   ]
  },
  {
   "cell_type": "code",
   "execution_count": 159,
   "id": "beceaaf8",
   "metadata": {},
   "outputs": [
    {
     "data": {
      "text/plain": [
       "[0.0, 0.1, 0.2, 0.3, 0.4, 0.5, 0.6, 0.7, 0.8, 0.9, 1.0]"
      ]
     },
     "execution_count": 159,
     "metadata": {},
     "output_type": "execute_result"
    }
   ],
   "source": [
    "v_class = [i/10 for i in range(11)]\n",
    "v_class"
   ]
  },
  {
   "cell_type": "code",
   "execution_count": 162,
   "id": "67a73635",
   "metadata": {},
   "outputs": [
    {
     "name": "stdout",
     "output_type": "stream",
     "text": [
      "[0.06735751 0.20725389 0.05181347 0.05181347 0.05181347 0.05181347\n",
      " 0.05181347 0.05181347 0.05181347 0.05181347 0.31088083]\n"
     ]
    }
   ],
   "source": [
    "v_freq = [1]*11\n",
    "v_freq[0] += 0.3\n",
    "v_freq[1] += 3\n",
    "v_freq[-1] += 5\n",
    "v_freq = np.array(v_freq)/sum(v_freq)\n",
    "print(v_freq)"
   ]
  },
  {
   "cell_type": "code",
   "execution_count": 163,
   "id": "7afa3282",
   "metadata": {},
   "outputs": [],
   "source": [
    "vision_l = pd.Series(data=v_freq, index=v_class, name='vision_left_pmf')"
   ]
  },
  {
   "cell_type": "raw",
   "id": "462dbe24",
   "metadata": {},
   "source": [
    "vision_l.to_pickle('./data/vision_left_pmf.pkl')"
   ]
  },
  {
   "cell_type": "code",
   "execution_count": 165,
   "id": "0030f01a",
   "metadata": {},
   "outputs": [
    {
     "data": {
      "text/plain": [
       "0.0    0.067358\n",
       "0.1    0.207254\n",
       "0.2    0.051813\n",
       "0.3    0.051813\n",
       "0.4    0.051813\n",
       "0.5    0.051813\n",
       "0.6    0.051813\n",
       "0.7    0.051813\n",
       "0.8    0.051813\n",
       "0.9    0.051813\n",
       "1.0    0.310881\n",
       "Name: vision_left_pmf, dtype: float64"
      ]
     },
     "execution_count": 165,
     "metadata": {},
     "output_type": "execute_result"
    }
   ],
   "source": [
    "pd.read_pickle('./data/vision_left_pmf.pkl')"
   ]
  }
 ],
 "metadata": {
  "kernelspec": {
   "display_name": "Python 3 (ipykernel)",
   "language": "python",
   "name": "python3"
  },
  "language_info": {
   "codemirror_mode": {
    "name": "ipython",
    "version": 3
   },
   "file_extension": ".py",
   "mimetype": "text/x-python",
   "name": "python",
   "nbconvert_exporter": "python",
   "pygments_lexer": "ipython3",
   "version": "3.8.13"
  },
  "toc": {
   "base_numbering": 1,
   "nav_menu": {},
   "number_sections": true,
   "sideBar": true,
   "skip_h1_title": false,
   "title_cell": "Table of Contents",
   "title_sidebar": "Contents",
   "toc_cell": false,
   "toc_position": {
    "height": "calc(100% - 180px)",
    "left": "10px",
    "top": "150px",
    "width": "278.663px"
   },
   "toc_section_display": true,
   "toc_window_display": true
  }
 },
 "nbformat": 4,
 "nbformat_minor": 5
}
