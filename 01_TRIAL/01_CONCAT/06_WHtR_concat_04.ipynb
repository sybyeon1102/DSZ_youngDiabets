{
 "cells": [
  {
   "cell_type": "markdown",
   "id": "72a02af5",
   "metadata": {},
   "source": [
    "author : sybyeon1102@gmail.com"
   ]
  },
  {
   "cell_type": "markdown",
   "id": "8d2156c0",
   "metadata": {},
   "source": [
    "## import"
   ]
  },
  {
   "cell_type": "code",
   "execution_count": 1,
   "id": "6503f804",
   "metadata": {},
   "outputs": [],
   "source": [
    "import pandas as pd\n",
    "import numpy as np\n",
    "import pickle\n",
    "import matplotlib.pyplot as plt"
   ]
  },
  {
   "cell_type": "code",
   "execution_count": 2,
   "id": "aaa97a19",
   "metadata": {},
   "outputs": [],
   "source": [
    "import seaborn as sns"
   ]
  },
  {
   "cell_type": "code",
   "execution_count": 3,
   "id": "df005343",
   "metadata": {},
   "outputs": [],
   "source": [
    "from matplotlib import rc\n",
    "rc('font', family='Malgun Gothic') # 한글 폰트\n",
    "plt.rcParams['axes.unicode_minus'] = False # 마이너스 부호출력 설정"
   ]
  },
  {
   "cell_type": "code",
   "execution_count": 4,
   "id": "60cabd52",
   "metadata": {},
   "outputs": [],
   "source": [
    "from warnings import filterwarnings\n",
    "filterwarnings('ignore')"
   ]
  },
  {
   "cell_type": "code",
   "execution_count": null,
   "id": "286b2730",
   "metadata": {},
   "outputs": [],
   "source": []
  },
  {
   "cell_type": "markdown",
   "id": "944af8a5",
   "metadata": {},
   "source": [
    "# 파일 불러오기"
   ]
  },
  {
   "cell_type": "code",
   "execution_count": 5,
   "id": "bd74525d",
   "metadata": {},
   "outputs": [],
   "source": [
    "with open('./WHtR_concat/03/keys.pkl', 'rb') as fr:\n",
    "    dic_keys = pickle.load(fr)"
   ]
  },
  {
   "cell_type": "code",
   "execution_count": 6,
   "id": "5466a2ae",
   "metadata": {},
   "outputs": [
    {
     "data": {
      "text/plain": [
       "{'bmi': [18.0, 20.0, 22.0, 24.0, 26.0, 28.0, 30.0],\n",
       " 'ALT': [10.0, 15.0, 20.0, 25.0, 30.0, 35.0, 40.0, 45.0],\n",
       " 'note': '\\n- bmi\\n    - 18.0 에 대해, ALT 25.0 이상 묶기\\n    - 20.0 에 대해, ALT 35.0 이상 묶기\\n    - 30.0 에 대해, ALT 15.0 미만 묶기\\n'}"
      ]
     },
     "execution_count": 6,
     "metadata": {},
     "output_type": "execute_result"
    }
   ],
   "source": [
    "dic_keys"
   ]
  },
  {
   "cell_type": "code",
   "execution_count": 12,
   "id": "5b95d817",
   "metadata": {},
   "outputs": [
    {
     "data": {
      "text/html": [
       "<div>\n",
       "<style scoped>\n",
       "    .dataframe tbody tr th:only-of-type {\n",
       "        vertical-align: middle;\n",
       "    }\n",
       "\n",
       "    .dataframe tbody tr th {\n",
       "        vertical-align: top;\n",
       "    }\n",
       "\n",
       "    .dataframe thead th {\n",
       "        text-align: right;\n",
       "    }\n",
       "</style>\n",
       "<table border=\"1\" class=\"dataframe\">\n",
       "  <thead>\n",
       "    <tr style=\"text-align: right;\">\n",
       "      <th></th>\n",
       "      <th>r_GTP</th>\n",
       "      <th>AST</th>\n",
       "      <th>WHtR</th>\n",
       "      <th>avg_bp</th>\n",
       "      <th>bmi_c</th>\n",
       "      <th>ALT_c</th>\n",
       "    </tr>\n",
       "  </thead>\n",
       "  <tbody>\n",
       "    <tr>\n",
       "      <th>0</th>\n",
       "      <td>21.0</td>\n",
       "      <td>21.0</td>\n",
       "      <td>0.437</td>\n",
       "      <td>103.0</td>\n",
       "      <td>22.0</td>\n",
       "      <td>25.0</td>\n",
       "    </tr>\n",
       "    <tr>\n",
       "      <th>1</th>\n",
       "      <td>26.0</td>\n",
       "      <td>25.0</td>\n",
       "      <td>0.508</td>\n",
       "      <td>93.0</td>\n",
       "      <td>24.0</td>\n",
       "      <td>30.0</td>\n",
       "    </tr>\n",
       "    <tr>\n",
       "      <th>2</th>\n",
       "      <td>15.0</td>\n",
       "      <td>18.0</td>\n",
       "      <td>0.470</td>\n",
       "      <td>100.0</td>\n",
       "      <td>20.0</td>\n",
       "      <td>10.0</td>\n",
       "    </tr>\n",
       "  </tbody>\n",
       "</table>\n",
       "</div>"
      ],
      "text/plain": [
       "   r_GTP   AST   WHtR  avg_bp  bmi_c  ALT_c\n",
       "0   21.0  21.0  0.437   103.0   22.0   25.0\n",
       "1   26.0  25.0  0.508    93.0   24.0   30.0\n",
       "2   15.0  18.0  0.470   100.0   20.0   10.0"
      ]
     },
     "execution_count": 12,
     "metadata": {},
     "output_type": "execute_result"
    }
   ],
   "source": [
    "df = pd.read_pickle('./WHtR_concat/03/reduction_07.pkl')\n",
    "df.head(3)"
   ]
  },
  {
   "cell_type": "code",
   "execution_count": 13,
   "id": "224a2774",
   "metadata": {},
   "outputs": [
    {
     "data": {
      "text/html": [
       "<div>\n",
       "<style scoped>\n",
       "    .dataframe tbody tr th:only-of-type {\n",
       "        vertical-align: middle;\n",
       "    }\n",
       "\n",
       "    .dataframe tbody tr th {\n",
       "        vertical-align: top;\n",
       "    }\n",
       "\n",
       "    .dataframe thead th {\n",
       "        text-align: right;\n",
       "    }\n",
       "</style>\n",
       "<table border=\"1\" class=\"dataframe\">\n",
       "  <thead>\n",
       "    <tr style=\"text-align: right;\">\n",
       "      <th></th>\n",
       "      <th>WHtR</th>\n",
       "      <th>bmi_c</th>\n",
       "      <th>ALT_c</th>\n",
       "    </tr>\n",
       "  </thead>\n",
       "  <tbody>\n",
       "    <tr>\n",
       "      <th>0</th>\n",
       "      <td>0.437</td>\n",
       "      <td>22.0</td>\n",
       "      <td>25.0</td>\n",
       "    </tr>\n",
       "    <tr>\n",
       "      <th>1</th>\n",
       "      <td>0.508</td>\n",
       "      <td>24.0</td>\n",
       "      <td>30.0</td>\n",
       "    </tr>\n",
       "    <tr>\n",
       "      <th>2</th>\n",
       "      <td>0.470</td>\n",
       "      <td>20.0</td>\n",
       "      <td>10.0</td>\n",
       "    </tr>\n",
       "  </tbody>\n",
       "</table>\n",
       "</div>"
      ],
      "text/plain": [
       "    WHtR  bmi_c  ALT_c\n",
       "0  0.437   22.0   25.0\n",
       "1  0.508   24.0   30.0\n",
       "2  0.470   20.0   10.0"
      ]
     },
     "execution_count": 13,
     "metadata": {},
     "output_type": "execute_result"
    }
   ],
   "source": [
    "df1 = df.drop(columns=['r_GTP', 'AST', 'avg_bp'])\n",
    "df1.head(3)"
   ]
  },
  {
   "cell_type": "raw",
   "id": "877865d4",
   "metadata": {},
   "source": [
    "df1.to_pickle('./WHtR_concat/04/WHtR_rawdata.pkl')"
   ]
  },
  {
   "cell_type": "code",
   "execution_count": 15,
   "id": "6e48e11e",
   "metadata": {},
   "outputs": [],
   "source": [
    "df = pd.read_pickle('./WHtR_concat/04/WHtR_rawdata.pkl')"
   ]
  },
  {
   "cell_type": "code",
   "execution_count": 16,
   "id": "7ec02288",
   "metadata": {},
   "outputs": [
    {
     "data": {
      "text/html": [
       "<div>\n",
       "<style scoped>\n",
       "    .dataframe tbody tr th:only-of-type {\n",
       "        vertical-align: middle;\n",
       "    }\n",
       "\n",
       "    .dataframe tbody tr th {\n",
       "        vertical-align: top;\n",
       "    }\n",
       "\n",
       "    .dataframe thead th {\n",
       "        text-align: right;\n",
       "    }\n",
       "</style>\n",
       "<table border=\"1\" class=\"dataframe\">\n",
       "  <thead>\n",
       "    <tr style=\"text-align: right;\">\n",
       "      <th></th>\n",
       "      <th>WHtR</th>\n",
       "      <th>bmi_c</th>\n",
       "      <th>ALT_c</th>\n",
       "    </tr>\n",
       "  </thead>\n",
       "  <tbody>\n",
       "    <tr>\n",
       "      <th>0</th>\n",
       "      <td>0.437</td>\n",
       "      <td>22.0</td>\n",
       "      <td>25.0</td>\n",
       "    </tr>\n",
       "    <tr>\n",
       "      <th>1</th>\n",
       "      <td>0.508</td>\n",
       "      <td>24.0</td>\n",
       "      <td>30.0</td>\n",
       "    </tr>\n",
       "    <tr>\n",
       "      <th>2</th>\n",
       "      <td>0.470</td>\n",
       "      <td>20.0</td>\n",
       "      <td>10.0</td>\n",
       "    </tr>\n",
       "  </tbody>\n",
       "</table>\n",
       "</div>"
      ],
      "text/plain": [
       "    WHtR  bmi_c  ALT_c\n",
       "0  0.437   22.0   25.0\n",
       "1  0.508   24.0   30.0\n",
       "2  0.470   20.0   10.0"
      ]
     },
     "execution_count": 16,
     "metadata": {},
     "output_type": "execute_result"
    }
   ],
   "source": [
    "df.head(3)"
   ]
  },
  {
   "cell_type": "code",
   "execution_count": null,
   "id": "600029cf",
   "metadata": {},
   "outputs": [],
   "source": []
  },
  {
   "cell_type": "markdown",
   "id": "77ea890d",
   "metadata": {},
   "source": [
    "# 그룹별 value, weight list"
   ]
  },
  {
   "cell_type": "markdown",
   "id": "566c89c5",
   "metadata": {},
   "source": [
    "- 최종 저장 형태\n",
    "    - {(bmi, ALT) : {'value' : li_value, 'weight' : li_weight}, ...}"
   ]
  },
  {
   "cell_type": "markdown",
   "id": "0a23b83a",
   "metadata": {},
   "source": [
    "## 끝값 처리"
   ]
  },
  {
   "cell_type": "code",
   "execution_count": 17,
   "id": "46286e26",
   "metadata": {
    "scrolled": false
   },
   "outputs": [
    {
     "name": "stdout",
     "output_type": "stream",
     "text": [
      "\n",
      "- bmi\n",
      "    - 18.0 에 대해, ALT 25.0 이상 묶기\n",
      "    - 20.0 에 대해, ALT 35.0 이상 묶기\n",
      "    - 30.0 에 대해, ALT 15.0 미만 묶기\n",
      "\n"
     ]
    }
   ],
   "source": [
    "print(dic_keys['note'])"
   ]
  },
  {
   "cell_type": "code",
   "execution_count": 22,
   "id": "6a435f6e",
   "metadata": {},
   "outputs": [
    {
     "data": {
      "text/plain": [
       "Int64Index([  218,  1050,  1053,  1930,  3193,  3199,  3383,  3750,  4429,\n",
       "             4593,\n",
       "            ...\n",
       "            54503, 54580, 54697, 54749, 56398, 56502, 56990, 57137, 57155,\n",
       "            57300],\n",
       "           dtype='int64', length=174)"
      ]
     },
     "execution_count": 22,
     "metadata": {},
     "output_type": "execute_result"
    }
   ],
   "source": [
    "idx1 = df[(df.bmi_c == 18.0) & (df.ALT_c > 25.0)].index\n",
    "idx1"
   ]
  },
  {
   "cell_type": "code",
   "execution_count": 24,
   "id": "06c243a9",
   "metadata": {},
   "outputs": [],
   "source": [
    "df1 = df.copy()"
   ]
  },
  {
   "cell_type": "code",
   "execution_count": 25,
   "id": "695354c2",
   "metadata": {},
   "outputs": [],
   "source": [
    "df1.loc[idx1, 'ALT_c'] = 25.0"
   ]
  },
  {
   "cell_type": "code",
   "execution_count": 30,
   "id": "b5fb8c62",
   "metadata": {},
   "outputs": [
    {
     "data": {
      "text/plain": [
       "array([25., 15., 20., 10.])"
      ]
     },
     "execution_count": 30,
     "metadata": {},
     "output_type": "execute_result"
    }
   ],
   "source": [
    "df1.ALT_c[df1.bmi_c == 18.0].unique()"
   ]
  },
  {
   "cell_type": "code",
   "execution_count": null,
   "id": "96f52c91",
   "metadata": {},
   "outputs": [],
   "source": []
  },
  {
   "cell_type": "code",
   "execution_count": 31,
   "id": "99629c12",
   "metadata": {},
   "outputs": [
    {
     "data": {
      "text/plain": [
       "array([10., 25., 20., 35., 15., 30.])"
      ]
     },
     "execution_count": 31,
     "metadata": {},
     "output_type": "execute_result"
    }
   ],
   "source": [
    "idx2 = df1[(df1.bmi_c == 20.0) & (df1.ALT_c > 35.0)].index\n",
    "df2 = df1.copy()\n",
    "df2.loc[idx2, 'ALT_c'] = 35.0\n",
    "df2.ALT_c[df2.bmi_c == 20.0].unique()"
   ]
  },
  {
   "cell_type": "code",
   "execution_count": 34,
   "id": "d9d0997d",
   "metadata": {},
   "outputs": [
    {
     "data": {
      "text/plain": [
       "array([45., 20., 35., 15., 30., 25., 40.])"
      ]
     },
     "execution_count": 34,
     "metadata": {},
     "output_type": "execute_result"
    }
   ],
   "source": [
    "idx3 = df2[(df2.bmi_c == 30.0) & (df2.ALT_c < 15.0)].index\n",
    "df3 = df2.copy()\n",
    "df3.loc[idx3, 'ALT_c'] = 15.0\n",
    "df3.ALT_c[df3.bmi_c == 30.0].unique()"
   ]
  },
  {
   "cell_type": "code",
   "execution_count": null,
   "id": "a3e0a3d0",
   "metadata": {},
   "outputs": [],
   "source": []
  },
  {
   "cell_type": "markdown",
   "id": "e545412f",
   "metadata": {},
   "source": [
    "### 체크"
   ]
  },
  {
   "cell_type": "code",
   "execution_count": 17,
   "id": "94b985f3",
   "metadata": {
    "scrolled": false
   },
   "outputs": [
    {
     "name": "stdout",
     "output_type": "stream",
     "text": [
      "\n",
      "- bmi\n",
      "    - 18.0 에 대해, ALT 25.0 이상 묶기\n",
      "    - 20.0 에 대해, ALT 35.0 이상 묶기\n",
      "    - 30.0 에 대해, ALT 15.0 미만 묶기\n",
      "\n"
     ]
    }
   ],
   "source": [
    "print(dic_keys['note'])"
   ]
  },
  {
   "cell_type": "code",
   "execution_count": 40,
   "id": "4476a695",
   "metadata": {},
   "outputs": [
    {
     "data": {
      "text/plain": [
       "array([10., 15., 20., 25., 30., 35., 40., 45.])"
      ]
     },
     "execution_count": 40,
     "metadata": {},
     "output_type": "execute_result"
    }
   ],
   "source": [
    "np.sort(df3.ALT_c.unique())"
   ]
  },
  {
   "cell_type": "code",
   "execution_count": 41,
   "id": "247fb5b9",
   "metadata": {},
   "outputs": [
    {
     "data": {
      "text/plain": [
       "array([10., 15., 20., 25.])"
      ]
     },
     "execution_count": 41,
     "metadata": {},
     "output_type": "execute_result"
    }
   ],
   "source": [
    "np.sort(df3.ALT_c[df.bmi_c == 18.0].unique())"
   ]
  },
  {
   "cell_type": "code",
   "execution_count": 42,
   "id": "9a171cbe",
   "metadata": {},
   "outputs": [
    {
     "data": {
      "text/plain": [
       "array([10., 15., 20., 25., 30., 35.])"
      ]
     },
     "execution_count": 42,
     "metadata": {},
     "output_type": "execute_result"
    }
   ],
   "source": [
    "np.sort(df3.ALT_c[df.bmi_c == 20.0].unique())"
   ]
  },
  {
   "cell_type": "code",
   "execution_count": 43,
   "id": "7cbac059",
   "metadata": {},
   "outputs": [
    {
     "data": {
      "text/plain": [
       "array([15., 20., 25., 30., 35., 40., 45.])"
      ]
     },
     "execution_count": 43,
     "metadata": {},
     "output_type": "execute_result"
    }
   ],
   "source": [
    "np.sort(df3.ALT_c[df.bmi_c == 30.0].unique())"
   ]
  },
  {
   "cell_type": "raw",
   "id": "163ee818",
   "metadata": {},
   "source": [
    "df3.to_pickle('./WHtR_concat/04/WHtR_02.pkl')"
   ]
  },
  {
   "cell_type": "code",
   "execution_count": null,
   "id": "bf63b9d4",
   "metadata": {},
   "outputs": [],
   "source": []
  },
  {
   "cell_type": "markdown",
   "id": "3aef530d",
   "metadata": {},
   "source": [
    "## WHtR 분포"
   ]
  },
  {
   "cell_type": "code",
   "execution_count": 50,
   "id": "ac1c4c87",
   "metadata": {
    "scrolled": true
   },
   "outputs": [
    {
     "name": "stdout",
     "output_type": "stream",
     "text": [
      "<class 'pandas.core.frame.DataFrame'>\n",
      "RangeIndex: 57903 entries, 0 to 57902\n",
      "Data columns (total 3 columns):\n",
      " #   Column  Non-Null Count  Dtype  \n",
      "---  ------  --------------  -----  \n",
      " 0   WHtR    57903 non-null  float64\n",
      " 1   bmi_c   57903 non-null  float64\n",
      " 2   ALT_c   57903 non-null  float64\n",
      "dtypes: float64(3)\n",
      "memory usage: 1.3 MB\n"
     ]
    },
    {
     "data": {
      "text/html": [
       "<div>\n",
       "<style scoped>\n",
       "    .dataframe tbody tr th:only-of-type {\n",
       "        vertical-align: middle;\n",
       "    }\n",
       "\n",
       "    .dataframe tbody tr th {\n",
       "        vertical-align: top;\n",
       "    }\n",
       "\n",
       "    .dataframe thead th {\n",
       "        text-align: right;\n",
       "    }\n",
       "</style>\n",
       "<table border=\"1\" class=\"dataframe\">\n",
       "  <thead>\n",
       "    <tr style=\"text-align: right;\">\n",
       "      <th></th>\n",
       "      <th>WHtR</th>\n",
       "      <th>bmi_c</th>\n",
       "      <th>ALT_c</th>\n",
       "    </tr>\n",
       "  </thead>\n",
       "  <tbody>\n",
       "    <tr>\n",
       "      <th>0</th>\n",
       "      <td>0.437</td>\n",
       "      <td>22.0</td>\n",
       "      <td>25.0</td>\n",
       "    </tr>\n",
       "    <tr>\n",
       "      <th>1</th>\n",
       "      <td>0.508</td>\n",
       "      <td>24.0</td>\n",
       "      <td>30.0</td>\n",
       "    </tr>\n",
       "    <tr>\n",
       "      <th>2</th>\n",
       "      <td>0.470</td>\n",
       "      <td>20.0</td>\n",
       "      <td>10.0</td>\n",
       "    </tr>\n",
       "  </tbody>\n",
       "</table>\n",
       "</div>"
      ],
      "text/plain": [
       "    WHtR  bmi_c  ALT_c\n",
       "0  0.437   22.0   25.0\n",
       "1  0.508   24.0   30.0\n",
       "2  0.470   20.0   10.0"
      ]
     },
     "execution_count": 50,
     "metadata": {},
     "output_type": "execute_result"
    }
   ],
   "source": [
    "df = pd.read_pickle('./WHtR_concat/04/WHtR_02.pkl')\n",
    "df.info()\n",
    "df.head(3)"
   ]
  },
  {
   "cell_type": "code",
   "execution_count": 57,
   "id": "5e0983a8",
   "metadata": {},
   "outputs": [
    {
     "data": {
      "text/plain": [
       "count    57903.000000\n",
       "mean         0.497490\n",
       "std          0.043997\n",
       "min          0.357000\n",
       "25%          0.467000\n",
       "50%          0.496000\n",
       "75%          0.526000\n",
       "max          0.671000\n",
       "Name: WHtR, dtype: float64"
      ]
     },
     "execution_count": 57,
     "metadata": {},
     "output_type": "execute_result"
    }
   ],
   "source": [
    "df.WHtR.describe()"
   ]
  },
  {
   "cell_type": "code",
   "execution_count": 60,
   "id": "17accd8f",
   "metadata": {},
   "outputs": [],
   "source": [
    "rng = (0.35, 0.70)\n",
    "bns = 35"
   ]
  },
  {
   "cell_type": "code",
   "execution_count": 61,
   "id": "710189de",
   "metadata": {},
   "outputs": [
    {
     "data": {
      "text/plain": [
       "(array([2.000e+00, 1.300e+01, 4.200e+01, 1.750e+02, 1.740e+02, 5.920e+02,\n",
       "        9.910e+02, 1.389e+03, 1.624e+03, 2.781e+03, 3.633e+03, 4.054e+03,\n",
       "        4.731e+03, 5.420e+03, 4.847e+03, 5.888e+03, 4.271e+03, 4.459e+03,\n",
       "        3.297e+03, 2.541e+03, 2.072e+03, 1.410e+03, 1.252e+03, 9.030e+02,\n",
       "        3.740e+02, 4.360e+02, 2.780e+02, 1.330e+02, 6.400e+01, 3.900e+01,\n",
       "        7.000e+00, 1.000e+01, 1.000e+00, 0.000e+00, 0.000e+00]),\n",
       " array([0.35, 0.36, 0.37, 0.38, 0.39, 0.4 , 0.41, 0.42, 0.43, 0.44, 0.45,\n",
       "        0.46, 0.47, 0.48, 0.49, 0.5 , 0.51, 0.52, 0.53, 0.54, 0.55, 0.56,\n",
       "        0.57, 0.58, 0.59, 0.6 , 0.61, 0.62, 0.63, 0.64, 0.65, 0.66, 0.67,\n",
       "        0.68, 0.69, 0.7 ]),\n",
       " <BarContainer object of 35 artists>)"
      ]
     },
     "execution_count": 61,
     "metadata": {},
     "output_type": "execute_result"
    },
    {
     "data": {
      "image/png": "[encoded data removed]",
      "text/plain": [
       "<Figure size 432x288 with 1 Axes>"
      ]
     },
     "metadata": {
      "needs_background": "light"
     },
     "output_type": "display_data"
    }
   ],
   "source": [
    "plt.hist(df.WHtR, range=rng, bins=bns)"
   ]
  },
  {
   "cell_type": "code",
   "execution_count": null,
   "id": "6cc35154",
   "metadata": {},
   "outputs": [],
   "source": []
  },
  {
   "cell_type": "markdown",
   "id": "e599a958",
   "metadata": {},
   "source": [
    "## 그룹 하나에 대한 li_value, li_weight 구하기"
   ]
  },
  {
   "cell_type": "code",
   "execution_count": 48,
   "id": "6297cc36",
   "metadata": {},
   "outputs": [
    {
     "data": {
      "text/plain": [
       "(18.0, 10.0)"
      ]
     },
     "execution_count": 48,
     "metadata": {},
     "output_type": "execute_result"
    }
   ],
   "source": [
    "bmi = dic_keys['bmi'][0]\n",
    "alt = dic_keys['ALT'][0]\n",
    "bmi, alt"
   ]
  },
  {
   "cell_type": "code",
   "execution_count": 52,
   "id": "fc45da36",
   "metadata": {},
   "outputs": [],
   "source": [
    "whtr = df[(df.bmi_c == bmi) & (df.ALT_c == alt)].WHtR"
   ]
  },
  {
   "cell_type": "code",
   "execution_count": 53,
   "id": "48f27937",
   "metadata": {},
   "outputs": [
    {
     "data": {
      "text/plain": [
       "count    567.000000\n",
       "mean       0.418808\n",
       "std        0.023976\n",
       "min        0.357000\n",
       "25%        0.400500\n",
       "50%        0.418000\n",
       "75%        0.433000\n",
       "max        0.524000\n",
       "Name: WHtR, dtype: float64"
      ]
     },
     "execution_count": 53,
     "metadata": {},
     "output_type": "execute_result"
    }
   ],
   "source": [
    "whtr.describe()"
   ]
  },
  {
   "cell_type": "code",
   "execution_count": 64,
   "id": "91abfa32",
   "metadata": {},
   "outputs": [],
   "source": [
    "y, x = np.histogram(whtr, range=rng, bins=bns)"
   ]
  },
  {
   "cell_type": "code",
   "execution_count": 76,
   "id": "cfef1bd3",
   "metadata": {},
   "outputs": [
    {
     "data": {
      "image/png": "[encoded data removed]",
      "text/plain": [
       "<Figure size 720x432 with 2 Axes>"
      ]
     },
     "metadata": {
      "needs_background": "light"
     },
     "output_type": "display_data"
    }
   ],
   "source": [
    "fig = plt.figure(figsize=(10, 6))\n",
    "ax = fig.add_subplot(111)\n",
    "ax.plot(x[:-1], y/y.sum(), 'bo-')\n",
    "\n",
    "ax2 = ax.twinx()\n",
    "ax2.plot(x[:-1], y, 'bo-')\n",
    "plt.show()"
   ]
  },
  {
   "cell_type": "code",
   "execution_count": 78,
   "id": "5c320fd2",
   "metadata": {},
   "outputs": [],
   "source": [
    "li_value = x[:-1]\n",
    "probs = y/y.sum()"
   ]
  },
  {
   "cell_type": "code",
   "execution_count": 81,
   "id": "8bf2f6f1",
   "metadata": {},
   "outputs": [
    {
     "data": {
      "text/plain": [
       "(35, 35)"
      ]
     },
     "execution_count": 81,
     "metadata": {},
     "output_type": "execute_result"
    }
   ],
   "source": [
    "len(li_value), len(probs)"
   ]
  },
  {
   "cell_type": "code",
   "execution_count": 82,
   "id": "bbf75144",
   "metadata": {},
   "outputs": [
    {
     "data": {
      "text/plain": [
       "1.0"
      ]
     },
     "execution_count": 82,
     "metadata": {},
     "output_type": "execute_result"
    }
   ],
   "source": [
    "probs.sum()"
   ]
  },
  {
   "cell_type": "code",
   "execution_count": null,
   "id": "9d699b9a",
   "metadata": {},
   "outputs": [],
   "source": []
  },
  {
   "cell_type": "markdown",
   "id": "9d7a1072",
   "metadata": {},
   "source": [
    "## 없는 그룹에 대해"
   ]
  },
  {
   "cell_type": "code",
   "execution_count": 84,
   "id": "8a6fd412",
   "metadata": {},
   "outputs": [
    {
     "name": "stdout",
     "output_type": "stream",
     "text": [
      "\n",
      "- bmi\n",
      "    - 18.0 에 대해, ALT 25.0 이상 묶기\n",
      "    - 20.0 에 대해, ALT 35.0 이상 묶기\n",
      "    - 30.0 에 대해, ALT 15.0 미만 묶기\n",
      "\n"
     ]
    }
   ],
   "source": [
    "print(dic_keys['note'])"
   ]
  },
  {
   "cell_type": "code",
   "execution_count": 87,
   "id": "0750a5e9",
   "metadata": {},
   "outputs": [
    {
     "data": {
      "text/plain": [
       "(18.0, 45.0)"
      ]
     },
     "execution_count": 87,
     "metadata": {},
     "output_type": "execute_result"
    }
   ],
   "source": [
    "bmi = dic_keys['bmi'][0]\n",
    "alt = dic_keys['ALT'][7]\n",
    "bmi, alt"
   ]
  },
  {
   "cell_type": "code",
   "execution_count": 88,
   "id": "b1fc3852",
   "metadata": {},
   "outputs": [],
   "source": [
    "whtr = df[(df.bmi_c == bmi) & (df.ALT_c == alt)].WHtR"
   ]
  },
  {
   "cell_type": "code",
   "execution_count": 89,
   "id": "6a2fd606",
   "metadata": {},
   "outputs": [
    {
     "data": {
      "text/plain": [
       "count    0.0\n",
       "mean     NaN\n",
       "std      NaN\n",
       "min      NaN\n",
       "25%      NaN\n",
       "50%      NaN\n",
       "75%      NaN\n",
       "max      NaN\n",
       "Name: WHtR, dtype: float64"
      ]
     },
     "execution_count": 89,
     "metadata": {},
     "output_type": "execute_result"
    }
   ],
   "source": [
    "whtr.describe()"
   ]
  },
  {
   "cell_type": "code",
   "execution_count": 90,
   "id": "be641b88",
   "metadata": {},
   "outputs": [],
   "source": [
    "y, x = np.histogram(whtr, range=rng, bins=bns)"
   ]
  },
  {
   "cell_type": "code",
   "execution_count": 91,
   "id": "e8f54301",
   "metadata": {},
   "outputs": [
    {
     "data": {
      "image/png": "[encoded data removed]",
      "text/plain": [
       "<Figure size 720x432 with 2 Axes>"
      ]
     },
     "metadata": {
      "needs_background": "light"
     },
     "output_type": "display_data"
    }
   ],
   "source": [
    "fig = plt.figure(figsize=(10, 6))\n",
    "ax = fig.add_subplot(111)\n",
    "ax.plot(x[:-1], y/y.sum(), 'bo-')\n",
    "\n",
    "ax2 = ax.twinx()\n",
    "ax2.plot(x[:-1], y, 'bo-')\n",
    "plt.show()"
   ]
  },
  {
   "cell_type": "code",
   "execution_count": 126,
   "id": "1ad6304a",
   "metadata": {},
   "outputs": [],
   "source": [
    "li_value = x[:-1]\n",
    "li_weight = y/y.sum()"
   ]
  },
  {
   "cell_type": "code",
   "execution_count": 101,
   "id": "e2249113",
   "metadata": {},
   "outputs": [
    {
     "data": {
      "text/plain": [
       "(35, 35)"
      ]
     },
     "execution_count": 101,
     "metadata": {},
     "output_type": "execute_result"
    }
   ],
   "source": [
    "len(li_value), len(li_weight)"
   ]
  },
  {
   "cell_type": "code",
   "execution_count": 102,
   "id": "b3c2e8a3",
   "metadata": {},
   "outputs": [
    {
     "data": {
      "text/plain": [
       "nan"
      ]
     },
     "execution_count": 102,
     "metadata": {},
     "output_type": "execute_result"
    }
   ],
   "source": [
    "li_weight.sum()"
   ]
  },
  {
   "cell_type": "code",
   "execution_count": 104,
   "id": "65ba7a4b",
   "metadata": {},
   "outputs": [
    {
     "data": {
      "text/plain": [
       "(array([0.35, 0.36, 0.37, 0.38, 0.39, 0.4 , 0.41, 0.42, 0.43, 0.44, 0.45,\n",
       "        0.46, 0.47, 0.48, 0.49, 0.5 , 0.51, 0.52, 0.53, 0.54, 0.55, 0.56,\n",
       "        0.57, 0.58, 0.59, 0.6 , 0.61, 0.62, 0.63, 0.64, 0.65, 0.66, 0.67,\n",
       "        0.68, 0.69]),\n",
       " array([nan, nan, nan, nan, nan, nan, nan, nan, nan, nan, nan, nan, nan,\n",
       "        nan, nan, nan, nan, nan, nan, nan, nan, nan, nan, nan, nan, nan,\n",
       "        nan, nan, nan, nan, nan, nan, nan, nan, nan]),\n",
       " array([0, 0, 0, 0, 0, 0, 0, 0, 0, 0, 0, 0, 0, 0, 0, 0, 0, 0, 0, 0, 0, 0,\n",
       "        0, 0, 0, 0, 0, 0, 0, 0, 0, 0, 0, 0, 0], dtype=int64),\n",
       " 0)"
      ]
     },
     "execution_count": 104,
     "metadata": {},
     "output_type": "execute_result"
    }
   ],
   "source": [
    "li_value, li_weight, y, y.sum()"
   ]
  },
  {
   "cell_type": "markdown",
   "id": "e5d512db",
   "metadata": {},
   "source": [
    "- li_weight.any() == True이면 처리 건너뛰기"
   ]
  },
  {
   "cell_type": "code",
   "execution_count": 128,
   "id": "09f81329",
   "metadata": {},
   "outputs": [
    {
     "data": {
      "text/plain": [
       "{'bmi': [18.0, 20.0, 22.0, 24.0, 26.0, 28.0, 30.0],\n",
       " 'ALT': [10.0, 15.0, 20.0, 25.0, 30.0, 35.0, 40.0, 45.0],\n",
       " 'note': '\\n- bmi\\n    - 18.0 에 대해, ALT 25.0 이상 묶기\\n    - 20.0 에 대해, ALT 35.0 이상 묶기\\n    - 30.0 에 대해, ALT 15.0 미만 묶기\\n',\n",
       " 'note2': 'li_weight.any() == True이면 처리 건너뛰기'}"
      ]
     },
     "execution_count": 128,
     "metadata": {},
     "output_type": "execute_result"
    }
   ],
   "source": [
    "dic_keys['note2'] = 'li_weight.any() == True이면 처리 건너뛰기'\n",
    "dic_keys"
   ]
  },
  {
   "cell_type": "raw",
   "id": "ffed30cd",
   "metadata": {},
   "source": [
    "with open('./WHtR_concat/04/keys_02.pkl', 'wb') as fw:\n",
    "    pickle.dump(dic_keys, fw)"
   ]
  },
  {
   "cell_type": "code",
   "execution_count": 133,
   "id": "d026dd57",
   "metadata": {},
   "outputs": [
    {
     "data": {
      "text/plain": [
       "{'bmi': [18.0, 20.0, 22.0, 24.0, 26.0, 28.0, 30.0],\n",
       " 'ALT': [10.0, 15.0, 20.0, 25.0, 30.0, 35.0, 40.0, 45.0],\n",
       " 'note': '\\n- bmi\\n    - 18.0 에 대해, ALT 25.0 이상 묶기\\n    - 20.0 에 대해, ALT 35.0 이상 묶기\\n    - 30.0 에 대해, ALT 15.0 미만 묶기\\n',\n",
       " 'note2': 'li_weight.any() == True이면 처리 건너뛰기'}"
      ]
     },
     "execution_count": 133,
     "metadata": {},
     "output_type": "execute_result"
    }
   ],
   "source": [
    "with open('./WHtR_concat/04/keys_02.pkl', 'rb') as fr:\n",
    "    dic_keys = pickle.load(fr)\n",
    "dic_keys"
   ]
  },
  {
   "cell_type": "code",
   "execution_count": null,
   "id": "a223f605",
   "metadata": {},
   "outputs": [],
   "source": []
  },
  {
   "cell_type": "markdown",
   "id": "d546a1e8",
   "metadata": {},
   "source": [
    "## 모든 그룹에 대해"
   ]
  },
  {
   "cell_type": "code",
   "execution_count": 136,
   "id": "7d8e0106",
   "metadata": {},
   "outputs": [
    {
     "data": {
      "text/html": [
       "<div>\n",
       "<style scoped>\n",
       "    .dataframe tbody tr th:only-of-type {\n",
       "        vertical-align: middle;\n",
       "    }\n",
       "\n",
       "    .dataframe tbody tr th {\n",
       "        vertical-align: top;\n",
       "    }\n",
       "\n",
       "    .dataframe thead th {\n",
       "        text-align: right;\n",
       "    }\n",
       "</style>\n",
       "<table border=\"1\" class=\"dataframe\">\n",
       "  <thead>\n",
       "    <tr style=\"text-align: right;\">\n",
       "      <th></th>\n",
       "      <th>WHtR</th>\n",
       "      <th>bmi_c</th>\n",
       "      <th>ALT_c</th>\n",
       "    </tr>\n",
       "  </thead>\n",
       "  <tbody>\n",
       "    <tr>\n",
       "      <th>0</th>\n",
       "      <td>0.437</td>\n",
       "      <td>22.0</td>\n",
       "      <td>25.0</td>\n",
       "    </tr>\n",
       "    <tr>\n",
       "      <th>1</th>\n",
       "      <td>0.508</td>\n",
       "      <td>24.0</td>\n",
       "      <td>30.0</td>\n",
       "    </tr>\n",
       "  </tbody>\n",
       "</table>\n",
       "</div>"
      ],
      "text/plain": [
       "    WHtR  bmi_c  ALT_c\n",
       "0  0.437   22.0   25.0\n",
       "1  0.508   24.0   30.0"
      ]
     },
     "execution_count": 136,
     "metadata": {},
     "output_type": "execute_result"
    }
   ],
   "source": [
    "df.head(2)"
   ]
  },
  {
   "cell_type": "code",
   "execution_count": 138,
   "id": "d4f03897",
   "metadata": {},
   "outputs": [
    {
     "data": {
      "text/plain": [
       "([18.0, 20.0, 22.0, 24.0, 26.0, 28.0, 30.0],\n",
       " [10.0, 15.0, 20.0, 25.0, 30.0, 35.0, 40.0, 45.0])"
      ]
     },
     "execution_count": 138,
     "metadata": {},
     "output_type": "execute_result"
    }
   ],
   "source": [
    "dic_keys['bmi'], dic_keys['ALT']"
   ]
  },
  {
   "cell_type": "code",
   "execution_count": null,
   "id": "6d4cf8b5",
   "metadata": {},
   "outputs": [],
   "source": []
  },
  {
   "cell_type": "code",
   "execution_count": 48,
   "id": "1460da58",
   "metadata": {},
   "outputs": [
    {
     "data": {
      "text/plain": [
       "(18.0, 10.0)"
      ]
     },
     "execution_count": 48,
     "metadata": {},
     "output_type": "execute_result"
    }
   ],
   "source": [
    "bmi = dic_keys['bmi'][0]\n",
    "alt = dic_keys['ALT'][0]"
   ]
  },
  {
   "cell_type": "markdown",
   "id": "f76d2d0c",
   "metadata": {},
   "source": [
    "- 최종 저장 형태\n",
    "    - {(bmi, ALT) : {'value' : li_value, 'weight' : li_weight}, ...}"
   ]
  },
  {
   "cell_type": "code",
   "execution_count": 156,
   "id": "989a645d",
   "metadata": {},
   "outputs": [
    {
     "data": {
      "text/plain": [
       "((0.35, 0.7), 35)"
      ]
     },
     "execution_count": 156,
     "metadata": {},
     "output_type": "execute_result"
    }
   ],
   "source": [
    "rng, bns"
   ]
  },
  {
   "cell_type": "code",
   "execution_count": 145,
   "id": "6a3553f7",
   "metadata": {},
   "outputs": [],
   "source": [
    "dic_data = {}\n",
    "for bmi in dic_keys['bmi']:\n",
    "    for alt in dic_keys['ALT']:\n",
    "        whtr = df[(df.bmi_c == bmi) & (df.ALT_c == alt)].WHtR\n",
    "        y, x = np.histogram(whtr, range=rng, bins=bns)\n",
    "        li_value = x[:-1]\n",
    "        li_weight = y/y.sum()\n",
    "        dic_data[(bmi, alt)] = {'value' : li_value, 'weight' : li_weight}"
   ]
  },
  {
   "cell_type": "code",
   "execution_count": null,
   "id": "c0fa5ed3",
   "metadata": {},
   "outputs": [],
   "source": []
  },
  {
   "cell_type": "code",
   "execution_count": 166,
   "id": "a9fcce77",
   "metadata": {},
   "outputs": [],
   "source": [
    "header = {'bmi': [18.0, 20.0, 22.0, 24.0, 26.0, 28.0, 30.0],\n",
    " 'ALT': [10.0, 15.0, 20.0, 25.0, 30.0, 35.0, 40.0, 45.0],\n",
    "       'note' : '''- 대표값별 구간\n",
    "    - bmi : -20/20-22/22-24/24-26/26-28/28-30/30-\n",
    "    - ALT : -15/15-20/20-25/25-30/30-35/35-40/40-45/45-\n",
    "\n",
    "- bmi   \n",
    "    - 18.0 에 대해, ALT 25.0 이상 묶음    \n",
    "    - 20.0 에 대해, ALT 35.0 이상 묶음   \n",
    "    - 30.0 에 대해, ALT 15.0 미만 묶음 \n",
    "    \n",
    "- li_weight.any() == True이면 처리 건너뛰기'''}"
   ]
  },
  {
   "cell_type": "code",
   "execution_count": 167,
   "id": "a46ed44a",
   "metadata": {
    "scrolled": true
   },
   "outputs": [
    {
     "name": "stdout",
     "output_type": "stream",
     "text": [
      "- 대표값별 구간\n",
      "    - bmi : -20/20-22/22-24/24-26/26-28/28-30/30-\n",
      "    - ALT : -15/15-20/20-25/25-30/30-35/35-40/40-45/45-\n",
      "\n",
      "- bmi   \n",
      "    - 18.0 에 대해, ALT 25.0 이상 묶음    \n",
      "    - 20.0 에 대해, ALT 35.0 이상 묶음   \n",
      "    - 30.0 에 대해, ALT 15.0 미만 묶음 \n",
      "    \n",
      "- li_weight.any() == True이면 처리 건너뛰기\n"
     ]
    }
   ],
   "source": [
    "print(header['note'])"
   ]
  },
  {
   "cell_type": "code",
   "execution_count": 168,
   "id": "c7956c73",
   "metadata": {},
   "outputs": [],
   "source": [
    "dic_total = {'header' : header, 'data' : dic_data}"
   ]
  },
  {
   "cell_type": "code",
   "execution_count": 169,
   "id": "47c07a79",
   "metadata": {
    "scrolled": true
   },
   "outputs": [
    {
     "data": {
      "text/plain": [
       "{'header': {'bmi': [18.0, 20.0, 22.0, 24.0, 26.0, 28.0, 30.0],\n",
       "  'ALT': [10.0, 15.0, 20.0, 25.0, 30.0, 35.0, 40.0, 45.0],\n",
       "  'note': '- 대표값별 구간\\n    - bmi : -20/20-22/22-24/24-26/26-28/28-30/30-\\n    - ALT : -15/15-20/20-25/25-30/30-35/35-40/40-45/45-\\n\\n- bmi   \\n    - 18.0 에 대해, ALT 25.0 이상 묶음    \\n    - 20.0 에 대해, ALT 35.0 이상 묶음   \\n    - 30.0 에 대해, ALT 15.0 미만 묶음 \\n    \\n- li_weight.any() == True이면 처리 건너뛰기'},\n",
       " 'data': {(18.0,\n",
       "   10.0): {'value': array([0.35, 0.36, 0.37, 0.38, 0.39, 0.4 , 0.41, 0.42, 0.43, 0.44, 0.45,\n",
       "          0.46, 0.47, 0.48, 0.49, 0.5 , 0.51, 0.52, 0.53, 0.54, 0.55, 0.56,\n",
       "          0.57, 0.58, 0.59, 0.6 , 0.61, 0.62, 0.63, 0.64, 0.65, 0.66, 0.67,\n",
       "          0.68, 0.69]), 'weight': array([0.00176367, 0.00881834, 0.02292769, 0.07231041, 0.07231041,\n",
       "          0.1957672 , 0.19223986, 0.14462081, 0.09347443, 0.0952381 ,\n",
       "          0.05291005, 0.01763668, 0.01587302, 0.00705467, 0.00352734,\n",
       "          0.00176367, 0.        , 0.00176367, 0.        , 0.        ,\n",
       "          0.        , 0.        , 0.        , 0.        , 0.        ,\n",
       "          0.        , 0.        , 0.        , 0.        , 0.        ,\n",
       "          0.        , 0.        , 0.        , 0.        , 0.        ])},\n",
       "  (18.0,\n",
       "   15.0): {'value': array([0.35, 0.36, 0.37, 0.38, 0.39, 0.4 , 0.41, 0.42, 0.43, 0.44, 0.45,\n",
       "          0.46, 0.47, 0.48, 0.49, 0.5 , 0.51, 0.52, 0.53, 0.54, 0.55, 0.56,\n",
       "          0.57, 0.58, 0.59, 0.6 , 0.61, 0.62, 0.63, 0.64, 0.65, 0.66, 0.67,\n",
       "          0.68, 0.69]), 'weight': array([0.        , 0.00763359, 0.01335878, 0.07061069, 0.08015267,\n",
       "          0.15267176, 0.14885496, 0.1851145 , 0.10877863, 0.09923664,\n",
       "          0.06870229, 0.02862595, 0.01908397, 0.00763359, 0.00381679,\n",
       "          0.        , 0.0019084 , 0.        , 0.        , 0.0019084 ,\n",
       "          0.        , 0.        , 0.        , 0.0019084 , 0.        ,\n",
       "          0.        , 0.        , 0.        , 0.        , 0.        ,\n",
       "          0.        , 0.        , 0.        , 0.        , 0.        ])},\n",
       "  (18.0,\n",
       "   20.0): {'value': array([0.35, 0.36, 0.37, 0.38, 0.39, 0.4 , 0.41, 0.42, 0.43, 0.44, 0.45,\n",
       "          0.46, 0.47, 0.48, 0.49, 0.5 , 0.51, 0.52, 0.53, 0.54, 0.55, 0.56,\n",
       "          0.57, 0.58, 0.59, 0.6 , 0.61, 0.62, 0.63, 0.64, 0.65, 0.66, 0.67,\n",
       "          0.68, 0.69]), 'weight': array([0.        , 0.0031746 , 0.01587302, 0.05079365, 0.07619048,\n",
       "          0.16190476, 0.18095238, 0.17460317, 0.10793651, 0.08888889,\n",
       "          0.06984127, 0.02857143, 0.02857143, 0.0031746 , 0.0031746 ,\n",
       "          0.0031746 , 0.        , 0.        , 0.0031746 , 0.        ,\n",
       "          0.        , 0.        , 0.        , 0.        , 0.        ,\n",
       "          0.        , 0.        , 0.        , 0.        , 0.        ,\n",
       "          0.        , 0.        , 0.        , 0.        , 0.        ])},\n",
       "  (18.0,\n",
       "   25.0): {'value': array([0.35, 0.36, 0.37, 0.38, 0.39, 0.4 , 0.41, 0.42, 0.43, 0.44, 0.45,\n",
       "          0.46, 0.47, 0.48, 0.49, 0.5 , 0.51, 0.52, 0.53, 0.54, 0.55, 0.56,\n",
       "          0.57, 0.58, 0.59, 0.6 , 0.61, 0.62, 0.63, 0.64, 0.65, 0.66, 0.67,\n",
       "          0.68, 0.69]), 'weight': array([0.002849  , 0.        , 0.01994302, 0.06552707, 0.04558405,\n",
       "          0.12820513, 0.16524217, 0.14245014, 0.1025641 , 0.13390313,\n",
       "          0.08831909, 0.05128205, 0.02849003, 0.01709402, 0.00569801,\n",
       "          0.        , 0.        , 0.        , 0.        , 0.        ,\n",
       "          0.        , 0.        , 0.002849  , 0.        , 0.        ,\n",
       "          0.        , 0.        , 0.        , 0.        , 0.        ,\n",
       "          0.        , 0.        , 0.        , 0.        , 0.        ])},\n",
       "  (18.0,\n",
       "   30.0): {'value': array([0.35, 0.36, 0.37, 0.38, 0.39, 0.4 , 0.41, 0.42, 0.43, 0.44, 0.45,\n",
       "          0.46, 0.47, 0.48, 0.49, 0.5 , 0.51, 0.52, 0.53, 0.54, 0.55, 0.56,\n",
       "          0.57, 0.58, 0.59, 0.6 , 0.61, 0.62, 0.63, 0.64, 0.65, 0.66, 0.67,\n",
       "          0.68, 0.69]), 'weight': array([nan, nan, nan, nan, nan, nan, nan, nan, nan, nan, nan, nan, nan,\n",
       "          nan, nan, nan, nan, nan, nan, nan, nan, nan, nan, nan, nan, nan,\n",
       "          nan, nan, nan, nan, nan, nan, nan, nan, nan])},\n",
       "  (18.0,\n",
       "   35.0): {'value': array([0.35, 0.36, 0.37, 0.38, 0.39, 0.4 , 0.41, 0.42, 0.43, 0.44, 0.45,\n",
       "          0.46, 0.47, 0.48, 0.49, 0.5 , 0.51, 0.52, 0.53, 0.54, 0.55, 0.56,\n",
       "          0.57, 0.58, 0.59, 0.6 , 0.61, 0.62, 0.63, 0.64, 0.65, 0.66, 0.67,\n",
       "          0.68, 0.69]), 'weight': array([nan, nan, nan, nan, nan, nan, nan, nan, nan, nan, nan, nan, nan,\n",
       "          nan, nan, nan, nan, nan, nan, nan, nan, nan, nan, nan, nan, nan,\n",
       "          nan, nan, nan, nan, nan, nan, nan, nan, nan])},\n",
       "  (18.0,\n",
       "   40.0): {'value': array([0.35, 0.36, 0.37, 0.38, 0.39, 0.4 , 0.41, 0.42, 0.43, 0.44, 0.45,\n",
       "          0.46, 0.47, 0.48, 0.49, 0.5 , 0.51, 0.52, 0.53, 0.54, 0.55, 0.56,\n",
       "          0.57, 0.58, 0.59, 0.6 , 0.61, 0.62, 0.63, 0.64, 0.65, 0.66, 0.67,\n",
       "          0.68, 0.69]), 'weight': array([nan, nan, nan, nan, nan, nan, nan, nan, nan, nan, nan, nan, nan,\n",
       "          nan, nan, nan, nan, nan, nan, nan, nan, nan, nan, nan, nan, nan,\n",
       "          nan, nan, nan, nan, nan, nan, nan, nan, nan])},\n",
       "  (18.0,\n",
       "   45.0): {'value': array([0.35, 0.36, 0.37, 0.38, 0.39, 0.4 , 0.41, 0.42, 0.43, 0.44, 0.45,\n",
       "          0.46, 0.47, 0.48, 0.49, 0.5 , 0.51, 0.52, 0.53, 0.54, 0.55, 0.56,\n",
       "          0.57, 0.58, 0.59, 0.6 , 0.61, 0.62, 0.63, 0.64, 0.65, 0.66, 0.67,\n",
       "          0.68, 0.69]), 'weight': array([nan, nan, nan, nan, nan, nan, nan, nan, nan, nan, nan, nan, nan,\n",
       "          nan, nan, nan, nan, nan, nan, nan, nan, nan, nan, nan, nan, nan,\n",
       "          nan, nan, nan, nan, nan, nan, nan, nan, nan])},\n",
       "  (20.0,\n",
       "   10.0): {'value': array([0.35, 0.36, 0.37, 0.38, 0.39, 0.4 , 0.41, 0.42, 0.43, 0.44, 0.45,\n",
       "          0.46, 0.47, 0.48, 0.49, 0.5 , 0.51, 0.52, 0.53, 0.54, 0.55, 0.56,\n",
       "          0.57, 0.58, 0.59, 0.6 , 0.61, 0.62, 0.63, 0.64, 0.65, 0.66, 0.67,\n",
       "          0.68, 0.69]), 'weight': array([0.        , 0.        , 0.00162338, 0.01623377, 0.01461039,\n",
       "          0.05275974, 0.11201299, 0.12743506, 0.14204545, 0.16314935,\n",
       "          0.13961039, 0.09577922, 0.06493506, 0.04383117, 0.01136364,\n",
       "          0.01055195, 0.00243506, 0.        , 0.00081169, 0.        ,\n",
       "          0.00081169, 0.        , 0.        , 0.        , 0.        ,\n",
       "          0.        , 0.        , 0.        , 0.        , 0.        ,\n",
       "          0.        , 0.        , 0.        , 0.        , 0.        ])},\n",
       "  (20.0,\n",
       "   15.0): {'value': array([0.35, 0.36, 0.37, 0.38, 0.39, 0.4 , 0.41, 0.42, 0.43, 0.44, 0.45,\n",
       "          0.46, 0.47, 0.48, 0.49, 0.5 , 0.51, 0.52, 0.53, 0.54, 0.55, 0.56,\n",
       "          0.57, 0.58, 0.59, 0.6 , 0.61, 0.62, 0.63, 0.64, 0.65, 0.66, 0.67,\n",
       "          0.68, 0.69]), 'weight': array([0.        , 0.00118906, 0.00178359, 0.0059453 , 0.00475624,\n",
       "          0.04934602, 0.08739596, 0.11950059, 0.11533888, 0.19262782,\n",
       "          0.16052319, 0.11712247, 0.07372176, 0.03745541, 0.01843044,\n",
       "          0.00891795, 0.00416171, 0.00118906, 0.00059453, 0.        ,\n",
       "          0.        , 0.        , 0.        , 0.        , 0.        ,\n",
       "          0.        , 0.        , 0.        , 0.        , 0.        ,\n",
       "          0.        , 0.        , 0.        , 0.        , 0.        ])},\n",
       "  (20.0,\n",
       "   20.0): {'value': array([0.35, 0.36, 0.37, 0.38, 0.39, 0.4 , 0.41, 0.42, 0.43, 0.44, 0.45,\n",
       "          0.46, 0.47, 0.48, 0.49, 0.5 , 0.51, 0.52, 0.53, 0.54, 0.55, 0.56,\n",
       "          0.57, 0.58, 0.59, 0.6 , 0.61, 0.62, 0.63, 0.64, 0.65, 0.66, 0.67,\n",
       "          0.68, 0.69]), 'weight': array([0.        , 0.        , 0.00167645, 0.00670578, 0.00502934,\n",
       "          0.04777871, 0.07795474, 0.11483655, 0.09891031, 0.16848282,\n",
       "          0.16932104, 0.12573345, 0.07795474, 0.06705784, 0.01927913,\n",
       "          0.01257334, 0.00419111, 0.00251467, 0.        , 0.        ,\n",
       "          0.        , 0.        , 0.        , 0.        , 0.        ,\n",
       "          0.        , 0.        , 0.        , 0.        , 0.        ,\n",
       "          0.        , 0.        , 0.        , 0.        , 0.        ])},\n",
       "  (20.0,\n",
       "   25.0): {'value': array([0.35, 0.36, 0.37, 0.38, 0.39, 0.4 , 0.41, 0.42, 0.43, 0.44, 0.45,\n",
       "          0.46, 0.47, 0.48, 0.49, 0.5 , 0.51, 0.52, 0.53, 0.54, 0.55, 0.56,\n",
       "          0.57, 0.58, 0.59, 0.6 , 0.61, 0.62, 0.63, 0.64, 0.65, 0.66, 0.67,\n",
       "          0.68, 0.69]), 'weight': array([0.        , 0.        , 0.        , 0.00817439, 0.0027248 ,\n",
       "          0.03133515, 0.07629428, 0.11444142, 0.11989101, 0.17711172,\n",
       "          0.18119891, 0.11444142, 0.08174387, 0.05449591, 0.02179837,\n",
       "          0.01089918, 0.00408719, 0.        , 0.        , 0.0013624 ,\n",
       "          0.        , 0.        , 0.        , 0.        , 0.        ,\n",
       "          0.        , 0.        , 0.        , 0.        , 0.        ,\n",
       "          0.        , 0.        , 0.        , 0.        , 0.        ])},\n",
       "  (20.0,\n",
       "   30.0): {'value': array([0.35, 0.36, 0.37, 0.38, 0.39, 0.4 , 0.41, 0.42, 0.43, 0.44, 0.45,\n",
       "          0.46, 0.47, 0.48, 0.49, 0.5 , 0.51, 0.52, 0.53, 0.54, 0.55, 0.56,\n",
       "          0.57, 0.58, 0.59, 0.6 , 0.61, 0.62, 0.63, 0.64, 0.65, 0.66, 0.67,\n",
       "          0.68, 0.69]), 'weight': array([0.        , 0.        , 0.        , 0.01002506, 0.0075188 ,\n",
       "          0.02255639, 0.05764411, 0.0877193 , 0.08521303, 0.19799499,\n",
       "          0.18546366, 0.14536341, 0.07518797, 0.07017544, 0.03007519,\n",
       "          0.01754386, 0.        , 0.00250627, 0.00250627, 0.        ,\n",
       "          0.        , 0.00250627, 0.        , 0.        , 0.        ,\n",
       "          0.        , 0.        , 0.        , 0.        , 0.        ,\n",
       "          0.        , 0.        , 0.        , 0.        , 0.        ])},\n",
       "  (20.0,\n",
       "   35.0): {'value': array([0.35, 0.36, 0.37, 0.38, 0.39, 0.4 , 0.41, 0.42, 0.43, 0.44, 0.45,\n",
       "          0.46, 0.47, 0.48, 0.49, 0.5 , 0.51, 0.52, 0.53, 0.54, 0.55, 0.56,\n",
       "          0.57, 0.58, 0.59, 0.6 , 0.61, 0.62, 0.63, 0.64, 0.65, 0.66, 0.67,\n",
       "          0.68, 0.69]), 'weight': array([0.        , 0.        , 0.00195695, 0.00391389, 0.00782779,\n",
       "          0.02152642, 0.04696673, 0.08610568, 0.08219178, 0.17808219,\n",
       "          0.16634051, 0.13111546, 0.09980431, 0.08806262, 0.05675147,\n",
       "          0.02152642, 0.        , 0.00587084, 0.00195695, 0.        ,\n",
       "          0.        , 0.        , 0.        , 0.        , 0.        ,\n",
       "          0.        , 0.        , 0.        , 0.        , 0.        ,\n",
       "          0.        , 0.        , 0.        , 0.        , 0.        ])},\n",
       "  (20.0,\n",
       "   40.0): {'value': array([0.35, 0.36, 0.37, 0.38, 0.39, 0.4 , 0.41, 0.42, 0.43, 0.44, 0.45,\n",
       "          0.46, 0.47, 0.48, 0.49, 0.5 , 0.51, 0.52, 0.53, 0.54, 0.55, 0.56,\n",
       "          0.57, 0.58, 0.59, 0.6 , 0.61, 0.62, 0.63, 0.64, 0.65, 0.66, 0.67,\n",
       "          0.68, 0.69]), 'weight': array([nan, nan, nan, nan, nan, nan, nan, nan, nan, nan, nan, nan, nan,\n",
       "          nan, nan, nan, nan, nan, nan, nan, nan, nan, nan, nan, nan, nan,\n",
       "          nan, nan, nan, nan, nan, nan, nan, nan, nan])},\n",
       "  (20.0,\n",
       "   45.0): {'value': array([0.35, 0.36, 0.37, 0.38, 0.39, 0.4 , 0.41, 0.42, 0.43, 0.44, 0.45,\n",
       "          0.46, 0.47, 0.48, 0.49, 0.5 , 0.51, 0.52, 0.53, 0.54, 0.55, 0.56,\n",
       "          0.57, 0.58, 0.59, 0.6 , 0.61, 0.62, 0.63, 0.64, 0.65, 0.66, 0.67,\n",
       "          0.68, 0.69]), 'weight': array([nan, nan, nan, nan, nan, nan, nan, nan, nan, nan, nan, nan, nan,\n",
       "          nan, nan, nan, nan, nan, nan, nan, nan, nan, nan, nan, nan, nan,\n",
       "          nan, nan, nan, nan, nan, nan, nan, nan, nan])},\n",
       "  (22.0,\n",
       "   10.0): {'value': array([0.35, 0.36, 0.37, 0.38, 0.39, 0.4 , 0.41, 0.42, 0.43, 0.44, 0.45,\n",
       "          0.46, 0.47, 0.48, 0.49, 0.5 , 0.51, 0.52, 0.53, 0.54, 0.55, 0.56,\n",
       "          0.57, 0.58, 0.59, 0.6 , 0.61, 0.62, 0.63, 0.64, 0.65, 0.66, 0.67,\n",
       "          0.68, 0.69]), 'weight': array([0.        , 0.        , 0.        , 0.00056433, 0.00225734,\n",
       "          0.00733634, 0.0265237 , 0.04288939, 0.08013544, 0.11230248,\n",
       "          0.15632054, 0.16252822, 0.14108352, 0.11851016, 0.06941309,\n",
       "          0.04683973, 0.01636569, 0.01128668, 0.00282167, 0.001693  ,\n",
       "          0.        , 0.00056433, 0.        , 0.00056433, 0.        ,\n",
       "          0.        , 0.        , 0.        , 0.        , 0.        ,\n",
       "          0.        , 0.        , 0.        , 0.        , 0.        ])},\n",
       "  (22.0,\n",
       "   15.0): {'value': array([0.35, 0.36, 0.37, 0.38, 0.39, 0.4 , 0.41, 0.42, 0.43, 0.44, 0.45,\n",
       "          0.46, 0.47, 0.48, 0.49, 0.5 , 0.51, 0.52, 0.53, 0.54, 0.55, 0.56,\n",
       "          0.57, 0.58, 0.59, 0.6 , 0.61, 0.62, 0.63, 0.64, 0.65, 0.66, 0.67,\n",
       "          0.68, 0.69]), 'weight': array([0.        , 0.0003268 , 0.0003268 , 0.00098039, 0.00098039,\n",
       "          0.00620915, 0.01764706, 0.03562092, 0.05424837, 0.11535948,\n",
       "          0.15686275, 0.15130719, 0.14869281, 0.13529412, 0.07777778,\n",
       "          0.05588235, 0.02385621, 0.01013072, 0.00588235, 0.00163399,\n",
       "          0.00065359, 0.0003268 , 0.        , 0.        , 0.        ,\n",
       "          0.        , 0.        , 0.        , 0.        , 0.        ,\n",
       "          0.        , 0.        , 0.        , 0.        , 0.        ])},\n",
       "  (22.0,\n",
       "   20.0): {'value': array([0.35, 0.36, 0.37, 0.38, 0.39, 0.4 , 0.41, 0.42, 0.43, 0.44, 0.45,\n",
       "          0.46, 0.47, 0.48, 0.49, 0.5 , 0.51, 0.52, 0.53, 0.54, 0.55, 0.56,\n",
       "          0.57, 0.58, 0.59, 0.6 , 0.61, 0.62, 0.63, 0.64, 0.65, 0.66, 0.67,\n",
       "          0.68, 0.69]), 'weight': array([0.        , 0.        , 0.        , 0.00110824, 0.00036941,\n",
       "          0.00369413, 0.01403768, 0.02844477, 0.05282601, 0.08902844,\n",
       "          0.14702623, 0.16143332, 0.15773919, 0.13335796, 0.08718138,\n",
       "          0.06834134, 0.0291836 , 0.01477651, 0.00517178, 0.00184706,\n",
       "          0.00406354, 0.00036941, 0.        , 0.        , 0.        ,\n",
       "          0.        , 0.        , 0.        , 0.        , 0.        ,\n",
       "          0.        , 0.        , 0.        , 0.        , 0.        ])},\n",
       "  (22.0,\n",
       "   25.0): {'value': array([0.35, 0.36, 0.37, 0.38, 0.39, 0.4 , 0.41, 0.42, 0.43, 0.44, 0.45,\n",
       "          0.46, 0.47, 0.48, 0.49, 0.5 , 0.51, 0.52, 0.53, 0.54, 0.55, 0.56,\n",
       "          0.57, 0.58, 0.59, 0.6 , 0.61, 0.62, 0.63, 0.64, 0.65, 0.66, 0.67,\n",
       "          0.68, 0.69]), 'weight': array([0.        , 0.        , 0.        , 0.        , 0.00053248,\n",
       "          0.00425985, 0.014377  , 0.02822151, 0.04632588, 0.09744409,\n",
       "          0.12779553, 0.16666667, 0.15867945, 0.14802982, 0.08040469,\n",
       "          0.07028754, 0.0314164 , 0.014377  , 0.00479233, 0.00319489,\n",
       "          0.00106496, 0.00053248, 0.00053248, 0.        , 0.00053248,\n",
       "          0.00053248, 0.        , 0.        , 0.        , 0.        ,\n",
       "          0.        , 0.        , 0.        , 0.        , 0.        ])},\n",
       "  (22.0,\n",
       "   30.0): {'value': array([0.35, 0.36, 0.37, 0.38, 0.39, 0.4 , 0.41, 0.42, 0.43, 0.44, 0.45,\n",
       "          0.46, 0.47, 0.48, 0.49, 0.5 , 0.51, 0.52, 0.53, 0.54, 0.55, 0.56,\n",
       "          0.57, 0.58, 0.59, 0.6 , 0.61, 0.62, 0.63, 0.64, 0.65, 0.66, 0.67,\n",
       "          0.68, 0.69]), 'weight': array([0.        , 0.        , 0.        , 0.        , 0.        ,\n",
       "          0.00087336, 0.00873362, 0.0279476 , 0.04017467, 0.08122271,\n",
       "          0.12925764, 0.15371179, 0.15021834, 0.1441048 , 0.10393013,\n",
       "          0.08646288, 0.03318777, 0.02620087, 0.01135371, 0.00174672,\n",
       "          0.00087336, 0.        , 0.        , 0.        , 0.        ,\n",
       "          0.        , 0.        , 0.        , 0.        , 0.        ,\n",
       "          0.        , 0.        , 0.        , 0.        , 0.        ])},\n",
       "  (22.0,\n",
       "   35.0): {'value': array([0.35, 0.36, 0.37, 0.38, 0.39, 0.4 , 0.41, 0.42, 0.43, 0.44, 0.45,\n",
       "          0.46, 0.47, 0.48, 0.49, 0.5 , 0.51, 0.52, 0.53, 0.54, 0.55, 0.56,\n",
       "          0.57, 0.58, 0.59, 0.6 , 0.61, 0.62, 0.63, 0.64, 0.65, 0.66, 0.67,\n",
       "          0.68, 0.69]), 'weight': array([0.        , 0.        , 0.        , 0.        , 0.00143266,\n",
       "          0.00143266, 0.01002865, 0.01719198, 0.03295129, 0.07593123,\n",
       "          0.10601719, 0.13180516, 0.15616046, 0.15186246, 0.1217765 ,\n",
       "          0.11461318, 0.04297994, 0.02005731, 0.00859599, 0.00286533,\n",
       "          0.00286533, 0.00143266, 0.        , 0.        , 0.        ,\n",
       "          0.        , 0.        , 0.        , 0.        , 0.        ,\n",
       "          0.        , 0.        , 0.        , 0.        , 0.        ])},\n",
       "  (22.0,\n",
       "   40.0): {'value': array([0.35, 0.36, 0.37, 0.38, 0.39, 0.4 , 0.41, 0.42, 0.43, 0.44, 0.45,\n",
       "          0.46, 0.47, 0.48, 0.49, 0.5 , 0.51, 0.52, 0.53, 0.54, 0.55, 0.56,\n",
       "          0.57, 0.58, 0.59, 0.6 , 0.61, 0.62, 0.63, 0.64, 0.65, 0.66, 0.67,\n",
       "          0.68, 0.69]), 'weight': array([0.        , 0.        , 0.        , 0.        , 0.        ,\n",
       "          0.        , 0.01184834, 0.02369668, 0.03317536, 0.05924171,\n",
       "          0.11374408, 0.1492891 , 0.1492891 , 0.17535545, 0.10900474,\n",
       "          0.09952607, 0.0450237 , 0.01184834, 0.01184834, 0.        ,\n",
       "          0.007109  , 0.        , 0.        , 0.        , 0.        ,\n",
       "          0.        , 0.        , 0.        , 0.        , 0.        ,\n",
       "          0.        , 0.        , 0.        , 0.        , 0.        ])},\n",
       "  (22.0,\n",
       "   45.0): {'value': array([0.35, 0.36, 0.37, 0.38, 0.39, 0.4 , 0.41, 0.42, 0.43, 0.44, 0.45,\n",
       "          0.46, 0.47, 0.48, 0.49, 0.5 , 0.51, 0.52, 0.53, 0.54, 0.55, 0.56,\n",
       "          0.57, 0.58, 0.59, 0.6 , 0.61, 0.62, 0.63, 0.64, 0.65, 0.66, 0.67,\n",
       "          0.68, 0.69]), 'weight': array([0.        , 0.        , 0.        , 0.        , 0.        ,\n",
       "          0.        , 0.00317965, 0.00794913, 0.0381558 , 0.05246423,\n",
       "          0.10810811, 0.15898251, 0.15739269, 0.16057234, 0.09697933,\n",
       "          0.09538951, 0.06200318, 0.03497615, 0.01589825, 0.00476948,\n",
       "          0.        , 0.00158983, 0.00158983, 0.        , 0.        ,\n",
       "          0.        , 0.        , 0.        , 0.        , 0.        ,\n",
       "          0.        , 0.        , 0.        , 0.        , 0.        ])},\n",
       "  (24.0,\n",
       "   10.0): {'value': array([0.35, 0.36, 0.37, 0.38, 0.39, 0.4 , 0.41, 0.42, 0.43, 0.44, 0.45,\n",
       "          0.46, 0.47, 0.48, 0.49, 0.5 , 0.51, 0.52, 0.53, 0.54, 0.55, 0.56,\n",
       "          0.57, 0.58, 0.59, 0.6 , 0.61, 0.62, 0.63, 0.64, 0.65, 0.66, 0.67,\n",
       "          0.68, 0.69]), 'weight': array([0.        , 0.        , 0.        , 0.        , 0.        ,\n",
       "          0.00080451, 0.00080451, 0.00724055, 0.0160901 , 0.04344328,\n",
       "          0.08205953, 0.08688656, 0.154465  , 0.16492357, 0.13354787,\n",
       "          0.14561545, 0.06516492, 0.05229284, 0.02735318, 0.00965406,\n",
       "          0.00884956, 0.00080451, 0.        , 0.        , 0.        ,\n",
       "          0.        , 0.        , 0.        , 0.        , 0.        ,\n",
       "          0.        , 0.        , 0.        , 0.        , 0.        ])},\n",
       "  (24.0,\n",
       "   15.0): {'value': array([0.35, 0.36, 0.37, 0.38, 0.39, 0.4 , 0.41, 0.42, 0.43, 0.44, 0.45,\n",
       "          0.46, 0.47, 0.48, 0.49, 0.5 , 0.51, 0.52, 0.53, 0.54, 0.55, 0.56,\n",
       "          0.57, 0.58, 0.59, 0.6 , 0.61, 0.62, 0.63, 0.64, 0.65, 0.66, 0.67,\n",
       "          0.68, 0.69]), 'weight': array([0.        , 0.        , 0.00037736, 0.        , 0.        ,\n",
       "          0.00037736, 0.00264151, 0.00716981, 0.0154717 , 0.02792453,\n",
       "          0.06188679, 0.10264151, 0.13811321, 0.16981132, 0.1445283 ,\n",
       "          0.14566038, 0.08377358, 0.05320755, 0.02566038, 0.00867925,\n",
       "          0.00679245, 0.00339623, 0.00037736, 0.00150943, 0.        ,\n",
       "          0.        , 0.        , 0.        , 0.        , 0.        ,\n",
       "          0.        , 0.        , 0.        , 0.        , 0.        ])},\n",
       "  (24.0,\n",
       "   20.0): {'value': array([0.35, 0.36, 0.37, 0.38, 0.39, 0.4 , 0.41, 0.42, 0.43, 0.44, 0.45,\n",
       "          0.46, 0.47, 0.48, 0.49, 0.5 , 0.51, 0.52, 0.53, 0.54, 0.55, 0.56,\n",
       "          0.57, 0.58, 0.59, 0.6 , 0.61, 0.62, 0.63, 0.64, 0.65, 0.66, 0.67,\n",
       "          0.68, 0.69]), 'weight': array([0.        , 0.        , 0.        , 0.        , 0.        ,\n",
       "          0.        , 0.00035537, 0.00604122, 0.01101635, 0.02985075,\n",
       "          0.05899076, 0.08386638, 0.13326226, 0.16453447, 0.15636105,\n",
       "          0.14001421, 0.09452736, 0.06680881, 0.02878465, 0.01350391,\n",
       "          0.00675195, 0.00284293, 0.00248756, 0.        , 0.        ,\n",
       "          0.        , 0.        , 0.        , 0.        , 0.        ,\n",
       "          0.        , 0.        , 0.        , 0.        , 0.        ])},\n",
       "  (24.0,\n",
       "   25.0): {'value': array([0.35, 0.36, 0.37, 0.38, 0.39, 0.4 , 0.41, 0.42, 0.43, 0.44, 0.45,\n",
       "          0.46, 0.47, 0.48, 0.49, 0.5 , 0.51, 0.52, 0.53, 0.54, 0.55, 0.56,\n",
       "          0.57, 0.58, 0.59, 0.6 , 0.61, 0.62, 0.63, 0.64, 0.65, 0.66, 0.67,\n",
       "          0.68, 0.69]), 'weight': array([0.        , 0.        , 0.        , 0.        , 0.        ,\n",
       "          0.00089606, 0.00044803, 0.00492832, 0.00985663, 0.02374552,\n",
       "          0.04614695, 0.08736559, 0.11514337, 0.16308244, 0.14695341,\n",
       "          0.16801075, 0.09498208, 0.0640681 , 0.03897849, 0.01657706,\n",
       "          0.01120072, 0.00268817, 0.00268817, 0.00134409, 0.        ,\n",
       "          0.00089606, 0.        , 0.        , 0.        , 0.        ,\n",
       "          0.        , 0.        , 0.        , 0.        , 0.        ])},\n",
       "  (24.0,\n",
       "   30.0): {'value': array([0.35, 0.36, 0.37, 0.38, 0.39, 0.4 , 0.41, 0.42, 0.43, 0.44, 0.45,\n",
       "          0.46, 0.47, 0.48, 0.49, 0.5 , 0.51, 0.52, 0.53, 0.54, 0.55, 0.56,\n",
       "          0.57, 0.58, 0.59, 0.6 , 0.61, 0.62, 0.63, 0.64, 0.65, 0.66, 0.67,\n",
       "          0.68, 0.69]), 'weight': array([0.        , 0.        , 0.        , 0.        , 0.        ,\n",
       "          0.        , 0.0013369 , 0.0026738 , 0.0040107 , 0.01737968,\n",
       "          0.04010695, 0.06684492, 0.11363636, 0.16176471, 0.14438503,\n",
       "          0.17914439, 0.11296791, 0.07754011, 0.0407754 , 0.02205882,\n",
       "          0.00935829, 0.0040107 , 0.00200535, 0.        , 0.        ,\n",
       "          0.        , 0.        , 0.        , 0.        , 0.        ,\n",
       "          0.        , 0.        , 0.        , 0.        , 0.        ])},\n",
       "  (24.0,\n",
       "   35.0): {'value': array([0.35, 0.36, 0.37, 0.38, 0.39, 0.4 , 0.41, 0.42, 0.43, 0.44, 0.45,\n",
       "          0.46, 0.47, 0.48, 0.49, 0.5 , 0.51, 0.52, 0.53, 0.54, 0.55, 0.56,\n",
       "          0.57, 0.58, 0.59, 0.6 , 0.61, 0.62, 0.63, 0.64, 0.65, 0.66, 0.67,\n",
       "          0.68, 0.69]), 'weight': array([0.        , 0.        , 0.        , 0.        , 0.        ,\n",
       "          0.        , 0.00214823, 0.        , 0.00429646, 0.0236305 ,\n",
       "          0.04726101, 0.07626208, 0.11278195, 0.13856069, 0.14178303,\n",
       "          0.17722879, 0.12996778, 0.0698174 , 0.03329753, 0.02577873,\n",
       "          0.01074114, 0.00322234, 0.00214823, 0.00107411, 0.        ,\n",
       "          0.        , 0.        , 0.        , 0.        , 0.        ,\n",
       "          0.        , 0.        , 0.        , 0.        , 0.        ])},\n",
       "  (24.0,\n",
       "   40.0): {'value': array([0.35, 0.36, 0.37, 0.38, 0.39, 0.4 , 0.41, 0.42, 0.43, 0.44, 0.45,\n",
       "          0.46, 0.47, 0.48, 0.49, 0.5 , 0.51, 0.52, 0.53, 0.54, 0.55, 0.56,\n",
       "          0.57, 0.58, 0.59, 0.6 , 0.61, 0.62, 0.63, 0.64, 0.65, 0.66, 0.67,\n",
       "          0.68, 0.69]), 'weight': array([0.        , 0.        , 0.        , 0.        , 0.        ,\n",
       "          0.        , 0.0014881 , 0.00297619, 0.00744048, 0.01488095,\n",
       "          0.04315476, 0.05505952, 0.11904762, 0.12202381, 0.12202381,\n",
       "          0.18154762, 0.15178571, 0.07440476, 0.05208333, 0.02678571,\n",
       "          0.01339286, 0.00892857, 0.00297619, 0.        , 0.        ,\n",
       "          0.        , 0.        , 0.        , 0.        , 0.        ,\n",
       "          0.        , 0.        , 0.        , 0.        , 0.        ])},\n",
       "  (24.0,\n",
       "   45.0): {'value': array([0.35, 0.36, 0.37, 0.38, 0.39, 0.4 , 0.41, 0.42, 0.43, 0.44, 0.45,\n",
       "          0.46, 0.47, 0.48, 0.49, 0.5 , 0.51, 0.52, 0.53, 0.54, 0.55, 0.56,\n",
       "          0.57, 0.58, 0.59, 0.6 , 0.61, 0.62, 0.63, 0.64, 0.65, 0.66, 0.67,\n",
       "          0.68, 0.69]), 'weight': array([0.        , 0.        , 0.        , 0.        , 0.        ,\n",
       "          0.        , 0.00091827, 0.        , 0.00275482, 0.01469238,\n",
       "          0.03581267, 0.05509642, 0.10743802, 0.14049587, 0.15794307,\n",
       "          0.16620753, 0.10927456, 0.09641873, 0.06244261, 0.0312213 ,\n",
       "          0.00826446, 0.00642792, 0.00183655, 0.00183655, 0.        ,\n",
       "          0.        , 0.        , 0.        , 0.00091827, 0.        ,\n",
       "          0.        , 0.        , 0.        , 0.        , 0.        ])},\n",
       "  (26.0,\n",
       "   10.0): {'value': array([0.35, 0.36, 0.37, 0.38, 0.39, 0.4 , 0.41, 0.42, 0.43, 0.44, 0.45,\n",
       "          0.46, 0.47, 0.48, 0.49, 0.5 , 0.51, 0.52, 0.53, 0.54, 0.55, 0.56,\n",
       "          0.57, 0.58, 0.59, 0.6 , 0.61, 0.62, 0.63, 0.64, 0.65, 0.66, 0.67,\n",
       "          0.68, 0.69]), 'weight': array([0.        , 0.        , 0.        , 0.        , 0.        ,\n",
       "          0.        , 0.        , 0.00297619, 0.0014881 , 0.00595238,\n",
       "          0.01190476, 0.03422619, 0.09375   , 0.11309524, 0.13988095,\n",
       "          0.18303571, 0.10416667, 0.13988095, 0.09672619, 0.03869048,\n",
       "          0.02083333, 0.01041667, 0.        , 0.00297619, 0.        ,\n",
       "          0.        , 0.        , 0.        , 0.        , 0.        ,\n",
       "          0.        , 0.        , 0.        , 0.        , 0.        ])},\n",
       "  (26.0,\n",
       "   15.0): {'value': array([0.35, 0.36, 0.37, 0.38, 0.39, 0.4 , 0.41, 0.42, 0.43, 0.44, 0.45,\n",
       "          0.46, 0.47, 0.48, 0.49, 0.5 , 0.51, 0.52, 0.53, 0.54, 0.55, 0.56,\n",
       "          0.57, 0.58, 0.59, 0.6 , 0.61, 0.62, 0.63, 0.64, 0.65, 0.66, 0.67,\n",
       "          0.68, 0.69]), 'weight': array([0.        , 0.        , 0.        , 0.        , 0.        ,\n",
       "          0.        , 0.00059242, 0.00177725, 0.00118483, 0.00592417,\n",
       "          0.01895735, 0.03732227, 0.06279621, 0.12440758, 0.11966825,\n",
       "          0.17654028, 0.13270142, 0.13921801, 0.08353081, 0.04028436,\n",
       "          0.02725118, 0.01362559, 0.00533175, 0.00651659, 0.        ,\n",
       "          0.00118483, 0.00118483, 0.        , 0.        , 0.        ,\n",
       "          0.        , 0.        , 0.        , 0.        , 0.        ])},\n",
       "  (26.0,\n",
       "   20.0): {'value': array([0.35, 0.36, 0.37, 0.38, 0.39, 0.4 , 0.41, 0.42, 0.43, 0.44, 0.45,\n",
       "          0.46, 0.47, 0.48, 0.49, 0.5 , 0.51, 0.52, 0.53, 0.54, 0.55, 0.56,\n",
       "          0.57, 0.58, 0.59, 0.6 , 0.61, 0.62, 0.63, 0.64, 0.65, 0.66, 0.67,\n",
       "          0.68, 0.69]), 'weight': array([0.        , 0.        , 0.        , 0.        , 0.        ,\n",
       "          0.        , 0.        , 0.00045558, 0.00091116, 0.00410023,\n",
       "          0.01275626, 0.01867882, 0.0642369 , 0.09794989, 0.13530752,\n",
       "          0.18359909, 0.15170843, 0.13302961, 0.08154897, 0.05649203,\n",
       "          0.03462415, 0.01321185, 0.00637813, 0.00364465, 0.00045558,\n",
       "          0.00045558, 0.00045558, 0.        , 0.        , 0.        ,\n",
       "          0.        , 0.        , 0.        , 0.        , 0.        ])},\n",
       "  (26.0,\n",
       "   25.0): {'value': array([0.35, 0.36, 0.37, 0.38, 0.39, 0.4 , 0.41, 0.42, 0.43, 0.44, 0.45,\n",
       "          0.46, 0.47, 0.48, 0.49, 0.5 , 0.51, 0.52, 0.53, 0.54, 0.55, 0.56,\n",
       "          0.57, 0.58, 0.59, 0.6 , 0.61, 0.62, 0.63, 0.64, 0.65, 0.66, 0.67,\n",
       "          0.68, 0.69]), 'weight': array([0.        , 0.        , 0.        , 0.        , 0.        ,\n",
       "          0.        , 0.        , 0.00107585, 0.00215169, 0.00322754,\n",
       "          0.01075847, 0.02474449, 0.05809575, 0.0866057 , 0.1070468 ,\n",
       "          0.17590102, 0.15008069, 0.14846692, 0.0957504 , 0.0570199 ,\n",
       "          0.03980635, 0.0182894 , 0.01022055, 0.00860678, 0.00215169,\n",
       "          0.        , 0.        , 0.        , 0.        , 0.        ,\n",
       "          0.        , 0.        , 0.        , 0.        , 0.        ])},\n",
       "  (26.0,\n",
       "   30.0): {'value': array([0.35, 0.36, 0.37, 0.38, 0.39, 0.4 , 0.41, 0.42, 0.43, 0.44, 0.45,\n",
       "          0.46, 0.47, 0.48, 0.49, 0.5 , 0.51, 0.52, 0.53, 0.54, 0.55, 0.56,\n",
       "          0.57, 0.58, 0.59, 0.6 , 0.61, 0.62, 0.63, 0.64, 0.65, 0.66, 0.67,\n",
       "          0.68, 0.69]), 'weight': array([0.        , 0.        , 0.        , 0.        , 0.        ,\n",
       "          0.        , 0.        , 0.        , 0.        , 0.0074124 ,\n",
       "          0.0074124 , 0.02762803, 0.04716981, 0.09568733, 0.10175202,\n",
       "          0.17722372, 0.13746631, 0.14622642, 0.11051213, 0.05997305,\n",
       "          0.04110512, 0.02156334, 0.01010782, 0.00808625, 0.00067385,\n",
       "          0.        , 0.        , 0.        , 0.        , 0.        ,\n",
       "          0.        , 0.        , 0.        , 0.        , 0.        ])},\n",
       "  (26.0,\n",
       "   35.0): {'value': array([0.35, 0.36, 0.37, 0.38, 0.39, 0.4 , 0.41, 0.42, 0.43, 0.44, 0.45,\n",
       "          0.46, 0.47, 0.48, 0.49, 0.5 , 0.51, 0.52, 0.53, 0.54, 0.55, 0.56,\n",
       "          0.57, 0.58, 0.59, 0.6 , 0.61, 0.62, 0.63, 0.64, 0.65, 0.66, 0.67,\n",
       "          0.68, 0.69]), 'weight': array([0.        , 0.        , 0.        , 0.        , 0.        ,\n",
       "          0.        , 0.        , 0.00093023, 0.00093023, 0.00465116,\n",
       "          0.00465116, 0.01488372, 0.03534884, 0.07627907, 0.12186047,\n",
       "          0.17488372, 0.12930233, 0.15534884, 0.11069767, 0.07906977,\n",
       "          0.04465116, 0.02511628, 0.00930233, 0.00651163, 0.0027907 ,\n",
       "          0.0027907 , 0.        , 0.        , 0.        , 0.        ,\n",
       "          0.        , 0.        , 0.        , 0.        , 0.        ])},\n",
       "  (26.0,\n",
       "   40.0): {'value': array([0.35, 0.36, 0.37, 0.38, 0.39, 0.4 , 0.41, 0.42, 0.43, 0.44, 0.45,\n",
       "          0.46, 0.47, 0.48, 0.49, 0.5 , 0.51, 0.52, 0.53, 0.54, 0.55, 0.56,\n",
       "          0.57, 0.58, 0.59, 0.6 , 0.61, 0.62, 0.63, 0.64, 0.65, 0.66, 0.67,\n",
       "          0.68, 0.69]), 'weight': array([0.        , 0.        , 0.        , 0.        , 0.        ,\n",
       "          0.        , 0.        , 0.        , 0.00138122, 0.00276243,\n",
       "          0.00690608, 0.02071823, 0.04281768, 0.08287293, 0.10635359,\n",
       "          0.14917127, 0.14917127, 0.14917127, 0.11878453, 0.09254144,\n",
       "          0.03314917, 0.02762431, 0.00828729, 0.00138122, 0.00414365,\n",
       "          0.00138122, 0.        , 0.00138122, 0.        , 0.        ,\n",
       "          0.        , 0.        , 0.        , 0.        , 0.        ])},\n",
       "  (26.0,\n",
       "   45.0): {'value': array([0.35, 0.36, 0.37, 0.38, 0.39, 0.4 , 0.41, 0.42, 0.43, 0.44, 0.45,\n",
       "          0.46, 0.47, 0.48, 0.49, 0.5 , 0.51, 0.52, 0.53, 0.54, 0.55, 0.56,\n",
       "          0.57, 0.58, 0.59, 0.6 , 0.61, 0.62, 0.63, 0.64, 0.65, 0.66, 0.67,\n",
       "          0.68, 0.69]), 'weight': array([0.        , 0.        , 0.        , 0.        , 0.        ,\n",
       "          0.        , 0.        , 0.        , 0.00071942, 0.00215827,\n",
       "          0.00431655, 0.01942446, 0.03669065, 0.06258993, 0.10215827,\n",
       "          0.15539568, 0.14316547, 0.18633094, 0.11582734, 0.07122302,\n",
       "          0.05251799, 0.02733813, 0.01223022, 0.00719424, 0.        ,\n",
       "          0.00071942, 0.        , 0.        , 0.        , 0.        ,\n",
       "          0.        , 0.        , 0.        , 0.        , 0.        ])},\n",
       "  (28.0,\n",
       "   10.0): {'value': array([0.35, 0.36, 0.37, 0.38, 0.39, 0.4 , 0.41, 0.42, 0.43, 0.44, 0.45,\n",
       "          0.46, 0.47, 0.48, 0.49, 0.5 , 0.51, 0.52, 0.53, 0.54, 0.55, 0.56,\n",
       "          0.57, 0.58, 0.59, 0.6 , 0.61, 0.62, 0.63, 0.64, 0.65, 0.66, 0.67,\n",
       "          0.68, 0.69]), 'weight': array([0.        , 0.        , 0.        , 0.        , 0.        ,\n",
       "          0.        , 0.        , 0.00230947, 0.        , 0.        ,\n",
       "          0.        , 0.01385681, 0.02771363, 0.03464203, 0.06928406,\n",
       "          0.10854503, 0.09699769, 0.16166282, 0.12009238, 0.10623557,\n",
       "          0.10161663, 0.05773672, 0.05773672, 0.02771363, 0.00923788,\n",
       "          0.00230947, 0.00230947, 0.        , 0.        , 0.        ,\n",
       "          0.        , 0.        , 0.        , 0.        , 0.        ])},\n",
       "  (28.0,\n",
       "   15.0): {'value': array([0.35, 0.36, 0.37, 0.38, 0.39, 0.4 , 0.41, 0.42, 0.43, 0.44, 0.45,\n",
       "          0.46, 0.47, 0.48, 0.49, 0.5 , 0.51, 0.52, 0.53, 0.54, 0.55, 0.56,\n",
       "          0.57, 0.58, 0.59, 0.6 , 0.61, 0.62, 0.63, 0.64, 0.65, 0.66, 0.67,\n",
       "          0.68, 0.69]), 'weight': array([0.        , 0.        , 0.        , 0.        , 0.        ,\n",
       "          0.        , 0.        , 0.        , 0.0008244 , 0.0008244 ,\n",
       "          0.00329761, 0.00577082, 0.00989283, 0.03050289, 0.04286892,\n",
       "          0.10222589, 0.11706513, 0.16570486, 0.13767519, 0.13849959,\n",
       "          0.08326463, 0.06265458, 0.04946414, 0.03215169, 0.00989283,\n",
       "          0.00412201, 0.00247321, 0.0008244 , 0.        , 0.        ,\n",
       "          0.        , 0.        , 0.        , 0.        , 0.        ])},\n",
       "  (28.0,\n",
       "   20.0): {'value': array([0.35, 0.36, 0.37, 0.38, 0.39, 0.4 , 0.41, 0.42, 0.43, 0.44, 0.45,\n",
       "          0.46, 0.47, 0.48, 0.49, 0.5 , 0.51, 0.52, 0.53, 0.54, 0.55, 0.56,\n",
       "          0.57, 0.58, 0.59, 0.6 , 0.61, 0.62, 0.63, 0.64, 0.65, 0.66, 0.67,\n",
       "          0.68, 0.69]), 'weight': array([0.        , 0.        , 0.        , 0.00055617, 0.        ,\n",
       "          0.        , 0.        , 0.        , 0.        , 0.00055617,\n",
       "          0.00333704, 0.00723026, 0.01001112, 0.0294772 , 0.04505006,\n",
       "          0.09010011, 0.11067853, 0.15350389, 0.13793103, 0.13737486,\n",
       "          0.11067853, 0.06173526, 0.05228031, 0.03503893, 0.00444939,\n",
       "          0.00611791, 0.00222469, 0.00055617, 0.00055617, 0.        ,\n",
       "          0.        , 0.00055617, 0.        , 0.        , 0.        ])},\n",
       "  (28.0,\n",
       "   25.0): {'value': array([0.35, 0.36, 0.37, 0.38, 0.39, 0.4 , 0.41, 0.42, 0.43, 0.44, 0.45,\n",
       "          0.46, 0.47, 0.48, 0.49, 0.5 , 0.51, 0.52, 0.53, 0.54, 0.55, 0.56,\n",
       "          0.57, 0.58, 0.59, 0.6 , 0.61, 0.62, 0.63, 0.64, 0.65, 0.66, 0.67,\n",
       "          0.68, 0.69]), 'weight': array([0.        , 0.        , 0.        , 0.        , 0.        ,\n",
       "          0.        , 0.        , 0.        , 0.        , 0.        ,\n",
       "          0.00266241, 0.00266241, 0.00798722, 0.02555911, 0.04952077,\n",
       "          0.08945687, 0.1001065 , 0.1485623 , 0.15015974, 0.11501597,\n",
       "          0.11661342, 0.06922258, 0.05750799, 0.03567625, 0.01171459,\n",
       "          0.01118211, 0.00319489, 0.00212993, 0.        , 0.00053248,\n",
       "          0.        , 0.00053248, 0.        , 0.        , 0.        ])},\n",
       "  (28.0,\n",
       "   30.0): {'value': array([0.35, 0.36, 0.37, 0.38, 0.39, 0.4 , 0.41, 0.42, 0.43, 0.44, 0.45,\n",
       "          0.46, 0.47, 0.48, 0.49, 0.5 , 0.51, 0.52, 0.53, 0.54, 0.55, 0.56,\n",
       "          0.57, 0.58, 0.59, 0.6 , 0.61, 0.62, 0.63, 0.64, 0.65, 0.66, 0.67,\n",
       "          0.68, 0.69]), 'weight': array([0.        , 0.        , 0.        , 0.        , 0.        ,\n",
       "          0.        , 0.        , 0.        , 0.        , 0.0006435 ,\n",
       "          0.001287  , 0.0006435 , 0.00836551, 0.01930502, 0.03346203,\n",
       "          0.09459459, 0.08043758, 0.14478764, 0.13706564, 0.13770914,\n",
       "          0.11518662, 0.08236808, 0.07400257, 0.03732304, 0.01544402,\n",
       "          0.01222651, 0.0045045 , 0.        , 0.0006435 , 0.        ,\n",
       "          0.        , 0.        , 0.        , 0.        , 0.        ])},\n",
       "  (28.0,\n",
       "   35.0): {'value': array([0.35, 0.36, 0.37, 0.38, 0.39, 0.4 , 0.41, 0.42, 0.43, 0.44, 0.45,\n",
       "          0.46, 0.47, 0.48, 0.49, 0.5 , 0.51, 0.52, 0.53, 0.54, 0.55, 0.56,\n",
       "          0.57, 0.58, 0.59, 0.6 , 0.61, 0.62, 0.63, 0.64, 0.65, 0.66, 0.67,\n",
       "          0.68, 0.69]), 'weight': array([0.        , 0.        , 0.        , 0.        , 0.        ,\n",
       "          0.        , 0.        , 0.        , 0.00080192, 0.00080192,\n",
       "          0.00080192, 0.00481155, 0.01443464, 0.01603849, 0.03287891,\n",
       "          0.07858861, 0.07778669, 0.14033681, 0.13953488, 0.13552526,\n",
       "          0.12590217, 0.08901363, 0.06655974, 0.04170008, 0.01202887,\n",
       "          0.01764234, 0.0032077 , 0.00160385, 0.        , 0.        ,\n",
       "          0.        , 0.        , 0.        , 0.        , 0.        ])},\n",
       "  (28.0,\n",
       "   40.0): {'value': array([0.35, 0.36, 0.37, 0.38, 0.39, 0.4 , 0.41, 0.42, 0.43, 0.44, 0.45,\n",
       "          0.46, 0.47, 0.48, 0.49, 0.5 , 0.51, 0.52, 0.53, 0.54, 0.55, 0.56,\n",
       "          0.57, 0.58, 0.59, 0.6 , 0.61, 0.62, 0.63, 0.64, 0.65, 0.66, 0.67,\n",
       "          0.68, 0.69]), 'weight': array([0.        , 0.        , 0.        , 0.        , 0.        ,\n",
       "          0.00105708, 0.00105708, 0.        , 0.        , 0.        ,\n",
       "          0.        , 0.00422833, 0.00951374, 0.02959831, 0.03171247,\n",
       "          0.0782241 , 0.08668076, 0.16384778, 0.13424947, 0.10359408,\n",
       "          0.11522199, 0.09830867, 0.06553911, 0.04122622, 0.01479915,\n",
       "          0.01374207, 0.00422833, 0.00211416, 0.00105708, 0.        ,\n",
       "          0.        , 0.        , 0.        , 0.        , 0.        ])},\n",
       "  (28.0,\n",
       "   45.0): {'value': array([0.35, 0.36, 0.37, 0.38, 0.39, 0.4 , 0.41, 0.42, 0.43, 0.44, 0.45,\n",
       "          0.46, 0.47, 0.48, 0.49, 0.5 , 0.51, 0.52, 0.53, 0.54, 0.55, 0.56,\n",
       "          0.57, 0.58, 0.59, 0.6 , 0.61, 0.62, 0.63, 0.64, 0.65, 0.66, 0.67,\n",
       "          0.68, 0.69]), 'weight': array([0.        , 0.        , 0.        , 0.        , 0.        ,\n",
       "          0.        , 0.        , 0.00051733, 0.        , 0.00051733,\n",
       "          0.00206932, 0.00103466, 0.00724263, 0.01707191, 0.0305225 ,\n",
       "          0.062597  , 0.0693223 , 0.13812726, 0.13657527, 0.14174858,\n",
       "          0.1319193 , 0.09105018, 0.07966891, 0.0439731 , 0.02224521,\n",
       "          0.01345059, 0.00620797, 0.00413864, 0.        , 0.        ,\n",
       "          0.        , 0.        , 0.        , 0.        , 0.        ])},\n",
       "  (30.0,\n",
       "   10.0): {'value': array([0.35, 0.36, 0.37, 0.38, 0.39, 0.4 , 0.41, 0.42, 0.43, 0.44, 0.45,\n",
       "          0.46, 0.47, 0.48, 0.49, 0.5 , 0.51, 0.52, 0.53, 0.54, 0.55, 0.56,\n",
       "          0.57, 0.58, 0.59, 0.6 , 0.61, 0.62, 0.63, 0.64, 0.65, 0.66, 0.67,\n",
       "          0.68, 0.69]), 'weight': array([nan, nan, nan, nan, nan, nan, nan, nan, nan, nan, nan, nan, nan,\n",
       "          nan, nan, nan, nan, nan, nan, nan, nan, nan, nan, nan, nan, nan,\n",
       "          nan, nan, nan, nan, nan, nan, nan, nan, nan])},\n",
       "  (30.0,\n",
       "   15.0): {'value': array([0.35, 0.36, 0.37, 0.38, 0.39, 0.4 , 0.41, 0.42, 0.43, 0.44, 0.45,\n",
       "          0.46, 0.47, 0.48, 0.49, 0.5 , 0.51, 0.52, 0.53, 0.54, 0.55, 0.56,\n",
       "          0.57, 0.58, 0.59, 0.6 , 0.61, 0.62, 0.63, 0.64, 0.65, 0.66, 0.67,\n",
       "          0.68, 0.69]), 'weight': array([0.        , 0.        , 0.        , 0.        , 0.        ,\n",
       "          0.        , 0.        , 0.        , 0.        , 0.        ,\n",
       "          0.        , 0.00414938, 0.        , 0.        , 0.00414938,\n",
       "          0.01659751, 0.01659751, 0.02904564, 0.06639004, 0.06639004,\n",
       "          0.07053942, 0.1120332 , 0.21991701, 0.11618257, 0.07053942,\n",
       "          0.07883817, 0.06224066, 0.01659751, 0.02489627, 0.01659751,\n",
       "          0.        , 0.00829876, 0.        , 0.        , 0.        ])},\n",
       "  (30.0,\n",
       "   20.0): {'value': array([0.35, 0.36, 0.37, 0.38, 0.39, 0.4 , 0.41, 0.42, 0.43, 0.44, 0.45,\n",
       "          0.46, 0.47, 0.48, 0.49, 0.5 , 0.51, 0.52, 0.53, 0.54, 0.55, 0.56,\n",
       "          0.57, 0.58, 0.59, 0.6 , 0.61, 0.62, 0.63, 0.64, 0.65, 0.66, 0.67,\n",
       "          0.68, 0.69]), 'weight': array([0.        , 0.        , 0.        , 0.        , 0.        ,\n",
       "          0.        , 0.        , 0.        , 0.        , 0.        ,\n",
       "          0.        , 0.        , 0.        , 0.        , 0.00289855,\n",
       "          0.02028986, 0.        , 0.04057971, 0.02608696, 0.06086957,\n",
       "          0.10434783, 0.12753623, 0.19130435, 0.13043478, 0.08985507,\n",
       "          0.11304348, 0.05507246, 0.0173913 , 0.01449275, 0.0057971 ,\n",
       "          0.        , 0.        , 0.        , 0.        , 0.        ])},\n",
       "  (30.0,\n",
       "   25.0): {'value': array([0.35, 0.36, 0.37, 0.38, 0.39, 0.4 , 0.41, 0.42, 0.43, 0.44, 0.45,\n",
       "          0.46, 0.47, 0.48, 0.49, 0.5 , 0.51, 0.52, 0.53, 0.54, 0.55, 0.56,\n",
       "          0.57, 0.58, 0.59, 0.6 , 0.61, 0.62, 0.63, 0.64, 0.65, 0.66, 0.67,\n",
       "          0.68, 0.69]), 'weight': array([0.        , 0.        , 0.        , 0.        , 0.        ,\n",
       "          0.        , 0.        , 0.        , 0.        , 0.        ,\n",
       "          0.        , 0.        , 0.        , 0.        , 0.        ,\n",
       "          0.00234742, 0.00704225, 0.02347418, 0.04225352, 0.10328638,\n",
       "          0.08685446, 0.08920188, 0.15962441, 0.14788732, 0.07746479,\n",
       "          0.11971831, 0.05868545, 0.0399061 , 0.01877934, 0.02347418,\n",
       "          0.        , 0.        , 0.        , 0.        , 0.        ])},\n",
       "  (30.0,\n",
       "   30.0): {'value': array([0.35, 0.36, 0.37, 0.38, 0.39, 0.4 , 0.41, 0.42, 0.43, 0.44, 0.45,\n",
       "          0.46, 0.47, 0.48, 0.49, 0.5 , 0.51, 0.52, 0.53, 0.54, 0.55, 0.56,\n",
       "          0.57, 0.58, 0.59, 0.6 , 0.61, 0.62, 0.63, 0.64, 0.65, 0.66, 0.67,\n",
       "          0.68, 0.69]), 'weight': array([0.        , 0.        , 0.        , 0.        , 0.        ,\n",
       "          0.        , 0.        , 0.        , 0.00251889, 0.        ,\n",
       "          0.00251889, 0.        , 0.00251889, 0.        , 0.00251889,\n",
       "          0.01007557, 0.01511335, 0.03778338, 0.06801008, 0.06297229,\n",
       "          0.08816121, 0.10075567, 0.11335013, 0.13602015, 0.0906801 ,\n",
       "          0.10075567, 0.10831234, 0.02770781, 0.01259446, 0.01763224,\n",
       "          0.        , 0.        , 0.        , 0.        , 0.        ])},\n",
       "  (30.0,\n",
       "   35.0): {'value': array([0.35, 0.36, 0.37, 0.38, 0.39, 0.4 , 0.41, 0.42, 0.43, 0.44, 0.45,\n",
       "          0.46, 0.47, 0.48, 0.49, 0.5 , 0.51, 0.52, 0.53, 0.54, 0.55, 0.56,\n",
       "          0.57, 0.58, 0.59, 0.6 , 0.61, 0.62, 0.63, 0.64, 0.65, 0.66, 0.67,\n",
       "          0.68, 0.69]), 'weight': array([0.        , 0.        , 0.        , 0.        , 0.        ,\n",
       "          0.        , 0.        , 0.        , 0.        , 0.        ,\n",
       "          0.        , 0.        , 0.        , 0.00277778, 0.00277778,\n",
       "          0.00277778, 0.01111111, 0.025     , 0.03055556, 0.06666667,\n",
       "          0.11944444, 0.09444444, 0.10833333, 0.16944444, 0.06388889,\n",
       "          0.10277778, 0.09444444, 0.06111111, 0.02777778, 0.00833333,\n",
       "          0.00277778, 0.00555556, 0.        , 0.        , 0.        ])},\n",
       "  (30.0,\n",
       "   40.0): {'value': array([0.35, 0.36, 0.37, 0.38, 0.39, 0.4 , 0.41, 0.42, 0.43, 0.44, 0.45,\n",
       "          0.46, 0.47, 0.48, 0.49, 0.5 , 0.51, 0.52, 0.53, 0.54, 0.55, 0.56,\n",
       "          0.57, 0.58, 0.59, 0.6 , 0.61, 0.62, 0.63, 0.64, 0.65, 0.66, 0.67,\n",
       "          0.68, 0.69]), 'weight': array([0.        , 0.        , 0.        , 0.        , 0.        ,\n",
       "          0.        , 0.        , 0.        , 0.        , 0.        ,\n",
       "          0.        , 0.        , 0.        , 0.        , 0.        ,\n",
       "          0.01470588, 0.02352941, 0.03529412, 0.03529412, 0.05      ,\n",
       "          0.08823529, 0.10882353, 0.16764706, 0.12941176, 0.09411765,\n",
       "          0.09411765, 0.09411765, 0.02941176, 0.01176471, 0.01470588,\n",
       "          0.00588235, 0.00294118, 0.        , 0.        , 0.        ])},\n",
       "  (30.0,\n",
       "   45.0): {'value': array([0.35, 0.36, 0.37, 0.38, 0.39, 0.4 , 0.41, 0.42, 0.43, 0.44, 0.45,\n",
       "          0.46, 0.47, 0.48, 0.49, 0.5 , 0.51, 0.52, 0.53, 0.54, 0.55, 0.56,\n",
       "          0.57, 0.58, 0.59, 0.6 , 0.61, 0.62, 0.63, 0.64, 0.65, 0.66, 0.67,\n",
       "          0.68, 0.69]), 'weight': array([0.        , 0.        , 0.        , 0.        , 0.        ,\n",
       "          0.        , 0.        , 0.        , 0.00131752, 0.        ,\n",
       "          0.        , 0.        , 0.        , 0.        , 0.00263505,\n",
       "          0.00527009, 0.00527009, 0.03162055, 0.04479578, 0.06719368,\n",
       "          0.07641634, 0.10144928, 0.14097497, 0.15019763, 0.06192358,\n",
       "          0.11725955, 0.08695652, 0.05797101, 0.02898551, 0.00922266,\n",
       "          0.00527009, 0.00395257, 0.00131752, 0.        , 0.        ])}}}"
      ]
     },
     "execution_count": 169,
     "metadata": {},
     "output_type": "execute_result"
    }
   ],
   "source": [
    "dic_total"
   ]
  },
  {
   "cell_type": "raw",
   "id": "e25db97e",
   "metadata": {},
   "source": [
    "with open('./WHtR_concat/04/WHtR_weight_list.pkl', 'wb') as fw:\n",
    "    pickle.dump(dic_total, fw)"
   ]
  },
  {
   "cell_type": "code",
   "execution_count": null,
   "id": "c3817052",
   "metadata": {},
   "outputs": [],
   "source": []
  },
  {
   "cell_type": "markdown",
   "id": "3e29cdf8",
   "metadata": {},
   "source": [
    "# 검증"
   ]
  },
  {
   "cell_type": "code",
   "execution_count": 173,
   "id": "34d6d141",
   "metadata": {
    "scrolled": true
   },
   "outputs": [
    {
     "data": {
      "text/plain": [
       "{'header': {'bmi': [18.0, 20.0, 22.0, 24.0, 26.0, 28.0, 30.0],\n",
       "  'ALT': [10.0, 15.0, 20.0, 25.0, 30.0, 35.0, 40.0, 45.0],\n",
       "  'note': '- 대표값별 구간\\n    - bmi : -20/20-22/22-24/24-26/26-28/28-30/30-\\n    - ALT : -15/15-20/20-25/25-30/30-35/35-40/40-45/45-\\n\\n- bmi   \\n    - 18.0 에 대해, ALT 25.0 이상 묶음    \\n    - 20.0 에 대해, ALT 35.0 이상 묶음   \\n    - 30.0 에 대해, ALT 15.0 미만 묶음 \\n    \\n- li_weight.any() == True이면 처리 건너뛰기'},\n",
       " 'data': {(18.0,\n",
       "   10.0): {'value': array([0.35, 0.36, 0.37, 0.38, 0.39, 0.4 , 0.41, 0.42, 0.43, 0.44, 0.45,\n",
       "          0.46, 0.47, 0.48, 0.49, 0.5 , 0.51, 0.52, 0.53, 0.54, 0.55, 0.56,\n",
       "          0.57, 0.58, 0.59, 0.6 , 0.61, 0.62, 0.63, 0.64, 0.65, 0.66, 0.67,\n",
       "          0.68, 0.69]), 'weight': array([0.00176367, 0.00881834, 0.02292769, 0.07231041, 0.07231041,\n",
       "          0.1957672 , 0.19223986, 0.14462081, 0.09347443, 0.0952381 ,\n",
       "          0.05291005, 0.01763668, 0.01587302, 0.00705467, 0.00352734,\n",
       "          0.00176367, 0.        , 0.00176367, 0.        , 0.        ,\n",
       "          0.        , 0.        , 0.        , 0.        , 0.        ,\n",
       "          0.        , 0.        , 0.        , 0.        , 0.        ,\n",
       "          0.        , 0.        , 0.        , 0.        , 0.        ])},\n",
       "  (18.0,\n",
       "   15.0): {'value': array([0.35, 0.36, 0.37, 0.38, 0.39, 0.4 , 0.41, 0.42, 0.43, 0.44, 0.45,\n",
       "          0.46, 0.47, 0.48, 0.49, 0.5 , 0.51, 0.52, 0.53, 0.54, 0.55, 0.56,\n",
       "          0.57, 0.58, 0.59, 0.6 , 0.61, 0.62, 0.63, 0.64, 0.65, 0.66, 0.67,\n",
       "          0.68, 0.69]), 'weight': array([0.        , 0.00763359, 0.01335878, 0.07061069, 0.08015267,\n",
       "          0.15267176, 0.14885496, 0.1851145 , 0.10877863, 0.09923664,\n",
       "          0.06870229, 0.02862595, 0.01908397, 0.00763359, 0.00381679,\n",
       "          0.        , 0.0019084 , 0.        , 0.        , 0.0019084 ,\n",
       "          0.        , 0.        , 0.        , 0.0019084 , 0.        ,\n",
       "          0.        , 0.        , 0.        , 0.        , 0.        ,\n",
       "          0.        , 0.        , 0.        , 0.        , 0.        ])},\n",
       "  (18.0,\n",
       "   20.0): {'value': array([0.35, 0.36, 0.37, 0.38, 0.39, 0.4 , 0.41, 0.42, 0.43, 0.44, 0.45,\n",
       "          0.46, 0.47, 0.48, 0.49, 0.5 , 0.51, 0.52, 0.53, 0.54, 0.55, 0.56,\n",
       "          0.57, 0.58, 0.59, 0.6 , 0.61, 0.62, 0.63, 0.64, 0.65, 0.66, 0.67,\n",
       "          0.68, 0.69]), 'weight': array([0.        , 0.0031746 , 0.01587302, 0.05079365, 0.07619048,\n",
       "          0.16190476, 0.18095238, 0.17460317, 0.10793651, 0.08888889,\n",
       "          0.06984127, 0.02857143, 0.02857143, 0.0031746 , 0.0031746 ,\n",
       "          0.0031746 , 0.        , 0.        , 0.0031746 , 0.        ,\n",
       "          0.        , 0.        , 0.        , 0.        , 0.        ,\n",
       "          0.        , 0.        , 0.        , 0.        , 0.        ,\n",
       "          0.        , 0.        , 0.        , 0.        , 0.        ])},\n",
       "  (18.0,\n",
       "   25.0): {'value': array([0.35, 0.36, 0.37, 0.38, 0.39, 0.4 , 0.41, 0.42, 0.43, 0.44, 0.45,\n",
       "          0.46, 0.47, 0.48, 0.49, 0.5 , 0.51, 0.52, 0.53, 0.54, 0.55, 0.56,\n",
       "          0.57, 0.58, 0.59, 0.6 , 0.61, 0.62, 0.63, 0.64, 0.65, 0.66, 0.67,\n",
       "          0.68, 0.69]), 'weight': array([0.002849  , 0.        , 0.01994302, 0.06552707, 0.04558405,\n",
       "          0.12820513, 0.16524217, 0.14245014, 0.1025641 , 0.13390313,\n",
       "          0.08831909, 0.05128205, 0.02849003, 0.01709402, 0.00569801,\n",
       "          0.        , 0.        , 0.        , 0.        , 0.        ,\n",
       "          0.        , 0.        , 0.002849  , 0.        , 0.        ,\n",
       "          0.        , 0.        , 0.        , 0.        , 0.        ,\n",
       "          0.        , 0.        , 0.        , 0.        , 0.        ])},\n",
       "  (18.0,\n",
       "   30.0): {'value': array([0.35, 0.36, 0.37, 0.38, 0.39, 0.4 , 0.41, 0.42, 0.43, 0.44, 0.45,\n",
       "          0.46, 0.47, 0.48, 0.49, 0.5 , 0.51, 0.52, 0.53, 0.54, 0.55, 0.56,\n",
       "          0.57, 0.58, 0.59, 0.6 , 0.61, 0.62, 0.63, 0.64, 0.65, 0.66, 0.67,\n",
       "          0.68, 0.69]), 'weight': array([nan, nan, nan, nan, nan, nan, nan, nan, nan, nan, nan, nan, nan,\n",
       "          nan, nan, nan, nan, nan, nan, nan, nan, nan, nan, nan, nan, nan,\n",
       "          nan, nan, nan, nan, nan, nan, nan, nan, nan])},\n",
       "  (18.0,\n",
       "   35.0): {'value': array([0.35, 0.36, 0.37, 0.38, 0.39, 0.4 , 0.41, 0.42, 0.43, 0.44, 0.45,\n",
       "          0.46, 0.47, 0.48, 0.49, 0.5 , 0.51, 0.52, 0.53, 0.54, 0.55, 0.56,\n",
       "          0.57, 0.58, 0.59, 0.6 , 0.61, 0.62, 0.63, 0.64, 0.65, 0.66, 0.67,\n",
       "          0.68, 0.69]), 'weight': array([nan, nan, nan, nan, nan, nan, nan, nan, nan, nan, nan, nan, nan,\n",
       "          nan, nan, nan, nan, nan, nan, nan, nan, nan, nan, nan, nan, nan,\n",
       "          nan, nan, nan, nan, nan, nan, nan, nan, nan])},\n",
       "  (18.0,\n",
       "   40.0): {'value': array([0.35, 0.36, 0.37, 0.38, 0.39, 0.4 , 0.41, 0.42, 0.43, 0.44, 0.45,\n",
       "          0.46, 0.47, 0.48, 0.49, 0.5 , 0.51, 0.52, 0.53, 0.54, 0.55, 0.56,\n",
       "          0.57, 0.58, 0.59, 0.6 , 0.61, 0.62, 0.63, 0.64, 0.65, 0.66, 0.67,\n",
       "          0.68, 0.69]), 'weight': array([nan, nan, nan, nan, nan, nan, nan, nan, nan, nan, nan, nan, nan,\n",
       "          nan, nan, nan, nan, nan, nan, nan, nan, nan, nan, nan, nan, nan,\n",
       "          nan, nan, nan, nan, nan, nan, nan, nan, nan])},\n",
       "  (18.0,\n",
       "   45.0): {'value': array([0.35, 0.36, 0.37, 0.38, 0.39, 0.4 , 0.41, 0.42, 0.43, 0.44, 0.45,\n",
       "          0.46, 0.47, 0.48, 0.49, 0.5 , 0.51, 0.52, 0.53, 0.54, 0.55, 0.56,\n",
       "          0.57, 0.58, 0.59, 0.6 , 0.61, 0.62, 0.63, 0.64, 0.65, 0.66, 0.67,\n",
       "          0.68, 0.69]), 'weight': array([nan, nan, nan, nan, nan, nan, nan, nan, nan, nan, nan, nan, nan,\n",
       "          nan, nan, nan, nan, nan, nan, nan, nan, nan, nan, nan, nan, nan,\n",
       "          nan, nan, nan, nan, nan, nan, nan, nan, nan])},\n",
       "  (20.0,\n",
       "   10.0): {'value': array([0.35, 0.36, 0.37, 0.38, 0.39, 0.4 , 0.41, 0.42, 0.43, 0.44, 0.45,\n",
       "          0.46, 0.47, 0.48, 0.49, 0.5 , 0.51, 0.52, 0.53, 0.54, 0.55, 0.56,\n",
       "          0.57, 0.58, 0.59, 0.6 , 0.61, 0.62, 0.63, 0.64, 0.65, 0.66, 0.67,\n",
       "          0.68, 0.69]), 'weight': array([0.        , 0.        , 0.00162338, 0.01623377, 0.01461039,\n",
       "          0.05275974, 0.11201299, 0.12743506, 0.14204545, 0.16314935,\n",
       "          0.13961039, 0.09577922, 0.06493506, 0.04383117, 0.01136364,\n",
       "          0.01055195, 0.00243506, 0.        , 0.00081169, 0.        ,\n",
       "          0.00081169, 0.        , 0.        , 0.        , 0.        ,\n",
       "          0.        , 0.        , 0.        , 0.        , 0.        ,\n",
       "          0.        , 0.        , 0.        , 0.        , 0.        ])},\n",
       "  (20.0,\n",
       "   15.0): {'value': array([0.35, 0.36, 0.37, 0.38, 0.39, 0.4 , 0.41, 0.42, 0.43, 0.44, 0.45,\n",
       "          0.46, 0.47, 0.48, 0.49, 0.5 , 0.51, 0.52, 0.53, 0.54, 0.55, 0.56,\n",
       "          0.57, 0.58, 0.59, 0.6 , 0.61, 0.62, 0.63, 0.64, 0.65, 0.66, 0.67,\n",
       "          0.68, 0.69]), 'weight': array([0.        , 0.00118906, 0.00178359, 0.0059453 , 0.00475624,\n",
       "          0.04934602, 0.08739596, 0.11950059, 0.11533888, 0.19262782,\n",
       "          0.16052319, 0.11712247, 0.07372176, 0.03745541, 0.01843044,\n",
       "          0.00891795, 0.00416171, 0.00118906, 0.00059453, 0.        ,\n",
       "          0.        , 0.        , 0.        , 0.        , 0.        ,\n",
       "          0.        , 0.        , 0.        , 0.        , 0.        ,\n",
       "          0.        , 0.        , 0.        , 0.        , 0.        ])},\n",
       "  (20.0,\n",
       "   20.0): {'value': array([0.35, 0.36, 0.37, 0.38, 0.39, 0.4 , 0.41, 0.42, 0.43, 0.44, 0.45,\n",
       "          0.46, 0.47, 0.48, 0.49, 0.5 , 0.51, 0.52, 0.53, 0.54, 0.55, 0.56,\n",
       "          0.57, 0.58, 0.59, 0.6 , 0.61, 0.62, 0.63, 0.64, 0.65, 0.66, 0.67,\n",
       "          0.68, 0.69]), 'weight': array([0.        , 0.        , 0.00167645, 0.00670578, 0.00502934,\n",
       "          0.04777871, 0.07795474, 0.11483655, 0.09891031, 0.16848282,\n",
       "          0.16932104, 0.12573345, 0.07795474, 0.06705784, 0.01927913,\n",
       "          0.01257334, 0.00419111, 0.00251467, 0.        , 0.        ,\n",
       "          0.        , 0.        , 0.        , 0.        , 0.        ,\n",
       "          0.        , 0.        , 0.        , 0.        , 0.        ,\n",
       "          0.        , 0.        , 0.        , 0.        , 0.        ])},\n",
       "  (20.0,\n",
       "   25.0): {'value': array([0.35, 0.36, 0.37, 0.38, 0.39, 0.4 , 0.41, 0.42, 0.43, 0.44, 0.45,\n",
       "          0.46, 0.47, 0.48, 0.49, 0.5 , 0.51, 0.52, 0.53, 0.54, 0.55, 0.56,\n",
       "          0.57, 0.58, 0.59, 0.6 , 0.61, 0.62, 0.63, 0.64, 0.65, 0.66, 0.67,\n",
       "          0.68, 0.69]), 'weight': array([0.        , 0.        , 0.        , 0.00817439, 0.0027248 ,\n",
       "          0.03133515, 0.07629428, 0.11444142, 0.11989101, 0.17711172,\n",
       "          0.18119891, 0.11444142, 0.08174387, 0.05449591, 0.02179837,\n",
       "          0.01089918, 0.00408719, 0.        , 0.        , 0.0013624 ,\n",
       "          0.        , 0.        , 0.        , 0.        , 0.        ,\n",
       "          0.        , 0.        , 0.        , 0.        , 0.        ,\n",
       "          0.        , 0.        , 0.        , 0.        , 0.        ])},\n",
       "  (20.0,\n",
       "   30.0): {'value': array([0.35, 0.36, 0.37, 0.38, 0.39, 0.4 , 0.41, 0.42, 0.43, 0.44, 0.45,\n",
       "          0.46, 0.47, 0.48, 0.49, 0.5 , 0.51, 0.52, 0.53, 0.54, 0.55, 0.56,\n",
       "          0.57, 0.58, 0.59, 0.6 , 0.61, 0.62, 0.63, 0.64, 0.65, 0.66, 0.67,\n",
       "          0.68, 0.69]), 'weight': array([0.        , 0.        , 0.        , 0.01002506, 0.0075188 ,\n",
       "          0.02255639, 0.05764411, 0.0877193 , 0.08521303, 0.19799499,\n",
       "          0.18546366, 0.14536341, 0.07518797, 0.07017544, 0.03007519,\n",
       "          0.01754386, 0.        , 0.00250627, 0.00250627, 0.        ,\n",
       "          0.        , 0.00250627, 0.        , 0.        , 0.        ,\n",
       "          0.        , 0.        , 0.        , 0.        , 0.        ,\n",
       "          0.        , 0.        , 0.        , 0.        , 0.        ])},\n",
       "  (20.0,\n",
       "   35.0): {'value': array([0.35, 0.36, 0.37, 0.38, 0.39, 0.4 , 0.41, 0.42, 0.43, 0.44, 0.45,\n",
       "          0.46, 0.47, 0.48, 0.49, 0.5 , 0.51, 0.52, 0.53, 0.54, 0.55, 0.56,\n",
       "          0.57, 0.58, 0.59, 0.6 , 0.61, 0.62, 0.63, 0.64, 0.65, 0.66, 0.67,\n",
       "          0.68, 0.69]), 'weight': array([0.        , 0.        , 0.00195695, 0.00391389, 0.00782779,\n",
       "          0.02152642, 0.04696673, 0.08610568, 0.08219178, 0.17808219,\n",
       "          0.16634051, 0.13111546, 0.09980431, 0.08806262, 0.05675147,\n",
       "          0.02152642, 0.        , 0.00587084, 0.00195695, 0.        ,\n",
       "          0.        , 0.        , 0.        , 0.        , 0.        ,\n",
       "          0.        , 0.        , 0.        , 0.        , 0.        ,\n",
       "          0.        , 0.        , 0.        , 0.        , 0.        ])},\n",
       "  (20.0,\n",
       "   40.0): {'value': array([0.35, 0.36, 0.37, 0.38, 0.39, 0.4 , 0.41, 0.42, 0.43, 0.44, 0.45,\n",
       "          0.46, 0.47, 0.48, 0.49, 0.5 , 0.51, 0.52, 0.53, 0.54, 0.55, 0.56,\n",
       "          0.57, 0.58, 0.59, 0.6 , 0.61, 0.62, 0.63, 0.64, 0.65, 0.66, 0.67,\n",
       "          0.68, 0.69]), 'weight': array([nan, nan, nan, nan, nan, nan, nan, nan, nan, nan, nan, nan, nan,\n",
       "          nan, nan, nan, nan, nan, nan, nan, nan, nan, nan, nan, nan, nan,\n",
       "          nan, nan, nan, nan, nan, nan, nan, nan, nan])},\n",
       "  (20.0,\n",
       "   45.0): {'value': array([0.35, 0.36, 0.37, 0.38, 0.39, 0.4 , 0.41, 0.42, 0.43, 0.44, 0.45,\n",
       "          0.46, 0.47, 0.48, 0.49, 0.5 , 0.51, 0.52, 0.53, 0.54, 0.55, 0.56,\n",
       "          0.57, 0.58, 0.59, 0.6 , 0.61, 0.62, 0.63, 0.64, 0.65, 0.66, 0.67,\n",
       "          0.68, 0.69]), 'weight': array([nan, nan, nan, nan, nan, nan, nan, nan, nan, nan, nan, nan, nan,\n",
       "          nan, nan, nan, nan, nan, nan, nan, nan, nan, nan, nan, nan, nan,\n",
       "          nan, nan, nan, nan, nan, nan, nan, nan, nan])},\n",
       "  (22.0,\n",
       "   10.0): {'value': array([0.35, 0.36, 0.37, 0.38, 0.39, 0.4 , 0.41, 0.42, 0.43, 0.44, 0.45,\n",
       "          0.46, 0.47, 0.48, 0.49, 0.5 , 0.51, 0.52, 0.53, 0.54, 0.55, 0.56,\n",
       "          0.57, 0.58, 0.59, 0.6 , 0.61, 0.62, 0.63, 0.64, 0.65, 0.66, 0.67,\n",
       "          0.68, 0.69]), 'weight': array([0.        , 0.        , 0.        , 0.00056433, 0.00225734,\n",
       "          0.00733634, 0.0265237 , 0.04288939, 0.08013544, 0.11230248,\n",
       "          0.15632054, 0.16252822, 0.14108352, 0.11851016, 0.06941309,\n",
       "          0.04683973, 0.01636569, 0.01128668, 0.00282167, 0.001693  ,\n",
       "          0.        , 0.00056433, 0.        , 0.00056433, 0.        ,\n",
       "          0.        , 0.        , 0.        , 0.        , 0.        ,\n",
       "          0.        , 0.        , 0.        , 0.        , 0.        ])},\n",
       "  (22.0,\n",
       "   15.0): {'value': array([0.35, 0.36, 0.37, 0.38, 0.39, 0.4 , 0.41, 0.42, 0.43, 0.44, 0.45,\n",
       "          0.46, 0.47, 0.48, 0.49, 0.5 , 0.51, 0.52, 0.53, 0.54, 0.55, 0.56,\n",
       "          0.57, 0.58, 0.59, 0.6 , 0.61, 0.62, 0.63, 0.64, 0.65, 0.66, 0.67,\n",
       "          0.68, 0.69]), 'weight': array([0.        , 0.0003268 , 0.0003268 , 0.00098039, 0.00098039,\n",
       "          0.00620915, 0.01764706, 0.03562092, 0.05424837, 0.11535948,\n",
       "          0.15686275, 0.15130719, 0.14869281, 0.13529412, 0.07777778,\n",
       "          0.05588235, 0.02385621, 0.01013072, 0.00588235, 0.00163399,\n",
       "          0.00065359, 0.0003268 , 0.        , 0.        , 0.        ,\n",
       "          0.        , 0.        , 0.        , 0.        , 0.        ,\n",
       "          0.        , 0.        , 0.        , 0.        , 0.        ])},\n",
       "  (22.0,\n",
       "   20.0): {'value': array([0.35, 0.36, 0.37, 0.38, 0.39, 0.4 , 0.41, 0.42, 0.43, 0.44, 0.45,\n",
       "          0.46, 0.47, 0.48, 0.49, 0.5 , 0.51, 0.52, 0.53, 0.54, 0.55, 0.56,\n",
       "          0.57, 0.58, 0.59, 0.6 , 0.61, 0.62, 0.63, 0.64, 0.65, 0.66, 0.67,\n",
       "          0.68, 0.69]), 'weight': array([0.        , 0.        , 0.        , 0.00110824, 0.00036941,\n",
       "          0.00369413, 0.01403768, 0.02844477, 0.05282601, 0.08902844,\n",
       "          0.14702623, 0.16143332, 0.15773919, 0.13335796, 0.08718138,\n",
       "          0.06834134, 0.0291836 , 0.01477651, 0.00517178, 0.00184706,\n",
       "          0.00406354, 0.00036941, 0.        , 0.        , 0.        ,\n",
       "          0.        , 0.        , 0.        , 0.        , 0.        ,\n",
       "          0.        , 0.        , 0.        , 0.        , 0.        ])},\n",
       "  (22.0,\n",
       "   25.0): {'value': array([0.35, 0.36, 0.37, 0.38, 0.39, 0.4 , 0.41, 0.42, 0.43, 0.44, 0.45,\n",
       "          0.46, 0.47, 0.48, 0.49, 0.5 , 0.51, 0.52, 0.53, 0.54, 0.55, 0.56,\n",
       "          0.57, 0.58, 0.59, 0.6 , 0.61, 0.62, 0.63, 0.64, 0.65, 0.66, 0.67,\n",
       "          0.68, 0.69]), 'weight': array([0.        , 0.        , 0.        , 0.        , 0.00053248,\n",
       "          0.00425985, 0.014377  , 0.02822151, 0.04632588, 0.09744409,\n",
       "          0.12779553, 0.16666667, 0.15867945, 0.14802982, 0.08040469,\n",
       "          0.07028754, 0.0314164 , 0.014377  , 0.00479233, 0.00319489,\n",
       "          0.00106496, 0.00053248, 0.00053248, 0.        , 0.00053248,\n",
       "          0.00053248, 0.        , 0.        , 0.        , 0.        ,\n",
       "          0.        , 0.        , 0.        , 0.        , 0.        ])},\n",
       "  (22.0,\n",
       "   30.0): {'value': array([0.35, 0.36, 0.37, 0.38, 0.39, 0.4 , 0.41, 0.42, 0.43, 0.44, 0.45,\n",
       "          0.46, 0.47, 0.48, 0.49, 0.5 , 0.51, 0.52, 0.53, 0.54, 0.55, 0.56,\n",
       "          0.57, 0.58, 0.59, 0.6 , 0.61, 0.62, 0.63, 0.64, 0.65, 0.66, 0.67,\n",
       "          0.68, 0.69]), 'weight': array([0.        , 0.        , 0.        , 0.        , 0.        ,\n",
       "          0.00087336, 0.00873362, 0.0279476 , 0.04017467, 0.08122271,\n",
       "          0.12925764, 0.15371179, 0.15021834, 0.1441048 , 0.10393013,\n",
       "          0.08646288, 0.03318777, 0.02620087, 0.01135371, 0.00174672,\n",
       "          0.00087336, 0.        , 0.        , 0.        , 0.        ,\n",
       "          0.        , 0.        , 0.        , 0.        , 0.        ,\n",
       "          0.        , 0.        , 0.        , 0.        , 0.        ])},\n",
       "  (22.0,\n",
       "   35.0): {'value': array([0.35, 0.36, 0.37, 0.38, 0.39, 0.4 , 0.41, 0.42, 0.43, 0.44, 0.45,\n",
       "          0.46, 0.47, 0.48, 0.49, 0.5 , 0.51, 0.52, 0.53, 0.54, 0.55, 0.56,\n",
       "          0.57, 0.58, 0.59, 0.6 , 0.61, 0.62, 0.63, 0.64, 0.65, 0.66, 0.67,\n",
       "          0.68, 0.69]), 'weight': array([0.        , 0.        , 0.        , 0.        , 0.00143266,\n",
       "          0.00143266, 0.01002865, 0.01719198, 0.03295129, 0.07593123,\n",
       "          0.10601719, 0.13180516, 0.15616046, 0.15186246, 0.1217765 ,\n",
       "          0.11461318, 0.04297994, 0.02005731, 0.00859599, 0.00286533,\n",
       "          0.00286533, 0.00143266, 0.        , 0.        , 0.        ,\n",
       "          0.        , 0.        , 0.        , 0.        , 0.        ,\n",
       "          0.        , 0.        , 0.        , 0.        , 0.        ])},\n",
       "  (22.0,\n",
       "   40.0): {'value': array([0.35, 0.36, 0.37, 0.38, 0.39, 0.4 , 0.41, 0.42, 0.43, 0.44, 0.45,\n",
       "          0.46, 0.47, 0.48, 0.49, 0.5 , 0.51, 0.52, 0.53, 0.54, 0.55, 0.56,\n",
       "          0.57, 0.58, 0.59, 0.6 , 0.61, 0.62, 0.63, 0.64, 0.65, 0.66, 0.67,\n",
       "          0.68, 0.69]), 'weight': array([0.        , 0.        , 0.        , 0.        , 0.        ,\n",
       "          0.        , 0.01184834, 0.02369668, 0.03317536, 0.05924171,\n",
       "          0.11374408, 0.1492891 , 0.1492891 , 0.17535545, 0.10900474,\n",
       "          0.09952607, 0.0450237 , 0.01184834, 0.01184834, 0.        ,\n",
       "          0.007109  , 0.        , 0.        , 0.        , 0.        ,\n",
       "          0.        , 0.        , 0.        , 0.        , 0.        ,\n",
       "          0.        , 0.        , 0.        , 0.        , 0.        ])},\n",
       "  (22.0,\n",
       "   45.0): {'value': array([0.35, 0.36, 0.37, 0.38, 0.39, 0.4 , 0.41, 0.42, 0.43, 0.44, 0.45,\n",
       "          0.46, 0.47, 0.48, 0.49, 0.5 , 0.51, 0.52, 0.53, 0.54, 0.55, 0.56,\n",
       "          0.57, 0.58, 0.59, 0.6 , 0.61, 0.62, 0.63, 0.64, 0.65, 0.66, 0.67,\n",
       "          0.68, 0.69]), 'weight': array([0.        , 0.        , 0.        , 0.        , 0.        ,\n",
       "          0.        , 0.00317965, 0.00794913, 0.0381558 , 0.05246423,\n",
       "          0.10810811, 0.15898251, 0.15739269, 0.16057234, 0.09697933,\n",
       "          0.09538951, 0.06200318, 0.03497615, 0.01589825, 0.00476948,\n",
       "          0.        , 0.00158983, 0.00158983, 0.        , 0.        ,\n",
       "          0.        , 0.        , 0.        , 0.        , 0.        ,\n",
       "          0.        , 0.        , 0.        , 0.        , 0.        ])},\n",
       "  (24.0,\n",
       "   10.0): {'value': array([0.35, 0.36, 0.37, 0.38, 0.39, 0.4 , 0.41, 0.42, 0.43, 0.44, 0.45,\n",
       "          0.46, 0.47, 0.48, 0.49, 0.5 , 0.51, 0.52, 0.53, 0.54, 0.55, 0.56,\n",
       "          0.57, 0.58, 0.59, 0.6 , 0.61, 0.62, 0.63, 0.64, 0.65, 0.66, 0.67,\n",
       "          0.68, 0.69]), 'weight': array([0.        , 0.        , 0.        , 0.        , 0.        ,\n",
       "          0.00080451, 0.00080451, 0.00724055, 0.0160901 , 0.04344328,\n",
       "          0.08205953, 0.08688656, 0.154465  , 0.16492357, 0.13354787,\n",
       "          0.14561545, 0.06516492, 0.05229284, 0.02735318, 0.00965406,\n",
       "          0.00884956, 0.00080451, 0.        , 0.        , 0.        ,\n",
       "          0.        , 0.        , 0.        , 0.        , 0.        ,\n",
       "          0.        , 0.        , 0.        , 0.        , 0.        ])},\n",
       "  (24.0,\n",
       "   15.0): {'value': array([0.35, 0.36, 0.37, 0.38, 0.39, 0.4 , 0.41, 0.42, 0.43, 0.44, 0.45,\n",
       "          0.46, 0.47, 0.48, 0.49, 0.5 , 0.51, 0.52, 0.53, 0.54, 0.55, 0.56,\n",
       "          0.57, 0.58, 0.59, 0.6 , 0.61, 0.62, 0.63, 0.64, 0.65, 0.66, 0.67,\n",
       "          0.68, 0.69]), 'weight': array([0.        , 0.        , 0.00037736, 0.        , 0.        ,\n",
       "          0.00037736, 0.00264151, 0.00716981, 0.0154717 , 0.02792453,\n",
       "          0.06188679, 0.10264151, 0.13811321, 0.16981132, 0.1445283 ,\n",
       "          0.14566038, 0.08377358, 0.05320755, 0.02566038, 0.00867925,\n",
       "          0.00679245, 0.00339623, 0.00037736, 0.00150943, 0.        ,\n",
       "          0.        , 0.        , 0.        , 0.        , 0.        ,\n",
       "          0.        , 0.        , 0.        , 0.        , 0.        ])},\n",
       "  (24.0,\n",
       "   20.0): {'value': array([0.35, 0.36, 0.37, 0.38, 0.39, 0.4 , 0.41, 0.42, 0.43, 0.44, 0.45,\n",
       "          0.46, 0.47, 0.48, 0.49, 0.5 , 0.51, 0.52, 0.53, 0.54, 0.55, 0.56,\n",
       "          0.57, 0.58, 0.59, 0.6 , 0.61, 0.62, 0.63, 0.64, 0.65, 0.66, 0.67,\n",
       "          0.68, 0.69]), 'weight': array([0.        , 0.        , 0.        , 0.        , 0.        ,\n",
       "          0.        , 0.00035537, 0.00604122, 0.01101635, 0.02985075,\n",
       "          0.05899076, 0.08386638, 0.13326226, 0.16453447, 0.15636105,\n",
       "          0.14001421, 0.09452736, 0.06680881, 0.02878465, 0.01350391,\n",
       "          0.00675195, 0.00284293, 0.00248756, 0.        , 0.        ,\n",
       "          0.        , 0.        , 0.        , 0.        , 0.        ,\n",
       "          0.        , 0.        , 0.        , 0.        , 0.        ])},\n",
       "  (24.0,\n",
       "   25.0): {'value': array([0.35, 0.36, 0.37, 0.38, 0.39, 0.4 , 0.41, 0.42, 0.43, 0.44, 0.45,\n",
       "          0.46, 0.47, 0.48, 0.49, 0.5 , 0.51, 0.52, 0.53, 0.54, 0.55, 0.56,\n",
       "          0.57, 0.58, 0.59, 0.6 , 0.61, 0.62, 0.63, 0.64, 0.65, 0.66, 0.67,\n",
       "          0.68, 0.69]), 'weight': array([0.        , 0.        , 0.        , 0.        , 0.        ,\n",
       "          0.00089606, 0.00044803, 0.00492832, 0.00985663, 0.02374552,\n",
       "          0.04614695, 0.08736559, 0.11514337, 0.16308244, 0.14695341,\n",
       "          0.16801075, 0.09498208, 0.0640681 , 0.03897849, 0.01657706,\n",
       "          0.01120072, 0.00268817, 0.00268817, 0.00134409, 0.        ,\n",
       "          0.00089606, 0.        , 0.        , 0.        , 0.        ,\n",
       "          0.        , 0.        , 0.        , 0.        , 0.        ])},\n",
       "  (24.0,\n",
       "   30.0): {'value': array([0.35, 0.36, 0.37, 0.38, 0.39, 0.4 , 0.41, 0.42, 0.43, 0.44, 0.45,\n",
       "          0.46, 0.47, 0.48, 0.49, 0.5 , 0.51, 0.52, 0.53, 0.54, 0.55, 0.56,\n",
       "          0.57, 0.58, 0.59, 0.6 , 0.61, 0.62, 0.63, 0.64, 0.65, 0.66, 0.67,\n",
       "          0.68, 0.69]), 'weight': array([0.        , 0.        , 0.        , 0.        , 0.        ,\n",
       "          0.        , 0.0013369 , 0.0026738 , 0.0040107 , 0.01737968,\n",
       "          0.04010695, 0.06684492, 0.11363636, 0.16176471, 0.14438503,\n",
       "          0.17914439, 0.11296791, 0.07754011, 0.0407754 , 0.02205882,\n",
       "          0.00935829, 0.0040107 , 0.00200535, 0.        , 0.        ,\n",
       "          0.        , 0.        , 0.        , 0.        , 0.        ,\n",
       "          0.        , 0.        , 0.        , 0.        , 0.        ])},\n",
       "  (24.0,\n",
       "   35.0): {'value': array([0.35, 0.36, 0.37, 0.38, 0.39, 0.4 , 0.41, 0.42, 0.43, 0.44, 0.45,\n",
       "          0.46, 0.47, 0.48, 0.49, 0.5 , 0.51, 0.52, 0.53, 0.54, 0.55, 0.56,\n",
       "          0.57, 0.58, 0.59, 0.6 , 0.61, 0.62, 0.63, 0.64, 0.65, 0.66, 0.67,\n",
       "          0.68, 0.69]), 'weight': array([0.        , 0.        , 0.        , 0.        , 0.        ,\n",
       "          0.        , 0.00214823, 0.        , 0.00429646, 0.0236305 ,\n",
       "          0.04726101, 0.07626208, 0.11278195, 0.13856069, 0.14178303,\n",
       "          0.17722879, 0.12996778, 0.0698174 , 0.03329753, 0.02577873,\n",
       "          0.01074114, 0.00322234, 0.00214823, 0.00107411, 0.        ,\n",
       "          0.        , 0.        , 0.        , 0.        , 0.        ,\n",
       "          0.        , 0.        , 0.        , 0.        , 0.        ])},\n",
       "  (24.0,\n",
       "   40.0): {'value': array([0.35, 0.36, 0.37, 0.38, 0.39, 0.4 , 0.41, 0.42, 0.43, 0.44, 0.45,\n",
       "          0.46, 0.47, 0.48, 0.49, 0.5 , 0.51, 0.52, 0.53, 0.54, 0.55, 0.56,\n",
       "          0.57, 0.58, 0.59, 0.6 , 0.61, 0.62, 0.63, 0.64, 0.65, 0.66, 0.67,\n",
       "          0.68, 0.69]), 'weight': array([0.        , 0.        , 0.        , 0.        , 0.        ,\n",
       "          0.        , 0.0014881 , 0.00297619, 0.00744048, 0.01488095,\n",
       "          0.04315476, 0.05505952, 0.11904762, 0.12202381, 0.12202381,\n",
       "          0.18154762, 0.15178571, 0.07440476, 0.05208333, 0.02678571,\n",
       "          0.01339286, 0.00892857, 0.00297619, 0.        , 0.        ,\n",
       "          0.        , 0.        , 0.        , 0.        , 0.        ,\n",
       "          0.        , 0.        , 0.        , 0.        , 0.        ])},\n",
       "  (24.0,\n",
       "   45.0): {'value': array([0.35, 0.36, 0.37, 0.38, 0.39, 0.4 , 0.41, 0.42, 0.43, 0.44, 0.45,\n",
       "          0.46, 0.47, 0.48, 0.49, 0.5 , 0.51, 0.52, 0.53, 0.54, 0.55, 0.56,\n",
       "          0.57, 0.58, 0.59, 0.6 , 0.61, 0.62, 0.63, 0.64, 0.65, 0.66, 0.67,\n",
       "          0.68, 0.69]), 'weight': array([0.        , 0.        , 0.        , 0.        , 0.        ,\n",
       "          0.        , 0.00091827, 0.        , 0.00275482, 0.01469238,\n",
       "          0.03581267, 0.05509642, 0.10743802, 0.14049587, 0.15794307,\n",
       "          0.16620753, 0.10927456, 0.09641873, 0.06244261, 0.0312213 ,\n",
       "          0.00826446, 0.00642792, 0.00183655, 0.00183655, 0.        ,\n",
       "          0.        , 0.        , 0.        , 0.00091827, 0.        ,\n",
       "          0.        , 0.        , 0.        , 0.        , 0.        ])},\n",
       "  (26.0,\n",
       "   10.0): {'value': array([0.35, 0.36, 0.37, 0.38, 0.39, 0.4 , 0.41, 0.42, 0.43, 0.44, 0.45,\n",
       "          0.46, 0.47, 0.48, 0.49, 0.5 , 0.51, 0.52, 0.53, 0.54, 0.55, 0.56,\n",
       "          0.57, 0.58, 0.59, 0.6 , 0.61, 0.62, 0.63, 0.64, 0.65, 0.66, 0.67,\n",
       "          0.68, 0.69]), 'weight': array([0.        , 0.        , 0.        , 0.        , 0.        ,\n",
       "          0.        , 0.        , 0.00297619, 0.0014881 , 0.00595238,\n",
       "          0.01190476, 0.03422619, 0.09375   , 0.11309524, 0.13988095,\n",
       "          0.18303571, 0.10416667, 0.13988095, 0.09672619, 0.03869048,\n",
       "          0.02083333, 0.01041667, 0.        , 0.00297619, 0.        ,\n",
       "          0.        , 0.        , 0.        , 0.        , 0.        ,\n",
       "          0.        , 0.        , 0.        , 0.        , 0.        ])},\n",
       "  (26.0,\n",
       "   15.0): {'value': array([0.35, 0.36, 0.37, 0.38, 0.39, 0.4 , 0.41, 0.42, 0.43, 0.44, 0.45,\n",
       "          0.46, 0.47, 0.48, 0.49, 0.5 , 0.51, 0.52, 0.53, 0.54, 0.55, 0.56,\n",
       "          0.57, 0.58, 0.59, 0.6 , 0.61, 0.62, 0.63, 0.64, 0.65, 0.66, 0.67,\n",
       "          0.68, 0.69]), 'weight': array([0.        , 0.        , 0.        , 0.        , 0.        ,\n",
       "          0.        , 0.00059242, 0.00177725, 0.00118483, 0.00592417,\n",
       "          0.01895735, 0.03732227, 0.06279621, 0.12440758, 0.11966825,\n",
       "          0.17654028, 0.13270142, 0.13921801, 0.08353081, 0.04028436,\n",
       "          0.02725118, 0.01362559, 0.00533175, 0.00651659, 0.        ,\n",
       "          0.00118483, 0.00118483, 0.        , 0.        , 0.        ,\n",
       "          0.        , 0.        , 0.        , 0.        , 0.        ])},\n",
       "  (26.0,\n",
       "   20.0): {'value': array([0.35, 0.36, 0.37, 0.38, 0.39, 0.4 , 0.41, 0.42, 0.43, 0.44, 0.45,\n",
       "          0.46, 0.47, 0.48, 0.49, 0.5 , 0.51, 0.52, 0.53, 0.54, 0.55, 0.56,\n",
       "          0.57, 0.58, 0.59, 0.6 , 0.61, 0.62, 0.63, 0.64, 0.65, 0.66, 0.67,\n",
       "          0.68, 0.69]), 'weight': array([0.        , 0.        , 0.        , 0.        , 0.        ,\n",
       "          0.        , 0.        , 0.00045558, 0.00091116, 0.00410023,\n",
       "          0.01275626, 0.01867882, 0.0642369 , 0.09794989, 0.13530752,\n",
       "          0.18359909, 0.15170843, 0.13302961, 0.08154897, 0.05649203,\n",
       "          0.03462415, 0.01321185, 0.00637813, 0.00364465, 0.00045558,\n",
       "          0.00045558, 0.00045558, 0.        , 0.        , 0.        ,\n",
       "          0.        , 0.        , 0.        , 0.        , 0.        ])},\n",
       "  (26.0,\n",
       "   25.0): {'value': array([0.35, 0.36, 0.37, 0.38, 0.39, 0.4 , 0.41, 0.42, 0.43, 0.44, 0.45,\n",
       "          0.46, 0.47, 0.48, 0.49, 0.5 , 0.51, 0.52, 0.53, 0.54, 0.55, 0.56,\n",
       "          0.57, 0.58, 0.59, 0.6 , 0.61, 0.62, 0.63, 0.64, 0.65, 0.66, 0.67,\n",
       "          0.68, 0.69]), 'weight': array([0.        , 0.        , 0.        , 0.        , 0.        ,\n",
       "          0.        , 0.        , 0.00107585, 0.00215169, 0.00322754,\n",
       "          0.01075847, 0.02474449, 0.05809575, 0.0866057 , 0.1070468 ,\n",
       "          0.17590102, 0.15008069, 0.14846692, 0.0957504 , 0.0570199 ,\n",
       "          0.03980635, 0.0182894 , 0.01022055, 0.00860678, 0.00215169,\n",
       "          0.        , 0.        , 0.        , 0.        , 0.        ,\n",
       "          0.        , 0.        , 0.        , 0.        , 0.        ])},\n",
       "  (26.0,\n",
       "   30.0): {'value': array([0.35, 0.36, 0.37, 0.38, 0.39, 0.4 , 0.41, 0.42, 0.43, 0.44, 0.45,\n",
       "          0.46, 0.47, 0.48, 0.49, 0.5 , 0.51, 0.52, 0.53, 0.54, 0.55, 0.56,\n",
       "          0.57, 0.58, 0.59, 0.6 , 0.61, 0.62, 0.63, 0.64, 0.65, 0.66, 0.67,\n",
       "          0.68, 0.69]), 'weight': array([0.        , 0.        , 0.        , 0.        , 0.        ,\n",
       "          0.        , 0.        , 0.        , 0.        , 0.0074124 ,\n",
       "          0.0074124 , 0.02762803, 0.04716981, 0.09568733, 0.10175202,\n",
       "          0.17722372, 0.13746631, 0.14622642, 0.11051213, 0.05997305,\n",
       "          0.04110512, 0.02156334, 0.01010782, 0.00808625, 0.00067385,\n",
       "          0.        , 0.        , 0.        , 0.        , 0.        ,\n",
       "          0.        , 0.        , 0.        , 0.        , 0.        ])},\n",
       "  (26.0,\n",
       "   35.0): {'value': array([0.35, 0.36, 0.37, 0.38, 0.39, 0.4 , 0.41, 0.42, 0.43, 0.44, 0.45,\n",
       "          0.46, 0.47, 0.48, 0.49, 0.5 , 0.51, 0.52, 0.53, 0.54, 0.55, 0.56,\n",
       "          0.57, 0.58, 0.59, 0.6 , 0.61, 0.62, 0.63, 0.64, 0.65, 0.66, 0.67,\n",
       "          0.68, 0.69]), 'weight': array([0.        , 0.        , 0.        , 0.        , 0.        ,\n",
       "          0.        , 0.        , 0.00093023, 0.00093023, 0.00465116,\n",
       "          0.00465116, 0.01488372, 0.03534884, 0.07627907, 0.12186047,\n",
       "          0.17488372, 0.12930233, 0.15534884, 0.11069767, 0.07906977,\n",
       "          0.04465116, 0.02511628, 0.00930233, 0.00651163, 0.0027907 ,\n",
       "          0.0027907 , 0.        , 0.        , 0.        , 0.        ,\n",
       "          0.        , 0.        , 0.        , 0.        , 0.        ])},\n",
       "  (26.0,\n",
       "   40.0): {'value': array([0.35, 0.36, 0.37, 0.38, 0.39, 0.4 , 0.41, 0.42, 0.43, 0.44, 0.45,\n",
       "          0.46, 0.47, 0.48, 0.49, 0.5 , 0.51, 0.52, 0.53, 0.54, 0.55, 0.56,\n",
       "          0.57, 0.58, 0.59, 0.6 , 0.61, 0.62, 0.63, 0.64, 0.65, 0.66, 0.67,\n",
       "          0.68, 0.69]), 'weight': array([0.        , 0.        , 0.        , 0.        , 0.        ,\n",
       "          0.        , 0.        , 0.        , 0.00138122, 0.00276243,\n",
       "          0.00690608, 0.02071823, 0.04281768, 0.08287293, 0.10635359,\n",
       "          0.14917127, 0.14917127, 0.14917127, 0.11878453, 0.09254144,\n",
       "          0.03314917, 0.02762431, 0.00828729, 0.00138122, 0.00414365,\n",
       "          0.00138122, 0.        , 0.00138122, 0.        , 0.        ,\n",
       "          0.        , 0.        , 0.        , 0.        , 0.        ])},\n",
       "  (26.0,\n",
       "   45.0): {'value': array([0.35, 0.36, 0.37, 0.38, 0.39, 0.4 , 0.41, 0.42, 0.43, 0.44, 0.45,\n",
       "          0.46, 0.47, 0.48, 0.49, 0.5 , 0.51, 0.52, 0.53, 0.54, 0.55, 0.56,\n",
       "          0.57, 0.58, 0.59, 0.6 , 0.61, 0.62, 0.63, 0.64, 0.65, 0.66, 0.67,\n",
       "          0.68, 0.69]), 'weight': array([0.        , 0.        , 0.        , 0.        , 0.        ,\n",
       "          0.        , 0.        , 0.        , 0.00071942, 0.00215827,\n",
       "          0.00431655, 0.01942446, 0.03669065, 0.06258993, 0.10215827,\n",
       "          0.15539568, 0.14316547, 0.18633094, 0.11582734, 0.07122302,\n",
       "          0.05251799, 0.02733813, 0.01223022, 0.00719424, 0.        ,\n",
       "          0.00071942, 0.        , 0.        , 0.        , 0.        ,\n",
       "          0.        , 0.        , 0.        , 0.        , 0.        ])},\n",
       "  (28.0,\n",
       "   10.0): {'value': array([0.35, 0.36, 0.37, 0.38, 0.39, 0.4 , 0.41, 0.42, 0.43, 0.44, 0.45,\n",
       "          0.46, 0.47, 0.48, 0.49, 0.5 , 0.51, 0.52, 0.53, 0.54, 0.55, 0.56,\n",
       "          0.57, 0.58, 0.59, 0.6 , 0.61, 0.62, 0.63, 0.64, 0.65, 0.66, 0.67,\n",
       "          0.68, 0.69]), 'weight': array([0.        , 0.        , 0.        , 0.        , 0.        ,\n",
       "          0.        , 0.        , 0.00230947, 0.        , 0.        ,\n",
       "          0.        , 0.01385681, 0.02771363, 0.03464203, 0.06928406,\n",
       "          0.10854503, 0.09699769, 0.16166282, 0.12009238, 0.10623557,\n",
       "          0.10161663, 0.05773672, 0.05773672, 0.02771363, 0.00923788,\n",
       "          0.00230947, 0.00230947, 0.        , 0.        , 0.        ,\n",
       "          0.        , 0.        , 0.        , 0.        , 0.        ])},\n",
       "  (28.0,\n",
       "   15.0): {'value': array([0.35, 0.36, 0.37, 0.38, 0.39, 0.4 , 0.41, 0.42, 0.43, 0.44, 0.45,\n",
       "          0.46, 0.47, 0.48, 0.49, 0.5 , 0.51, 0.52, 0.53, 0.54, 0.55, 0.56,\n",
       "          0.57, 0.58, 0.59, 0.6 , 0.61, 0.62, 0.63, 0.64, 0.65, 0.66, 0.67,\n",
       "          0.68, 0.69]), 'weight': array([0.        , 0.        , 0.        , 0.        , 0.        ,\n",
       "          0.        , 0.        , 0.        , 0.0008244 , 0.0008244 ,\n",
       "          0.00329761, 0.00577082, 0.00989283, 0.03050289, 0.04286892,\n",
       "          0.10222589, 0.11706513, 0.16570486, 0.13767519, 0.13849959,\n",
       "          0.08326463, 0.06265458, 0.04946414, 0.03215169, 0.00989283,\n",
       "          0.00412201, 0.00247321, 0.0008244 , 0.        , 0.        ,\n",
       "          0.        , 0.        , 0.        , 0.        , 0.        ])},\n",
       "  (28.0,\n",
       "   20.0): {'value': array([0.35, 0.36, 0.37, 0.38, 0.39, 0.4 , 0.41, 0.42, 0.43, 0.44, 0.45,\n",
       "          0.46, 0.47, 0.48, 0.49, 0.5 , 0.51, 0.52, 0.53, 0.54, 0.55, 0.56,\n",
       "          0.57, 0.58, 0.59, 0.6 , 0.61, 0.62, 0.63, 0.64, 0.65, 0.66, 0.67,\n",
       "          0.68, 0.69]), 'weight': array([0.        , 0.        , 0.        , 0.00055617, 0.        ,\n",
       "          0.        , 0.        , 0.        , 0.        , 0.00055617,\n",
       "          0.00333704, 0.00723026, 0.01001112, 0.0294772 , 0.04505006,\n",
       "          0.09010011, 0.11067853, 0.15350389, 0.13793103, 0.13737486,\n",
       "          0.11067853, 0.06173526, 0.05228031, 0.03503893, 0.00444939,\n",
       "          0.00611791, 0.00222469, 0.00055617, 0.00055617, 0.        ,\n",
       "          0.        , 0.00055617, 0.        , 0.        , 0.        ])},\n",
       "  (28.0,\n",
       "   25.0): {'value': array([0.35, 0.36, 0.37, 0.38, 0.39, 0.4 , 0.41, 0.42, 0.43, 0.44, 0.45,\n",
       "          0.46, 0.47, 0.48, 0.49, 0.5 , 0.51, 0.52, 0.53, 0.54, 0.55, 0.56,\n",
       "          0.57, 0.58, 0.59, 0.6 , 0.61, 0.62, 0.63, 0.64, 0.65, 0.66, 0.67,\n",
       "          0.68, 0.69]), 'weight': array([0.        , 0.        , 0.        , 0.        , 0.        ,\n",
       "          0.        , 0.        , 0.        , 0.        , 0.        ,\n",
       "          0.00266241, 0.00266241, 0.00798722, 0.02555911, 0.04952077,\n",
       "          0.08945687, 0.1001065 , 0.1485623 , 0.15015974, 0.11501597,\n",
       "          0.11661342, 0.06922258, 0.05750799, 0.03567625, 0.01171459,\n",
       "          0.01118211, 0.00319489, 0.00212993, 0.        , 0.00053248,\n",
       "          0.        , 0.00053248, 0.        , 0.        , 0.        ])},\n",
       "  (28.0,\n",
       "   30.0): {'value': array([0.35, 0.36, 0.37, 0.38, 0.39, 0.4 , 0.41, 0.42, 0.43, 0.44, 0.45,\n",
       "          0.46, 0.47, 0.48, 0.49, 0.5 , 0.51, 0.52, 0.53, 0.54, 0.55, 0.56,\n",
       "          0.57, 0.58, 0.59, 0.6 , 0.61, 0.62, 0.63, 0.64, 0.65, 0.66, 0.67,\n",
       "          0.68, 0.69]), 'weight': array([0.        , 0.        , 0.        , 0.        , 0.        ,\n",
       "          0.        , 0.        , 0.        , 0.        , 0.0006435 ,\n",
       "          0.001287  , 0.0006435 , 0.00836551, 0.01930502, 0.03346203,\n",
       "          0.09459459, 0.08043758, 0.14478764, 0.13706564, 0.13770914,\n",
       "          0.11518662, 0.08236808, 0.07400257, 0.03732304, 0.01544402,\n",
       "          0.01222651, 0.0045045 , 0.        , 0.0006435 , 0.        ,\n",
       "          0.        , 0.        , 0.        , 0.        , 0.        ])},\n",
       "  (28.0,\n",
       "   35.0): {'value': array([0.35, 0.36, 0.37, 0.38, 0.39, 0.4 , 0.41, 0.42, 0.43, 0.44, 0.45,\n",
       "          0.46, 0.47, 0.48, 0.49, 0.5 , 0.51, 0.52, 0.53, 0.54, 0.55, 0.56,\n",
       "          0.57, 0.58, 0.59, 0.6 , 0.61, 0.62, 0.63, 0.64, 0.65, 0.66, 0.67,\n",
       "          0.68, 0.69]), 'weight': array([0.        , 0.        , 0.        , 0.        , 0.        ,\n",
       "          0.        , 0.        , 0.        , 0.00080192, 0.00080192,\n",
       "          0.00080192, 0.00481155, 0.01443464, 0.01603849, 0.03287891,\n",
       "          0.07858861, 0.07778669, 0.14033681, 0.13953488, 0.13552526,\n",
       "          0.12590217, 0.08901363, 0.06655974, 0.04170008, 0.01202887,\n",
       "          0.01764234, 0.0032077 , 0.00160385, 0.        , 0.        ,\n",
       "          0.        , 0.        , 0.        , 0.        , 0.        ])},\n",
       "  (28.0,\n",
       "   40.0): {'value': array([0.35, 0.36, 0.37, 0.38, 0.39, 0.4 , 0.41, 0.42, 0.43, 0.44, 0.45,\n",
       "          0.46, 0.47, 0.48, 0.49, 0.5 , 0.51, 0.52, 0.53, 0.54, 0.55, 0.56,\n",
       "          0.57, 0.58, 0.59, 0.6 , 0.61, 0.62, 0.63, 0.64, 0.65, 0.66, 0.67,\n",
       "          0.68, 0.69]), 'weight': array([0.        , 0.        , 0.        , 0.        , 0.        ,\n",
       "          0.00105708, 0.00105708, 0.        , 0.        , 0.        ,\n",
       "          0.        , 0.00422833, 0.00951374, 0.02959831, 0.03171247,\n",
       "          0.0782241 , 0.08668076, 0.16384778, 0.13424947, 0.10359408,\n",
       "          0.11522199, 0.09830867, 0.06553911, 0.04122622, 0.01479915,\n",
       "          0.01374207, 0.00422833, 0.00211416, 0.00105708, 0.        ,\n",
       "          0.        , 0.        , 0.        , 0.        , 0.        ])},\n",
       "  (28.0,\n",
       "   45.0): {'value': array([0.35, 0.36, 0.37, 0.38, 0.39, 0.4 , 0.41, 0.42, 0.43, 0.44, 0.45,\n",
       "          0.46, 0.47, 0.48, 0.49, 0.5 , 0.51, 0.52, 0.53, 0.54, 0.55, 0.56,\n",
       "          0.57, 0.58, 0.59, 0.6 , 0.61, 0.62, 0.63, 0.64, 0.65, 0.66, 0.67,\n",
       "          0.68, 0.69]), 'weight': array([0.        , 0.        , 0.        , 0.        , 0.        ,\n",
       "          0.        , 0.        , 0.00051733, 0.        , 0.00051733,\n",
       "          0.00206932, 0.00103466, 0.00724263, 0.01707191, 0.0305225 ,\n",
       "          0.062597  , 0.0693223 , 0.13812726, 0.13657527, 0.14174858,\n",
       "          0.1319193 , 0.09105018, 0.07966891, 0.0439731 , 0.02224521,\n",
       "          0.01345059, 0.00620797, 0.00413864, 0.        , 0.        ,\n",
       "          0.        , 0.        , 0.        , 0.        , 0.        ])},\n",
       "  (30.0,\n",
       "   10.0): {'value': array([0.35, 0.36, 0.37, 0.38, 0.39, 0.4 , 0.41, 0.42, 0.43, 0.44, 0.45,\n",
       "          0.46, 0.47, 0.48, 0.49, 0.5 , 0.51, 0.52, 0.53, 0.54, 0.55, 0.56,\n",
       "          0.57, 0.58, 0.59, 0.6 , 0.61, 0.62, 0.63, 0.64, 0.65, 0.66, 0.67,\n",
       "          0.68, 0.69]), 'weight': array([nan, nan, nan, nan, nan, nan, nan, nan, nan, nan, nan, nan, nan,\n",
       "          nan, nan, nan, nan, nan, nan, nan, nan, nan, nan, nan, nan, nan,\n",
       "          nan, nan, nan, nan, nan, nan, nan, nan, nan])},\n",
       "  (30.0,\n",
       "   15.0): {'value': array([0.35, 0.36, 0.37, 0.38, 0.39, 0.4 , 0.41, 0.42, 0.43, 0.44, 0.45,\n",
       "          0.46, 0.47, 0.48, 0.49, 0.5 , 0.51, 0.52, 0.53, 0.54, 0.55, 0.56,\n",
       "          0.57, 0.58, 0.59, 0.6 , 0.61, 0.62, 0.63, 0.64, 0.65, 0.66, 0.67,\n",
       "          0.68, 0.69]), 'weight': array([0.        , 0.        , 0.        , 0.        , 0.        ,\n",
       "          0.        , 0.        , 0.        , 0.        , 0.        ,\n",
       "          0.        , 0.00414938, 0.        , 0.        , 0.00414938,\n",
       "          0.01659751, 0.01659751, 0.02904564, 0.06639004, 0.06639004,\n",
       "          0.07053942, 0.1120332 , 0.21991701, 0.11618257, 0.07053942,\n",
       "          0.07883817, 0.06224066, 0.01659751, 0.02489627, 0.01659751,\n",
       "          0.        , 0.00829876, 0.        , 0.        , 0.        ])},\n",
       "  (30.0,\n",
       "   20.0): {'value': array([0.35, 0.36, 0.37, 0.38, 0.39, 0.4 , 0.41, 0.42, 0.43, 0.44, 0.45,\n",
       "          0.46, 0.47, 0.48, 0.49, 0.5 , 0.51, 0.52, 0.53, 0.54, 0.55, 0.56,\n",
       "          0.57, 0.58, 0.59, 0.6 , 0.61, 0.62, 0.63, 0.64, 0.65, 0.66, 0.67,\n",
       "          0.68, 0.69]), 'weight': array([0.        , 0.        , 0.        , 0.        , 0.        ,\n",
       "          0.        , 0.        , 0.        , 0.        , 0.        ,\n",
       "          0.        , 0.        , 0.        , 0.        , 0.00289855,\n",
       "          0.02028986, 0.        , 0.04057971, 0.02608696, 0.06086957,\n",
       "          0.10434783, 0.12753623, 0.19130435, 0.13043478, 0.08985507,\n",
       "          0.11304348, 0.05507246, 0.0173913 , 0.01449275, 0.0057971 ,\n",
       "          0.        , 0.        , 0.        , 0.        , 0.        ])},\n",
       "  (30.0,\n",
       "   25.0): {'value': array([0.35, 0.36, 0.37, 0.38, 0.39, 0.4 , 0.41, 0.42, 0.43, 0.44, 0.45,\n",
       "          0.46, 0.47, 0.48, 0.49, 0.5 , 0.51, 0.52, 0.53, 0.54, 0.55, 0.56,\n",
       "          0.57, 0.58, 0.59, 0.6 , 0.61, 0.62, 0.63, 0.64, 0.65, 0.66, 0.67,\n",
       "          0.68, 0.69]), 'weight': array([0.        , 0.        , 0.        , 0.        , 0.        ,\n",
       "          0.        , 0.        , 0.        , 0.        , 0.        ,\n",
       "          0.        , 0.        , 0.        , 0.        , 0.        ,\n",
       "          0.00234742, 0.00704225, 0.02347418, 0.04225352, 0.10328638,\n",
       "          0.08685446, 0.08920188, 0.15962441, 0.14788732, 0.07746479,\n",
       "          0.11971831, 0.05868545, 0.0399061 , 0.01877934, 0.02347418,\n",
       "          0.        , 0.        , 0.        , 0.        , 0.        ])},\n",
       "  (30.0,\n",
       "   30.0): {'value': array([0.35, 0.36, 0.37, 0.38, 0.39, 0.4 , 0.41, 0.42, 0.43, 0.44, 0.45,\n",
       "          0.46, 0.47, 0.48, 0.49, 0.5 , 0.51, 0.52, 0.53, 0.54, 0.55, 0.56,\n",
       "          0.57, 0.58, 0.59, 0.6 , 0.61, 0.62, 0.63, 0.64, 0.65, 0.66, 0.67,\n",
       "          0.68, 0.69]), 'weight': array([0.        , 0.        , 0.        , 0.        , 0.        ,\n",
       "          0.        , 0.        , 0.        , 0.00251889, 0.        ,\n",
       "          0.00251889, 0.        , 0.00251889, 0.        , 0.00251889,\n",
       "          0.01007557, 0.01511335, 0.03778338, 0.06801008, 0.06297229,\n",
       "          0.08816121, 0.10075567, 0.11335013, 0.13602015, 0.0906801 ,\n",
       "          0.10075567, 0.10831234, 0.02770781, 0.01259446, 0.01763224,\n",
       "          0.        , 0.        , 0.        , 0.        , 0.        ])},\n",
       "  (30.0,\n",
       "   35.0): {'value': array([0.35, 0.36, 0.37, 0.38, 0.39, 0.4 , 0.41, 0.42, 0.43, 0.44, 0.45,\n",
       "          0.46, 0.47, 0.48, 0.49, 0.5 , 0.51, 0.52, 0.53, 0.54, 0.55, 0.56,\n",
       "          0.57, 0.58, 0.59, 0.6 , 0.61, 0.62, 0.63, 0.64, 0.65, 0.66, 0.67,\n",
       "          0.68, 0.69]), 'weight': array([0.        , 0.        , 0.        , 0.        , 0.        ,\n",
       "          0.        , 0.        , 0.        , 0.        , 0.        ,\n",
       "          0.        , 0.        , 0.        , 0.00277778, 0.00277778,\n",
       "          0.00277778, 0.01111111, 0.025     , 0.03055556, 0.06666667,\n",
       "          0.11944444, 0.09444444, 0.10833333, 0.16944444, 0.06388889,\n",
       "          0.10277778, 0.09444444, 0.06111111, 0.02777778, 0.00833333,\n",
       "          0.00277778, 0.00555556, 0.        , 0.        , 0.        ])},\n",
       "  (30.0,\n",
       "   40.0): {'value': array([0.35, 0.36, 0.37, 0.38, 0.39, 0.4 , 0.41, 0.42, 0.43, 0.44, 0.45,\n",
       "          0.46, 0.47, 0.48, 0.49, 0.5 , 0.51, 0.52, 0.53, 0.54, 0.55, 0.56,\n",
       "          0.57, 0.58, 0.59, 0.6 , 0.61, 0.62, 0.63, 0.64, 0.65, 0.66, 0.67,\n",
       "          0.68, 0.69]), 'weight': array([0.        , 0.        , 0.        , 0.        , 0.        ,\n",
       "          0.        , 0.        , 0.        , 0.        , 0.        ,\n",
       "          0.        , 0.        , 0.        , 0.        , 0.        ,\n",
       "          0.01470588, 0.02352941, 0.03529412, 0.03529412, 0.05      ,\n",
       "          0.08823529, 0.10882353, 0.16764706, 0.12941176, 0.09411765,\n",
       "          0.09411765, 0.09411765, 0.02941176, 0.01176471, 0.01470588,\n",
       "          0.00588235, 0.00294118, 0.        , 0.        , 0.        ])},\n",
       "  (30.0,\n",
       "   45.0): {'value': array([0.35, 0.36, 0.37, 0.38, 0.39, 0.4 , 0.41, 0.42, 0.43, 0.44, 0.45,\n",
       "          0.46, 0.47, 0.48, 0.49, 0.5 , 0.51, 0.52, 0.53, 0.54, 0.55, 0.56,\n",
       "          0.57, 0.58, 0.59, 0.6 , 0.61, 0.62, 0.63, 0.64, 0.65, 0.66, 0.67,\n",
       "          0.68, 0.69]), 'weight': array([0.        , 0.        , 0.        , 0.        , 0.        ,\n",
       "          0.        , 0.        , 0.        , 0.00131752, 0.        ,\n",
       "          0.        , 0.        , 0.        , 0.        , 0.00263505,\n",
       "          0.00527009, 0.00527009, 0.03162055, 0.04479578, 0.06719368,\n",
       "          0.07641634, 0.10144928, 0.14097497, 0.15019763, 0.06192358,\n",
       "          0.11725955, 0.08695652, 0.05797101, 0.02898551, 0.00922266,\n",
       "          0.00527009, 0.00395257, 0.00131752, 0.        , 0.        ])}}}"
      ]
     },
     "execution_count": 173,
     "metadata": {},
     "output_type": "execute_result"
    }
   ],
   "source": [
    "with open('./WHtR_concat/04/WHtR_weight_list.pkl', 'rb') as fr:\n",
    "    data = pickle.load(fr)\n",
    "data"
   ]
  },
  {
   "cell_type": "code",
   "execution_count": 179,
   "id": "ac52fd77",
   "metadata": {},
   "outputs": [
    {
     "data": {
      "text/html": [
       "<div>\n",
       "<style scoped>\n",
       "    .dataframe tbody tr th:only-of-type {\n",
       "        vertical-align: middle;\n",
       "    }\n",
       "\n",
       "    .dataframe tbody tr th {\n",
       "        vertical-align: top;\n",
       "    }\n",
       "\n",
       "    .dataframe thead th {\n",
       "        text-align: right;\n",
       "    }\n",
       "</style>\n",
       "<table border=\"1\" class=\"dataframe\">\n",
       "  <thead>\n",
       "    <tr style=\"text-align: right;\">\n",
       "      <th></th>\n",
       "      <th>WHtR</th>\n",
       "      <th>bmi_c</th>\n",
       "      <th>ALT_c</th>\n",
       "    </tr>\n",
       "  </thead>\n",
       "  <tbody>\n",
       "    <tr>\n",
       "      <th>0</th>\n",
       "      <td>0.437</td>\n",
       "      <td>22.0</td>\n",
       "      <td>25.0</td>\n",
       "    </tr>\n",
       "    <tr>\n",
       "      <th>1</th>\n",
       "      <td>0.508</td>\n",
       "      <td>24.0</td>\n",
       "      <td>30.0</td>\n",
       "    </tr>\n",
       "  </tbody>\n",
       "</table>\n",
       "</div>"
      ],
      "text/plain": [
       "    WHtR  bmi_c  ALT_c\n",
       "0  0.437   22.0   25.0\n",
       "1  0.508   24.0   30.0"
      ]
     },
     "execution_count": 179,
     "metadata": {},
     "output_type": "execute_result"
    }
   ],
   "source": [
    "df.head(2)"
   ]
  },
  {
   "cell_type": "code",
   "execution_count": 195,
   "id": "343483f8",
   "metadata": {},
   "outputs": [
    {
     "name": "stdout",
     "output_type": "stream",
     "text": [
      "<class 'pandas.core.frame.DataFrame'>\n",
      "RangeIndex: 57903 entries, 0 to 57902\n",
      "Data columns (total 3 columns):\n",
      " #   Column  Non-Null Count  Dtype  \n",
      "---  ------  --------------  -----  \n",
      " 0   WHtR    57903 non-null  float64\n",
      " 1   bmi_c   57903 non-null  float64\n",
      " 2   ALT_c   57903 non-null  float64\n",
      "dtypes: float64(3)\n",
      "memory usage: 1.3 MB\n"
     ]
    }
   ],
   "source": [
    "df.info()"
   ]
  },
  {
   "cell_type": "code",
   "execution_count": 181,
   "id": "6991e3ad",
   "metadata": {},
   "outputs": [],
   "source": [
    "i = 0\n",
    "bmi, alt = df.loc[i, 'bmi_c'], df.loc[i, 'ALT_c']"
   ]
  },
  {
   "cell_type": "code",
   "execution_count": 184,
   "id": "a5d7dfe8",
   "metadata": {},
   "outputs": [],
   "source": [
    "li_val = data['data'][(bmi, alt)]['value']\n",
    "li_weight = data['data'][(bmi, alt)]['weight']"
   ]
  },
  {
   "cell_type": "code",
   "execution_count": 194,
   "id": "5604f1ab",
   "metadata": {},
   "outputs": [
    {
     "data": {
      "text/plain": [
       "0.47"
      ]
     },
     "execution_count": 194,
     "metadata": {},
     "output_type": "execute_result"
    }
   ],
   "source": [
    "np.random.choice(li_val, p=li_weight)"
   ]
  },
  {
   "cell_type": "code",
   "execution_count": null,
   "id": "aefb3e3a",
   "metadata": {},
   "outputs": [],
   "source": []
  },
  {
   "cell_type": "code",
   "execution_count": 198,
   "id": "b4eca2fa",
   "metadata": {},
   "outputs": [],
   "source": [
    "li_whtr = []\n",
    "for i in range(df.count().max()):\n",
    "    bmi, alt = df.loc[i, 'bmi_c'], df.loc[i, 'ALT_c']\n",
    "\n",
    "    li_val = data['data'][(bmi, alt)]['value']\n",
    "    li_weight = data['data'][(bmi, alt)]['weight']\n",
    "\n",
    "    li_whtr.append(np.random.choice(li_val, p=li_weight))"
   ]
  },
  {
   "cell_type": "code",
   "execution_count": 204,
   "id": "dffd73e1",
   "metadata": {},
   "outputs": [
    {
     "data": {
      "image/png": "[encoded data removed]",
      "text/plain": [
       "<Figure size 432x288 with 1 Axes>"
      ]
     },
     "metadata": {
      "needs_background": "light"
     },
     "output_type": "display_data"
    }
   ],
   "source": [
    "plt.hist(li_whtr, range=rng, bins=bns, alpha=0.3)\n",
    "plt.hist(df.WHtR, range=rng, bins=bns, alpha=0.3)\n",
    "plt.grid()\n",
    "plt.show()"
   ]
  },
  {
   "cell_type": "code",
   "execution_count": 207,
   "id": "404bbbd0",
   "metadata": {},
   "outputs": [
    {
     "data": {
      "text/plain": [
       "0.03659501853456612"
      ]
     },
     "execution_count": 207,
     "metadata": {},
     "output_type": "execute_result"
    }
   ],
   "source": [
    "var = np.var(df.WHtR - li_whtr)\n",
    "np.sqrt(var)"
   ]
  },
  {
   "cell_type": "markdown",
   "id": "cac476c8",
   "metadata": {},
   "source": [
    "- 평균 오차 (백분률)"
   ]
  },
  {
   "cell_type": "code",
   "execution_count": 212,
   "id": "8a1c7b47",
   "metadata": {},
   "outputs": [
    {
     "name": "stdout",
     "output_type": "stream",
     "text": [
      "7.4 %\n"
     ]
    }
   ],
   "source": [
    "var = np.var((df.WHtR - li_whtr)/df.WHtR)\n",
    "print((np.sqrt(var)*100).round(1), '%')"
   ]
  },
  {
   "cell_type": "code",
   "execution_count": null,
   "id": "b88f16f2",
   "metadata": {},
   "outputs": [],
   "source": []
  },
  {
   "cell_type": "code",
   "execution_count": null,
   "id": "f83929eb",
   "metadata": {},
   "outputs": [],
   "source": []
  }
 ],
 "metadata": {
  "kernelspec": {
   "display_name": "Python 3 (ipykernel)",
   "language": "python",
   "name": "python3"
  },
  "language_info": {
   "codemirror_mode": {
    "name": "ipython",
    "version": 3
   },
   "file_extension": ".py",
   "mimetype": "text/x-python",
   "name": "python",
   "nbconvert_exporter": "python",
   "pygments_lexer": "ipython3",
   "version": "3.8.13"
  },
  "toc": {
   "base_numbering": 1,
   "nav_menu": {},
   "number_sections": true,
   "sideBar": true,
   "skip_h1_title": false,
   "title_cell": "Table of Contents",
   "title_sidebar": "Contents",
   "toc_cell": false,
   "toc_position": {},
   "toc_section_display": true,
   "toc_window_display": true
  }
 },
 "nbformat": 4,
 "nbformat_minor": 5
}
