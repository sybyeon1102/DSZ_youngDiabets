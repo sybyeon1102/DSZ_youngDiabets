{
 "cells": [
  {
   "cell_type": "markdown",
   "id": "c9865bdd",
   "metadata": {},
   "source": [
    "author : sybyeon1102@gmail.com"
   ]
  },
  {
   "cell_type": "markdown",
   "id": "90f1b1e5",
   "metadata": {},
   "source": [
    "## import"
   ]
  },
  {
   "cell_type": "code",
   "execution_count": 160,
   "id": "dcb583ad",
   "metadata": {},
   "outputs": [],
   "source": [
    "import numpy as np\n",
    "import pandas as pd\n",
    "import matplotlib.pyplot as plt\n",
    "import seaborn as sns"
   ]
  },
  {
   "cell_type": "code",
   "execution_count": 161,
   "id": "069f56b2",
   "metadata": {},
   "outputs": [],
   "source": [
    "from matplotlib import rc\n",
    "rc('font', family='Malgun Gothic') # 한글 폰트\n",
    "plt.rcParams['axes.unicode_minus'] = False # 마이너스 부호출력 설정"
   ]
  },
  {
   "cell_type": "code",
   "execution_count": 162,
   "id": "f9bb53a9",
   "metadata": {},
   "outputs": [],
   "source": [
    "from warnings import filterwarnings\n",
    "filterwarnings('ignore')"
   ]
  },
  {
   "cell_type": "code",
   "execution_count": null,
   "id": "13d06178",
   "metadata": {},
   "outputs": [],
   "source": []
  },
  {
   "cell_type": "markdown",
   "id": "e4d208b4",
   "metadata": {},
   "source": [
    "# WHtR와 각 컬럼과의 상관계수"
   ]
  },
  {
   "cell_type": "markdown",
   "id": "2a0df591",
   "metadata": {},
   "source": [
    "- bmi (0.82), \n",
    "- ALT (0.35),\n",
    "- 감마지티피(0.27), 혈압 (0.21/0.21), AST(0.16)"
   ]
  },
  {
   "cell_type": "code",
   "execution_count": 163,
   "id": "670c7048",
   "metadata": {},
   "outputs": [],
   "source": [
    "df = pd.read_pickle('./WHtR_concat/02/reduction_04.pkl')"
   ]
  },
  {
   "cell_type": "code",
   "execution_count": 164,
   "id": "b5127569",
   "metadata": {},
   "outputs": [
    {
     "name": "stdout",
     "output_type": "stream",
     "text": [
      "<class 'pandas.core.frame.DataFrame'>\n",
      "RangeIndex: 57903 entries, 0 to 57902\n",
      "Data columns (total 13 columns):\n",
      " #   Column      Non-Null Count  Dtype  \n",
      "---  ------      --------------  -----  \n",
      " 0   신장(5Cm단위)   57903 non-null  float64\n",
      " 1   체중(5Kg 단위)  57903 non-null  float64\n",
      " 2   허리둘레        57903 non-null  float64\n",
      " 3   수축기 혈압      57903 non-null  float64\n",
      " 4   이완기 혈압      57903 non-null  float64\n",
      " 5   식전혈당(공복혈당)  57903 non-null  float64\n",
      " 6   (혈청지오티)AST  57903 non-null  float64\n",
      " 7   (혈청지오티)ALT  57903 non-null  float64\n",
      " 8   감마 지티피      57903 non-null  float64\n",
      " 9   흡연상태        57903 non-null  float64\n",
      " 10  음주여부        57903 non-null  float64\n",
      " 11  bmi         57903 non-null  float64\n",
      " 12  WHtR        57903 non-null  float64\n",
      "dtypes: float64(13)\n",
      "memory usage: 5.7 MB\n"
     ]
    }
   ],
   "source": [
    "df.info()"
   ]
  },
  {
   "cell_type": "code",
   "execution_count": 165,
   "id": "9760c27c",
   "metadata": {},
   "outputs": [
    {
     "data": {
      "text/html": [
       "<div>\n",
       "<style scoped>\n",
       "    .dataframe tbody tr th:only-of-type {\n",
       "        vertical-align: middle;\n",
       "    }\n",
       "\n",
       "    .dataframe tbody tr th {\n",
       "        vertical-align: top;\n",
       "    }\n",
       "\n",
       "    .dataframe thead th {\n",
       "        text-align: right;\n",
       "    }\n",
       "</style>\n",
       "<table border=\"1\" class=\"dataframe\">\n",
       "  <thead>\n",
       "    <tr style=\"text-align: right;\">\n",
       "      <th></th>\n",
       "      <th>신장(5Cm단위)</th>\n",
       "      <th>체중(5Kg 단위)</th>\n",
       "      <th>허리둘레</th>\n",
       "      <th>수축기 혈압</th>\n",
       "      <th>이완기 혈압</th>\n",
       "      <th>식전혈당(공복혈당)</th>\n",
       "      <th>(혈청지오티)AST</th>\n",
       "      <th>(혈청지오티)ALT</th>\n",
       "      <th>감마 지티피</th>\n",
       "      <th>흡연상태</th>\n",
       "      <th>음주여부</th>\n",
       "      <th>bmi</th>\n",
       "      <th>WHtR</th>\n",
       "    </tr>\n",
       "  </thead>\n",
       "  <tbody>\n",
       "    <tr>\n",
       "      <th>0</th>\n",
       "      <td>165.0</td>\n",
       "      <td>60.0</td>\n",
       "      <td>72.1</td>\n",
       "      <td>127.0</td>\n",
       "      <td>79.0</td>\n",
       "      <td>90.0</td>\n",
       "      <td>21.0</td>\n",
       "      <td>27.0</td>\n",
       "      <td>21.0</td>\n",
       "      <td>1.0</td>\n",
       "      <td>0.0</td>\n",
       "      <td>22.0</td>\n",
       "      <td>0.437</td>\n",
       "    </tr>\n",
       "    <tr>\n",
       "      <th>1</th>\n",
       "      <td>185.0</td>\n",
       "      <td>85.0</td>\n",
       "      <td>94.0</td>\n",
       "      <td>114.0</td>\n",
       "      <td>72.0</td>\n",
       "      <td>86.0</td>\n",
       "      <td>25.0</td>\n",
       "      <td>32.0</td>\n",
       "      <td>26.0</td>\n",
       "      <td>3.0</td>\n",
       "      <td>1.0</td>\n",
       "      <td>24.8</td>\n",
       "      <td>0.508</td>\n",
       "    </tr>\n",
       "    <tr>\n",
       "      <th>2</th>\n",
       "      <td>165.0</td>\n",
       "      <td>55.0</td>\n",
       "      <td>77.5</td>\n",
       "      <td>130.0</td>\n",
       "      <td>70.0</td>\n",
       "      <td>87.0</td>\n",
       "      <td>18.0</td>\n",
       "      <td>10.0</td>\n",
       "      <td>15.0</td>\n",
       "      <td>1.0</td>\n",
       "      <td>0.0</td>\n",
       "      <td>20.2</td>\n",
       "      <td>0.470</td>\n",
       "    </tr>\n",
       "    <tr>\n",
       "      <th>3</th>\n",
       "      <td>165.0</td>\n",
       "      <td>75.0</td>\n",
       "      <td>84.0</td>\n",
       "      <td>139.0</td>\n",
       "      <td>80.0</td>\n",
       "      <td>92.0</td>\n",
       "      <td>27.0</td>\n",
       "      <td>30.0</td>\n",
       "      <td>25.0</td>\n",
       "      <td>2.0</td>\n",
       "      <td>1.0</td>\n",
       "      <td>27.5</td>\n",
       "      <td>0.509</td>\n",
       "    </tr>\n",
       "    <tr>\n",
       "      <th>4</th>\n",
       "      <td>175.0</td>\n",
       "      <td>70.0</td>\n",
       "      <td>83.0</td>\n",
       "      <td>110.0</td>\n",
       "      <td>70.0</td>\n",
       "      <td>120.0</td>\n",
       "      <td>19.0</td>\n",
       "      <td>14.0</td>\n",
       "      <td>25.0</td>\n",
       "      <td>3.0</td>\n",
       "      <td>1.0</td>\n",
       "      <td>22.9</td>\n",
       "      <td>0.474</td>\n",
       "    </tr>\n",
       "  </tbody>\n",
       "</table>\n",
       "</div>"
      ],
      "text/plain": [
       "   신장(5Cm단위)  체중(5Kg 단위)  허리둘레  수축기 혈압  이완기 혈압  식전혈당(공복혈당)  (혈청지오티)AST  \\\n",
       "0      165.0        60.0  72.1   127.0    79.0        90.0        21.0   \n",
       "1      185.0        85.0  94.0   114.0    72.0        86.0        25.0   \n",
       "2      165.0        55.0  77.5   130.0    70.0        87.0        18.0   \n",
       "3      165.0        75.0  84.0   139.0    80.0        92.0        27.0   \n",
       "4      175.0        70.0  83.0   110.0    70.0       120.0        19.0   \n",
       "\n",
       "   (혈청지오티)ALT  감마 지티피  흡연상태  음주여부   bmi   WHtR  \n",
       "0        27.0    21.0   1.0   0.0  22.0  0.437  \n",
       "1        32.0    26.0   3.0   1.0  24.8  0.508  \n",
       "2        10.0    15.0   1.0   0.0  20.2  0.470  \n",
       "3        30.0    25.0   2.0   1.0  27.5  0.509  \n",
       "4        14.0    25.0   3.0   1.0  22.9  0.474  "
      ]
     },
     "execution_count": 165,
     "metadata": {},
     "output_type": "execute_result"
    }
   ],
   "source": [
    "df.head()"
   ]
  },
  {
   "cell_type": "code",
   "execution_count": 166,
   "id": "d53b542b",
   "metadata": {},
   "outputs": [],
   "source": [
    "df1 = df.copy()"
   ]
  },
  {
   "cell_type": "code",
   "execution_count": 167,
   "id": "0292c7ce",
   "metadata": {},
   "outputs": [
    {
     "data": {
      "text/plain": [
       "<AxesSubplot:>"
      ]
     },
     "execution_count": 167,
     "metadata": {},
     "output_type": "execute_result"
    },
    {
     "data": {
      "image/png": "[encoded data removed]",
      "text/plain": [
       "<Figure size 432x288 with 1 Axes>"
      ]
     },
     "metadata": {
      "needs_background": "light"
     },
     "output_type": "display_data"
    }
   ],
   "source": [
    "df1.bmi.hist(range=(10, 40), bins=30)"
   ]
  },
  {
   "cell_type": "code",
   "execution_count": 168,
   "id": "764c26a1",
   "metadata": {},
   "outputs": [
    {
     "data": {
      "text/plain": [
       "<AxesSubplot:>"
      ]
     },
     "execution_count": 168,
     "metadata": {},
     "output_type": "execute_result"
    },
    {
     "data": {
      "image/png": "[encoded data removed]",
      "text/plain": [
       "<Figure size 432x288 with 1 Axes>"
      ]
     },
     "metadata": {
      "needs_background": "light"
     },
     "output_type": "display_data"
    }
   ],
   "source": [
    "df1.WHtR.hist(range=(0.3, 0.7), bins=80)"
   ]
  },
  {
   "cell_type": "code",
   "execution_count": 169,
   "id": "47804834",
   "metadata": {},
   "outputs": [
    {
     "data": {
      "image/png": "[encoded data removed]",
      "text/plain": [
       "<Figure size 576x432 with 1 Axes>"
      ]
     },
     "metadata": {
      "needs_background": "light"
     },
     "output_type": "display_data"
    }
   ],
   "source": [
    "plt.figure(figsize=(8, 6))\n",
    "plt.plot(df1.bmi, df1.WHtR, 'b.', alpha=0.1)\n",
    "plt.xticks(range(13, 41))\n",
    "plt.xlabel('bmi')\n",
    "plt.ylabel('WHtR')\n",
    "plt.grid()"
   ]
  },
  {
   "cell_type": "code",
   "execution_count": 170,
   "id": "269dae75",
   "metadata": {
    "scrolled": true
   },
   "outputs": [
    {
     "data": {
      "text/html": [
       "<div>\n",
       "<style scoped>\n",
       "    .dataframe tbody tr th:only-of-type {\n",
       "        vertical-align: middle;\n",
       "    }\n",
       "\n",
       "    .dataframe tbody tr th {\n",
       "        vertical-align: top;\n",
       "    }\n",
       "\n",
       "    .dataframe thead th {\n",
       "        text-align: right;\n",
       "    }\n",
       "</style>\n",
       "<table border=\"1\" class=\"dataframe\">\n",
       "  <thead>\n",
       "    <tr style=\"text-align: right;\">\n",
       "      <th></th>\n",
       "      <th>신장(5Cm단위)</th>\n",
       "      <th>체중(5Kg 단위)</th>\n",
       "      <th>허리둘레</th>\n",
       "      <th>수축기 혈압</th>\n",
       "      <th>이완기 혈압</th>\n",
       "      <th>식전혈당(공복혈당)</th>\n",
       "      <th>(혈청지오티)AST</th>\n",
       "      <th>(혈청지오티)ALT</th>\n",
       "      <th>감마 지티피</th>\n",
       "      <th>흡연상태</th>\n",
       "      <th>음주여부</th>\n",
       "      <th>bmi</th>\n",
       "      <th>WHtR</th>\n",
       "      <th>bmi_int</th>\n",
       "    </tr>\n",
       "  </thead>\n",
       "  <tbody>\n",
       "    <tr>\n",
       "      <th>0</th>\n",
       "      <td>165.0</td>\n",
       "      <td>60.0</td>\n",
       "      <td>72.1</td>\n",
       "      <td>127.0</td>\n",
       "      <td>79.0</td>\n",
       "      <td>90.0</td>\n",
       "      <td>21.0</td>\n",
       "      <td>27.0</td>\n",
       "      <td>21.0</td>\n",
       "      <td>1.0</td>\n",
       "      <td>0.0</td>\n",
       "      <td>22.0</td>\n",
       "      <td>0.437</td>\n",
       "      <td>22.0</td>\n",
       "    </tr>\n",
       "    <tr>\n",
       "      <th>1</th>\n",
       "      <td>185.0</td>\n",
       "      <td>85.0</td>\n",
       "      <td>94.0</td>\n",
       "      <td>114.0</td>\n",
       "      <td>72.0</td>\n",
       "      <td>86.0</td>\n",
       "      <td>25.0</td>\n",
       "      <td>32.0</td>\n",
       "      <td>26.0</td>\n",
       "      <td>3.0</td>\n",
       "      <td>1.0</td>\n",
       "      <td>24.8</td>\n",
       "      <td>0.508</td>\n",
       "      <td>25.0</td>\n",
       "    </tr>\n",
       "    <tr>\n",
       "      <th>2</th>\n",
       "      <td>165.0</td>\n",
       "      <td>55.0</td>\n",
       "      <td>77.5</td>\n",
       "      <td>130.0</td>\n",
       "      <td>70.0</td>\n",
       "      <td>87.0</td>\n",
       "      <td>18.0</td>\n",
       "      <td>10.0</td>\n",
       "      <td>15.0</td>\n",
       "      <td>1.0</td>\n",
       "      <td>0.0</td>\n",
       "      <td>20.2</td>\n",
       "      <td>0.470</td>\n",
       "      <td>20.0</td>\n",
       "    </tr>\n",
       "    <tr>\n",
       "      <th>3</th>\n",
       "      <td>165.0</td>\n",
       "      <td>75.0</td>\n",
       "      <td>84.0</td>\n",
       "      <td>139.0</td>\n",
       "      <td>80.0</td>\n",
       "      <td>92.0</td>\n",
       "      <td>27.0</td>\n",
       "      <td>30.0</td>\n",
       "      <td>25.0</td>\n",
       "      <td>2.0</td>\n",
       "      <td>1.0</td>\n",
       "      <td>27.5</td>\n",
       "      <td>0.509</td>\n",
       "      <td>28.0</td>\n",
       "    </tr>\n",
       "    <tr>\n",
       "      <th>4</th>\n",
       "      <td>175.0</td>\n",
       "      <td>70.0</td>\n",
       "      <td>83.0</td>\n",
       "      <td>110.0</td>\n",
       "      <td>70.0</td>\n",
       "      <td>120.0</td>\n",
       "      <td>19.0</td>\n",
       "      <td>14.0</td>\n",
       "      <td>25.0</td>\n",
       "      <td>3.0</td>\n",
       "      <td>1.0</td>\n",
       "      <td>22.9</td>\n",
       "      <td>0.474</td>\n",
       "      <td>23.0</td>\n",
       "    </tr>\n",
       "  </tbody>\n",
       "</table>\n",
       "</div>"
      ],
      "text/plain": [
       "   신장(5Cm단위)  체중(5Kg 단위)  허리둘레  수축기 혈압  이완기 혈압  식전혈당(공복혈당)  (혈청지오티)AST  \\\n",
       "0      165.0        60.0  72.1   127.0    79.0        90.0        21.0   \n",
       "1      185.0        85.0  94.0   114.0    72.0        86.0        25.0   \n",
       "2      165.0        55.0  77.5   130.0    70.0        87.0        18.0   \n",
       "3      165.0        75.0  84.0   139.0    80.0        92.0        27.0   \n",
       "4      175.0        70.0  83.0   110.0    70.0       120.0        19.0   \n",
       "\n",
       "   (혈청지오티)ALT  감마 지티피  흡연상태  음주여부   bmi   WHtR  bmi_int  \n",
       "0        27.0    21.0   1.0   0.0  22.0  0.437     22.0  \n",
       "1        32.0    26.0   3.0   1.0  24.8  0.508     25.0  \n",
       "2        10.0    15.0   1.0   0.0  20.2  0.470     20.0  \n",
       "3        30.0    25.0   2.0   1.0  27.5  0.509     28.0  \n",
       "4        14.0    25.0   3.0   1.0  22.9  0.474     23.0  "
      ]
     },
     "execution_count": 170,
     "metadata": {},
     "output_type": "execute_result"
    }
   ],
   "source": [
    "df1['bmi_int'] = df1.bmi.round()\n",
    "df1.head()"
   ]
  },
  {
   "cell_type": "code",
   "execution_count": 171,
   "id": "8fb2a33b",
   "metadata": {},
   "outputs": [
    {
     "data": {
      "image/png": "[encoded data removed]",
      "text/plain": [
       "<Figure size 576x432 with 1 Axes>"
      ]
     },
     "metadata": {
      "needs_background": "light"
     },
     "output_type": "display_data"
    }
   ],
   "source": [
    "plt.figure(figsize=(8, 6))\n",
    "plt.plot(df1.bmi_int, df1.WHtR, 'b.', alpha=0.1)\n",
    "plt.xticks(range(13, 41))\n",
    "plt.xlabel('bmi_int')\n",
    "plt.ylabel('WHtR')\n",
    "plt.grid()"
   ]
  },
  {
   "cell_type": "code",
   "execution_count": null,
   "id": "c9ae1981",
   "metadata": {},
   "outputs": [],
   "source": []
  },
  {
   "cell_type": "markdown",
   "id": "6a3b311e",
   "metadata": {},
   "source": [
    "# 테스트 : histogram 과 weight list"
   ]
  },
  {
   "cell_type": "code",
   "execution_count": 172,
   "id": "67cb755d",
   "metadata": {},
   "outputs": [
    {
     "data": {
      "text/plain": [
       "24.5"
      ]
     },
     "execution_count": 172,
     "metadata": {},
     "output_type": "execute_result"
    }
   ],
   "source": [
    "df1.bmi.median()"
   ]
  },
  {
   "cell_type": "markdown",
   "id": "7312cbbc",
   "metadata": {},
   "source": [
    "- bmi == 24"
   ]
  },
  {
   "cell_type": "code",
   "execution_count": 173,
   "id": "36ee4c2b",
   "metadata": {},
   "outputs": [
    {
     "data": {
      "text/plain": [
       "13       0.497\n",
       "14       0.497\n",
       "16       0.512\n",
       "18       0.469\n",
       "54       0.462\n",
       "         ...  \n",
       "57875    0.509\n",
       "57877    0.471\n",
       "57880    0.503\n",
       "57885    0.483\n",
       "57886    0.469\n",
       "Name: WHtR, Length: 10601, dtype: float64"
      ]
     },
     "execution_count": 173,
     "metadata": {},
     "output_type": "execute_result"
    }
   ],
   "source": [
    "whtr = df1[df1.bmi_int == 24.0].WHtR\n",
    "whtr"
   ]
  },
  {
   "cell_type": "code",
   "execution_count": 174,
   "id": "cce2d583",
   "metadata": {},
   "outputs": [
    {
     "data": {
      "text/plain": [
       "<AxesSubplot:>"
      ]
     },
     "execution_count": 174,
     "metadata": {},
     "output_type": "execute_result"
    },
    {
     "data": {
      "image/png": "[encoded data removed]",
      "text/plain": [
       "<Figure size 432x288 with 1 Axes>"
      ]
     },
     "metadata": {
      "needs_background": "light"
     },
     "output_type": "display_data"
    }
   ],
   "source": [
    "whtr.hist(range=(0.4, 0.7), bins=60)"
   ]
  },
  {
   "cell_type": "code",
   "execution_count": 175,
   "id": "d17260f7",
   "metadata": {},
   "outputs": [],
   "source": [
    "y, x = np.histogram(whtr, range=(0.4, 0.7), bins=60)"
   ]
  },
  {
   "cell_type": "code",
   "execution_count": 176,
   "id": "d812798e",
   "metadata": {},
   "outputs": [
    {
     "data": {
      "text/plain": [
       "((60,), (61,))"
      ]
     },
     "execution_count": 176,
     "metadata": {},
     "output_type": "execute_result"
    }
   ],
   "source": [
    "y.shape, x.shape"
   ]
  },
  {
   "cell_type": "code",
   "execution_count": 177,
   "id": "e8801391",
   "metadata": {},
   "outputs": [
    {
     "data": {
      "text/plain": [
       "[<matplotlib.lines.Line2D at 0x1ae6922eeb0>]"
      ]
     },
     "execution_count": 177,
     "metadata": {},
     "output_type": "execute_result"
    },
    {
     "data": {
      "image/png": "[encoded data removed]",
      "text/plain": [
       "<Figure size 432x288 with 1 Axes>"
      ]
     },
     "metadata": {
      "needs_background": "light"
     },
     "output_type": "display_data"
    }
   ],
   "source": [
    "plt.plot(x[:-1], y/y.sum())"
   ]
  },
  {
   "cell_type": "code",
   "execution_count": 178,
   "id": "ef8ecd97",
   "metadata": {},
   "outputs": [],
   "source": [
    "repro = np.random.choice(x[:-1], p=y/y.sum(), size=10000)"
   ]
  },
  {
   "cell_type": "code",
   "execution_count": 179,
   "id": "b5c68942",
   "metadata": {},
   "outputs": [
    {
     "data": {
      "image/png": "[encoded data removed]",
      "text/plain": [
       "<Figure size 432x288 with 1 Axes>"
      ]
     },
     "metadata": {
      "needs_background": "light"
     },
     "output_type": "display_data"
    }
   ],
   "source": [
    "plt.hist(repro, range=(0.4, 0.7), bins=60)\n",
    "plt.show()"
   ]
  },
  {
   "cell_type": "code",
   "execution_count": 180,
   "id": "41e9112f",
   "metadata": {},
   "outputs": [],
   "source": [
    "y1, x1 = np.histogram(repro, range=(0.4, 0.7), bins=60)"
   ]
  },
  {
   "cell_type": "code",
   "execution_count": 181,
   "id": "f4e1b214",
   "metadata": {
    "scrolled": true
   },
   "outputs": [
    {
     "data": {
      "image/png": "[encoded data removed]",
      "text/plain": [
       "<Figure size 720x432 with 1 Axes>"
      ]
     },
     "metadata": {
      "needs_background": "light"
     },
     "output_type": "display_data"
    }
   ],
   "source": [
    "fig = plt.figure(figsize=(10, 6))\n",
    "ax = fig.add_subplot(111)\n",
    "\n",
    "ax.plot(x[:-1], y, label='original')\n",
    "ax.plot(x1[:-1], y1, label='reproduction')\n",
    "ax.legend()\n",
    "\n",
    "plt.show()"
   ]
  },
  {
   "cell_type": "markdown",
   "id": "c3363be6",
   "metadata": {},
   "source": [
    "- 기존 분포가 잘 재현됨"
   ]
  },
  {
   "cell_type": "code",
   "execution_count": 182,
   "id": "fa6579c9",
   "metadata": {},
   "outputs": [],
   "source": [
    "df2 = df1.copy()"
   ]
  },
  {
   "cell_type": "code",
   "execution_count": 183,
   "id": "05688226",
   "metadata": {},
   "outputs": [
    {
     "data": {
      "text/html": [
       "<div>\n",
       "<style scoped>\n",
       "    .dataframe tbody tr th:only-of-type {\n",
       "        vertical-align: middle;\n",
       "    }\n",
       "\n",
       "    .dataframe tbody tr th {\n",
       "        vertical-align: top;\n",
       "    }\n",
       "\n",
       "    .dataframe thead th {\n",
       "        text-align: right;\n",
       "    }\n",
       "</style>\n",
       "<table border=\"1\" class=\"dataframe\">\n",
       "  <thead>\n",
       "    <tr style=\"text-align: right;\">\n",
       "      <th></th>\n",
       "      <th>신장(5Cm단위)</th>\n",
       "      <th>체중(5Kg 단위)</th>\n",
       "      <th>허리둘레</th>\n",
       "      <th>수축기 혈압</th>\n",
       "      <th>이완기 혈압</th>\n",
       "      <th>식전혈당(공복혈당)</th>\n",
       "      <th>(혈청지오티)AST</th>\n",
       "      <th>(혈청지오티)ALT</th>\n",
       "      <th>감마 지티피</th>\n",
       "      <th>흡연상태</th>\n",
       "      <th>음주여부</th>\n",
       "      <th>bmi</th>\n",
       "      <th>WHtR</th>\n",
       "      <th>bmi_int</th>\n",
       "    </tr>\n",
       "  </thead>\n",
       "  <tbody>\n",
       "    <tr>\n",
       "      <th>0</th>\n",
       "      <td>165.0</td>\n",
       "      <td>60.0</td>\n",
       "      <td>72.1</td>\n",
       "      <td>127.0</td>\n",
       "      <td>79.0</td>\n",
       "      <td>90.0</td>\n",
       "      <td>21.0</td>\n",
       "      <td>27.0</td>\n",
       "      <td>21.0</td>\n",
       "      <td>1.0</td>\n",
       "      <td>0.0</td>\n",
       "      <td>22.0</td>\n",
       "      <td>0.437</td>\n",
       "      <td>22.0</td>\n",
       "    </tr>\n",
       "    <tr>\n",
       "      <th>1</th>\n",
       "      <td>185.0</td>\n",
       "      <td>85.0</td>\n",
       "      <td>94.0</td>\n",
       "      <td>114.0</td>\n",
       "      <td>72.0</td>\n",
       "      <td>86.0</td>\n",
       "      <td>25.0</td>\n",
       "      <td>32.0</td>\n",
       "      <td>26.0</td>\n",
       "      <td>3.0</td>\n",
       "      <td>1.0</td>\n",
       "      <td>24.8</td>\n",
       "      <td>0.508</td>\n",
       "      <td>25.0</td>\n",
       "    </tr>\n",
       "    <tr>\n",
       "      <th>2</th>\n",
       "      <td>165.0</td>\n",
       "      <td>55.0</td>\n",
       "      <td>77.5</td>\n",
       "      <td>130.0</td>\n",
       "      <td>70.0</td>\n",
       "      <td>87.0</td>\n",
       "      <td>18.0</td>\n",
       "      <td>10.0</td>\n",
       "      <td>15.0</td>\n",
       "      <td>1.0</td>\n",
       "      <td>0.0</td>\n",
       "      <td>20.2</td>\n",
       "      <td>0.470</td>\n",
       "      <td>20.0</td>\n",
       "    </tr>\n",
       "    <tr>\n",
       "      <th>3</th>\n",
       "      <td>165.0</td>\n",
       "      <td>75.0</td>\n",
       "      <td>84.0</td>\n",
       "      <td>139.0</td>\n",
       "      <td>80.0</td>\n",
       "      <td>92.0</td>\n",
       "      <td>27.0</td>\n",
       "      <td>30.0</td>\n",
       "      <td>25.0</td>\n",
       "      <td>2.0</td>\n",
       "      <td>1.0</td>\n",
       "      <td>27.5</td>\n",
       "      <td>0.509</td>\n",
       "      <td>28.0</td>\n",
       "    </tr>\n",
       "    <tr>\n",
       "      <th>4</th>\n",
       "      <td>175.0</td>\n",
       "      <td>70.0</td>\n",
       "      <td>83.0</td>\n",
       "      <td>110.0</td>\n",
       "      <td>70.0</td>\n",
       "      <td>120.0</td>\n",
       "      <td>19.0</td>\n",
       "      <td>14.0</td>\n",
       "      <td>25.0</td>\n",
       "      <td>3.0</td>\n",
       "      <td>1.0</td>\n",
       "      <td>22.9</td>\n",
       "      <td>0.474</td>\n",
       "      <td>23.0</td>\n",
       "    </tr>\n",
       "  </tbody>\n",
       "</table>\n",
       "</div>"
      ],
      "text/plain": [
       "   신장(5Cm단위)  체중(5Kg 단위)  허리둘레  수축기 혈압  이완기 혈압  식전혈당(공복혈당)  (혈청지오티)AST  \\\n",
       "0      165.0        60.0  72.1   127.0    79.0        90.0        21.0   \n",
       "1      185.0        85.0  94.0   114.0    72.0        86.0        25.0   \n",
       "2      165.0        55.0  77.5   130.0    70.0        87.0        18.0   \n",
       "3      165.0        75.0  84.0   139.0    80.0        92.0        27.0   \n",
       "4      175.0        70.0  83.0   110.0    70.0       120.0        19.0   \n",
       "\n",
       "   (혈청지오티)ALT  감마 지티피  흡연상태  음주여부   bmi   WHtR  bmi_int  \n",
       "0        27.0    21.0   1.0   0.0  22.0  0.437     22.0  \n",
       "1        32.0    26.0   3.0   1.0  24.8  0.508     25.0  \n",
       "2        10.0    15.0   1.0   0.0  20.2  0.470     20.0  \n",
       "3        30.0    25.0   2.0   1.0  27.5  0.509     28.0  \n",
       "4        14.0    25.0   3.0   1.0  22.9  0.474     23.0  "
      ]
     },
     "execution_count": 183,
     "metadata": {},
     "output_type": "execute_result"
    }
   ],
   "source": [
    "df2.head()"
   ]
  },
  {
   "cell_type": "code",
   "execution_count": null,
   "id": "ab5b5061",
   "metadata": {},
   "outputs": [],
   "source": []
  },
  {
   "cell_type": "markdown",
   "id": "744548b4",
   "metadata": {},
   "source": [
    "# 안쓰는 columns DROP"
   ]
  },
  {
   "cell_type": "markdown",
   "id": "d9ad0dae",
   "metadata": {},
   "source": [
    "- 쓰는 컬럼:\n",
    "    - bmi (0.82), \n",
    "    - ALT (0.35),\n",
    "    - 감마지티피(0.27), 혈압 (0.21/0.21), AST(0.16)\n",
    "    - (+) WHtR"
   ]
  },
  {
   "cell_type": "code",
   "execution_count": 184,
   "id": "1948a4ff",
   "metadata": {},
   "outputs": [
    {
     "data": {
      "text/html": [
       "<div>\n",
       "<style scoped>\n",
       "    .dataframe tbody tr th:only-of-type {\n",
       "        vertical-align: middle;\n",
       "    }\n",
       "\n",
       "    .dataframe tbody tr th {\n",
       "        vertical-align: top;\n",
       "    }\n",
       "\n",
       "    .dataframe thead th {\n",
       "        text-align: right;\n",
       "    }\n",
       "</style>\n",
       "<table border=\"1\" class=\"dataframe\">\n",
       "  <thead>\n",
       "    <tr style=\"text-align: right;\">\n",
       "      <th></th>\n",
       "      <th>bmi_int</th>\n",
       "      <th>(혈청지오티)ALT</th>\n",
       "      <th>감마 지티피</th>\n",
       "      <th>수축기 혈압</th>\n",
       "      <th>이완기 혈압</th>\n",
       "      <th>(혈청지오티)AST</th>\n",
       "      <th>WHtR</th>\n",
       "    </tr>\n",
       "  </thead>\n",
       "  <tbody>\n",
       "    <tr>\n",
       "      <th>0</th>\n",
       "      <td>22.0</td>\n",
       "      <td>27.0</td>\n",
       "      <td>21.0</td>\n",
       "      <td>127.0</td>\n",
       "      <td>79.0</td>\n",
       "      <td>21.0</td>\n",
       "      <td>0.437</td>\n",
       "    </tr>\n",
       "    <tr>\n",
       "      <th>1</th>\n",
       "      <td>25.0</td>\n",
       "      <td>32.0</td>\n",
       "      <td>26.0</td>\n",
       "      <td>114.0</td>\n",
       "      <td>72.0</td>\n",
       "      <td>25.0</td>\n",
       "      <td>0.508</td>\n",
       "    </tr>\n",
       "    <tr>\n",
       "      <th>2</th>\n",
       "      <td>20.0</td>\n",
       "      <td>10.0</td>\n",
       "      <td>15.0</td>\n",
       "      <td>130.0</td>\n",
       "      <td>70.0</td>\n",
       "      <td>18.0</td>\n",
       "      <td>0.470</td>\n",
       "    </tr>\n",
       "  </tbody>\n",
       "</table>\n",
       "</div>"
      ],
      "text/plain": [
       "   bmi_int  (혈청지오티)ALT  감마 지티피  수축기 혈압  이완기 혈압  (혈청지오티)AST   WHtR\n",
       "0     22.0        27.0    21.0   127.0    79.0        21.0  0.437\n",
       "1     25.0        32.0    26.0   114.0    72.0        25.0  0.508\n",
       "2     20.0        10.0    15.0   130.0    70.0        18.0  0.470"
      ]
     },
     "execution_count": 184,
     "metadata": {},
     "output_type": "execute_result"
    }
   ],
   "source": [
    "df2 = df2.loc[:, ['bmi_int', '(혈청지오티)ALT', '감마 지티피', '수축기 혈압', '이완기 혈압', '(혈청지오티)AST', 'WHtR']]\n",
    "df2.head(3)"
   ]
  },
  {
   "cell_type": "code",
   "execution_count": null,
   "id": "cffe9141",
   "metadata": {},
   "outputs": [],
   "source": []
  },
  {
   "cell_type": "markdown",
   "id": "c1129a2f",
   "metadata": {},
   "source": [
    "# 평균 혈압 계산"
   ]
  },
  {
   "cell_type": "code",
   "execution_count": 185,
   "id": "d01d1ef0",
   "metadata": {},
   "outputs": [],
   "source": [
    "df3 = df2.copy()"
   ]
  },
  {
   "cell_type": "code",
   "execution_count": 186,
   "id": "ba34ffa0",
   "metadata": {},
   "outputs": [
    {
     "data": {
      "text/plain": [
       "Index(['bmi_int', '(혈청지오티)ALT', '감마 지티피', '수축기 혈압', '이완기 혈압', '(혈청지오티)AST',\n",
       "       'WHtR'],\n",
       "      dtype='object')"
      ]
     },
     "execution_count": 186,
     "metadata": {},
     "output_type": "execute_result"
    }
   ],
   "source": [
    "df3.columns"
   ]
  },
  {
   "cell_type": "code",
   "execution_count": 187,
   "id": "5d719711",
   "metadata": {},
   "outputs": [],
   "source": [
    "df3['평균 혈압'] = (df3['수축기 혈압'] + df3['이완기 혈압'])/2.0"
   ]
  },
  {
   "cell_type": "code",
   "execution_count": 188,
   "id": "9f6bd860",
   "metadata": {
    "scrolled": true
   },
   "outputs": [
    {
     "data": {
      "text/html": [
       "<div>\n",
       "<style scoped>\n",
       "    .dataframe tbody tr th:only-of-type {\n",
       "        vertical-align: middle;\n",
       "    }\n",
       "\n",
       "    .dataframe tbody tr th {\n",
       "        vertical-align: top;\n",
       "    }\n",
       "\n",
       "    .dataframe thead th {\n",
       "        text-align: right;\n",
       "    }\n",
       "</style>\n",
       "<table border=\"1\" class=\"dataframe\">\n",
       "  <thead>\n",
       "    <tr style=\"text-align: right;\">\n",
       "      <th></th>\n",
       "      <th>bmi_int</th>\n",
       "      <th>(혈청지오티)ALT</th>\n",
       "      <th>감마 지티피</th>\n",
       "      <th>수축기 혈압</th>\n",
       "      <th>이완기 혈압</th>\n",
       "      <th>(혈청지오티)AST</th>\n",
       "      <th>WHtR</th>\n",
       "      <th>평균 혈압</th>\n",
       "    </tr>\n",
       "  </thead>\n",
       "  <tbody>\n",
       "    <tr>\n",
       "      <th>0</th>\n",
       "      <td>22.0</td>\n",
       "      <td>27.0</td>\n",
       "      <td>21.0</td>\n",
       "      <td>127.0</td>\n",
       "      <td>79.0</td>\n",
       "      <td>21.0</td>\n",
       "      <td>0.437</td>\n",
       "      <td>103.0</td>\n",
       "    </tr>\n",
       "    <tr>\n",
       "      <th>1</th>\n",
       "      <td>25.0</td>\n",
       "      <td>32.0</td>\n",
       "      <td>26.0</td>\n",
       "      <td>114.0</td>\n",
       "      <td>72.0</td>\n",
       "      <td>25.0</td>\n",
       "      <td>0.508</td>\n",
       "      <td>93.0</td>\n",
       "    </tr>\n",
       "  </tbody>\n",
       "</table>\n",
       "</div>"
      ],
      "text/plain": [
       "   bmi_int  (혈청지오티)ALT  감마 지티피  수축기 혈압  이완기 혈압  (혈청지오티)AST   WHtR  평균 혈압\n",
       "0     22.0        27.0    21.0   127.0    79.0        21.0  0.437  103.0\n",
       "1     25.0        32.0    26.0   114.0    72.0        25.0  0.508   93.0"
      ]
     },
     "execution_count": 188,
     "metadata": {},
     "output_type": "execute_result"
    }
   ],
   "source": [
    "df3.head(2)"
   ]
  },
  {
   "cell_type": "code",
   "execution_count": 189,
   "id": "103a16d9",
   "metadata": {},
   "outputs": [
    {
     "data": {
      "text/plain": [
       "100.0    2716\n",
       "90.0     2339\n",
       "105.0    2315\n",
       "95.0     1885\n",
       "98.0     1694\n",
       "         ... \n",
       "129.5       7\n",
       "74.0        5\n",
       "73.0        2\n",
       "73.5        1\n",
       "130.0       1\n",
       "Name: 평균 혈압, Length: 115, dtype: int64"
      ]
     },
     "execution_count": 189,
     "metadata": {},
     "output_type": "execute_result"
    }
   ],
   "source": [
    "df3['평균 혈압'].value_counts()"
   ]
  },
  {
   "cell_type": "code",
   "execution_count": null,
   "id": "fb259bc9",
   "metadata": {},
   "outputs": [],
   "source": []
  },
  {
   "cell_type": "markdown",
   "id": "569a25fb",
   "metadata": {},
   "source": [
    "# 값 구성 체크"
   ]
  },
  {
   "cell_type": "code",
   "execution_count": 190,
   "id": "49cdcc45",
   "metadata": {},
   "outputs": [
    {
     "data": {
      "text/plain": [
       "Index(['bmi_int', '(혈청지오티)ALT', '감마 지티피', '수축기 혈압', '이완기 혈압', '(혈청지오티)AST',\n",
       "       'WHtR', '평균 혈압'],\n",
       "      dtype='object')"
      ]
     },
     "execution_count": 190,
     "metadata": {},
     "output_type": "execute_result"
    }
   ],
   "source": [
    "df3.columns"
   ]
  },
  {
   "cell_type": "code",
   "execution_count": 191,
   "id": "648db81b",
   "metadata": {},
   "outputs": [
    {
     "data": {
      "image/png": "[encoded data removed]",
      "text/plain": [
       "<Figure size 432x288 with 1 Axes>"
      ]
     },
     "metadata": {
      "needs_background": "light"
     },
     "output_type": "display_data"
    },
    {
     "data": {
      "text/plain": [
       "100.0    6522\n",
       "95.0     5700\n",
       "97.5     5572\n",
       "105.0    5562\n",
       "90.0     5138\n",
       "102.5    4739\n",
       "92.5     4406\n",
       "107.5    4082\n",
       "110.0    3481\n",
       "87.5     2254\n",
       "112.5    2207\n",
       "85.0     2131\n",
       "115.0    1283\n",
       "82.5     1097\n",
       "80.0     1052\n",
       "120.0     798\n",
       "117.5     763\n",
       "122.5     356\n",
       "77.5      299\n",
       "125.0     255\n",
       "75.0      122\n",
       "127.5      67\n",
       "72.5       16\n",
       "130.0       1\n",
       "Name: 평균 혈압, dtype: int64"
      ]
     },
     "execution_count": 191,
     "metadata": {},
     "output_type": "execute_result"
    }
   ],
   "source": [
    "bns10 = 4\n",
    "df3['평균 혈압'].hist(range=(90, 160), bins=7*bns10)\n",
    "plt.show()\n",
    "\n",
    "y, x = np.histogram(df3['평균 혈압'], range=(90, 160), bins=7*bns10)\n",
    "\n",
    "((df3['평균 혈압']//(10/bns10))*(10/bns10)).value_counts()"
   ]
  },
  {
   "cell_type": "code",
   "execution_count": null,
   "id": "b4049b34",
   "metadata": {},
   "outputs": [],
   "source": []
  },
  {
   "cell_type": "markdown",
   "id": "1443b371",
   "metadata": {},
   "source": [
    "## AST"
   ]
  },
  {
   "cell_type": "code",
   "execution_count": 192,
   "id": "7b129dec",
   "metadata": {},
   "outputs": [],
   "source": [
    "df4 = df3.copy()"
   ]
  },
  {
   "cell_type": "code",
   "execution_count": 193,
   "id": "bfcaeb34",
   "metadata": {
    "scrolled": true
   },
   "outputs": [
    {
     "data": {
      "text/plain": [
       "Index(['bmi_int', '(혈청지오티)ALT', '감마 지티피', '수축기 혈압', '이완기 혈압', '(혈청지오티)AST',\n",
       "       'WHtR', '평균 혈압'],\n",
       "      dtype='object')"
      ]
     },
     "execution_count": 193,
     "metadata": {},
     "output_type": "execute_result"
    }
   ],
   "source": [
    "df4.columns"
   ]
  },
  {
   "cell_type": "code",
   "execution_count": 194,
   "id": "dc837272",
   "metadata": {},
   "outputs": [
    {
     "data": {
      "text/plain": [
       "21.0    4014\n",
       "22.0    3987\n",
       "20.0    3887\n",
       "23.0    3839\n",
       "24.0    3643\n",
       "19.0    3578\n",
       "25.0    3354\n",
       "18.0    3204\n",
       "26.0    2927\n",
       "27.0    2616\n",
       "17.0    2571\n",
       "28.0    2299\n",
       "29.0    2064\n",
       "16.0    1904\n",
       "30.0    1730\n",
       "31.0    1499\n",
       "15.0    1321\n",
       "32.0    1249\n",
       "33.0    1126\n",
       "34.0     918\n",
       "14.0     806\n",
       "35.0     802\n",
       "36.0     629\n",
       "37.0     562\n",
       "13.0     466\n",
       "38.0     459\n",
       "39.0     432\n",
       "40.0     348\n",
       "41.0     265\n",
       "42.0     252\n",
       "12.0     226\n",
       "43.0     202\n",
       "44.0     173\n",
       "45.0     144\n",
       "46.0     128\n",
       "47.0     108\n",
       "11.0      91\n",
       "10.0      44\n",
       "9.0       16\n",
       "8.0       10\n",
       "7.0        3\n",
       "6.0        3\n",
       "5.0        2\n",
       "4.0        1\n",
       "27.3       1\n",
       "Name: (혈청지오티)AST, dtype: int64"
      ]
     },
     "execution_count": 194,
     "metadata": {},
     "output_type": "execute_result"
    }
   ],
   "source": [
    "df4['(혈청지오티)AST'].value_counts()"
   ]
  },
  {
   "cell_type": "code",
   "execution_count": 195,
   "id": "3b76275c",
   "metadata": {},
   "outputs": [
    {
     "data": {
      "text/plain": [
       "<AxesSubplot:>"
      ]
     },
     "execution_count": 195,
     "metadata": {},
     "output_type": "execute_result"
    },
    {
     "data": {
      "image/png": "[encoded data removed]",
      "text/plain": [
       "<Figure size 432x288 with 1 Axes>"
      ]
     },
     "metadata": {
      "needs_background": "light"
     },
     "output_type": "display_data"
    }
   ],
   "source": [
    "df4['(혈청지오티)AST'].hist(range=(0, 50), bins=50)"
   ]
  },
  {
   "cell_type": "code",
   "execution_count": null,
   "id": "5a892b98",
   "metadata": {},
   "outputs": [],
   "source": []
  },
  {
   "cell_type": "markdown",
   "id": "0dd91e7a",
   "metadata": {},
   "source": [
    "## ALT"
   ]
  },
  {
   "cell_type": "code",
   "execution_count": 196,
   "id": "f7f96493",
   "metadata": {},
   "outputs": [
    {
     "data": {
      "text/plain": [
       "array([27., 32., 10., 30., 14., 33., 15., 36., 26., 19., 46., 49., 41.,\n",
       "       24., 17., 22., 29., 25., 18., 28., 23., 21., 50., 11., 39., 12.,\n",
       "       40., 16., 57., 31., 43., 20., 38., 48., 37., 58., 34., 55., 35.,\n",
       "       42., 51.,  8., 64., 62., 52., 13., 44.,  6.,  9., 53., 45.,  3.,\n",
       "       59.,  7., 61., 54., 47., 56., 60., 63.,  5.,  1.,  4.,  2.])"
      ]
     },
     "execution_count": 196,
     "metadata": {},
     "output_type": "execute_result"
    }
   ],
   "source": [
    "df4['(혈청지오티)ALT'].unique()"
   ]
  },
  {
   "cell_type": "code",
   "execution_count": 197,
   "id": "503d44cd",
   "metadata": {},
   "outputs": [
    {
     "data": {
      "text/plain": [
       "<AxesSubplot:>"
      ]
     },
     "execution_count": 197,
     "metadata": {},
     "output_type": "execute_result"
    },
    {
     "data": {
      "image/png": "[encoded data removed]",
      "text/plain": [
       "<Figure size 432x288 with 1 Axes>"
      ]
     },
     "metadata": {
      "needs_background": "light"
     },
     "output_type": "display_data"
    }
   ],
   "source": [
    "df4['(혈청지오티)ALT'].hist(range=(0, 70), bins=70)"
   ]
  },
  {
   "cell_type": "code",
   "execution_count": null,
   "id": "0856d060",
   "metadata": {},
   "outputs": [],
   "source": []
  },
  {
   "cell_type": "markdown",
   "id": "3e672a6b",
   "metadata": {},
   "source": [
    "## 감마 지티피"
   ]
  },
  {
   "cell_type": "code",
   "execution_count": 198,
   "id": "3483476c",
   "metadata": {
    "scrolled": true
   },
   "outputs": [
    {
     "data": {
      "text/plain": [
       "Index(['bmi_int', '(혈청지오티)ALT', '감마 지티피', '수축기 혈압', '이완기 혈압', '(혈청지오티)AST',\n",
       "       'WHtR', '평균 혈압'],\n",
       "      dtype='object')"
      ]
     },
     "execution_count": 198,
     "metadata": {},
     "output_type": "execute_result"
    }
   ],
   "source": [
    "df4.columns"
   ]
  },
  {
   "cell_type": "code",
   "execution_count": 199,
   "id": "dffae1d1",
   "metadata": {},
   "outputs": [
    {
     "data": {
      "text/plain": [
       "array([21., 26., 15., 25., 54., 47., 59., 19., 18., 27., 22., 32., 10.,\n",
       "       38., 74., 42., 20., 23., 14., 65., 28., 33., 62., 37., 35., 24.,\n",
       "       30., 31., 11., 58., 88., 86., 36., 56., 17., 51., 55., 48., 29.,\n",
       "       46., 53., 49., 52., 79., 50., 40., 76., 57., 80., 34., 63., 12.,\n",
       "       16., 39., 77., 91., 83., 87., 13., 71., 64., 66.,  9., 43., 90.,\n",
       "       68., 61., 45., 73., 69., 75., 93., 41., 78., 60., 44., 67., 72.,\n",
       "       84., 81.,  6., 94., 70., 89.,  3.,  8.,  5., 92., 82., 85.,  4.,\n",
       "        7.,  1.,  2.])"
      ]
     },
     "execution_count": 199,
     "metadata": {},
     "output_type": "execute_result"
    }
   ],
   "source": [
    "df4['감마 지티피'].unique()"
   ]
  },
  {
   "cell_type": "markdown",
   "id": "d7f9ab07",
   "metadata": {},
   "source": [
    "- bmi (0.82), \n",
    "- ALT (0.35),\n",
    "- 감마지티피(0.27), 혈압 (0.21/0.21), AST(0.16)"
   ]
  },
  {
   "cell_type": "code",
   "execution_count": null,
   "id": "02b10408",
   "metadata": {},
   "outputs": [],
   "source": []
  },
  {
   "cell_type": "markdown",
   "id": "d498cef5",
   "metadata": {},
   "source": [
    "# 그룹화"
   ]
  },
  {
   "cell_type": "code",
   "execution_count": 200,
   "id": "acbbae18",
   "metadata": {},
   "outputs": [],
   "source": [
    "df5 = df4.copy()\n",
    "df5.drop(columns=['수축기 혈압', '이완기 혈압'], inplace=True)"
   ]
  },
  {
   "cell_type": "raw",
   "id": "31d855ef",
   "metadata": {},
   "source": [
    "df5.to_pickle('./WHtR_concat/03/reduction_05.pkl')"
   ]
  },
  {
   "cell_type": "markdown",
   "id": "80037e1c",
   "metadata": {},
   "source": [
    "## 불러오기"
   ]
  },
  {
   "cell_type": "code",
   "execution_count": 201,
   "id": "814cfdc5",
   "metadata": {},
   "outputs": [
    {
     "data": {
      "text/html": [
       "<div>\n",
       "<style scoped>\n",
       "    .dataframe tbody tr th:only-of-type {\n",
       "        vertical-align: middle;\n",
       "    }\n",
       "\n",
       "    .dataframe tbody tr th {\n",
       "        vertical-align: top;\n",
       "    }\n",
       "\n",
       "    .dataframe thead th {\n",
       "        text-align: right;\n",
       "    }\n",
       "</style>\n",
       "<table border=\"1\" class=\"dataframe\">\n",
       "  <thead>\n",
       "    <tr style=\"text-align: right;\">\n",
       "      <th></th>\n",
       "      <th>bmi_int</th>\n",
       "      <th>(혈청지오티)ALT</th>\n",
       "      <th>감마 지티피</th>\n",
       "      <th>(혈청지오티)AST</th>\n",
       "      <th>WHtR</th>\n",
       "      <th>평균 혈압</th>\n",
       "    </tr>\n",
       "  </thead>\n",
       "  <tbody>\n",
       "    <tr>\n",
       "      <th>0</th>\n",
       "      <td>22.0</td>\n",
       "      <td>27.0</td>\n",
       "      <td>21.0</td>\n",
       "      <td>21.0</td>\n",
       "      <td>0.437</td>\n",
       "      <td>103.0</td>\n",
       "    </tr>\n",
       "    <tr>\n",
       "      <th>1</th>\n",
       "      <td>25.0</td>\n",
       "      <td>32.0</td>\n",
       "      <td>26.0</td>\n",
       "      <td>25.0</td>\n",
       "      <td>0.508</td>\n",
       "      <td>93.0</td>\n",
       "    </tr>\n",
       "    <tr>\n",
       "      <th>2</th>\n",
       "      <td>20.0</td>\n",
       "      <td>10.0</td>\n",
       "      <td>15.0</td>\n",
       "      <td>18.0</td>\n",
       "      <td>0.470</td>\n",
       "      <td>100.0</td>\n",
       "    </tr>\n",
       "    <tr>\n",
       "      <th>3</th>\n",
       "      <td>28.0</td>\n",
       "      <td>30.0</td>\n",
       "      <td>25.0</td>\n",
       "      <td>27.0</td>\n",
       "      <td>0.509</td>\n",
       "      <td>109.5</td>\n",
       "    </tr>\n",
       "    <tr>\n",
       "      <th>4</th>\n",
       "      <td>23.0</td>\n",
       "      <td>14.0</td>\n",
       "      <td>25.0</td>\n",
       "      <td>19.0</td>\n",
       "      <td>0.474</td>\n",
       "      <td>90.0</td>\n",
       "    </tr>\n",
       "  </tbody>\n",
       "</table>\n",
       "</div>"
      ],
      "text/plain": [
       "   bmi_int  (혈청지오티)ALT  감마 지티피  (혈청지오티)AST   WHtR  평균 혈압\n",
       "0     22.0        27.0    21.0        21.0  0.437  103.0\n",
       "1     25.0        32.0    26.0        25.0  0.508   93.0\n",
       "2     20.0        10.0    15.0        18.0  0.470  100.0\n",
       "3     28.0        30.0    25.0        27.0  0.509  109.5\n",
       "4     23.0        14.0    25.0        19.0  0.474   90.0"
      ]
     },
     "execution_count": 201,
     "metadata": {},
     "output_type": "execute_result"
    }
   ],
   "source": [
    "df = pd.read_pickle('./WHtR_concat/03/reduction_05.pkl')\n",
    "df.head()"
   ]
  },
  {
   "cell_type": "code",
   "execution_count": 202,
   "id": "0d6c82a4",
   "metadata": {},
   "outputs": [
    {
     "data": {
      "text/html": [
       "<div>\n",
       "<style scoped>\n",
       "    .dataframe tbody tr th:only-of-type {\n",
       "        vertical-align: middle;\n",
       "    }\n",
       "\n",
       "    .dataframe tbody tr th {\n",
       "        vertical-align: top;\n",
       "    }\n",
       "\n",
       "    .dataframe thead th {\n",
       "        text-align: right;\n",
       "    }\n",
       "</style>\n",
       "<table border=\"1\" class=\"dataframe\">\n",
       "  <thead>\n",
       "    <tr style=\"text-align: right;\">\n",
       "      <th></th>\n",
       "      <th>bmi</th>\n",
       "      <th>ALT</th>\n",
       "      <th>r_GTP</th>\n",
       "      <th>AST</th>\n",
       "      <th>WHtR</th>\n",
       "      <th>avg_bp</th>\n",
       "    </tr>\n",
       "  </thead>\n",
       "  <tbody>\n",
       "    <tr>\n",
       "      <th>0</th>\n",
       "      <td>22.0</td>\n",
       "      <td>27.0</td>\n",
       "      <td>21.0</td>\n",
       "      <td>21.0</td>\n",
       "      <td>0.437</td>\n",
       "      <td>103.0</td>\n",
       "    </tr>\n",
       "    <tr>\n",
       "      <th>1</th>\n",
       "      <td>25.0</td>\n",
       "      <td>32.0</td>\n",
       "      <td>26.0</td>\n",
       "      <td>25.0</td>\n",
       "      <td>0.508</td>\n",
       "      <td>93.0</td>\n",
       "    </tr>\n",
       "    <tr>\n",
       "      <th>2</th>\n",
       "      <td>20.0</td>\n",
       "      <td>10.0</td>\n",
       "      <td>15.0</td>\n",
       "      <td>18.0</td>\n",
       "      <td>0.470</td>\n",
       "      <td>100.0</td>\n",
       "    </tr>\n",
       "    <tr>\n",
       "      <th>3</th>\n",
       "      <td>28.0</td>\n",
       "      <td>30.0</td>\n",
       "      <td>25.0</td>\n",
       "      <td>27.0</td>\n",
       "      <td>0.509</td>\n",
       "      <td>109.5</td>\n",
       "    </tr>\n",
       "    <tr>\n",
       "      <th>4</th>\n",
       "      <td>23.0</td>\n",
       "      <td>14.0</td>\n",
       "      <td>25.0</td>\n",
       "      <td>19.0</td>\n",
       "      <td>0.474</td>\n",
       "      <td>90.0</td>\n",
       "    </tr>\n",
       "  </tbody>\n",
       "</table>\n",
       "</div>"
      ],
      "text/plain": [
       "    bmi   ALT  r_GTP   AST   WHtR  avg_bp\n",
       "0  22.0  27.0   21.0  21.0  0.437   103.0\n",
       "1  25.0  32.0   26.0  25.0  0.508    93.0\n",
       "2  20.0  10.0   15.0  18.0  0.470   100.0\n",
       "3  28.0  30.0   25.0  27.0  0.509   109.5\n",
       "4  23.0  14.0   25.0  19.0  0.474    90.0"
      ]
     },
     "execution_count": 202,
     "metadata": {},
     "output_type": "execute_result"
    }
   ],
   "source": [
    "df.rename(columns=dict(zip(df.columns, ['bmi', 'ALT', 'r_GTP', 'AST', 'WHtR', 'avg_bp'])), inplace=True)\n",
    "df.head()"
   ]
  },
  {
   "cell_type": "code",
   "execution_count": null,
   "id": "dbbece5f",
   "metadata": {},
   "outputs": [],
   "source": []
  },
  {
   "cell_type": "markdown",
   "id": "f7911428",
   "metadata": {},
   "source": [
    "## 1차 그룹화 bmi"
   ]
  },
  {
   "cell_type": "markdown",
   "id": "650ecc25",
   "metadata": {},
   "source": [
    "### 히스토그램"
   ]
  },
  {
   "cell_type": "code",
   "execution_count": 203,
   "id": "298e9f95",
   "metadata": {},
   "outputs": [
    {
     "data": {
      "text/plain": [
       "count    57903.000000\n",
       "mean        24.810562\n",
       "std          3.119933\n",
       "min         14.000000\n",
       "25%         23.000000\n",
       "50%         24.000000\n",
       "75%         26.000000\n",
       "max         40.000000\n",
       "Name: bmi, dtype: float64"
      ]
     },
     "execution_count": 203,
     "metadata": {},
     "output_type": "execute_result"
    }
   ],
   "source": [
    "df.bmi.describe()"
   ]
  },
  {
   "cell_type": "code",
   "execution_count": 204,
   "id": "6bc89603",
   "metadata": {},
   "outputs": [
    {
     "data": {
      "text/plain": [
       "57903"
      ]
     },
     "execution_count": 204,
     "metadata": {},
     "output_type": "execute_result"
    }
   ],
   "source": [
    "df.bmi.count()"
   ]
  },
  {
   "cell_type": "code",
   "execution_count": 205,
   "id": "6916232e",
   "metadata": {},
   "outputs": [
    {
     "data": {
      "text/plain": [
       "<AxesSubplot:>"
      ]
     },
     "execution_count": 205,
     "metadata": {},
     "output_type": "execute_result"
    },
    {
     "data": {
      "image/png": "[encoded data removed]",
      "text/plain": [
       "<Figure size 432x288 with 1 Axes>"
      ]
     },
     "metadata": {
      "needs_background": "light"
     },
     "output_type": "display_data"
    }
   ],
   "source": [
    "interval = 2\n",
    "df.bmi.hist(range=(10, 40), bins=int(30/interval))"
   ]
  },
  {
   "cell_type": "markdown",
   "id": "1a2a341c",
   "metadata": {},
   "source": [
    "- 최소 간격 : 2"
   ]
  },
  {
   "cell_type": "code",
   "execution_count": 206,
   "id": "1fa8ef01",
   "metadata": {},
   "outputs": [],
   "source": [
    "df1 = df.copy()\n",
    "df1['bmi_c'] = ((df.bmi//interval)*interval)"
   ]
  },
  {
   "cell_type": "code",
   "execution_count": 207,
   "id": "5226752a",
   "metadata": {},
   "outputs": [
    {
     "data": {
      "text/html": [
       "<div>\n",
       "<style scoped>\n",
       "    .dataframe tbody tr th:only-of-type {\n",
       "        vertical-align: middle;\n",
       "    }\n",
       "\n",
       "    .dataframe tbody tr th {\n",
       "        vertical-align: top;\n",
       "    }\n",
       "\n",
       "    .dataframe thead th {\n",
       "        text-align: right;\n",
       "    }\n",
       "</style>\n",
       "<table border=\"1\" class=\"dataframe\">\n",
       "  <thead>\n",
       "    <tr style=\"text-align: right;\">\n",
       "      <th></th>\n",
       "      <th>bmi</th>\n",
       "      <th>ALT</th>\n",
       "      <th>r_GTP</th>\n",
       "      <th>AST</th>\n",
       "      <th>WHtR</th>\n",
       "      <th>avg_bp</th>\n",
       "      <th>bmi_c</th>\n",
       "    </tr>\n",
       "  </thead>\n",
       "  <tbody>\n",
       "    <tr>\n",
       "      <th>0</th>\n",
       "      <td>22.0</td>\n",
       "      <td>27.0</td>\n",
       "      <td>21.0</td>\n",
       "      <td>21.0</td>\n",
       "      <td>0.437</td>\n",
       "      <td>103.0</td>\n",
       "      <td>22.0</td>\n",
       "    </tr>\n",
       "    <tr>\n",
       "      <th>1</th>\n",
       "      <td>25.0</td>\n",
       "      <td>32.0</td>\n",
       "      <td>26.0</td>\n",
       "      <td>25.0</td>\n",
       "      <td>0.508</td>\n",
       "      <td>93.0</td>\n",
       "      <td>24.0</td>\n",
       "    </tr>\n",
       "    <tr>\n",
       "      <th>2</th>\n",
       "      <td>20.0</td>\n",
       "      <td>10.0</td>\n",
       "      <td>15.0</td>\n",
       "      <td>18.0</td>\n",
       "      <td>0.470</td>\n",
       "      <td>100.0</td>\n",
       "      <td>20.0</td>\n",
       "    </tr>\n",
       "    <tr>\n",
       "      <th>3</th>\n",
       "      <td>28.0</td>\n",
       "      <td>30.0</td>\n",
       "      <td>25.0</td>\n",
       "      <td>27.0</td>\n",
       "      <td>0.509</td>\n",
       "      <td>109.5</td>\n",
       "      <td>28.0</td>\n",
       "    </tr>\n",
       "    <tr>\n",
       "      <th>4</th>\n",
       "      <td>23.0</td>\n",
       "      <td>14.0</td>\n",
       "      <td>25.0</td>\n",
       "      <td>19.0</td>\n",
       "      <td>0.474</td>\n",
       "      <td>90.0</td>\n",
       "      <td>22.0</td>\n",
       "    </tr>\n",
       "  </tbody>\n",
       "</table>\n",
       "</div>"
      ],
      "text/plain": [
       "    bmi   ALT  r_GTP   AST   WHtR  avg_bp  bmi_c\n",
       "0  22.0  27.0   21.0  21.0  0.437   103.0   22.0\n",
       "1  25.0  32.0   26.0  25.0  0.508    93.0   24.0\n",
       "2  20.0  10.0   15.0  18.0  0.470   100.0   20.0\n",
       "3  28.0  30.0   25.0  27.0  0.509   109.5   28.0\n",
       "4  23.0  14.0   25.0  19.0  0.474    90.0   22.0"
      ]
     },
     "execution_count": 207,
     "metadata": {},
     "output_type": "execute_result"
    }
   ],
   "source": [
    "df1.head()"
   ]
  },
  {
   "cell_type": "code",
   "execution_count": 208,
   "id": "0ed11455",
   "metadata": {},
   "outputs": [
    {
     "data": {
      "text/plain": [
       "24.0    13127\n",
       "22.0    12311\n",
       "26.0    11087\n",
       "28.0    11002\n",
       "20.0     5751\n",
       "30.0     1955\n",
       "18.0     1453\n",
       "32.0      717\n",
       "16.0      299\n",
       "34.0      177\n",
       "36.0       17\n",
       "14.0        5\n",
       "40.0        1\n",
       "38.0        1\n",
       "Name: bmi_c, dtype: int64"
      ]
     },
     "execution_count": 208,
     "metadata": {},
     "output_type": "execute_result"
    }
   ],
   "source": [
    "vc = df1.bmi_c.value_counts()\n",
    "vc"
   ]
  },
  {
   "cell_type": "code",
   "execution_count": 209,
   "id": "429a846b",
   "metadata": {},
   "outputs": [],
   "source": [
    "vc = vc.sort_index()"
   ]
  },
  {
   "cell_type": "code",
   "execution_count": 210,
   "id": "a1531d57",
   "metadata": {},
   "outputs": [
    {
     "data": {
      "image/png": "[encoded data removed]",
      "text/plain": [
       "<Figure size 720x432 with 2 Axes>"
      ]
     },
     "metadata": {
      "needs_background": "light"
     },
     "output_type": "display_data"
    }
   ],
   "source": [
    "fig = plt.figure(figsize=(10, 6))\n",
    "ax= fig.add_subplot(111)\n",
    "\n",
    "ax.plot(vc.index, vc.values/vc.sum(), 'bo-')\n",
    "ax2 = ax.twinx()\n",
    "ax2.plot(vc.index, vc.values, 'bo-')\n",
    "\n",
    "ax.set_xticks(vc.index)\n",
    "ax.grid()\n",
    "plt.show()"
   ]
  },
  {
   "cell_type": "markdown",
   "id": "ca3540e3",
   "metadata": {},
   "source": [
    "- 18이하/ 30이상 묶기"
   ]
  },
  {
   "cell_type": "code",
   "execution_count": null,
   "id": "d238ce7a",
   "metadata": {},
   "outputs": [],
   "source": []
  },
  {
   "cell_type": "markdown",
   "id": "a95ce681",
   "metadata": {},
   "source": [
    "### WHtR 변화"
   ]
  },
  {
   "cell_type": "code",
   "execution_count": 371,
   "id": "99373a03",
   "metadata": {
    "scrolled": true
   },
   "outputs": [
    {
     "data": {
      "image/png": "[encoded data removed]",
      "text/plain": [
       "<Figure size 720x432 with 1 Axes>"
      ]
     },
     "metadata": {
      "needs_background": "light"
     },
     "output_type": "display_data"
    }
   ],
   "source": [
    "li_bmi = list(range(19, 32, 2))\n",
    "\n",
    "fig = plt.figure(figsize=(10, 6))\n",
    "ax = fig.add_subplot(111)\n",
    "\n",
    "for i, b_val in enumerate(li_bmi):\n",
    "    y1, x1 = np.histogram(df1[df1.bmi_c == b_val].WHtR, range=(0.35, 0.7), bins=30)\n",
    "    ax.plot(x1[:-1], y1/y1.sum(), 'b-', alpha=(i+1)/len(li_bmi), label=f'bmi : {b_val}')\n",
    "\n",
    "ax.legend()\n",
    "ax.set_ylim(0, 0.20)\n",
    "plt.show()"
   ]
  },
  {
   "cell_type": "code",
   "execution_count": null,
   "id": "1e630654",
   "metadata": {},
   "outputs": [],
   "source": []
  },
  {
   "cell_type": "markdown",
   "id": "c27b12e9",
   "metadata": {},
   "source": [
    "## 2차 그룹화 ALT"
   ]
  },
  {
   "cell_type": "markdown",
   "id": "32c723e0",
   "metadata": {},
   "source": [
    "### 히스토그램"
   ]
  },
  {
   "cell_type": "code",
   "execution_count": 212,
   "id": "f930324d",
   "metadata": {},
   "outputs": [],
   "source": [
    "interval=5"
   ]
  },
  {
   "cell_type": "code",
   "execution_count": 213,
   "id": "daf7539e",
   "metadata": {},
   "outputs": [
    {
     "data": {
      "text/plain": [
       "<AxesSubplot:>"
      ]
     },
     "execution_count": 213,
     "metadata": {},
     "output_type": "execute_result"
    },
    {
     "data": {
      "image/png": "[encoded data removed]",
      "text/plain": [
       "<Figure size 432x288 with 1 Axes>"
      ]
     },
     "metadata": {
      "needs_background": "light"
     },
     "output_type": "display_data"
    }
   ],
   "source": [
    "df1.ALT.hist(range=(0, 70), bins=7*int(10/interval))"
   ]
  },
  {
   "cell_type": "code",
   "execution_count": 214,
   "id": "15f4315f",
   "metadata": {},
   "outputs": [
    {
     "data": {
      "text/plain": [
       "array([ 1.,  2.,  3.,  4.,  5.,  6.,  7.,  8.,  9., 10., 11., 12., 13.,\n",
       "       14., 15., 16., 17., 18., 19., 20., 21., 22., 23., 24., 25., 26.,\n",
       "       27., 28., 29., 30., 31., 32., 33., 34., 35., 36., 37., 38., 39.,\n",
       "       40., 41., 42., 43., 44., 45., 46., 47., 48., 49., 50., 51., 52.,\n",
       "       53., 54., 55., 56., 57., 58., 59., 60., 61., 62., 63., 64.])"
      ]
     },
     "execution_count": 214,
     "metadata": {},
     "output_type": "execute_result"
    }
   ],
   "source": [
    "np.sort(df1.ALT.unique())"
   ]
  },
  {
   "cell_type": "code",
   "execution_count": 215,
   "id": "bb358666",
   "metadata": {},
   "outputs": [],
   "source": [
    "df2 = df1.copy()"
   ]
  },
  {
   "cell_type": "code",
   "execution_count": 216,
   "id": "58bc0cf8",
   "metadata": {},
   "outputs": [],
   "source": [
    "df2['ALT_c']=(df1.ALT//5)*5"
   ]
  },
  {
   "cell_type": "code",
   "execution_count": 217,
   "id": "7a3be47a",
   "metadata": {},
   "outputs": [
    {
     "data": {
      "text/plain": [
       "0.0         7\n",
       "5.0       633\n",
       "10.0     5337\n",
       "15.0    11000\n",
       "20.0    11367\n",
       "25.0     9184\n",
       "30.0     6567\n",
       "35.0     4562\n",
       "40.0     3247\n",
       "45.0     2287\n",
       "50.0     1682\n",
       "55.0     1178\n",
       "60.0      852\n",
       "Name: ALT_c, dtype: int64"
      ]
     },
     "execution_count": 217,
     "metadata": {},
     "output_type": "execute_result"
    }
   ],
   "source": [
    "df2.ALT_c.value_counts().sort_index()"
   ]
  },
  {
   "cell_type": "markdown",
   "id": "d220bc85",
   "metadata": {},
   "source": [
    "- 10이하/45이상"
   ]
  },
  {
   "cell_type": "code",
   "execution_count": null,
   "id": "392ad62d",
   "metadata": {},
   "outputs": [],
   "source": []
  },
  {
   "cell_type": "markdown",
   "id": "fb755a07",
   "metadata": {},
   "source": [
    "### WHtR변화"
   ]
  },
  {
   "cell_type": "code",
   "execution_count": 218,
   "id": "f4f46da4",
   "metadata": {
    "scrolled": true
   },
   "outputs": [
    {
     "data": {
      "image/png": "[encoded data removed]",
      "text/plain": [
       "<Figure size 720x432 with 1 Axes>"
      ]
     },
     "metadata": {
      "needs_background": "light"
     },
     "output_type": "display_data"
    }
   ],
   "source": [
    "li_alt = list(range(10, 45+1, 5))\n",
    "\n",
    "fig = plt.figure(figsize=(10, 6))\n",
    "ax = fig.add_subplot(111)\n",
    "\n",
    "for i, al_val in enumerate(li_alt):\n",
    "    y1, x1 = np.histogram(df2[df2.ALT_c == al_val].WHtR, range=(0.35, 0.7), bins=30)\n",
    "    ax.plot(x1[:-1], y1/y1.sum(), 'b-', alpha=(i+1)/len(li_alt), label=f'ALT : {al_val}')\n",
    "\n",
    "ax.legend()\n",
    "# ax.set_ylim(0, 0.20)\n",
    "plt.show()"
   ]
  },
  {
   "cell_type": "code",
   "execution_count": null,
   "id": "02ba72fa",
   "metadata": {},
   "outputs": [],
   "source": []
  },
  {
   "cell_type": "markdown",
   "id": "b260f4bb",
   "metadata": {},
   "source": [
    "## bmi+ALT 그룹화"
   ]
  },
  {
   "cell_type": "raw",
   "id": "da1c0c5d",
   "metadata": {},
   "source": [
    "df2.to_pickle('./WHtR_concat/03/reduction_06.pkl')"
   ]
  },
  {
   "cell_type": "code",
   "execution_count": 228,
   "id": "89688a82",
   "metadata": {},
   "outputs": [
    {
     "data": {
      "text/html": [
       "<div>\n",
       "<style scoped>\n",
       "    .dataframe tbody tr th:only-of-type {\n",
       "        vertical-align: middle;\n",
       "    }\n",
       "\n",
       "    .dataframe tbody tr th {\n",
       "        vertical-align: top;\n",
       "    }\n",
       "\n",
       "    .dataframe thead th {\n",
       "        text-align: right;\n",
       "    }\n",
       "</style>\n",
       "<table border=\"1\" class=\"dataframe\">\n",
       "  <thead>\n",
       "    <tr style=\"text-align: right;\">\n",
       "      <th></th>\n",
       "      <th>bmi</th>\n",
       "      <th>ALT</th>\n",
       "      <th>r_GTP</th>\n",
       "      <th>AST</th>\n",
       "      <th>WHtR</th>\n",
       "      <th>avg_bp</th>\n",
       "      <th>bmi_c</th>\n",
       "      <th>ALT_c</th>\n",
       "    </tr>\n",
       "  </thead>\n",
       "  <tbody>\n",
       "    <tr>\n",
       "      <th>0</th>\n",
       "      <td>22.0</td>\n",
       "      <td>27.0</td>\n",
       "      <td>21.0</td>\n",
       "      <td>21.0</td>\n",
       "      <td>0.437</td>\n",
       "      <td>103.0</td>\n",
       "      <td>22.0</td>\n",
       "      <td>25.0</td>\n",
       "    </tr>\n",
       "    <tr>\n",
       "      <th>1</th>\n",
       "      <td>25.0</td>\n",
       "      <td>32.0</td>\n",
       "      <td>26.0</td>\n",
       "      <td>25.0</td>\n",
       "      <td>0.508</td>\n",
       "      <td>93.0</td>\n",
       "      <td>24.0</td>\n",
       "      <td>30.0</td>\n",
       "    </tr>\n",
       "    <tr>\n",
       "      <th>2</th>\n",
       "      <td>20.0</td>\n",
       "      <td>10.0</td>\n",
       "      <td>15.0</td>\n",
       "      <td>18.0</td>\n",
       "      <td>0.470</td>\n",
       "      <td>100.0</td>\n",
       "      <td>20.0</td>\n",
       "      <td>10.0</td>\n",
       "    </tr>\n",
       "  </tbody>\n",
       "</table>\n",
       "</div>"
      ],
      "text/plain": [
       "    bmi   ALT  r_GTP   AST   WHtR  avg_bp  bmi_c  ALT_c\n",
       "0  22.0  27.0   21.0  21.0  0.437   103.0   22.0   25.0\n",
       "1  25.0  32.0   26.0  25.0  0.508    93.0   24.0   30.0\n",
       "2  20.0  10.0   15.0  18.0  0.470   100.0   20.0   10.0"
      ]
     },
     "execution_count": 228,
     "metadata": {},
     "output_type": "execute_result"
    }
   ],
   "source": [
    "df3 = pd.read_pickle('./WHtR_concat/03/reduction_06.pkl')\n",
    "df3.head(3)"
   ]
  },
  {
   "cell_type": "code",
   "execution_count": 229,
   "id": "fa33ec7d",
   "metadata": {},
   "outputs": [],
   "source": [
    "df3.drop(columns=['bmi', 'ALT'], inplace=True)"
   ]
  },
  {
   "cell_type": "code",
   "execution_count": 230,
   "id": "12d554c7",
   "metadata": {
    "scrolled": true
   },
   "outputs": [
    {
     "data": {
      "text/html": [
       "<div>\n",
       "<style scoped>\n",
       "    .dataframe tbody tr th:only-of-type {\n",
       "        vertical-align: middle;\n",
       "    }\n",
       "\n",
       "    .dataframe tbody tr th {\n",
       "        vertical-align: top;\n",
       "    }\n",
       "\n",
       "    .dataframe thead th {\n",
       "        text-align: right;\n",
       "    }\n",
       "</style>\n",
       "<table border=\"1\" class=\"dataframe\">\n",
       "  <thead>\n",
       "    <tr style=\"text-align: right;\">\n",
       "      <th></th>\n",
       "      <th>r_GTP</th>\n",
       "      <th>AST</th>\n",
       "      <th>WHtR</th>\n",
       "      <th>avg_bp</th>\n",
       "      <th>bmi_c</th>\n",
       "      <th>ALT_c</th>\n",
       "    </tr>\n",
       "  </thead>\n",
       "  <tbody>\n",
       "    <tr>\n",
       "      <th>0</th>\n",
       "      <td>21.0</td>\n",
       "      <td>21.0</td>\n",
       "      <td>0.437</td>\n",
       "      <td>103.0</td>\n",
       "      <td>22.0</td>\n",
       "      <td>25.0</td>\n",
       "    </tr>\n",
       "    <tr>\n",
       "      <th>1</th>\n",
       "      <td>26.0</td>\n",
       "      <td>25.0</td>\n",
       "      <td>0.508</td>\n",
       "      <td>93.0</td>\n",
       "      <td>24.0</td>\n",
       "      <td>30.0</td>\n",
       "    </tr>\n",
       "  </tbody>\n",
       "</table>\n",
       "</div>"
      ],
      "text/plain": [
       "   r_GTP   AST   WHtR  avg_bp  bmi_c  ALT_c\n",
       "0   21.0  21.0  0.437   103.0   22.0   25.0\n",
       "1   26.0  25.0  0.508    93.0   24.0   30.0"
      ]
     },
     "execution_count": 230,
     "metadata": {},
     "output_type": "execute_result"
    }
   ],
   "source": [
    "df3.head(2)"
   ]
  },
  {
   "cell_type": "code",
   "execution_count": null,
   "id": "1c4122bd",
   "metadata": {},
   "outputs": [],
   "source": []
  },
  {
   "cell_type": "markdown",
   "id": "893d3c6b",
   "metadata": {},
   "source": [
    "### bmi 끝값 처리"
   ]
  },
  {
   "cell_type": "markdown",
   "id": "67487180",
   "metadata": {},
   "source": [
    "- bmi : 18이하/ 30이상 묶기"
   ]
  },
  {
   "cell_type": "code",
   "execution_count": 231,
   "id": "2f53d6c9",
   "metadata": {},
   "outputs": [
    {
     "data": {
      "text/plain": [
       "array([14., 16., 18., 20., 22., 24., 26., 28., 30., 32., 34., 36., 38.,\n",
       "       40.])"
      ]
     },
     "execution_count": 231,
     "metadata": {},
     "output_type": "execute_result"
    }
   ],
   "source": [
    "np.sort(df3.bmi_c.unique())"
   ]
  },
  {
   "cell_type": "code",
   "execution_count": 232,
   "id": "7ff7024a",
   "metadata": {},
   "outputs": [],
   "source": [
    "df4 = df3.copy()"
   ]
  },
  {
   "cell_type": "code",
   "execution_count": 233,
   "id": "2866cbfa",
   "metadata": {},
   "outputs": [],
   "source": [
    "def edge_bmi(x):\n",
    "    if x < 18.0:\n",
    "        return 18.0\n",
    "    elif x > 30.0:\n",
    "        return 30.0\n",
    "    else:\n",
    "        return x"
   ]
  },
  {
   "cell_type": "code",
   "execution_count": 236,
   "id": "2e28e855",
   "metadata": {},
   "outputs": [],
   "source": [
    "df4.bmi_c = df4.bmi_c.apply(lambda x : edge_bmi(x))"
   ]
  },
  {
   "cell_type": "code",
   "execution_count": 238,
   "id": "5d80a8ce",
   "metadata": {},
   "outputs": [
    {
     "data": {
      "text/plain": [
       "array([18., 20., 22., 24., 26., 28., 30.])"
      ]
     },
     "execution_count": 238,
     "metadata": {},
     "output_type": "execute_result"
    }
   ],
   "source": [
    "np.sort(df4.bmi_c.unique())"
   ]
  },
  {
   "cell_type": "code",
   "execution_count": null,
   "id": "51f7b742",
   "metadata": {},
   "outputs": [],
   "source": []
  },
  {
   "cell_type": "markdown",
   "id": "11d4b23e",
   "metadata": {},
   "source": [
    "### ALT 끝값처리"
   ]
  },
  {
   "cell_type": "markdown",
   "id": "79d3318a",
   "metadata": {},
   "source": [
    "- ALT : 10이하/45이상"
   ]
  },
  {
   "cell_type": "code",
   "execution_count": 240,
   "id": "c3683e20",
   "metadata": {},
   "outputs": [
    {
     "data": {
      "text/plain": [
       "array([ 0.,  5., 10., 15., 20., 25., 30., 35., 40., 45., 50., 55., 60.])"
      ]
     },
     "execution_count": 240,
     "metadata": {},
     "output_type": "execute_result"
    }
   ],
   "source": [
    "np.sort(df3.ALT_c.unique())"
   ]
  },
  {
   "cell_type": "code",
   "execution_count": 241,
   "id": "cefc9ae0",
   "metadata": {},
   "outputs": [],
   "source": [
    "def edge_ALT(x):\n",
    "    if x < 10.0:\n",
    "        return 10.0\n",
    "    elif x > 45.0:\n",
    "        return 45.0\n",
    "    else:\n",
    "        return x"
   ]
  },
  {
   "cell_type": "code",
   "execution_count": 242,
   "id": "e573227d",
   "metadata": {},
   "outputs": [],
   "source": [
    "df5 = df4.copy()"
   ]
  },
  {
   "cell_type": "code",
   "execution_count": 245,
   "id": "c3f3edf1",
   "metadata": {},
   "outputs": [],
   "source": [
    "df5.ALT_c = df5.ALT_c.apply(lambda x : edge_ALT(x))"
   ]
  },
  {
   "cell_type": "code",
   "execution_count": 246,
   "id": "58724b70",
   "metadata": {},
   "outputs": [
    {
     "data": {
      "text/plain": [
       "array([10., 15., 20., 25., 30., 35., 40., 45.])"
      ]
     },
     "execution_count": 246,
     "metadata": {},
     "output_type": "execute_result"
    }
   ],
   "source": [
    "np.sort(df5.ALT_c.unique())"
   ]
  },
  {
   "cell_type": "raw",
   "id": "a36c5b8c",
   "metadata": {},
   "source": [
    "df5.to_pickle('./WHtR_concat/03/reduction_07.pkl')"
   ]
  },
  {
   "cell_type": "code",
   "execution_count": null,
   "id": "3d9ca577",
   "metadata": {},
   "outputs": [],
   "source": []
  },
  {
   "cell_type": "markdown",
   "id": "73cd6ac9",
   "metadata": {},
   "source": [
    "### 그룹 key 저장"
   ]
  },
  {
   "cell_type": "code",
   "execution_count": 353,
   "id": "d7bad2ca",
   "metadata": {},
   "outputs": [],
   "source": [
    "dic_keys = {}"
   ]
  },
  {
   "cell_type": "code",
   "execution_count": 355,
   "id": "853cbea6",
   "metadata": {},
   "outputs": [
    {
     "data": {
      "text/plain": [
       "([18.0, 20.0, 22.0, 24.0, 26.0, 28.0, 30.0],\n",
       " [10.0, 15.0, 20.0, 25.0, 30.0, 35.0, 40.0, 45.0])"
      ]
     },
     "execution_count": 355,
     "metadata": {},
     "output_type": "execute_result"
    }
   ],
   "source": [
    "li_b, li_al"
   ]
  },
  {
   "cell_type": "code",
   "execution_count": 356,
   "id": "ac8661e9",
   "metadata": {},
   "outputs": [],
   "source": [
    "dic_keys['bmi'] = li_b\n",
    "dic_keys['ALT'] = li_al"
   ]
  },
  {
   "cell_type": "code",
   "execution_count": 366,
   "id": "6a53ea25",
   "metadata": {},
   "outputs": [],
   "source": [
    "dic_keys['note'] = '''\n",
    "- bmi\n",
    "    - 18.0 에 대해, ALT 25.0 이상 묶기\n",
    "    - 20.0 에 대해, ALT 35.0 이상 묶기\n",
    "    - 30.0 에 대해, ALT 15.0 미만 묶기\n",
    "'''"
   ]
  },
  {
   "cell_type": "code",
   "execution_count": 367,
   "id": "b8ac80be",
   "metadata": {},
   "outputs": [
    {
     "data": {
      "text/plain": [
       "{'bmi': [18.0, 20.0, 22.0, 24.0, 26.0, 28.0, 30.0],\n",
       " 'ALT': [10.0, 15.0, 20.0, 25.0, 30.0, 35.0, 40.0, 45.0],\n",
       " 'note': '\\n- bmi\\n    - 18.0 에 대해, ALT 25.0 이상 묶기\\n    - 20.0 에 대해, ALT 35.0 이상 묶기\\n    - 30.0 에 대해, ALT 15.0 미만 묶기\\n'}"
      ]
     },
     "execution_count": 367,
     "metadata": {},
     "output_type": "execute_result"
    }
   ],
   "source": [
    "dic_keys"
   ]
  },
  {
   "cell_type": "code",
   "execution_count": 357,
   "id": "1252b015",
   "metadata": {},
   "outputs": [],
   "source": [
    "import pickle"
   ]
  },
  {
   "cell_type": "raw",
   "id": "1754660b",
   "metadata": {},
   "source": [
    "with open('./WHtR_concat/03/keys.pkl', 'wb') as fw:\n",
    "    pickle.dump(dic_keys, fw)    "
   ]
  },
  {
   "cell_type": "code",
   "execution_count": 369,
   "id": "4346caa5",
   "metadata": {},
   "outputs": [],
   "source": [
    "with open('./WHtR_concat/03/keys.pkl', 'rb') as fr:\n",
    "    test = pickle.load(fr)"
   ]
  },
  {
   "cell_type": "code",
   "execution_count": 370,
   "id": "7cac8235",
   "metadata": {},
   "outputs": [
    {
     "data": {
      "text/plain": [
       "{'bmi': [18.0, 20.0, 22.0, 24.0, 26.0, 28.0, 30.0],\n",
       " 'ALT': [10.0, 15.0, 20.0, 25.0, 30.0, 35.0, 40.0, 45.0],\n",
       " 'note': '\\n- bmi\\n    - 18.0 에 대해, ALT 25.0 이상 묶기\\n    - 20.0 에 대해, ALT 35.0 이상 묶기\\n    - 30.0 에 대해, ALT 15.0 미만 묶기\\n'}"
      ]
     },
     "execution_count": 370,
     "metadata": {},
     "output_type": "execute_result"
    }
   ],
   "source": [
    "test"
   ]
  },
  {
   "cell_type": "code",
   "execution_count": null,
   "id": "aef9164e",
   "metadata": {},
   "outputs": [],
   "source": []
  },
  {
   "cell_type": "markdown",
   "id": "238fee0d",
   "metadata": {},
   "source": [
    "### 그룹화"
   ]
  },
  {
   "cell_type": "code",
   "execution_count": 344,
   "id": "8c496060",
   "metadata": {},
   "outputs": [],
   "source": [
    "g1 = df5.groupby(by=['bmi_c', 'ALT_c'])"
   ]
  },
  {
   "cell_type": "code",
   "execution_count": 345,
   "id": "b2b4f5f8",
   "metadata": {},
   "outputs": [],
   "source": [
    "desc = g1.describe()['WHtR']"
   ]
  },
  {
   "cell_type": "markdown",
   "id": "0be699ef",
   "metadata": {},
   "source": [
    "#### MEAN 확인"
   ]
  },
  {
   "cell_type": "code",
   "execution_count": 346,
   "id": "fd77f33b",
   "metadata": {},
   "outputs": [],
   "source": [
    "means = desc['mean']"
   ]
  },
  {
   "cell_type": "code",
   "execution_count": 347,
   "id": "2a2a5180",
   "metadata": {},
   "outputs": [
    {
     "data": {
      "text/plain": [
       "([18.0, 20.0, 22.0, 24.0, 26.0, 28.0, 30.0],\n",
       " [10.0, 15.0, 20.0, 25.0, 30.0, 35.0, 40.0, 45.0])"
      ]
     },
     "execution_count": 347,
     "metadata": {},
     "output_type": "execute_result"
    }
   ],
   "source": [
    "li_b, li_al = [], []\n",
    "for b, a in means.index:\n",
    "    li_b.append(b)\n",
    "    li_al.append(a)\n",
    "li_b = list(set(li_b))\n",
    "li_al = list(set(li_al))\n",
    "li_b.sort() \n",
    "li_al.sort()\n",
    "li_b, li_al"
   ]
  },
  {
   "cell_type": "code",
   "execution_count": 348,
   "id": "a08d9cb4",
   "metadata": {},
   "outputs": [],
   "source": [
    "dic_means = {}\n",
    "for b in li_b:\n",
    "    li = []\n",
    "    for al in li_al:\n",
    "        li.append(means[(b, al)])\n",
    "    dic_means[b] = li"
   ]
  },
  {
   "cell_type": "code",
   "execution_count": 349,
   "id": "5d395951",
   "metadata": {},
   "outputs": [
    {
     "data": {
      "text/html": [
       "<div>\n",
       "<style scoped>\n",
       "    .dataframe tbody tr th:only-of-type {\n",
       "        vertical-align: middle;\n",
       "    }\n",
       "\n",
       "    .dataframe tbody tr th {\n",
       "        vertical-align: top;\n",
       "    }\n",
       "\n",
       "    .dataframe thead th {\n",
       "        text-align: right;\n",
       "    }\n",
       "</style>\n",
       "<table border=\"1\" class=\"dataframe\">\n",
       "  <thead>\n",
       "    <tr style=\"text-align: right;\">\n",
       "      <th></th>\n",
       "      <th>18.0</th>\n",
       "      <th>20.0</th>\n",
       "      <th>22.0</th>\n",
       "      <th>24.0</th>\n",
       "      <th>26.0</th>\n",
       "      <th>28.0</th>\n",
       "      <th>30.0</th>\n",
       "    </tr>\n",
       "  </thead>\n",
       "  <tbody>\n",
       "    <tr>\n",
       "      <th>10.0</th>\n",
       "      <td>0.418808</td>\n",
       "      <td>0.441722</td>\n",
       "      <td>0.464541</td>\n",
       "      <td>0.486702</td>\n",
       "      <td>0.505516</td>\n",
       "      <td>0.529970</td>\n",
       "      <td>0.573500</td>\n",
       "    </tr>\n",
       "    <tr>\n",
       "      <th>15.0</th>\n",
       "      <td>0.422319</td>\n",
       "      <td>0.445016</td>\n",
       "      <td>0.467341</td>\n",
       "      <td>0.488372</td>\n",
       "      <td>0.507639</td>\n",
       "      <td>0.532544</td>\n",
       "      <td>0.574503</td>\n",
       "    </tr>\n",
       "    <tr>\n",
       "      <th>20.0</th>\n",
       "      <td>0.422933</td>\n",
       "      <td>0.447485</td>\n",
       "      <td>0.470400</td>\n",
       "      <td>0.490705</td>\n",
       "      <td>0.509874</td>\n",
       "      <td>0.533858</td>\n",
       "      <td>0.575090</td>\n",
       "    </tr>\n",
       "    <tr>\n",
       "      <th>25.0</th>\n",
       "      <td>0.423870</td>\n",
       "      <td>0.447846</td>\n",
       "      <td>0.470987</td>\n",
       "      <td>0.492975</td>\n",
       "      <td>0.512545</td>\n",
       "      <td>0.536142</td>\n",
       "      <td>0.579002</td>\n",
       "    </tr>\n",
       "    <tr>\n",
       "      <th>30.0</th>\n",
       "      <td>0.429402</td>\n",
       "      <td>0.451702</td>\n",
       "      <td>0.473982</td>\n",
       "      <td>0.495609</td>\n",
       "      <td>0.513056</td>\n",
       "      <td>0.538755</td>\n",
       "      <td>0.576317</td>\n",
       "    </tr>\n",
       "    <tr>\n",
       "      <th>35.0</th>\n",
       "      <td>0.430100</td>\n",
       "      <td>0.453265</td>\n",
       "      <td>0.476771</td>\n",
       "      <td>0.495229</td>\n",
       "      <td>0.515757</td>\n",
       "      <td>0.539565</td>\n",
       "      <td>0.581461</td>\n",
       "    </tr>\n",
       "    <tr>\n",
       "      <th>40.0</th>\n",
       "      <td>0.427211</td>\n",
       "      <td>0.453718</td>\n",
       "      <td>0.476358</td>\n",
       "      <td>0.498272</td>\n",
       "      <td>0.515541</td>\n",
       "      <td>0.538486</td>\n",
       "      <td>0.578185</td>\n",
       "    </tr>\n",
       "    <tr>\n",
       "      <th>45.0</th>\n",
       "      <td>0.435130</td>\n",
       "      <td>0.456455</td>\n",
       "      <td>0.479439</td>\n",
       "      <td>0.499107</td>\n",
       "      <td>0.517143</td>\n",
       "      <td>0.542500</td>\n",
       "      <td>0.581262</td>\n",
       "    </tr>\n",
       "  </tbody>\n",
       "</table>\n",
       "</div>"
      ],
      "text/plain": [
       "          18.0      20.0      22.0      24.0      26.0      28.0      30.0\n",
       "10.0  0.418808  0.441722  0.464541  0.486702  0.505516  0.529970  0.573500\n",
       "15.0  0.422319  0.445016  0.467341  0.488372  0.507639  0.532544  0.574503\n",
       "20.0  0.422933  0.447485  0.470400  0.490705  0.509874  0.533858  0.575090\n",
       "25.0  0.423870  0.447846  0.470987  0.492975  0.512545  0.536142  0.579002\n",
       "30.0  0.429402  0.451702  0.473982  0.495609  0.513056  0.538755  0.576317\n",
       "35.0  0.430100  0.453265  0.476771  0.495229  0.515757  0.539565  0.581461\n",
       "40.0  0.427211  0.453718  0.476358  0.498272  0.515541  0.538486  0.578185\n",
       "45.0  0.435130  0.456455  0.479439  0.499107  0.517143  0.542500  0.581262"
      ]
     },
     "execution_count": 349,
     "metadata": {},
     "output_type": "execute_result"
    }
   ],
   "source": [
    "df_means = pd.DataFrame(dic_means, index=li_al)\n",
    "df_means"
   ]
  },
  {
   "cell_type": "code",
   "execution_count": 350,
   "id": "7127a063",
   "metadata": {},
   "outputs": [
    {
     "data": {
      "image/png": "[encoded data removed]",
      "text/plain": [
       "<Figure size 720x576 with 2 Axes>"
      ]
     },
     "metadata": {
      "needs_background": "light"
     },
     "output_type": "display_data"
    }
   ],
   "source": [
    "colormap = plt.cm.PuBu\n",
    "plt.figure(figsize=(10, 8))\n",
    "sns.heatmap(df_means, linewidths = 0.1, vmin=0.4, vmax = 0.6,\n",
    "           square = True, cmap = colormap, linecolor = \"white\", annot = True, \n",
    "            annot_kws = {\"size\" : 10},  fmt='.3g',)\n",
    "plt.show()"
   ]
  },
  {
   "cell_type": "code",
   "execution_count": null,
   "id": "4760d0b9",
   "metadata": {},
   "outputs": [],
   "source": []
  },
  {
   "cell_type": "markdown",
   "id": "ad65c3f1",
   "metadata": {},
   "source": [
    "#### COUNT 확인"
   ]
  },
  {
   "cell_type": "code",
   "execution_count": 312,
   "id": "c4492227",
   "metadata": {},
   "outputs": [],
   "source": [
    "counts = desc['count']"
   ]
  },
  {
   "cell_type": "code",
   "execution_count": 318,
   "id": "eacd6d8d",
   "metadata": {},
   "outputs": [],
   "source": [
    "dic_counts = {}\n",
    "for b in li_b:\n",
    "    li = []\n",
    "    for al in li_al:\n",
    "        li.append(counts[(b, al)])\n",
    "    dic_counts[b] = li"
   ]
  },
  {
   "cell_type": "code",
   "execution_count": 319,
   "id": "aa772ffe",
   "metadata": {
    "scrolled": true
   },
   "outputs": [
    {
     "data": {
      "text/html": [
       "<div>\n",
       "<style scoped>\n",
       "    .dataframe tbody tr th:only-of-type {\n",
       "        vertical-align: middle;\n",
       "    }\n",
       "\n",
       "    .dataframe tbody tr th {\n",
       "        vertical-align: top;\n",
       "    }\n",
       "\n",
       "    .dataframe thead th {\n",
       "        text-align: right;\n",
       "    }\n",
       "</style>\n",
       "<table border=\"1\" class=\"dataframe\">\n",
       "  <thead>\n",
       "    <tr style=\"text-align: right;\">\n",
       "      <th></th>\n",
       "      <th>18.0</th>\n",
       "      <th>20.0</th>\n",
       "      <th>22.0</th>\n",
       "      <th>24.0</th>\n",
       "      <th>26.0</th>\n",
       "      <th>28.0</th>\n",
       "      <th>30.0</th>\n",
       "    </tr>\n",
       "  </thead>\n",
       "  <tbody>\n",
       "    <tr>\n",
       "      <th>10.0</th>\n",
       "      <td>567.0</td>\n",
       "      <td>1232.0</td>\n",
       "      <td>1772.0</td>\n",
       "      <td>1243.0</td>\n",
       "      <td>672.0</td>\n",
       "      <td>433.0</td>\n",
       "      <td>58.0</td>\n",
       "    </tr>\n",
       "    <tr>\n",
       "      <th>15.0</th>\n",
       "      <td>524.0</td>\n",
       "      <td>1682.0</td>\n",
       "      <td>3060.0</td>\n",
       "      <td>2650.0</td>\n",
       "      <td>1688.0</td>\n",
       "      <td>1213.0</td>\n",
       "      <td>183.0</td>\n",
       "    </tr>\n",
       "    <tr>\n",
       "      <th>20.0</th>\n",
       "      <td>315.0</td>\n",
       "      <td>1193.0</td>\n",
       "      <td>2707.0</td>\n",
       "      <td>2814.0</td>\n",
       "      <td>2195.0</td>\n",
       "      <td>1798.0</td>\n",
       "      <td>345.0</td>\n",
       "    </tr>\n",
       "    <tr>\n",
       "      <th>25.0</th>\n",
       "      <td>177.0</td>\n",
       "      <td>734.0</td>\n",
       "      <td>1878.0</td>\n",
       "      <td>2232.0</td>\n",
       "      <td>1859.0</td>\n",
       "      <td>1878.0</td>\n",
       "      <td>426.0</td>\n",
       "    </tr>\n",
       "    <tr>\n",
       "      <th>30.0</th>\n",
       "      <td>92.0</td>\n",
       "      <td>399.0</td>\n",
       "      <td>1145.0</td>\n",
       "      <td>1496.0</td>\n",
       "      <td>1484.0</td>\n",
       "      <td>1554.0</td>\n",
       "      <td>397.0</td>\n",
       "    </tr>\n",
       "    <tr>\n",
       "      <th>35.0</th>\n",
       "      <td>40.0</td>\n",
       "      <td>211.0</td>\n",
       "      <td>698.0</td>\n",
       "      <td>931.0</td>\n",
       "      <td>1075.0</td>\n",
       "      <td>1247.0</td>\n",
       "      <td>360.0</td>\n",
       "    </tr>\n",
       "    <tr>\n",
       "      <th>40.0</th>\n",
       "      <td>19.0</td>\n",
       "      <td>124.0</td>\n",
       "      <td>422.0</td>\n",
       "      <td>672.0</td>\n",
       "      <td>724.0</td>\n",
       "      <td>946.0</td>\n",
       "      <td>340.0</td>\n",
       "    </tr>\n",
       "    <tr>\n",
       "      <th>45.0</th>\n",
       "      <td>23.0</td>\n",
       "      <td>176.0</td>\n",
       "      <td>629.0</td>\n",
       "      <td>1089.0</td>\n",
       "      <td>1390.0</td>\n",
       "      <td>1933.0</td>\n",
       "      <td>759.0</td>\n",
       "    </tr>\n",
       "  </tbody>\n",
       "</table>\n",
       "</div>"
      ],
      "text/plain": [
       "       18.0    20.0    22.0    24.0    26.0    28.0   30.0\n",
       "10.0  567.0  1232.0  1772.0  1243.0   672.0   433.0   58.0\n",
       "15.0  524.0  1682.0  3060.0  2650.0  1688.0  1213.0  183.0\n",
       "20.0  315.0  1193.0  2707.0  2814.0  2195.0  1798.0  345.0\n",
       "25.0  177.0   734.0  1878.0  2232.0  1859.0  1878.0  426.0\n",
       "30.0   92.0   399.0  1145.0  1496.0  1484.0  1554.0  397.0\n",
       "35.0   40.0   211.0   698.0   931.0  1075.0  1247.0  360.0\n",
       "40.0   19.0   124.0   422.0   672.0   724.0   946.0  340.0\n",
       "45.0   23.0   176.0   629.0  1089.0  1390.0  1933.0  759.0"
      ]
     },
     "execution_count": 319,
     "metadata": {},
     "output_type": "execute_result"
    }
   ],
   "source": [
    "df_counts = pd.DataFrame(dic_counts, index=li_al)\n",
    "df_counts"
   ]
  },
  {
   "cell_type": "markdown",
   "id": "4df6bcad",
   "metadata": {},
   "source": [
    "- max : 300"
   ]
  },
  {
   "cell_type": "code",
   "execution_count": 351,
   "id": "c0339705",
   "metadata": {},
   "outputs": [],
   "source": [
    "min_ = df_counts.min().min()\n",
    "max_ = 300"
   ]
  },
  {
   "cell_type": "code",
   "execution_count": 343,
   "id": "d283802a",
   "metadata": {},
   "outputs": [
    {
     "data": {
      "image/png": "[encoded data removed]",
      "text/plain": [
       "<Figure size 720x576 with 2 Axes>"
      ]
     },
     "metadata": {
      "needs_background": "light"
     },
     "output_type": "display_data"
    }
   ],
   "source": [
    "colormap = plt.cm.PuBu\n",
    "plt.figure(figsize=(10, 8))\n",
    "sns.heatmap(df_counts, linewidths = 0.1, vmin=min_, vmax = max_,\n",
    "           square = True, cmap = colormap, linecolor = \"white\", annot = True, \n",
    "            annot_kws = {\"size\" : 10},  fmt='.2g')\n",
    "plt.show()"
   ]
  },
  {
   "cell_type": "markdown",
   "id": "04d33b20",
   "metadata": {},
   "source": [
    "- bmi\n",
    "    - 18.0 에 대해, ALT 25.0 이상 묶기\n",
    "    - 20.0 에 대해, ALT 35.0 이상 묶기\n",
    "    - 30.0 에 대해, ALT 15.0 미만 묶기"
   ]
  }
 ],
 "metadata": {
  "kernelspec": {
   "display_name": "Python 3 (ipykernel)",
   "language": "python",
   "name": "python3"
  },
  "language_info": {
   "codemirror_mode": {
    "name": "ipython",
    "version": 3
   },
   "file_extension": ".py",
   "mimetype": "text/x-python",
   "name": "python",
   "nbconvert_exporter": "python",
   "pygments_lexer": "ipython3",
   "version": "3.8.13"
  },
  "toc": {
   "base_numbering": 1,
   "nav_menu": {},
   "number_sections": true,
   "sideBar": true,
   "skip_h1_title": false,
   "title_cell": "Table of Contents",
   "title_sidebar": "Contents",
   "toc_cell": false,
   "toc_position": {
    "height": "calc(100% - 180px)",
    "left": "10px",
    "top": "150px",
    "width": "320.9px"
   },
   "toc_section_display": true,
   "toc_window_display": true
  }
 },
 "nbformat": 4,
 "nbformat_minor": 5
}
