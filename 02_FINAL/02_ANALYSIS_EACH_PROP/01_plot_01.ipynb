{
 "cells": [
  {
   "cell_type": "markdown",
   "id": "10eb599d",
   "metadata": {},
   "source": [
    "author : sybyeon1102@gmail.com"
   ]
  },
  {
   "cell_type": "code",
   "execution_count": 2,
   "id": "52277487",
   "metadata": {},
   "outputs": [],
   "source": [
    "import pandas as pd\n",
    "import numpy as np\n",
    "import matplotlib.pyplot as plt"
   ]
  },
  {
   "cell_type": "code",
   "execution_count": 3,
   "id": "e0346e87",
   "metadata": {},
   "outputs": [],
   "source": [
    "from matplotlib import rc\n",
    "rc('font', family='Malgun Gothic') # 한글 폰트\n",
    "plt.rcParams['axes.unicode_minus'] = False # 마이너스 부호출력 설정\n",
    "plt.rc('font', size=16)"
   ]
  },
  {
   "cell_type": "markdown",
   "id": "275945fa",
   "metadata": {},
   "source": [
    "# 비만여부 - 당뇨+전단계 비율 plot"
   ]
  },
  {
   "cell_type": "code",
   "execution_count": 3,
   "id": "4dda05fb",
   "metadata": {},
   "outputs": [],
   "source": [
    "fat = pd.read_pickle('./fat_edu_gluCAT.pkl')"
   ]
  },
  {
   "cell_type": "code",
   "execution_count": 4,
   "id": "6f8cb71d",
   "metadata": {},
   "outputs": [],
   "source": [
    "slim = pd.read_pickle('./slim_edu_gluCAT.pkl')"
   ]
  },
  {
   "cell_type": "code",
   "execution_count": 5,
   "id": "b0bb13c5",
   "metadata": {},
   "outputs": [],
   "source": [
    "fat_glucat = fat.edu_0 + fat.edu_1"
   ]
  },
  {
   "cell_type": "code",
   "execution_count": 6,
   "id": "cda4e847",
   "metadata": {},
   "outputs": [],
   "source": [
    "slim_glucat = slim.edu_0 + slim.edu_1"
   ]
  },
  {
   "cell_type": "code",
   "execution_count": 7,
   "id": "fe3842e6",
   "metadata": {},
   "outputs": [],
   "source": [
    "total_glucat = fat_glucat + slim_glucat"
   ]
  },
  {
   "cell_type": "code",
   "execution_count": 8,
   "id": "c9c73692",
   "metadata": {},
   "outputs": [
    {
     "data": {
      "text/plain": [
       "0    0.497921\n",
       "1    0.472104\n",
       "2    0.029975\n",
       "dtype: float64"
      ]
     },
     "execution_count": 8,
     "metadata": {},
     "output_type": "execute_result"
    }
   ],
   "source": [
    "fat_glucat/fat_glucat.sum()"
   ]
  },
  {
   "cell_type": "code",
   "execution_count": 9,
   "id": "6a6006d6",
   "metadata": {},
   "outputs": [
    {
     "data": {
      "text/plain": [
       "0    0.591924\n",
       "1    0.398529\n",
       "2    0.009547\n",
       "dtype: float64"
      ]
     },
     "execution_count": 9,
     "metadata": {},
     "output_type": "execute_result"
    }
   ],
   "source": [
    "slim_glucat/slim_glucat.sum()"
   ]
  },
  {
   "cell_type": "code",
   "execution_count": 10,
   "id": "2e0b3fec",
   "metadata": {},
   "outputs": [
    {
     "data": {
      "text/plain": [
       "0.441796713923139"
      ]
     },
     "execution_count": 10,
     "metadata": {},
     "output_type": "execute_result"
    }
   ],
   "source": [
    "total_glucat[1:].sum()/total_glucat.sum()"
   ]
  },
  {
   "cell_type": "code",
   "execution_count": 70,
   "id": "bc2679a6",
   "metadata": {},
   "outputs": [
    {
     "data": {
      "image/png": "[encoded data removed]",
      "text/plain": [
       "<Figure size 576x432 with 1 Axes>"
      ]
     },
     "metadata": {
      "needs_background": "light"
     },
     "output_type": "display_data"
    }
   ],
   "source": [
    "fig = plt.figure(figsize=(8, 6))\n",
    "ax = fig.add_subplot(111)\n",
    "\n",
    "alpha = 0.5\n",
    "\n",
    "r1 = ax.bar(['비만이 없는 경우', '비만'], [39.85, 47.21], width=0.6, \n",
    "            label='당뇨 전단계', color='purple', alpha=0.2)\n",
    "r2 = ax.bar(['비만이 없는 경우', '비만'], [0.95, 2.99], width=0.6, \n",
    "            bottom=[39.85, 47.21], label='당뇨', color='purple', alpha=0.6)\n",
    "ax.set_ylabel('당뇨 전단계 + 당뇨 비율 (%)')\n",
    "ax.set_ylim(35, 55)\n",
    "ax.set_xlim(-0.5, 1.5)\n",
    "ax.set_yticks(range(35, 55+1, 5))\n",
    "ax.legend()\n",
    "ax.set_title('비만여부에 따른 당뇨 전단계와 당뇨 비율')\n",
    "\n",
    "# ax.bar_label(r1, padding=3, label_type='edge')\n",
    "\n",
    "ax.text(0-0.05, 39.85-1.2, '40%')\n",
    "ax.text(1-0.05, 47.21-1.2, '47%')\n",
    "ax.text(0-0.03, 39.85+0.95-0.85, '1%')\n",
    "ax.text(1-0.05, 47.21+2.99-1.2, '3%')\n",
    "\n",
    "ax.grid(axis='y')\n",
    "\n",
    "# fig.savefig('./plotimages/01비만여부에 따른 당뇨 전단계와 당뇨 비율.png')\n",
    "\n",
    "plt.show()"
   ]
  },
  {
   "cell_type": "code",
   "execution_count": null,
   "id": "230b764a",
   "metadata": {},
   "outputs": [],
   "source": []
  },
  {
   "cell_type": "markdown",
   "id": "c1fdd3b0",
   "metadata": {},
   "source": [
    "# 교육 - 당뇨"
   ]
  },
  {
   "cell_type": "code",
   "execution_count": 93,
   "id": "c87e98c2",
   "metadata": {
    "scrolled": true
   },
   "outputs": [
    {
     "data": {
      "text/html": [
       "<div>\n",
       "<style scoped>\n",
       "    .dataframe tbody tr th:only-of-type {\n",
       "        vertical-align: middle;\n",
       "    }\n",
       "\n",
       "    .dataframe tbody tr th {\n",
       "        vertical-align: top;\n",
       "    }\n",
       "\n",
       "    .dataframe thead th {\n",
       "        text-align: right;\n",
       "    }\n",
       "</style>\n",
       "<table border=\"1\" class=\"dataframe\">\n",
       "  <thead>\n",
       "    <tr style=\"text-align: right;\">\n",
       "      <th></th>\n",
       "      <th>0</th>\n",
       "      <th>1</th>\n",
       "      <th>2</th>\n",
       "      <th>3</th>\n",
       "    </tr>\n",
       "  </thead>\n",
       "  <tbody>\n",
       "    <tr>\n",
       "      <th>0</th>\n",
       "      <td>105000</td>\n",
       "      <td>109000</td>\n",
       "      <td>258000</td>\n",
       "      <td>7700</td>\n",
       "    </tr>\n",
       "    <tr>\n",
       "      <th>1</th>\n",
       "      <td>89000</td>\n",
       "      <td>84000</td>\n",
       "      <td>188000</td>\n",
       "      <td>4700</td>\n",
       "    </tr>\n",
       "    <tr>\n",
       "      <th>2</th>\n",
       "      <td>4800</td>\n",
       "      <td>3500</td>\n",
       "      <td>6000</td>\n",
       "      <td>150</td>\n",
       "    </tr>\n",
       "  </tbody>\n",
       "</table>\n",
       "</div>"
      ],
      "text/plain": [
       "        0       1       2     3\n",
       "0  105000  109000  258000  7700\n",
       "1   89000   84000  188000  4700\n",
       "2    4800    3500    6000   150"
      ]
     },
     "execution_count": 93,
     "metadata": {},
     "output_type": "execute_result"
    }
   ],
   "source": [
    "df1 = pd.read_pickle('./edu_glucat_count.pkl')\n",
    "df1"
   ]
  },
  {
   "cell_type": "code",
   "execution_count": 94,
   "id": "6fd234ca",
   "metadata": {},
   "outputs": [],
   "source": [
    "edu_sum = [df1[i].sum() for i in range(4)]"
   ]
  },
  {
   "cell_type": "code",
   "execution_count": 95,
   "id": "f131474c",
   "metadata": {},
   "outputs": [
    {
     "data": {
      "text/plain": [
       "(0.4476861167002012, 0.02414486921529175)"
      ]
     },
     "execution_count": 95,
     "metadata": {},
     "output_type": "execute_result"
    }
   ],
   "source": [
    "(df1[0]/df1[0].sum())[1], (df1[0]/df1[0].sum())[2]"
   ]
  },
  {
   "cell_type": "code",
   "execution_count": 96,
   "id": "85af2218",
   "metadata": {},
   "outputs": [],
   "source": [
    "li_glucat1, li_glucat2 = [], []"
   ]
  },
  {
   "cell_type": "code",
   "execution_count": 97,
   "id": "4e5bbb62",
   "metadata": {},
   "outputs": [],
   "source": [
    "for i in range(4):\n",
    "    li_glucat1.append((df1[i]/df1[i].sum())[1]*100)\n",
    "    li_glucat2.append((df1[i]/df1[i].sum())[2]*100)"
   ]
  },
  {
   "cell_type": "code",
   "execution_count": 98,
   "id": "bda76a9f",
   "metadata": {},
   "outputs": [
    {
     "data": {
      "text/plain": [
       "array([47.18309859, 44.52926209, 42.92035398, 38.64541833])"
      ]
     },
     "execution_count": 98,
     "metadata": {},
     "output_type": "execute_result"
    }
   ],
   "source": [
    "np.array(li_glucat1) + np.array(li_glucat2)"
   ]
  },
  {
   "cell_type": "code",
   "execution_count": 99,
   "id": "88cf2302",
   "metadata": {},
   "outputs": [
    {
     "data": {
      "text/plain": [
       "4.259999999999998"
      ]
     },
     "execution_count": 99,
     "metadata": {},
     "output_type": "execute_result"
    }
   ],
   "source": [
    "47.18-42.92"
   ]
  },
  {
   "cell_type": "code",
   "execution_count": 100,
   "id": "da13ef1a",
   "metadata": {},
   "outputs": [],
   "source": [
    "edu = ['고등학교', '전문대학', '4년제대학', '5년제이상']"
   ]
  },
  {
   "cell_type": "code",
   "execution_count": 101,
   "id": "2ea28ad5",
   "metadata": {},
   "outputs": [
    {
     "data": {
      "image/png": "[encoded data removed]",
      "text/plain": [
       "<Figure size 720x432 with 1 Axes>"
      ]
     },
     "metadata": {
      "needs_background": "light"
     },
     "output_type": "display_data"
    }
   ],
   "source": [
    "fig = plt.figure(figsize=(10, 6))\n",
    "ax = fig.add_subplot(111)\n",
    "\n",
    "ax.bar(edu, li_glucat1, label='당뇨 전단계', color='purple', alpha=0.2, width=0.6)\n",
    "ax.bar(edu, li_glucat2, bottom=li_glucat1, label='당뇨', color='purple', alpha=0.6, width=0.6)\n",
    "ax.set_ylabel('당뇨 전단계 + 당뇨 비율 (%)')\n",
    "ax.set_ylim(35, 50)\n",
    "ax.set_yticks(range(35, 50+1, 5))\n",
    "ax.grid(axis='y')\n",
    "ax.legend()\n",
    "\n",
    "# fig.savefig('./plotimages/학력별 당뇨전단계 당뇨 비율.png')\n",
    "\n",
    "for i, gs in enumerate(zip(li_glucat1, li_glucat2)):\n",
    "    g1, g2 = gs\n",
    "    ax.text(i-0.08, g1-1, f'{g1:.0f}%')\n",
    "    ax.text(i-0.06, g1+g2-0.9, f'{g2:.0f}%')\n",
    "plt.show()"
   ]
  },
  {
   "cell_type": "code",
   "execution_count": null,
   "id": "dc70ba16",
   "metadata": {},
   "outputs": [],
   "source": []
  },
  {
   "cell_type": "code",
   "execution_count": 77,
   "id": "0d2bd74b",
   "metadata": {},
   "outputs": [
    {
     "data": {
      "text/html": [
       "<div>\n",
       "<style scoped>\n",
       "    .dataframe tbody tr th:only-of-type {\n",
       "        vertical-align: middle;\n",
       "    }\n",
       "\n",
       "    .dataframe tbody tr th {\n",
       "        vertical-align: top;\n",
       "    }\n",
       "\n",
       "    .dataframe thead th {\n",
       "        text-align: right;\n",
       "    }\n",
       "</style>\n",
       "<table border=\"1\" class=\"dataframe\">\n",
       "  <thead>\n",
       "    <tr style=\"text-align: right;\">\n",
       "      <th></th>\n",
       "      <th>0</th>\n",
       "      <th>1</th>\n",
       "      <th>2</th>\n",
       "      <th>3</th>\n",
       "    </tr>\n",
       "  </thead>\n",
       "  <tbody>\n",
       "    <tr>\n",
       "      <th>0</th>\n",
       "      <td>105000</td>\n",
       "      <td>109000</td>\n",
       "      <td>258000</td>\n",
       "      <td>7700</td>\n",
       "    </tr>\n",
       "    <tr>\n",
       "      <th>1</th>\n",
       "      <td>89000</td>\n",
       "      <td>84000</td>\n",
       "      <td>188000</td>\n",
       "      <td>4700</td>\n",
       "    </tr>\n",
       "    <tr>\n",
       "      <th>2</th>\n",
       "      <td>4800</td>\n",
       "      <td>3500</td>\n",
       "      <td>6000</td>\n",
       "      <td>150</td>\n",
       "    </tr>\n",
       "  </tbody>\n",
       "</table>\n",
       "</div>"
      ],
      "text/plain": [
       "        0       1       2     3\n",
       "0  105000  109000  258000  7700\n",
       "1   89000   84000  188000  4700\n",
       "2    4800    3500    6000   150"
      ]
     },
     "execution_count": 77,
     "metadata": {},
     "output_type": "execute_result"
    }
   ],
   "source": [
    "df1"
   ]
  },
  {
   "cell_type": "code",
   "execution_count": 78,
   "id": "15e61bd2",
   "metadata": {},
   "outputs": [],
   "source": [
    "df1[0] = df1[0]+df1[1]"
   ]
  },
  {
   "cell_type": "code",
   "execution_count": 79,
   "id": "292969be",
   "metadata": {},
   "outputs": [],
   "source": [
    "df1.drop(columns=1, inplace=True)"
   ]
  },
  {
   "cell_type": "code",
   "execution_count": 80,
   "id": "d303fd99",
   "metadata": {},
   "outputs": [],
   "source": [
    "df1[1] = df1[2] + df1[3]"
   ]
  },
  {
   "cell_type": "code",
   "execution_count": 81,
   "id": "132ef0da",
   "metadata": {},
   "outputs": [],
   "source": [
    "df1.drop(columns=[2, 3], inplace=True)"
   ]
  },
  {
   "cell_type": "code",
   "execution_count": 82,
   "id": "4ccec3ca",
   "metadata": {},
   "outputs": [],
   "source": [
    "df1[0] = df1[0]/df1[0].sum()"
   ]
  },
  {
   "cell_type": "code",
   "execution_count": 83,
   "id": "98da4097",
   "metadata": {},
   "outputs": [],
   "source": [
    "df1[1] = df1[1]/df1[1].sum()"
   ]
  },
  {
   "cell_type": "code",
   "execution_count": 84,
   "id": "db9d9596",
   "metadata": {},
   "outputs": [],
   "source": [
    "df1 = df1.applymap(lambda x: 100*x)"
   ]
  },
  {
   "cell_type": "code",
   "execution_count": 85,
   "id": "295a81ce",
   "metadata": {},
   "outputs": [
    {
     "data": {
      "text/plain": [
       "0    43.764230\n",
       "1    41.481003\n",
       "Name: 1, dtype: float64"
      ]
     },
     "execution_count": 85,
     "metadata": {},
     "output_type": "execute_result"
    }
   ],
   "source": [
    "df1.iloc[1, :]"
   ]
  },
  {
   "cell_type": "code",
   "execution_count": 91,
   "id": "df58c28d",
   "metadata": {},
   "outputs": [
    {
     "data": {
      "image/png": "[encoded data removed]",
      "text/plain": [
       "<Figure size 576x432 with 1 Axes>"
      ]
     },
     "metadata": {
      "needs_background": "light"
     },
     "output_type": "display_data"
    }
   ],
   "source": [
    "fig = plt.figure(figsize=(8, 6))\n",
    "ax = fig.add_subplot(111)\n",
    "edu = ['4년제대학미만', '4년제대학이상']\n",
    "ax.bar(edu, df1.iloc[1, :], label='당뇨 전단계', color='purple', alpha=0.2, width=0.6)\n",
    "ax.bar(edu, df1.iloc[2, :], bottom=df1.iloc[1, :], label='당뇨', color='purple', alpha=0.6, width=0.6)\n",
    "ax.set_ylabel('당뇨 전단계 + 당뇨 비율 (%)')\n",
    "ax.set_ylim(38, 48)\n",
    "# ax.set_yticks(range(34, 50+1, 2))\n",
    "ax.grid(axis='y')\n",
    "ax.set_xlim(-0.5, 1.5)\n",
    "\n",
    "for i, gs in enumerate(zip(df1.iloc[1, :],df1.iloc[2, :])):\n",
    "    g1, g2 = gs\n",
    "    ax.text(i-0.08, g1-1, f'{g1:.0f}%')\n",
    "    ax.text(i-0.06, g1+g2-0.9, f'{g2:.0f}%')\n",
    "# fig.savefig('./plotimages/4년제 대학 기준 당뇨전단계 당뇨 비율.png')\n",
    "\n",
    "plt.show()"
   ]
  },
  {
   "cell_type": "code",
   "execution_count": null,
   "id": "9925753d",
   "metadata": {},
   "outputs": [],
   "source": []
  },
  {
   "cell_type": "markdown",
   "id": "a11321d5",
   "metadata": {},
   "source": [
    "# 지역별 혈당"
   ]
  },
  {
   "cell_type": "code",
   "execution_count": 155,
   "id": "22f957a5",
   "metadata": {},
   "outputs": [],
   "source": [
    "df2 = pd.read_csv('./region_dbstat_count.csv')"
   ]
  },
  {
   "cell_type": "code",
   "execution_count": 156,
   "id": "fd99950e",
   "metadata": {},
   "outputs": [],
   "source": [
    "df2['서울'] = df2['서울1검사장'] + df2['서울2검사장']"
   ]
  },
  {
   "cell_type": "code",
   "execution_count": 157,
   "id": "be73f679",
   "metadata": {},
   "outputs": [],
   "source": [
    "df2.drop(columns=['서울1검사장', '서울2검사장'], inplace=True)"
   ]
  },
  {
   "cell_type": "code",
   "execution_count": 158,
   "id": "0d8dc6f9",
   "metadata": {},
   "outputs": [
    {
     "data": {
      "text/html": [
       "<div>\n",
       "<style scoped>\n",
       "    .dataframe tbody tr th:only-of-type {\n",
       "        vertical-align: middle;\n",
       "    }\n",
       "\n",
       "    .dataframe tbody tr th {\n",
       "        vertical-align: top;\n",
       "    }\n",
       "\n",
       "    .dataframe thead th {\n",
       "        text-align: right;\n",
       "    }\n",
       "</style>\n",
       "<table border=\"1\" class=\"dataframe\">\n",
       "  <thead>\n",
       "    <tr style=\"text-align: right;\">\n",
       "      <th></th>\n",
       "      <th>강원(춘천)</th>\n",
       "      <th>강원영동(강릉)</th>\n",
       "      <th>경기북부</th>\n",
       "      <th>경남</th>\n",
       "      <th>광주.전남</th>\n",
       "      <th>대구.경북</th>\n",
       "      <th>대전.충남</th>\n",
       "      <th>부산</th>\n",
       "      <th>수원</th>\n",
       "      <th>인천</th>\n",
       "      <th>전북</th>\n",
       "      <th>제주</th>\n",
       "      <th>충북</th>\n",
       "      <th>서울</th>\n",
       "    </tr>\n",
       "  </thead>\n",
       "  <tbody>\n",
       "    <tr>\n",
       "      <th>0</th>\n",
       "      <td>10779</td>\n",
       "      <td>6414</td>\n",
       "      <td>43664</td>\n",
       "      <td>25602</td>\n",
       "      <td>39701</td>\n",
       "      <td>44638</td>\n",
       "      <td>36483</td>\n",
       "      <td>43698</td>\n",
       "      <td>56821</td>\n",
       "      <td>50346</td>\n",
       "      <td>15813</td>\n",
       "      <td>5585</td>\n",
       "      <td>12953</td>\n",
       "      <td>111236</td>\n",
       "    </tr>\n",
       "    <tr>\n",
       "      <th>1</th>\n",
       "      <td>6701</td>\n",
       "      <td>3949</td>\n",
       "      <td>30199</td>\n",
       "      <td>22590</td>\n",
       "      <td>25409</td>\n",
       "      <td>35840</td>\n",
       "      <td>34499</td>\n",
       "      <td>34962</td>\n",
       "      <td>31871</td>\n",
       "      <td>34829</td>\n",
       "      <td>12997</td>\n",
       "      <td>5396</td>\n",
       "      <td>12073</td>\n",
       "      <td>51329</td>\n",
       "    </tr>\n",
       "    <tr>\n",
       "      <th>2</th>\n",
       "      <td>261</td>\n",
       "      <td>153</td>\n",
       "      <td>1426</td>\n",
       "      <td>1146</td>\n",
       "      <td>724</td>\n",
       "      <td>1475</td>\n",
       "      <td>1497</td>\n",
       "      <td>1212</td>\n",
       "      <td>1902</td>\n",
       "      <td>1809</td>\n",
       "      <td>247</td>\n",
       "      <td>234</td>\n",
       "      <td>429</td>\n",
       "      <td>2013</td>\n",
       "    </tr>\n",
       "  </tbody>\n",
       "</table>\n",
       "</div>"
      ],
      "text/plain": [
       "   강원(춘천)  강원영동(강릉)   경기북부     경남  광주.전남  대구.경북  대전.충남     부산     수원     인천  \\\n",
       "0   10779      6414  43664  25602  39701  44638  36483  43698  56821  50346   \n",
       "1    6701      3949  30199  22590  25409  35840  34499  34962  31871  34829   \n",
       "2     261       153   1426   1146    724   1475   1497   1212   1902   1809   \n",
       "\n",
       "      전북    제주     충북      서울  \n",
       "0  15813  5585  12953  111236  \n",
       "1  12997  5396  12073   51329  \n",
       "2    247   234    429    2013  "
      ]
     },
     "execution_count": 158,
     "metadata": {},
     "output_type": "execute_result"
    }
   ],
   "source": [
    "df2"
   ]
  },
  {
   "cell_type": "code",
   "execution_count": 159,
   "id": "91e206f5",
   "metadata": {},
   "outputs": [
    {
     "data": {
      "text/plain": [
       "Index(['강원(춘천)', '강원영동(강릉)', '경기북부', '경남', '광주.전남', '대구.경북', '대전.충남', '부산',\n",
       "       '수원', '인천', '전북', '제주', '충북', '서울'],\n",
       "      dtype='object')"
      ]
     },
     "execution_count": 159,
     "metadata": {},
     "output_type": "execute_result"
    }
   ],
   "source": [
    "df2.columns"
   ]
  },
  {
   "cell_type": "code",
   "execution_count": 163,
   "id": "6c5e1f2d",
   "metadata": {},
   "outputs": [],
   "source": [
    "df3 = df2.copy()"
   ]
  },
  {
   "cell_type": "code",
   "execution_count": 165,
   "id": "d179763c",
   "metadata": {},
   "outputs": [],
   "source": [
    "col = '강원(춘천)'"
   ]
  },
  {
   "cell_type": "code",
   "execution_count": 167,
   "id": "0508d7ab",
   "metadata": {},
   "outputs": [],
   "source": [
    "for col in df2.columns:\n",
    "    df3[col] = (df2[col]/df2[col].sum()*100).round(2)"
   ]
  },
  {
   "cell_type": "code",
   "execution_count": 191,
   "id": "9949b5a9",
   "metadata": {},
   "outputs": [],
   "source": [
    "df3 = df3.transpose()"
   ]
  },
  {
   "cell_type": "code",
   "execution_count": 193,
   "id": "483e1133",
   "metadata": {},
   "outputs": [],
   "source": [
    "df3 = df3.sort_values(0)"
   ]
  },
  {
   "cell_type": "code",
   "execution_count": 220,
   "id": "d45fae78",
   "metadata": {},
   "outputs": [],
   "source": [
    "df3.drop(columns=0, inplace=True)"
   ]
  },
  {
   "cell_type": "code",
   "execution_count": 222,
   "id": "9da94eef",
   "metadata": {},
   "outputs": [],
   "source": [
    "df3[3] = df3[1]+df3[2]"
   ]
  },
  {
   "cell_type": "code",
   "execution_count": 228,
   "id": "c93015c0",
   "metadata": {},
   "outputs": [],
   "source": [
    "df3 = df3.sort_values(3)"
   ]
  },
  {
   "cell_type": "code",
   "execution_count": 238,
   "id": "afec47b2",
   "metadata": {},
   "outputs": [
    {
     "data": {
      "text/plain": [
       "서울          235.0\n",
       "수원          185.0\n",
       "강원영동(강릉)    165.0\n",
       "강원(춘천)      165.0\n",
       "광주.전남       155.0\n",
       "경기북부        135.0\n",
       "인천          135.0\n",
       "부산          105.0\n",
       "대구.경북        95.0\n",
       "전북           95.0\n",
       "경남           75.0\n",
       "충북           65.0\n",
       "대전.충남        55.0\n",
       "제주           55.0\n",
       "Name: 3, dtype: float64"
      ]
     },
     "execution_count": 238,
     "metadata": {},
     "output_type": "execute_result"
    }
   ],
   "source": [
    "255-((df3[3].round()-30)*10)"
   ]
  },
  {
   "cell_type": "code",
   "execution_count": null,
   "id": "81607ed6",
   "metadata": {},
   "outputs": [],
   "source": []
  },
  {
   "cell_type": "markdown",
   "id": "34cc2777",
   "metadata": {},
   "source": [
    "# 지역별 혈당 평균"
   ]
  },
  {
   "cell_type": "code",
   "execution_count": 4,
   "id": "bee04330",
   "metadata": {},
   "outputs": [],
   "source": [
    "means = pd.read_csv('./region_glucose_mean_median.csv').drop(index=1, columns='통계치')"
   ]
  },
  {
   "cell_type": "code",
   "execution_count": 5,
   "id": "19d6b0ef",
   "metadata": {},
   "outputs": [
    {
     "data": {
      "text/html": [
       "<div>\n",
       "<style scoped>\n",
       "    .dataframe tbody tr th:only-of-type {\n",
       "        vertical-align: middle;\n",
       "    }\n",
       "\n",
       "    .dataframe tbody tr th {\n",
       "        vertical-align: top;\n",
       "    }\n",
       "\n",
       "    .dataframe thead th {\n",
       "        text-align: right;\n",
       "    }\n",
       "</style>\n",
       "<table border=\"1\" class=\"dataframe\">\n",
       "  <thead>\n",
       "    <tr style=\"text-align: right;\">\n",
       "      <th></th>\n",
       "      <th>강원(춘천)</th>\n",
       "      <th>강원영동(강릉)</th>\n",
       "      <th>경기북부</th>\n",
       "      <th>경남</th>\n",
       "      <th>광주.전남</th>\n",
       "      <th>대구.경북</th>\n",
       "      <th>대전.충남</th>\n",
       "      <th>부산</th>\n",
       "      <th>서울</th>\n",
       "      <th>수원</th>\n",
       "      <th>인천</th>\n",
       "      <th>전북</th>\n",
       "      <th>제주</th>\n",
       "      <th>충북</th>\n",
       "    </tr>\n",
       "  </thead>\n",
       "  <tbody>\n",
       "    <tr>\n",
       "      <th>0</th>\n",
       "      <td>98.24</td>\n",
       "      <td>97.92</td>\n",
       "      <td>98.97</td>\n",
       "      <td>101.18</td>\n",
       "      <td>102.57</td>\n",
       "      <td>99.71</td>\n",
       "      <td>100.8</td>\n",
       "      <td>99.36</td>\n",
       "      <td>96.58</td>\n",
       "      <td>97.92</td>\n",
       "      <td>99.11</td>\n",
       "      <td>101.13</td>\n",
       "      <td>100.93</td>\n",
       "      <td>100.85</td>\n",
       "    </tr>\n",
       "  </tbody>\n",
       "</table>\n",
       "</div>"
      ],
      "text/plain": [
       "   강원(춘천)  강원영동(강릉)   경기북부      경남   광주.전남  대구.경북  대전.충남     부산     서울     수원  \\\n",
       "0   98.24     97.92  98.97  101.18  102.57  99.71  100.8  99.36  96.58  97.92   \n",
       "\n",
       "      인천      전북      제주      충북  \n",
       "0  99.11  101.13  100.93  100.85  "
      ]
     },
     "execution_count": 5,
     "metadata": {},
     "output_type": "execute_result"
    }
   ],
   "source": [
    "means"
   ]
  },
  {
   "cell_type": "code",
   "execution_count": 6,
   "id": "b1af71d7",
   "metadata": {},
   "outputs": [],
   "source": [
    "means = means.transpose()"
   ]
  },
  {
   "cell_type": "code",
   "execution_count": 7,
   "id": "adccf73b",
   "metadata": {},
   "outputs": [
    {
     "data": {
      "text/html": [
       "<div>\n",
       "<style scoped>\n",
       "    .dataframe tbody tr th:only-of-type {\n",
       "        vertical-align: middle;\n",
       "    }\n",
       "\n",
       "    .dataframe tbody tr th {\n",
       "        vertical-align: top;\n",
       "    }\n",
       "\n",
       "    .dataframe thead th {\n",
       "        text-align: right;\n",
       "    }\n",
       "</style>\n",
       "<table border=\"1\" class=\"dataframe\">\n",
       "  <thead>\n",
       "    <tr style=\"text-align: right;\">\n",
       "      <th></th>\n",
       "      <th>0</th>\n",
       "    </tr>\n",
       "  </thead>\n",
       "  <tbody>\n",
       "    <tr>\n",
       "      <th>서울</th>\n",
       "      <td>96.58</td>\n",
       "    </tr>\n",
       "    <tr>\n",
       "      <th>강원영동(강릉)</th>\n",
       "      <td>97.92</td>\n",
       "    </tr>\n",
       "    <tr>\n",
       "      <th>수원</th>\n",
       "      <td>97.92</td>\n",
       "    </tr>\n",
       "    <tr>\n",
       "      <th>강원(춘천)</th>\n",
       "      <td>98.24</td>\n",
       "    </tr>\n",
       "    <tr>\n",
       "      <th>경기북부</th>\n",
       "      <td>98.97</td>\n",
       "    </tr>\n",
       "    <tr>\n",
       "      <th>인천</th>\n",
       "      <td>99.11</td>\n",
       "    </tr>\n",
       "    <tr>\n",
       "      <th>부산</th>\n",
       "      <td>99.36</td>\n",
       "    </tr>\n",
       "    <tr>\n",
       "      <th>대구.경북</th>\n",
       "      <td>99.71</td>\n",
       "    </tr>\n",
       "    <tr>\n",
       "      <th>대전.충남</th>\n",
       "      <td>100.80</td>\n",
       "    </tr>\n",
       "    <tr>\n",
       "      <th>충북</th>\n",
       "      <td>100.85</td>\n",
       "    </tr>\n",
       "    <tr>\n",
       "      <th>제주</th>\n",
       "      <td>100.93</td>\n",
       "    </tr>\n",
       "    <tr>\n",
       "      <th>전북</th>\n",
       "      <td>101.13</td>\n",
       "    </tr>\n",
       "    <tr>\n",
       "      <th>경남</th>\n",
       "      <td>101.18</td>\n",
       "    </tr>\n",
       "    <tr>\n",
       "      <th>광주.전남</th>\n",
       "      <td>102.57</td>\n",
       "    </tr>\n",
       "  </tbody>\n",
       "</table>\n",
       "</div>"
      ],
      "text/plain": [
       "               0\n",
       "서울         96.58\n",
       "강원영동(강릉)   97.92\n",
       "수원         97.92\n",
       "강원(춘천)     98.24\n",
       "경기북부       98.97\n",
       "인천         99.11\n",
       "부산         99.36\n",
       "대구.경북      99.71\n",
       "대전.충남     100.80\n",
       "충북        100.85\n",
       "제주        100.93\n",
       "전북        101.13\n",
       "경남        101.18\n",
       "광주.전남     102.57"
      ]
     },
     "execution_count": 7,
     "metadata": {},
     "output_type": "execute_result"
    }
   ],
   "source": [
    "means.sort_values(0)"
   ]
  },
  {
   "cell_type": "code",
   "execution_count": 15,
   "id": "493fe337",
   "metadata": {},
   "outputs": [
    {
     "data": {
      "image/png": "[encoded data removed]",
      "text/plain": [
       "<Figure size 432x288 with 1 Axes>"
      ]
     },
     "metadata": {
      "needs_background": "light"
     },
     "output_type": "display_data"
    }
   ],
   "source": [
    "plt.scatter(means.sort_values(0).values, means.sort_values(0).values, marker='X', alpha=0.5)\n",
    "plt.xticks(range(96, 104))\n",
    "plt.grid()"
   ]
  },
  {
   "cell_type": "code",
   "execution_count": 8,
   "id": "fed3118d",
   "metadata": {
    "scrolled": true
   },
   "outputs": [
    {
     "data": {
      "text/plain": [
       "서울          210.0\n",
       "강원영동(강릉)    190.0\n",
       "수원          190.0\n",
       "강원(춘천)      190.0\n",
       "경기북부        170.0\n",
       "인천          170.0\n",
       "부산          170.0\n",
       "대구.경북       150.0\n",
       "대전.충남       130.0\n",
       "충북          130.0\n",
       "제주          130.0\n",
       "전북          130.0\n",
       "경남          130.0\n",
       "광주.전남        90.0\n",
       "Name: 0, dtype: float64"
      ]
     },
     "execution_count": 8,
     "metadata": {},
     "output_type": "execute_result"
    }
   ],
   "source": [
    "250 - ((means.sort_values(0).round(0)[0]-95)*20)"
   ]
  },
  {
   "cell_type": "code",
   "execution_count": 26,
   "id": "6ebee7a7",
   "metadata": {
    "scrolled": true
   },
   "outputs": [
    {
     "data": {
      "text/plain": [
       "서울           97.0\n",
       "강원영동(강릉)     98.0\n",
       "수원           98.0\n",
       "강원(춘천)       98.0\n",
       "경기북부         99.0\n",
       "인천           99.0\n",
       "부산           99.0\n",
       "대구.경북       100.0\n",
       "대전.충남       101.0\n",
       "충북          101.0\n",
       "제주          101.0\n",
       "전북          101.0\n",
       "경남          101.0\n",
       "광주.전남       103.0\n",
       "Name: 0, dtype: float64"
      ]
     },
     "execution_count": 26,
     "metadata": {},
     "output_type": "execute_result"
    }
   ],
   "source": [
    "means.sort_values(0).round(0)[0]"
   ]
  }
 ],
 "metadata": {
  "kernelspec": {
   "display_name": "Python 3 (ipykernel)",
   "language": "python",
   "name": "python3"
  },
  "language_info": {
   "codemirror_mode": {
    "name": "ipython",
    "version": 3
   },
   "file_extension": ".py",
   "mimetype": "text/x-python",
   "name": "python",
   "nbconvert_exporter": "python",
   "pygments_lexer": "ipython3",
   "version": "3.8.13"
  },
  "toc": {
   "base_numbering": 1,
   "nav_menu": {},
   "number_sections": true,
   "sideBar": true,
   "skip_h1_title": false,
   "title_cell": "Table of Contents",
   "title_sidebar": "Contents",
   "toc_cell": false,
   "toc_position": {
    "height": "calc(100% - 180px)",
    "left": "10px",
    "top": "150px",
    "width": "194.618px"
   },
   "toc_section_display": true,
   "toc_window_display": true
  }
 },
 "nbformat": 4,
 "nbformat_minor": 5
}
