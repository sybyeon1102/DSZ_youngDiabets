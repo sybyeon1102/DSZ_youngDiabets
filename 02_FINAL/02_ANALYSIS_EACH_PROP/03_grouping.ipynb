{
 "cells": [
  {
   "cell_type": "markdown",
   "id": "b4758aa5",
   "metadata": {},
   "source": [
    "author : sybyeon1102@gmail.com"
   ]
  },
  {
   "cell_type": "markdown",
   "id": "fd34414f",
   "metadata": {},
   "source": [
    "# import"
   ]
  },
  {
   "cell_type": "code",
   "execution_count": 229,
   "id": "580f90b5",
   "metadata": {},
   "outputs": [],
   "source": [
    "import pandas as pd\n",
    "import numpy as np\n",
    "import matplotlib.pyplot as plt\n",
    "\n",
    "from matplotlib import rc\n",
    "rc('font', family='Malgun Gothic') # 한글 폰트\n",
    "plt.rcParams['axes.unicode_minus'] = False # 마이너스 부호출력 설정\n",
    "plt.rc('font', size=16)\n",
    "\n",
    "import warnings\n",
    "warnings.filterwarnings('ignore')"
   ]
  },
  {
   "cell_type": "code",
   "execution_count": null,
   "id": "3c215005",
   "metadata": {},
   "outputs": [],
   "source": []
  },
  {
   "cell_type": "markdown",
   "id": "0b038dec",
   "metadata": {},
   "source": [
    "# 데이터 불러오기"
   ]
  },
  {
   "cell_type": "code",
   "execution_count": 230,
   "id": "61fec488",
   "metadata": {},
   "outputs": [],
   "source": [
    "df = pd.read_csv('./data/rawdata.CSV', encoding='euc-kr')"
   ]
  },
  {
   "cell_type": "code",
   "execution_count": 231,
   "id": "bff7226f",
   "metadata": {},
   "outputs": [
    {
     "data": {
      "text/html": [
       "<div>\n",
       "<style scoped>\n",
       "    .dataframe tbody tr th:only-of-type {\n",
       "        vertical-align: middle;\n",
       "    }\n",
       "\n",
       "    .dataframe tbody tr th {\n",
       "        vertical-align: top;\n",
       "    }\n",
       "\n",
       "    .dataframe thead th {\n",
       "        text-align: right;\n",
       "    }\n",
       "</style>\n",
       "<table border=\"1\" class=\"dataframe\">\n",
       "  <thead>\n",
       "    <tr style=\"text-align: right;\">\n",
       "      <th></th>\n",
       "      <th>기준년도</th>\n",
       "      <th>가입자 일련번호</th>\n",
       "      <th>시도코드</th>\n",
       "      <th>성별코드</th>\n",
       "      <th>연령대 코드(5세단위)</th>\n",
       "      <th>신장(5Cm단위)</th>\n",
       "      <th>체중(5Kg 단위)</th>\n",
       "      <th>허리둘레</th>\n",
       "      <th>시력(좌)</th>\n",
       "      <th>시력(우)</th>\n",
       "      <th>...</th>\n",
       "      <th>혈청크레아티닌</th>\n",
       "      <th>(혈청지오티)AST</th>\n",
       "      <th>(혈청지오티)ALT</th>\n",
       "      <th>감마 지티피</th>\n",
       "      <th>흡연상태</th>\n",
       "      <th>음주여부</th>\n",
       "      <th>구강검진 수검여부</th>\n",
       "      <th>치아우식증유무</th>\n",
       "      <th>치석</th>\n",
       "      <th>데이터 공개일자</th>\n",
       "    </tr>\n",
       "  </thead>\n",
       "  <tbody>\n",
       "    <tr>\n",
       "      <th>0</th>\n",
       "      <td>2020</td>\n",
       "      <td>1</td>\n",
       "      <td>36</td>\n",
       "      <td>1</td>\n",
       "      <td>9</td>\n",
       "      <td>165</td>\n",
       "      <td>60</td>\n",
       "      <td>72.1</td>\n",
       "      <td>1.2</td>\n",
       "      <td>1.5</td>\n",
       "      <td>...</td>\n",
       "      <td>1.1</td>\n",
       "      <td>21.0</td>\n",
       "      <td>27.0</td>\n",
       "      <td>21.0</td>\n",
       "      <td>1.0</td>\n",
       "      <td>0.0</td>\n",
       "      <td>0</td>\n",
       "      <td>NaN</td>\n",
       "      <td>NaN</td>\n",
       "      <td>2021-12-29</td>\n",
       "    </tr>\n",
       "    <tr>\n",
       "      <th>1</th>\n",
       "      <td>2020</td>\n",
       "      <td>2</td>\n",
       "      <td>27</td>\n",
       "      <td>2</td>\n",
       "      <td>13</td>\n",
       "      <td>150</td>\n",
       "      <td>65</td>\n",
       "      <td>81.0</td>\n",
       "      <td>0.8</td>\n",
       "      <td>0.8</td>\n",
       "      <td>...</td>\n",
       "      <td>0.5</td>\n",
       "      <td>18.0</td>\n",
       "      <td>15.0</td>\n",
       "      <td>15.0</td>\n",
       "      <td>1.0</td>\n",
       "      <td>0.0</td>\n",
       "      <td>0</td>\n",
       "      <td>NaN</td>\n",
       "      <td>NaN</td>\n",
       "      <td>2021-12-29</td>\n",
       "    </tr>\n",
       "  </tbody>\n",
       "</table>\n",
       "<p>2 rows × 31 columns</p>\n",
       "</div>"
      ],
      "text/plain": [
       "   기준년도  가입자 일련번호  시도코드  성별코드  연령대 코드(5세단위)  신장(5Cm단위)  체중(5Kg 단위)  허리둘레  \\\n",
       "0  2020         1    36     1             9        165          60  72.1   \n",
       "1  2020         2    27     2            13        150          65  81.0   \n",
       "\n",
       "   시력(좌)  시력(우)  ...  혈청크레아티닌  (혈청지오티)AST  (혈청지오티)ALT  감마 지티피  흡연상태  음주여부  \\\n",
       "0    1.2    1.5  ...      1.1        21.0        27.0    21.0   1.0   0.0   \n",
       "1    0.8    0.8  ...      0.5        18.0        15.0    15.0   1.0   0.0   \n",
       "\n",
       "   구강검진 수검여부  치아우식증유무  치석    데이터 공개일자  \n",
       "0          0      NaN NaN  2021-12-29  \n",
       "1          0      NaN NaN  2021-12-29  \n",
       "\n",
       "[2 rows x 31 columns]"
      ]
     },
     "execution_count": 231,
     "metadata": {},
     "output_type": "execute_result"
    }
   ],
   "source": [
    "df.head(2)"
   ]
  },
  {
   "cell_type": "code",
   "execution_count": 232,
   "id": "75478874",
   "metadata": {},
   "outputs": [
    {
     "data": {
      "text/plain": [
       "Index(['기준년도', '가입자 일련번호', '시도코드', '성별코드', '연령대 코드(5세단위)', '신장(5Cm단위)',\n",
       "       '체중(5Kg 단위)', '허리둘레', '시력(좌)', '시력(우)', '청력(좌)', '청력(우)', '수축기 혈압',\n",
       "       '이완기 혈압', '식전혈당(공복혈당)', '총 콜레스테롤', '트리글리세라이드', 'HDL 콜레스테롤', 'LDL 콜레스테롤',\n",
       "       '혈색소', '요단백', '혈청크레아티닌', '(혈청지오티)AST', '(혈청지오티)ALT', '감마 지티피', '흡연상태',\n",
       "       '음주여부', '구강검진 수검여부', '치아우식증유무', '치석', '데이터 공개일자'],\n",
       "      dtype='object')"
      ]
     },
     "execution_count": 232,
     "metadata": {},
     "output_type": "execute_result"
    }
   ],
   "source": [
    "df.columns"
   ]
  },
  {
   "cell_type": "markdown",
   "id": "5e826488",
   "metadata": {},
   "source": [
    "# 남자, 40-45세만"
   ]
  },
  {
   "cell_type": "code",
   "execution_count": 233,
   "id": "a413f42e",
   "metadata": {},
   "outputs": [],
   "source": [
    "df.drop(index=df[df['성별코드'] == 2].index, inplace=True)"
   ]
  },
  {
   "cell_type": "code",
   "execution_count": 234,
   "id": "f02320e3",
   "metadata": {},
   "outputs": [],
   "source": [
    "df.drop(index=df[df['연령대 코드(5세단위)'] > 9].index, inplace=True)"
   ]
  },
  {
   "cell_type": "code",
   "execution_count": 235,
   "id": "a112ea18",
   "metadata": {},
   "outputs": [],
   "source": [
    "df1 = df[['허리둘레', '신장(5Cm단위)', '체중(5Kg 단위)', '흡연상태', '음주여부', '식전혈당(공복혈당)']].copy()"
   ]
  },
  {
   "cell_type": "markdown",
   "id": "92dd581c",
   "metadata": {},
   "source": [
    "# bmi 구하고 비만유무(23기준)나눔"
   ]
  },
  {
   "cell_type": "code",
   "execution_count": 236,
   "id": "fa83dcda",
   "metadata": {},
   "outputs": [],
   "source": [
    "df1['bmi'] = (df1['체중(5Kg 단위)']/(df1['신장(5Cm단위)']/100)**2).round(1)"
   ]
  },
  {
   "cell_type": "code",
   "execution_count": 237,
   "id": "8a57795a",
   "metadata": {},
   "outputs": [],
   "source": [
    "df1.drop(columns=['신장(5Cm단위)', '체중(5Kg 단위)'], inplace=True)"
   ]
  },
  {
   "cell_type": "code",
   "execution_count": 238,
   "id": "208859b3",
   "metadata": {},
   "outputs": [],
   "source": [
    "df1['bmiCAT'] = df1.bmi//23"
   ]
  },
  {
   "cell_type": "code",
   "execution_count": 239,
   "id": "a94e19a8",
   "metadata": {},
   "outputs": [],
   "source": [
    "df1[df1.bmiCAT > 1] = 1.0"
   ]
  },
  {
   "cell_type": "markdown",
   "id": "b0c10390",
   "metadata": {},
   "source": [
    "# 복부비만여부 90기준으로 나눔"
   ]
  },
  {
   "cell_type": "code",
   "execution_count": 240,
   "id": "ebae7914",
   "metadata": {},
   "outputs": [],
   "source": [
    "df1['waist'] = (df1['허리둘레']//90).round(0)"
   ]
  },
  {
   "cell_type": "code",
   "execution_count": 241,
   "id": "737373cb",
   "metadata": {},
   "outputs": [
    {
     "data": {
      "text/plain": [
       "array([ 0.,  1., nan])"
      ]
     },
     "execution_count": 241,
     "metadata": {},
     "output_type": "execute_result"
    }
   ],
   "source": [
    "df1.waist.unique()"
   ]
  },
  {
   "cell_type": "code",
   "execution_count": 242,
   "id": "d089e47c",
   "metadata": {},
   "outputs": [],
   "source": [
    "df1.drop(columns=['허리둘레', 'bmi'], inplace=True)"
   ]
  },
  {
   "cell_type": "markdown",
   "id": "af4c8760",
   "metadata": {},
   "source": [
    "# 공복혈당 3단계로 나눔"
   ]
  },
  {
   "cell_type": "code",
   "execution_count": 243,
   "id": "ecefc888",
   "metadata": {},
   "outputs": [],
   "source": [
    "def cat_glu(x):\n",
    "    if x < 100:\n",
    "        return 0\n",
    "    elif x < 126:\n",
    "        return 1\n",
    "    else:\n",
    "        return 2"
   ]
  },
  {
   "cell_type": "code",
   "execution_count": 244,
   "id": "914579dd",
   "metadata": {},
   "outputs": [],
   "source": [
    "df1['gluCAT'] = df1['식전혈당(공복혈당)'].apply(cat_glu)"
   ]
  },
  {
   "cell_type": "markdown",
   "id": "448898bb",
   "metadata": {},
   "source": [
    "# 코드들을 설명으로 변경"
   ]
  },
  {
   "cell_type": "code",
   "execution_count": 245,
   "id": "2b555616",
   "metadata": {},
   "outputs": [],
   "source": [
    "df1['흡연상태'].replace([1.0, 2.0, 3.0], ['흡연경험무', '금연', '흡연중'], inplace=True)"
   ]
  },
  {
   "cell_type": "code",
   "execution_count": 246,
   "id": "5aff914c",
   "metadata": {},
   "outputs": [],
   "source": [
    "df1['음주여부'].replace([0.0, 1.0], ['음주안함', '음주함'], inplace=True)"
   ]
  },
  {
   "cell_type": "code",
   "execution_count": 247,
   "id": "41edc9d8",
   "metadata": {},
   "outputs": [],
   "source": [
    "df1['bmiCAT'].replace([0, 1], ['정상체중', '비만체중'], inplace=True)"
   ]
  },
  {
   "cell_type": "code",
   "execution_count": 248,
   "id": "83679f39",
   "metadata": {},
   "outputs": [],
   "source": [
    "df1['waist'].replace([0, 1], ['정상허리둘레', '복부비만'], inplace=True)"
   ]
  },
  {
   "cell_type": "code",
   "execution_count": 249,
   "id": "911b29a7",
   "metadata": {},
   "outputs": [],
   "source": [
    "df1['gluCAT'].replace([0, 1, 2], ['정상혈당', '당뇨전단계', '당뇨'], inplace=True)"
   ]
  },
  {
   "cell_type": "code",
   "execution_count": null,
   "id": "920f37e6",
   "metadata": {},
   "outputs": [],
   "source": []
  },
  {
   "cell_type": "code",
   "execution_count": null,
   "id": "7c16893e",
   "metadata": {},
   "outputs": [],
   "source": []
  },
  {
   "cell_type": "markdown",
   "id": "d5275e6b",
   "metadata": {},
   "source": [
    "# 그룹화 해서 평균으로 sort"
   ]
  },
  {
   "cell_type": "code",
   "execution_count": 250,
   "id": "fa9e709c",
   "metadata": {},
   "outputs": [],
   "source": [
    "g1 = df1.groupby(by=['bmiCAT', 'waist','흡연상태', '음주여부'])"
   ]
  },
  {
   "cell_type": "code",
   "execution_count": 251,
   "id": "4fbfee15",
   "metadata": {},
   "outputs": [],
   "source": [
    "df2 = g1.describe()"
   ]
  },
  {
   "cell_type": "code",
   "execution_count": 252,
   "id": "20b33234",
   "metadata": {},
   "outputs": [],
   "source": [
    "df2 = df2['식전혈당(공복혈당)'][['count', 'mean']]"
   ]
  },
  {
   "cell_type": "code",
   "execution_count": 253,
   "id": "7a0fe96c",
   "metadata": {},
   "outputs": [],
   "source": [
    "df3 = df2.sort_values(by='mean')"
   ]
  },
  {
   "cell_type": "code",
   "execution_count": 254,
   "id": "a09769df",
   "metadata": {
    "scrolled": false
   },
   "outputs": [
    {
     "data": {
      "text/html": [
       "<div>\n",
       "<style scoped>\n",
       "    .dataframe tbody tr th:only-of-type {\n",
       "        vertical-align: middle;\n",
       "    }\n",
       "\n",
       "    .dataframe tbody tr th {\n",
       "        vertical-align: top;\n",
       "    }\n",
       "\n",
       "    .dataframe thead th {\n",
       "        text-align: right;\n",
       "    }\n",
       "</style>\n",
       "<table border=\"1\" class=\"dataframe\">\n",
       "  <thead>\n",
       "    <tr style=\"text-align: right;\">\n",
       "      <th></th>\n",
       "      <th></th>\n",
       "      <th></th>\n",
       "      <th></th>\n",
       "      <th>count</th>\n",
       "      <th>mean</th>\n",
       "    </tr>\n",
       "    <tr>\n",
       "      <th>bmiCAT</th>\n",
       "      <th>waist</th>\n",
       "      <th>흡연상태</th>\n",
       "      <th>음주여부</th>\n",
       "      <th></th>\n",
       "      <th></th>\n",
       "    </tr>\n",
       "  </thead>\n",
       "  <tbody>\n",
       "    <tr>\n",
       "      <th rowspan=\"7\" valign=\"top\">정상체중</th>\n",
       "      <th>정상허리둘레</th>\n",
       "      <th>흡연경험무</th>\n",
       "      <th>음주안함</th>\n",
       "      <td>1831.0</td>\n",
       "      <td>95.513381</td>\n",
       "    </tr>\n",
       "    <tr>\n",
       "      <th>복부비만</th>\n",
       "      <th>흡연경험무</th>\n",
       "      <th>음주함</th>\n",
       "      <td>52.0</td>\n",
       "      <td>95.615385</td>\n",
       "    </tr>\n",
       "    <tr>\n",
       "      <th>정상허리둘레</th>\n",
       "      <th>흡연경험무</th>\n",
       "      <th>음주함</th>\n",
       "      <td>5071.0</td>\n",
       "      <td>96.187537</td>\n",
       "    </tr>\n",
       "    <tr>\n",
       "      <th>복부비만</th>\n",
       "      <th>금연</th>\n",
       "      <th>음주안함</th>\n",
       "      <td>13.0</td>\n",
       "      <td>96.230769</td>\n",
       "    </tr>\n",
       "    <tr>\n",
       "      <th rowspan=\"3\" valign=\"top\">정상허리둘레</th>\n",
       "      <th rowspan=\"2\" valign=\"top\">금연</th>\n",
       "      <th>음주함</th>\n",
       "      <td>4922.0</td>\n",
       "      <td>96.639374</td>\n",
       "    </tr>\n",
       "    <tr>\n",
       "      <th>음주안함</th>\n",
       "      <td>699.0</td>\n",
       "      <td>97.288984</td>\n",
       "    </tr>\n",
       "    <tr>\n",
       "      <th>흡연중</th>\n",
       "      <th>음주안함</th>\n",
       "      <td>1156.0</td>\n",
       "      <td>97.506055</td>\n",
       "    </tr>\n",
       "    <tr>\n",
       "      <th rowspan=\"2\" valign=\"top\">비만체중</th>\n",
       "      <th rowspan=\"2\" valign=\"top\">정상허리둘레</th>\n",
       "      <th>흡연경험무</th>\n",
       "      <th>음주안함</th>\n",
       "      <td>2348.0</td>\n",
       "      <td>98.944208</td>\n",
       "    </tr>\n",
       "    <tr>\n",
       "      <th>금연</th>\n",
       "      <th>음주안함</th>\n",
       "      <td>1083.0</td>\n",
       "      <td>99.167128</td>\n",
       "    </tr>\n",
       "    <tr>\n",
       "      <th rowspan=\"2\" valign=\"top\">정상체중</th>\n",
       "      <th>복부비만</th>\n",
       "      <th>흡연경험무</th>\n",
       "      <th>음주안함</th>\n",
       "      <td>19.0</td>\n",
       "      <td>99.421053</td>\n",
       "    </tr>\n",
       "    <tr>\n",
       "      <th>정상허리둘레</th>\n",
       "      <th>흡연중</th>\n",
       "      <th>음주함</th>\n",
       "      <td>9096.0</td>\n",
       "      <td>99.544965</td>\n",
       "    </tr>\n",
       "    <tr>\n",
       "      <th rowspan=\"4\" valign=\"top\">비만체중</th>\n",
       "      <th rowspan=\"4\" valign=\"top\">정상허리둘레</th>\n",
       "      <th>흡연경험무</th>\n",
       "      <th>음주함</th>\n",
       "      <td>8268.0</td>\n",
       "      <td>99.822811</td>\n",
       "    </tr>\n",
       "    <tr>\n",
       "      <th>금연</th>\n",
       "      <th>음주함</th>\n",
       "      <td>9165.0</td>\n",
       "      <td>100.829242</td>\n",
       "    </tr>\n",
       "    <tr>\n",
       "      <th rowspan=\"2\" valign=\"top\">흡연중</th>\n",
       "      <th>음주안함</th>\n",
       "      <td>1618.0</td>\n",
       "      <td>101.339926</td>\n",
       "    </tr>\n",
       "    <tr>\n",
       "      <th>음주함</th>\n",
       "      <td>13139.0</td>\n",
       "      <td>102.971002</td>\n",
       "    </tr>\n",
       "    <tr>\n",
       "      <th rowspan=\"2\" valign=\"top\">정상체중</th>\n",
       "      <th rowspan=\"2\" valign=\"top\">복부비만</th>\n",
       "      <th>흡연중</th>\n",
       "      <th>음주함</th>\n",
       "      <td>112.0</td>\n",
       "      <td>103.267857</td>\n",
       "    </tr>\n",
       "    <tr>\n",
       "      <th>금연</th>\n",
       "      <th>음주함</th>\n",
       "      <td>61.0</td>\n",
       "      <td>105.540984</td>\n",
       "    </tr>\n",
       "    <tr>\n",
       "      <th rowspan=\"6\" valign=\"top\">비만체중</th>\n",
       "      <th rowspan=\"6\" valign=\"top\">복부비만</th>\n",
       "      <th>흡연경험무</th>\n",
       "      <th>음주안함</th>\n",
       "      <td>1866.0</td>\n",
       "      <td>105.633441</td>\n",
       "    </tr>\n",
       "    <tr>\n",
       "      <th rowspan=\"2\" valign=\"top\">금연</th>\n",
       "      <th>음주함</th>\n",
       "      <td>7608.0</td>\n",
       "      <td>105.678496</td>\n",
       "    </tr>\n",
       "    <tr>\n",
       "      <th>음주안함</th>\n",
       "      <td>883.0</td>\n",
       "      <td>105.762174</td>\n",
       "    </tr>\n",
       "    <tr>\n",
       "      <th>흡연경험무</th>\n",
       "      <th>음주함</th>\n",
       "      <td>6077.0</td>\n",
       "      <td>105.765016</td>\n",
       "    </tr>\n",
       "    <tr>\n",
       "      <th rowspan=\"2\" valign=\"top\">흡연중</th>\n",
       "      <th>음주함</th>\n",
       "      <td>11893.0</td>\n",
       "      <td>109.248213</td>\n",
       "    </tr>\n",
       "    <tr>\n",
       "      <th>음주안함</th>\n",
       "      <td>1397.0</td>\n",
       "      <td>110.148890</td>\n",
       "    </tr>\n",
       "    <tr>\n",
       "      <th>정상체중</th>\n",
       "      <th>복부비만</th>\n",
       "      <th>흡연중</th>\n",
       "      <th>음주안함</th>\n",
       "      <td>11.0</td>\n",
       "      <td>110.545455</td>\n",
       "    </tr>\n",
       "  </tbody>\n",
       "</table>\n",
       "</div>"
      ],
      "text/plain": [
       "                            count        mean\n",
       "bmiCAT waist  흡연상태  음주여부                     \n",
       "정상체중   정상허리둘레 흡연경험무 음주안함   1831.0   95.513381\n",
       "       복부비만   흡연경험무 음주함      52.0   95.615385\n",
       "       정상허리둘레 흡연경험무 음주함    5071.0   96.187537\n",
       "       복부비만   금연    음주안함     13.0   96.230769\n",
       "       정상허리둘레 금연    음주함    4922.0   96.639374\n",
       "                    음주안함    699.0   97.288984\n",
       "              흡연중   음주안함   1156.0   97.506055\n",
       "비만체중   정상허리둘레 흡연경험무 음주안함   2348.0   98.944208\n",
       "              금연    음주안함   1083.0   99.167128\n",
       "정상체중   복부비만   흡연경험무 음주안함     19.0   99.421053\n",
       "       정상허리둘레 흡연중   음주함    9096.0   99.544965\n",
       "비만체중   정상허리둘레 흡연경험무 음주함    8268.0   99.822811\n",
       "              금연    음주함    9165.0  100.829242\n",
       "              흡연중   음주안함   1618.0  101.339926\n",
       "                    음주함   13139.0  102.971002\n",
       "정상체중   복부비만   흡연중   음주함     112.0  103.267857\n",
       "              금연    음주함      61.0  105.540984\n",
       "비만체중   복부비만   흡연경험무 음주안함   1866.0  105.633441\n",
       "              금연    음주함    7608.0  105.678496\n",
       "                    음주안함    883.0  105.762174\n",
       "              흡연경험무 음주함    6077.0  105.765016\n",
       "              흡연중   음주함   11893.0  109.248213\n",
       "                    음주안함   1397.0  110.148890\n",
       "정상체중   복부비만   흡연중   음주안함     11.0  110.545455"
      ]
     },
     "execution_count": 254,
     "metadata": {},
     "output_type": "execute_result"
    }
   ],
   "source": [
    "df3"
   ]
  },
  {
   "cell_type": "code",
   "execution_count": null,
   "id": "810d61cb",
   "metadata": {},
   "outputs": [],
   "source": []
  },
  {
   "cell_type": "markdown",
   "id": "369b6f29",
   "metadata": {},
   "source": [
    "# 전단계, 당뇨 각각 count 구함"
   ]
  },
  {
   "cell_type": "code",
   "execution_count": 255,
   "id": "47fed4ab",
   "metadata": {},
   "outputs": [],
   "source": [
    "df3['gluCAT_1'] = np.nan\n",
    "df3['gluCAT_2'] = np.nan"
   ]
  },
  {
   "cell_type": "code",
   "execution_count": null,
   "id": "117fab54",
   "metadata": {},
   "outputs": [],
   "source": []
  },
  {
   "cell_type": "code",
   "execution_count": 256,
   "id": "6b3d65d6",
   "metadata": {},
   "outputs": [],
   "source": [
    "for idx in g1.indices.keys():\n",
    "    vc = g1.get_group(idx).gluCAT.value_counts()\n",
    "    df3.loc[idx, 'gluCAT_1'] = vc[1]\n",
    "    df3.loc[idx, 'gluCAT_2'] = vc[2]"
   ]
  },
  {
   "cell_type": "code",
   "execution_count": 257,
   "id": "95e085a1",
   "metadata": {
    "scrolled": false
   },
   "outputs": [
    {
     "data": {
      "text/html": [
       "<div>\n",
       "<style scoped>\n",
       "    .dataframe tbody tr th:only-of-type {\n",
       "        vertical-align: middle;\n",
       "    }\n",
       "\n",
       "    .dataframe tbody tr th {\n",
       "        vertical-align: top;\n",
       "    }\n",
       "\n",
       "    .dataframe thead th {\n",
       "        text-align: right;\n",
       "    }\n",
       "</style>\n",
       "<table border=\"1\" class=\"dataframe\">\n",
       "  <thead>\n",
       "    <tr style=\"text-align: right;\">\n",
       "      <th></th>\n",
       "      <th></th>\n",
       "      <th></th>\n",
       "      <th></th>\n",
       "      <th>count</th>\n",
       "      <th>mean</th>\n",
       "      <th>gluCAT_1</th>\n",
       "      <th>gluCAT_2</th>\n",
       "    </tr>\n",
       "    <tr>\n",
       "      <th>bmiCAT</th>\n",
       "      <th>waist</th>\n",
       "      <th>흡연상태</th>\n",
       "      <th>음주여부</th>\n",
       "      <th></th>\n",
       "      <th></th>\n",
       "      <th></th>\n",
       "      <th></th>\n",
       "    </tr>\n",
       "  </thead>\n",
       "  <tbody>\n",
       "    <tr>\n",
       "      <th rowspan=\"7\" valign=\"top\">정상체중</th>\n",
       "      <th>정상허리둘레</th>\n",
       "      <th>흡연경험무</th>\n",
       "      <th>음주안함</th>\n",
       "      <td>1831.0</td>\n",
       "      <td>95.513381</td>\n",
       "      <td>480.0</td>\n",
       "      <td>43.0</td>\n",
       "    </tr>\n",
       "    <tr>\n",
       "      <th>복부비만</th>\n",
       "      <th>흡연경험무</th>\n",
       "      <th>음주함</th>\n",
       "      <td>52.0</td>\n",
       "      <td>95.615385</td>\n",
       "      <td>10.0</td>\n",
       "      <td>1.0</td>\n",
       "    </tr>\n",
       "    <tr>\n",
       "      <th>정상허리둘레</th>\n",
       "      <th>흡연경험무</th>\n",
       "      <th>음주함</th>\n",
       "      <td>5071.0</td>\n",
       "      <td>96.187537</td>\n",
       "      <td>1399.0</td>\n",
       "      <td>106.0</td>\n",
       "    </tr>\n",
       "    <tr>\n",
       "      <th>복부비만</th>\n",
       "      <th>금연</th>\n",
       "      <th>음주안함</th>\n",
       "      <td>13.0</td>\n",
       "      <td>96.230769</td>\n",
       "      <td>5.0</td>\n",
       "      <td>1.0</td>\n",
       "    </tr>\n",
       "    <tr>\n",
       "      <th rowspan=\"3\" valign=\"top\">정상허리둘레</th>\n",
       "      <th rowspan=\"2\" valign=\"top\">금연</th>\n",
       "      <th>음주함</th>\n",
       "      <td>4922.0</td>\n",
       "      <td>96.639374</td>\n",
       "      <td>1478.0</td>\n",
       "      <td>113.0</td>\n",
       "    </tr>\n",
       "    <tr>\n",
       "      <th>음주안함</th>\n",
       "      <td>699.0</td>\n",
       "      <td>97.288984</td>\n",
       "      <td>199.0</td>\n",
       "      <td>18.0</td>\n",
       "    </tr>\n",
       "    <tr>\n",
       "      <th>흡연중</th>\n",
       "      <th>음주안함</th>\n",
       "      <td>1156.0</td>\n",
       "      <td>97.506055</td>\n",
       "      <td>289.0</td>\n",
       "      <td>41.0</td>\n",
       "    </tr>\n",
       "    <tr>\n",
       "      <th rowspan=\"2\" valign=\"top\">비만체중</th>\n",
       "      <th rowspan=\"2\" valign=\"top\">정상허리둘레</th>\n",
       "      <th>흡연경험무</th>\n",
       "      <th>음주안함</th>\n",
       "      <td>2348.0</td>\n",
       "      <td>98.944208</td>\n",
       "      <td>719.0</td>\n",
       "      <td>105.0</td>\n",
       "    </tr>\n",
       "    <tr>\n",
       "      <th>금연</th>\n",
       "      <th>음주안함</th>\n",
       "      <td>1083.0</td>\n",
       "      <td>99.167128</td>\n",
       "      <td>333.0</td>\n",
       "      <td>53.0</td>\n",
       "    </tr>\n",
       "    <tr>\n",
       "      <th rowspan=\"2\" valign=\"top\">정상체중</th>\n",
       "      <th>복부비만</th>\n",
       "      <th>흡연경험무</th>\n",
       "      <th>음주안함</th>\n",
       "      <td>19.0</td>\n",
       "      <td>99.421053</td>\n",
       "      <td>4.0</td>\n",
       "      <td>2.0</td>\n",
       "    </tr>\n",
       "    <tr>\n",
       "      <th>정상허리둘레</th>\n",
       "      <th>흡연중</th>\n",
       "      <th>음주함</th>\n",
       "      <td>9096.0</td>\n",
       "      <td>99.544965</td>\n",
       "      <td>2976.0</td>\n",
       "      <td>420.0</td>\n",
       "    </tr>\n",
       "    <tr>\n",
       "      <th rowspan=\"4\" valign=\"top\">비만체중</th>\n",
       "      <th rowspan=\"4\" valign=\"top\">정상허리둘레</th>\n",
       "      <th>흡연경험무</th>\n",
       "      <th>음주함</th>\n",
       "      <td>8268.0</td>\n",
       "      <td>99.822811</td>\n",
       "      <td>3020.0</td>\n",
       "      <td>360.0</td>\n",
       "    </tr>\n",
       "    <tr>\n",
       "      <th>금연</th>\n",
       "      <th>음주함</th>\n",
       "      <td>9165.0</td>\n",
       "      <td>100.829242</td>\n",
       "      <td>3570.0</td>\n",
       "      <td>447.0</td>\n",
       "    </tr>\n",
       "    <tr>\n",
       "      <th rowspan=\"2\" valign=\"top\">흡연중</th>\n",
       "      <th>음주안함</th>\n",
       "      <td>1618.0</td>\n",
       "      <td>101.339926</td>\n",
       "      <td>554.0</td>\n",
       "      <td>104.0</td>\n",
       "    </tr>\n",
       "    <tr>\n",
       "      <th>음주함</th>\n",
       "      <td>13139.0</td>\n",
       "      <td>102.971002</td>\n",
       "      <td>5128.0</td>\n",
       "      <td>940.0</td>\n",
       "    </tr>\n",
       "    <tr>\n",
       "      <th rowspan=\"2\" valign=\"top\">정상체중</th>\n",
       "      <th rowspan=\"2\" valign=\"top\">복부비만</th>\n",
       "      <th>흡연중</th>\n",
       "      <th>음주함</th>\n",
       "      <td>112.0</td>\n",
       "      <td>103.267857</td>\n",
       "      <td>36.0</td>\n",
       "      <td>11.0</td>\n",
       "    </tr>\n",
       "    <tr>\n",
       "      <th>금연</th>\n",
       "      <th>음주함</th>\n",
       "      <td>61.0</td>\n",
       "      <td>105.540984</td>\n",
       "      <td>24.0</td>\n",
       "      <td>4.0</td>\n",
       "    </tr>\n",
       "    <tr>\n",
       "      <th rowspan=\"6\" valign=\"top\">비만체중</th>\n",
       "      <th rowspan=\"6\" valign=\"top\">복부비만</th>\n",
       "      <th>흡연경험무</th>\n",
       "      <th>음주안함</th>\n",
       "      <td>1866.0</td>\n",
       "      <td>105.633441</td>\n",
       "      <td>737.0</td>\n",
       "      <td>197.0</td>\n",
       "    </tr>\n",
       "    <tr>\n",
       "      <th rowspan=\"2\" valign=\"top\">금연</th>\n",
       "      <th>음주함</th>\n",
       "      <td>7608.0</td>\n",
       "      <td>105.678496</td>\n",
       "      <td>3366.0</td>\n",
       "      <td>742.0</td>\n",
       "    </tr>\n",
       "    <tr>\n",
       "      <th>음주안함</th>\n",
       "      <td>883.0</td>\n",
       "      <td>105.762174</td>\n",
       "      <td>351.0</td>\n",
       "      <td>93.0</td>\n",
       "    </tr>\n",
       "    <tr>\n",
       "      <th>흡연경험무</th>\n",
       "      <th>음주함</th>\n",
       "      <td>6077.0</td>\n",
       "      <td>105.765016</td>\n",
       "      <td>2598.0</td>\n",
       "      <td>573.0</td>\n",
       "    </tr>\n",
       "    <tr>\n",
       "      <th rowspan=\"2\" valign=\"top\">흡연중</th>\n",
       "      <th>음주함</th>\n",
       "      <td>11893.0</td>\n",
       "      <td>109.248213</td>\n",
       "      <td>5139.0</td>\n",
       "      <td>1609.0</td>\n",
       "    </tr>\n",
       "    <tr>\n",
       "      <th>음주안함</th>\n",
       "      <td>1397.0</td>\n",
       "      <td>110.148890</td>\n",
       "      <td>535.0</td>\n",
       "      <td>213.0</td>\n",
       "    </tr>\n",
       "    <tr>\n",
       "      <th>정상체중</th>\n",
       "      <th>복부비만</th>\n",
       "      <th>흡연중</th>\n",
       "      <th>음주안함</th>\n",
       "      <td>11.0</td>\n",
       "      <td>110.545455</td>\n",
       "      <td>2.0</td>\n",
       "      <td>2.0</td>\n",
       "    </tr>\n",
       "  </tbody>\n",
       "</table>\n",
       "</div>"
      ],
      "text/plain": [
       "                            count        mean  gluCAT_1  gluCAT_2\n",
       "bmiCAT waist  흡연상태  음주여부                                         \n",
       "정상체중   정상허리둘레 흡연경험무 음주안함   1831.0   95.513381     480.0      43.0\n",
       "       복부비만   흡연경험무 음주함      52.0   95.615385      10.0       1.0\n",
       "       정상허리둘레 흡연경험무 음주함    5071.0   96.187537    1399.0     106.0\n",
       "       복부비만   금연    음주안함     13.0   96.230769       5.0       1.0\n",
       "       정상허리둘레 금연    음주함    4922.0   96.639374    1478.0     113.0\n",
       "                    음주안함    699.0   97.288984     199.0      18.0\n",
       "              흡연중   음주안함   1156.0   97.506055     289.0      41.0\n",
       "비만체중   정상허리둘레 흡연경험무 음주안함   2348.0   98.944208     719.0     105.0\n",
       "              금연    음주안함   1083.0   99.167128     333.0      53.0\n",
       "정상체중   복부비만   흡연경험무 음주안함     19.0   99.421053       4.0       2.0\n",
       "       정상허리둘레 흡연중   음주함    9096.0   99.544965    2976.0     420.0\n",
       "비만체중   정상허리둘레 흡연경험무 음주함    8268.0   99.822811    3020.0     360.0\n",
       "              금연    음주함    9165.0  100.829242    3570.0     447.0\n",
       "              흡연중   음주안함   1618.0  101.339926     554.0     104.0\n",
       "                    음주함   13139.0  102.971002    5128.0     940.0\n",
       "정상체중   복부비만   흡연중   음주함     112.0  103.267857      36.0      11.0\n",
       "              금연    음주함      61.0  105.540984      24.0       4.0\n",
       "비만체중   복부비만   흡연경험무 음주안함   1866.0  105.633441     737.0     197.0\n",
       "              금연    음주함    7608.0  105.678496    3366.0     742.0\n",
       "                    음주안함    883.0  105.762174     351.0      93.0\n",
       "              흡연경험무 음주함    6077.0  105.765016    2598.0     573.0\n",
       "              흡연중   음주함   11893.0  109.248213    5139.0    1609.0\n",
       "                    음주안함   1397.0  110.148890     535.0     213.0\n",
       "정상체중   복부비만   흡연중   음주안함     11.0  110.545455       2.0       2.0"
      ]
     },
     "execution_count": 257,
     "metadata": {},
     "output_type": "execute_result"
    }
   ],
   "source": [
    "df3"
   ]
  },
  {
   "cell_type": "raw",
   "id": "04889685",
   "metadata": {
    "scrolled": false
   },
   "source": [
    "df3.to_pickle('./그룹화_총n전단계n당뇨카운트_혈당평균.pkl')"
   ]
  },
  {
   "cell_type": "code",
   "execution_count": null,
   "id": "b4a63eb3",
   "metadata": {},
   "outputs": [],
   "source": []
  },
  {
   "cell_type": "markdown",
   "id": "bb028d17",
   "metadata": {},
   "source": [
    "# 전단계, 당뇨, 전단계+당뇨 각각 차지하는 비율(%) 구함"
   ]
  },
  {
   "cell_type": "code",
   "execution_count": 258,
   "id": "03046b0c",
   "metadata": {},
   "outputs": [],
   "source": [
    "df3['gluCAT_1_r'] = (df3.gluCAT_1/df3['count']*100).round(1)"
   ]
  },
  {
   "cell_type": "code",
   "execution_count": 259,
   "id": "10eed138",
   "metadata": {},
   "outputs": [],
   "source": [
    "df3['gluCAT_2_r'] = (df3.gluCAT_2/df3['count']*100).round(1)"
   ]
  },
  {
   "cell_type": "code",
   "execution_count": 260,
   "id": "ed31f9a4",
   "metadata": {},
   "outputs": [],
   "source": [
    "df4 = df3.copy()"
   ]
  },
  {
   "cell_type": "code",
   "execution_count": 261,
   "id": "0d18f549",
   "metadata": {},
   "outputs": [],
   "source": [
    "df4['gluCAT_1n2_r'] = df4['gluCAT_1_r'] + df4['gluCAT_2_r']"
   ]
  },
  {
   "cell_type": "code",
   "execution_count": 262,
   "id": "a7ba6f4b",
   "metadata": {},
   "outputs": [],
   "source": [
    "df4 = df4.sort_values('gluCAT_1n2_r')"
   ]
  },
  {
   "cell_type": "code",
   "execution_count": 263,
   "id": "6564542d",
   "metadata": {},
   "outputs": [],
   "source": [
    "df4.drop(index=df4[df4['count'] < 100].index, inplace=True)"
   ]
  },
  {
   "cell_type": "code",
   "execution_count": 264,
   "id": "7a56c069",
   "metadata": {},
   "outputs": [
    {
     "data": {
      "text/plain": [
       "Index(['count', 'mean', 'gluCAT_1', 'gluCAT_2', 'gluCAT_1_r', 'gluCAT_2_r',\n",
       "       'gluCAT_1n2_r'],\n",
       "      dtype='object')"
      ]
     },
     "execution_count": 264,
     "metadata": {},
     "output_type": "execute_result"
    }
   ],
   "source": [
    "df4.columns"
   ]
  },
  {
   "cell_type": "code",
   "execution_count": 265,
   "id": "9e48f426",
   "metadata": {},
   "outputs": [],
   "source": [
    "df5 = df4[['gluCAT_1n2_r']].sort_values('gluCAT_1n2_r')"
   ]
  },
  {
   "cell_type": "raw",
   "id": "2fc52616",
   "metadata": {},
   "source": [
    "df5.to_pickle('./건강검진그룹.pkl')"
   ]
  },
  {
   "cell_type": "code",
   "execution_count": 266,
   "id": "f2e035c8",
   "metadata": {},
   "outputs": [
    {
     "data": {
      "text/html": [
       "<div>\n",
       "<style scoped>\n",
       "    .dataframe tbody tr th:only-of-type {\n",
       "        vertical-align: middle;\n",
       "    }\n",
       "\n",
       "    .dataframe tbody tr th {\n",
       "        vertical-align: top;\n",
       "    }\n",
       "\n",
       "    .dataframe thead th {\n",
       "        text-align: right;\n",
       "    }\n",
       "</style>\n",
       "<table border=\"1\" class=\"dataframe\">\n",
       "  <thead>\n",
       "    <tr style=\"text-align: right;\">\n",
       "      <th></th>\n",
       "      <th></th>\n",
       "      <th></th>\n",
       "      <th></th>\n",
       "      <th>gluCAT_1n2_r</th>\n",
       "    </tr>\n",
       "    <tr>\n",
       "      <th>bmiCAT</th>\n",
       "      <th>waist</th>\n",
       "      <th>흡연상태</th>\n",
       "      <th>음주여부</th>\n",
       "      <th></th>\n",
       "    </tr>\n",
       "  </thead>\n",
       "  <tbody>\n",
       "    <tr>\n",
       "      <th rowspan=\"5\" valign=\"top\">정상체중</th>\n",
       "      <th rowspan=\"5\" valign=\"top\">정상허리둘레</th>\n",
       "      <th>흡연경험무</th>\n",
       "      <th>음주안함</th>\n",
       "      <td>28.5</td>\n",
       "    </tr>\n",
       "    <tr>\n",
       "      <th>흡연중</th>\n",
       "      <th>음주안함</th>\n",
       "      <td>28.5</td>\n",
       "    </tr>\n",
       "    <tr>\n",
       "      <th>흡연경험무</th>\n",
       "      <th>음주함</th>\n",
       "      <td>29.7</td>\n",
       "    </tr>\n",
       "    <tr>\n",
       "      <th rowspan=\"2\" valign=\"top\">금연</th>\n",
       "      <th>음주안함</th>\n",
       "      <td>31.1</td>\n",
       "    </tr>\n",
       "    <tr>\n",
       "      <th>음주함</th>\n",
       "      <td>32.3</td>\n",
       "    </tr>\n",
       "    <tr>\n",
       "      <th rowspan=\"2\" valign=\"top\">비만체중</th>\n",
       "      <th rowspan=\"2\" valign=\"top\">정상허리둘레</th>\n",
       "      <th>흡연경험무</th>\n",
       "      <th>음주안함</th>\n",
       "      <td>35.1</td>\n",
       "    </tr>\n",
       "    <tr>\n",
       "      <th>금연</th>\n",
       "      <th>음주안함</th>\n",
       "      <td>35.6</td>\n",
       "    </tr>\n",
       "    <tr>\n",
       "      <th>정상체중</th>\n",
       "      <th>정상허리둘레</th>\n",
       "      <th>흡연중</th>\n",
       "      <th>음주함</th>\n",
       "      <td>37.3</td>\n",
       "    </tr>\n",
       "    <tr>\n",
       "      <th rowspan=\"2\" valign=\"top\">비만체중</th>\n",
       "      <th rowspan=\"2\" valign=\"top\">정상허리둘레</th>\n",
       "      <th>흡연중</th>\n",
       "      <th>음주안함</th>\n",
       "      <td>40.6</td>\n",
       "    </tr>\n",
       "    <tr>\n",
       "      <th>흡연경험무</th>\n",
       "      <th>음주함</th>\n",
       "      <td>40.9</td>\n",
       "    </tr>\n",
       "    <tr>\n",
       "      <th>정상체중</th>\n",
       "      <th>복부비만</th>\n",
       "      <th>흡연중</th>\n",
       "      <th>음주함</th>\n",
       "      <td>41.9</td>\n",
       "    </tr>\n",
       "    <tr>\n",
       "      <th rowspan=\"8\" valign=\"top\">비만체중</th>\n",
       "      <th rowspan=\"2\" valign=\"top\">정상허리둘레</th>\n",
       "      <th>금연</th>\n",
       "      <th>음주함</th>\n",
       "      <td>43.9</td>\n",
       "    </tr>\n",
       "    <tr>\n",
       "      <th>흡연중</th>\n",
       "      <th>음주함</th>\n",
       "      <td>46.2</td>\n",
       "    </tr>\n",
       "    <tr>\n",
       "      <th rowspan=\"6\" valign=\"top\">복부비만</th>\n",
       "      <th>흡연경험무</th>\n",
       "      <th>음주안함</th>\n",
       "      <td>50.1</td>\n",
       "    </tr>\n",
       "    <tr>\n",
       "      <th>금연</th>\n",
       "      <th>음주안함</th>\n",
       "      <td>50.3</td>\n",
       "    </tr>\n",
       "    <tr>\n",
       "      <th>흡연경험무</th>\n",
       "      <th>음주함</th>\n",
       "      <td>52.2</td>\n",
       "    </tr>\n",
       "    <tr>\n",
       "      <th>흡연중</th>\n",
       "      <th>음주안함</th>\n",
       "      <td>53.5</td>\n",
       "    </tr>\n",
       "    <tr>\n",
       "      <th>금연</th>\n",
       "      <th>음주함</th>\n",
       "      <td>54.0</td>\n",
       "    </tr>\n",
       "    <tr>\n",
       "      <th>흡연중</th>\n",
       "      <th>음주함</th>\n",
       "      <td>56.7</td>\n",
       "    </tr>\n",
       "  </tbody>\n",
       "</table>\n",
       "</div>"
      ],
      "text/plain": [
       "                          gluCAT_1n2_r\n",
       "bmiCAT waist  흡연상태  음주여부              \n",
       "정상체중   정상허리둘레 흡연경험무 음주안함          28.5\n",
       "              흡연중   음주안함          28.5\n",
       "              흡연경험무 음주함           29.7\n",
       "              금연    음주안함          31.1\n",
       "                    음주함           32.3\n",
       "비만체중   정상허리둘레 흡연경험무 음주안함          35.1\n",
       "              금연    음주안함          35.6\n",
       "정상체중   정상허리둘레 흡연중   음주함           37.3\n",
       "비만체중   정상허리둘레 흡연중   음주안함          40.6\n",
       "              흡연경험무 음주함           40.9\n",
       "정상체중   복부비만   흡연중   음주함           41.9\n",
       "비만체중   정상허리둘레 금연    음주함           43.9\n",
       "              흡연중   음주함           46.2\n",
       "       복부비만   흡연경험무 음주안함          50.1\n",
       "              금연    음주안함          50.3\n",
       "              흡연경험무 음주함           52.2\n",
       "              흡연중   음주안함          53.5\n",
       "              금연    음주함           54.0\n",
       "              흡연중   음주함           56.7"
      ]
     },
     "execution_count": 266,
     "metadata": {},
     "output_type": "execute_result"
    }
   ],
   "source": [
    "df5"
   ]
  },
  {
   "cell_type": "code",
   "execution_count": 267,
   "id": "495d4af4",
   "metadata": {
    "scrolled": true
   },
   "outputs": [
    {
     "data": {
      "text/plain": [
       "array([28.5, 28.5, 29.7, 31.1, 32.3, 35.1, 35.6, 37.3, 40.6, 40.9, 41.9,\n",
       "       43.9, 46.2, 50.1, 50.3, 52.2, 53.5, 54. , 56.7])"
      ]
     },
     "execution_count": 267,
     "metadata": {},
     "output_type": "execute_result"
    }
   ],
   "source": [
    "df5.gluCAT_1n2_r.values"
   ]
  },
  {
   "cell_type": "code",
   "execution_count": 268,
   "id": "d5ad040c",
   "metadata": {},
   "outputs": [
    {
     "data": {
      "image/png": "[encoded data removed]",
      "text/plain": [
       "<Figure size 432x288 with 1 Axes>"
      ]
     },
     "metadata": {
      "needs_background": "light"
     },
     "output_type": "display_data"
    }
   ],
   "source": [
    "plt.plot(range(19), df5.gluCAT_1n2_r.values, marker='X', alpha=0.5)\n",
    "\n",
    "plt.xticks(range(0, 20))\n",
    "plt.grid()\n"
   ]
  },
  {
   "cell_type": "code",
   "execution_count": 269,
   "id": "c79a989c",
   "metadata": {
    "scrolled": false
   },
   "outputs": [],
   "source": [
    "df6 = df4[['mean', 'count']].sort_values('mean')"
   ]
  },
  {
   "cell_type": "code",
   "execution_count": 270,
   "id": "7194bb7f",
   "metadata": {},
   "outputs": [
    {
     "data": {
      "text/html": [
       "<div>\n",
       "<style scoped>\n",
       "    .dataframe tbody tr th:only-of-type {\n",
       "        vertical-align: middle;\n",
       "    }\n",
       "\n",
       "    .dataframe tbody tr th {\n",
       "        vertical-align: top;\n",
       "    }\n",
       "\n",
       "    .dataframe thead th {\n",
       "        text-align: right;\n",
       "    }\n",
       "</style>\n",
       "<table border=\"1\" class=\"dataframe\">\n",
       "  <thead>\n",
       "    <tr style=\"text-align: right;\">\n",
       "      <th></th>\n",
       "      <th></th>\n",
       "      <th></th>\n",
       "      <th></th>\n",
       "      <th>mean</th>\n",
       "      <th>count</th>\n",
       "    </tr>\n",
       "    <tr>\n",
       "      <th>bmiCAT</th>\n",
       "      <th>waist</th>\n",
       "      <th>흡연상태</th>\n",
       "      <th>음주여부</th>\n",
       "      <th></th>\n",
       "      <th></th>\n",
       "    </tr>\n",
       "  </thead>\n",
       "  <tbody>\n",
       "    <tr>\n",
       "      <th rowspan=\"5\" valign=\"top\">정상체중</th>\n",
       "      <th rowspan=\"5\" valign=\"top\">정상허리둘레</th>\n",
       "      <th rowspan=\"2\" valign=\"top\">흡연경험무</th>\n",
       "      <th>음주안함</th>\n",
       "      <td>95.513381</td>\n",
       "      <td>1831.0</td>\n",
       "    </tr>\n",
       "    <tr>\n",
       "      <th>음주함</th>\n",
       "      <td>96.187537</td>\n",
       "      <td>5071.0</td>\n",
       "    </tr>\n",
       "    <tr>\n",
       "      <th rowspan=\"2\" valign=\"top\">금연</th>\n",
       "      <th>음주함</th>\n",
       "      <td>96.639374</td>\n",
       "      <td>4922.0</td>\n",
       "    </tr>\n",
       "    <tr>\n",
       "      <th>음주안함</th>\n",
       "      <td>97.288984</td>\n",
       "      <td>699.0</td>\n",
       "    </tr>\n",
       "    <tr>\n",
       "      <th>흡연중</th>\n",
       "      <th>음주안함</th>\n",
       "      <td>97.506055</td>\n",
       "      <td>1156.0</td>\n",
       "    </tr>\n",
       "    <tr>\n",
       "      <th rowspan=\"2\" valign=\"top\">비만체중</th>\n",
       "      <th rowspan=\"2\" valign=\"top\">정상허리둘레</th>\n",
       "      <th>흡연경험무</th>\n",
       "      <th>음주안함</th>\n",
       "      <td>98.944208</td>\n",
       "      <td>2348.0</td>\n",
       "    </tr>\n",
       "    <tr>\n",
       "      <th>금연</th>\n",
       "      <th>음주안함</th>\n",
       "      <td>99.167128</td>\n",
       "      <td>1083.0</td>\n",
       "    </tr>\n",
       "    <tr>\n",
       "      <th>정상체중</th>\n",
       "      <th>정상허리둘레</th>\n",
       "      <th>흡연중</th>\n",
       "      <th>음주함</th>\n",
       "      <td>99.544965</td>\n",
       "      <td>9096.0</td>\n",
       "    </tr>\n",
       "    <tr>\n",
       "      <th rowspan=\"4\" valign=\"top\">비만체중</th>\n",
       "      <th rowspan=\"4\" valign=\"top\">정상허리둘레</th>\n",
       "      <th>흡연경험무</th>\n",
       "      <th>음주함</th>\n",
       "      <td>99.822811</td>\n",
       "      <td>8268.0</td>\n",
       "    </tr>\n",
       "    <tr>\n",
       "      <th>금연</th>\n",
       "      <th>음주함</th>\n",
       "      <td>100.829242</td>\n",
       "      <td>9165.0</td>\n",
       "    </tr>\n",
       "    <tr>\n",
       "      <th rowspan=\"2\" valign=\"top\">흡연중</th>\n",
       "      <th>음주안함</th>\n",
       "      <td>101.339926</td>\n",
       "      <td>1618.0</td>\n",
       "    </tr>\n",
       "    <tr>\n",
       "      <th>음주함</th>\n",
       "      <td>102.971002</td>\n",
       "      <td>13139.0</td>\n",
       "    </tr>\n",
       "    <tr>\n",
       "      <th>정상체중</th>\n",
       "      <th>복부비만</th>\n",
       "      <th>흡연중</th>\n",
       "      <th>음주함</th>\n",
       "      <td>103.267857</td>\n",
       "      <td>112.0</td>\n",
       "    </tr>\n",
       "    <tr>\n",
       "      <th rowspan=\"6\" valign=\"top\">비만체중</th>\n",
       "      <th rowspan=\"6\" valign=\"top\">복부비만</th>\n",
       "      <th>흡연경험무</th>\n",
       "      <th>음주안함</th>\n",
       "      <td>105.633441</td>\n",
       "      <td>1866.0</td>\n",
       "    </tr>\n",
       "    <tr>\n",
       "      <th rowspan=\"2\" valign=\"top\">금연</th>\n",
       "      <th>음주함</th>\n",
       "      <td>105.678496</td>\n",
       "      <td>7608.0</td>\n",
       "    </tr>\n",
       "    <tr>\n",
       "      <th>음주안함</th>\n",
       "      <td>105.762174</td>\n",
       "      <td>883.0</td>\n",
       "    </tr>\n",
       "    <tr>\n",
       "      <th>흡연경험무</th>\n",
       "      <th>음주함</th>\n",
       "      <td>105.765016</td>\n",
       "      <td>6077.0</td>\n",
       "    </tr>\n",
       "    <tr>\n",
       "      <th rowspan=\"2\" valign=\"top\">흡연중</th>\n",
       "      <th>음주함</th>\n",
       "      <td>109.248213</td>\n",
       "      <td>11893.0</td>\n",
       "    </tr>\n",
       "    <tr>\n",
       "      <th>음주안함</th>\n",
       "      <td>110.148890</td>\n",
       "      <td>1397.0</td>\n",
       "    </tr>\n",
       "  </tbody>\n",
       "</table>\n",
       "</div>"
      ],
      "text/plain": [
       "                                mean    count\n",
       "bmiCAT waist  흡연상태  음주여부                     \n",
       "정상체중   정상허리둘레 흡연경험무 음주안함   95.513381   1831.0\n",
       "                    음주함    96.187537   5071.0\n",
       "              금연    음주함    96.639374   4922.0\n",
       "                    음주안함   97.288984    699.0\n",
       "              흡연중   음주안함   97.506055   1156.0\n",
       "비만체중   정상허리둘레 흡연경험무 음주안함   98.944208   2348.0\n",
       "              금연    음주안함   99.167128   1083.0\n",
       "정상체중   정상허리둘레 흡연중   음주함    99.544965   9096.0\n",
       "비만체중   정상허리둘레 흡연경험무 음주함    99.822811   8268.0\n",
       "              금연    음주함   100.829242   9165.0\n",
       "              흡연중   음주안함  101.339926   1618.0\n",
       "                    음주함   102.971002  13139.0\n",
       "정상체중   복부비만   흡연중   음주함   103.267857    112.0\n",
       "비만체중   복부비만   흡연경험무 음주안함  105.633441   1866.0\n",
       "              금연    음주함   105.678496   7608.0\n",
       "                    음주안함  105.762174    883.0\n",
       "              흡연경험무 음주함   105.765016   6077.0\n",
       "              흡연중   음주함   109.248213  11893.0\n",
       "                    음주안함  110.148890   1397.0"
      ]
     },
     "execution_count": 270,
     "metadata": {},
     "output_type": "execute_result"
    }
   ],
   "source": [
    "df6"
   ]
  },
  {
   "cell_type": "code",
   "execution_count": 271,
   "id": "4efc9613",
   "metadata": {},
   "outputs": [
    {
     "data": {
      "image/png": "[encoded data removed]",
      "text/plain": [
       "<Figure size 432x288 with 1 Axes>"
      ]
     },
     "metadata": {
      "needs_background": "light"
     },
     "output_type": "display_data"
    }
   ],
   "source": [
    "plt.plot(range(19), df6['mean'].values, marker='x', alpha=0.6)\n",
    "plt.xticks(range(19))\n",
    "plt.grid()"
   ]
  },
  {
   "cell_type": "code",
   "execution_count": null,
   "id": "4b7fa32c",
   "metadata": {},
   "outputs": [],
   "source": []
  }
 ],
 "metadata": {
  "kernelspec": {
   "display_name": "Python 3 (ipykernel)",
   "language": "python",
   "name": "python3"
  },
  "language_info": {
   "codemirror_mode": {
    "name": "ipython",
    "version": 3
   },
   "file_extension": ".py",
   "mimetype": "text/x-python",
   "name": "python",
   "nbconvert_exporter": "python",
   "pygments_lexer": "ipython3",
   "version": "3.8.13"
  },
  "toc": {
   "base_numbering": 1,
   "nav_menu": {},
   "number_sections": true,
   "sideBar": true,
   "skip_h1_title": false,
   "title_cell": "Table of Contents",
   "title_sidebar": "Contents",
   "toc_cell": false,
   "toc_position": {},
   "toc_section_display": true,
   "toc_window_display": false
  }
 },
 "nbformat": 4,
 "nbformat_minor": 5
}
