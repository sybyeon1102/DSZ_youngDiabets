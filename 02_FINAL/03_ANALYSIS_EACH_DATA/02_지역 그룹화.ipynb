{
 "cells": [
  {
   "cell_type": "code",
   "execution_count": 1,
   "id": "72356f41",
   "metadata": {},
   "outputs": [],
   "source": [
    "import pandas as pd\n",
    "import numpy as np"
   ]
  },
  {
   "cell_type": "code",
   "execution_count": 13,
   "id": "15b03e1c",
   "metadata": {},
   "outputs": [],
   "source": [
    "import matplotlib.pyplot as plt"
   ]
  },
  {
   "cell_type": "code",
   "execution_count": 24,
   "id": "ebdb8654",
   "metadata": {},
   "outputs": [],
   "source": [
    "plt.rc('font', size=16)"
   ]
  },
  {
   "cell_type": "code",
   "execution_count": 3,
   "id": "d0ab7a52",
   "metadata": {},
   "outputs": [],
   "source": [
    "df = pd.read_csv('./data/국민건강보험공단_건강검진정보_20211229.CSV', encoding='euc-kr')"
   ]
  },
  {
   "cell_type": "code",
   "execution_count": 6,
   "id": "95e797f8",
   "metadata": {},
   "outputs": [
    {
     "data": {
      "text/plain": [
       "array([2020], dtype=int64)"
      ]
     },
     "execution_count": 6,
     "metadata": {},
     "output_type": "execute_result"
    }
   ],
   "source": [
    "df['기준년도'].unique()"
   ]
  },
  {
   "cell_type": "code",
   "execution_count": null,
   "id": "7ef04fd4",
   "metadata": {},
   "outputs": [],
   "source": []
  },
  {
   "cell_type": "code",
   "execution_count": 8,
   "id": "dd185ebc",
   "metadata": {},
   "outputs": [],
   "source": [
    "li_age = [194620, 3656+367, 61+12]"
   ]
  },
  {
   "cell_type": "code",
   "execution_count": 13,
   "id": "b5aea087",
   "metadata": {},
   "outputs": [
    {
     "data": {
      "text/plain": [
       "array([9.79387669e+01, 2.02449727e+00, 3.67358441e-02])"
      ]
     },
     "execution_count": 13,
     "metadata": {},
     "output_type": "execute_result"
    }
   ],
   "source": [
    "np.array(li_age)/sum(li_age)*100"
   ]
  },
  {
   "cell_type": "code",
   "execution_count": null,
   "id": "4c36f9f4",
   "metadata": {},
   "outputs": [],
   "source": []
  },
  {
   "cell_type": "code",
   "execution_count": null,
   "id": "36b5bf1f",
   "metadata": {},
   "outputs": [],
   "source": []
  },
  {
   "cell_type": "code",
   "execution_count": 6,
   "id": "6ca91c98",
   "metadata": {},
   "outputs": [],
   "source": [
    "df = pd.read_pickle('./region_glucat_percentage.pkl')"
   ]
  },
  {
   "cell_type": "code",
   "execution_count": 9,
   "id": "d3654754",
   "metadata": {},
   "outputs": [],
   "source": [
    "df['1+2'] = df[1]+df[2]"
   ]
  },
  {
   "cell_type": "code",
   "execution_count": 12,
   "id": "4d1e59f3",
   "metadata": {},
   "outputs": [],
   "source": [
    "df = df.sort_values('1+2')"
   ]
  },
  {
   "cell_type": "code",
   "execution_count": 29,
   "id": "40945a21",
   "metadata": {
    "scrolled": true
   },
   "outputs": [
    {
     "data": {
      "image/png": "[encoded data removed]",
      "text/plain": [
       "<Figure size 432x432 with 1 Axes>"
      ]
     },
     "metadata": {
      "needs_background": "light"
     },
     "output_type": "display_data"
    }
   ],
   "source": [
    "plt.figure(figsize=(6, 6))\n",
    "\n",
    "plt.scatter(df['1+2'], df['1+2'], alpha=0.3, marker='X')\n",
    "plt.grid()\n",
    "plt.show()"
   ]
  },
  {
   "cell_type": "code",
   "execution_count": 32,
   "id": "97631d5e",
   "metadata": {},
   "outputs": [
    {
     "data": {
      "text/html": [
       "<div>\n",
       "<style scoped>\n",
       "    .dataframe tbody tr th:only-of-type {\n",
       "        vertical-align: middle;\n",
       "    }\n",
       "\n",
       "    .dataframe tbody tr th {\n",
       "        vertical-align: top;\n",
       "    }\n",
       "\n",
       "    .dataframe thead th {\n",
       "        text-align: right;\n",
       "    }\n",
       "</style>\n",
       "<table border=\"1\" class=\"dataframe\">\n",
       "  <thead>\n",
       "    <tr style=\"text-align: right;\">\n",
       "      <th></th>\n",
       "      <th>1+2</th>\n",
       "    </tr>\n",
       "  </thead>\n",
       "  <tbody>\n",
       "    <tr>\n",
       "      <th>서울</th>\n",
       "      <td>32.41</td>\n",
       "    </tr>\n",
       "    <tr>\n",
       "      <th>수원</th>\n",
       "      <td>37.28</td>\n",
       "    </tr>\n",
       "    <tr>\n",
       "      <th>강원영동(강릉)</th>\n",
       "      <td>39.00</td>\n",
       "    </tr>\n",
       "    <tr>\n",
       "      <th>강원(춘천)</th>\n",
       "      <td>39.24</td>\n",
       "    </tr>\n",
       "    <tr>\n",
       "      <th>경기북부</th>\n",
       "      <td>42.00</td>\n",
       "    </tr>\n",
       "    <tr>\n",
       "      <th>인천</th>\n",
       "      <td>42.12</td>\n",
       "    </tr>\n",
       "    <tr>\n",
       "      <th>부산</th>\n",
       "      <td>45.29</td>\n",
       "    </tr>\n",
       "    <tr>\n",
       "      <th>대구.경북</th>\n",
       "      <td>45.53</td>\n",
       "    </tr>\n",
       "    <tr>\n",
       "      <th>전북</th>\n",
       "      <td>45.58</td>\n",
       "    </tr>\n",
       "    <tr>\n",
       "      <th>경남</th>\n",
       "      <td>48.11</td>\n",
       "    </tr>\n",
       "    <tr>\n",
       "      <th>충북</th>\n",
       "      <td>49.12</td>\n",
       "    </tr>\n",
       "    <tr>\n",
       "      <th>대전.충남</th>\n",
       "      <td>49.67</td>\n",
       "    </tr>\n",
       "    <tr>\n",
       "      <th>제주</th>\n",
       "      <td>50.20</td>\n",
       "    </tr>\n",
       "    <tr>\n",
       "      <th>광주.전남</th>\n",
       "      <td>61.40</td>\n",
       "    </tr>\n",
       "  </tbody>\n",
       "</table>\n",
       "</div>"
      ],
      "text/plain": [
       "            1+2\n",
       "서울        32.41\n",
       "수원        37.28\n",
       "강원영동(강릉)  39.00\n",
       "강원(춘천)    39.24\n",
       "경기북부      42.00\n",
       "인천        42.12\n",
       "부산        45.29\n",
       "대구.경북     45.53\n",
       "전북        45.58\n",
       "경남        48.11\n",
       "충북        49.12\n",
       "대전.충남     49.67\n",
       "제주        50.20\n",
       "광주.전남     61.40"
      ]
     },
     "execution_count": 32,
     "metadata": {},
     "output_type": "execute_result"
    }
   ],
   "source": [
    "df[['1+2']]"
   ]
  },
  {
   "cell_type": "code",
   "execution_count": null,
   "id": "88afc613",
   "metadata": {},
   "outputs": [],
   "source": []
  }
 ],
 "metadata": {
  "kernelspec": {
   "display_name": "Python 3 (ipykernel)",
   "language": "python",
   "name": "python3"
  },
  "language_info": {
   "codemirror_mode": {
    "name": "ipython",
    "version": 3
   },
   "file_extension": ".py",
   "mimetype": "text/x-python",
   "name": "python",
   "nbconvert_exporter": "python",
   "pygments_lexer": "ipython3",
   "version": "3.8.13"
  },
  "toc": {
   "base_numbering": 1,
   "nav_menu": {},
   "number_sections": true,
   "sideBar": true,
   "skip_h1_title": false,
   "title_cell": "Table of Contents",
   "title_sidebar": "Contents",
   "toc_cell": false,
   "toc_position": {},
   "toc_section_display": true,
   "toc_window_display": false
  }
 },
 "nbformat": 4,
 "nbformat_minor": 5
}
